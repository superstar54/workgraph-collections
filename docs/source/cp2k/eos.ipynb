{
 "cells": [
  {
   "cell_type": "markdown",
   "metadata": {},
   "source": [
    "# Equation of state (EOS)\n",
    "\n",
    "## Visualizing the WorkGraph Builder\n",
    "\n",
    "\n"
   ]
  },
  {
   "cell_type": "markdown",
   "metadata": {},
   "source": [
    "## Prepare inputs and run\n"
   ]
  },
  {
   "cell_type": "code",
   "execution_count": 1,
   "metadata": {},
   "outputs": [
    {
     "data": {
      "text/html": [
       "\n",
       "        <iframe\n",
       "            width=\"100%\"\n",
       "            height=\"600px\"\n",
       "            src=\"html/EosWorkgraph.html\"\n",
       "            frameborder=\"0\"\n",
       "            allowfullscreen\n",
       "            \n",
       "        ></iframe>\n",
       "        "
      ],
      "text/plain": [
       "<IPython.lib.display.IFrame at 0x71a0d349d810>"
      ]
     },
     "execution_count": 1,
     "metadata": {},
     "output_type": "execute_result"
    }
   ],
   "source": [
    "from aiida import load_profile, orm\n",
    "from ase.build import bulk\n",
    "from workgraph_collections.cp2k.eos import EosWorkgraph\n",
    "\n",
    "\n",
    "load_profile()\n",
    "\n",
    "atoms = bulk(\"Si\")\n",
    "structure = orm.StructureData(ase=atoms)\n",
    "# code = orm.load_code(\"cp2k-ssmp-2024.1@localhost\")\n",
    "code = orm.load_code(\"cp2k-ssmp-2024@localhost\")\n",
    "# code = None\n",
    "# Parameters.\n",
    "parameters = {\n",
    "    \"GLOBAL\": {\n",
    "        \"RUN_TYPE\": \"ENERGY_FORCE\",\n",
    "    },\n",
    "    \"FORCE_EVAL\": {\n",
    "        \"METHOD\": \"Quickstep\",\n",
    "        \"DFT\": {\n",
    "            \"BASIS_SET_FILE_NAME\": \"BASIS_MOLOPT_UZH\",\n",
    "            \"POTENTIAL_FILE_NAME\": \"POTENTIAL_UZH\",\n",
    "            \"SCF\": {\n",
    "                \"ADDED_MOS\": 10,\n",
    "                \"SMEAR\": {\n",
    "                    \"METHOD\": \"FERMI_DIRAC\",\n",
    "                    \"ELECTRONIC_TEMPERATURE\": 500,\n",
    "                },\n",
    "            },\n",
    "            \"KPOINTS\": {\n",
    "                \"SCHEME\": \"MONKHORST-PACK 5 5 5\",\n",
    "            },\n",
    "            \"QS\": {\n",
    "                \"EPS_DEFAULT\": 1.0e-12,\n",
    "                \"METHOD\": \"GPW\",\n",
    "            },\n",
    "            \"MGRID\": {\n",
    "                \"NGRIDS\": 4,\n",
    "                \"CUTOFF\": 500,\n",
    "                \"REL_CUTOFF\": 50,\n",
    "            },\n",
    "            \"XC\": {\n",
    "                \"XC_FUNCTIONAL\": {\n",
    "                    \"_\": \"PBE\",\n",
    "                },\n",
    "            },\n",
    "        },\n",
    "        \"SUBSYS\": {\n",
    "            \"KIND\": [\n",
    "                {\n",
    "                    \"_\": \"Si\",\n",
    "                    \"BASIS_SET\": \"DZVP-MOLOPT-PBE-GTH-q4\",\n",
    "                    \"POTENTIAL\": \"GTH-PBE-q4\",\n",
    "                },\n",
    "            ],\n",
    "        },\n",
    "    },\n",
    "}\n",
    "metadata = {\n",
    "    \"options\": {\n",
    "        \"resources\": {\n",
    "            \"num_machines\": 1,\n",
    "            \"num_mpiprocs_per_machine\": 1,\n",
    "        },\n",
    "    }\n",
    "}\n",
    "basis_pseudo_files = {\n",
    "    \"basis\": orm.load_node(181682), # 181682, 9041\n",
    "    \"pseudo\": orm.load_node(181683), # 181683, 9042\n",
    "}\n",
    "# ===============================================================================\n",
    "wg = EosWorkgraph.build(\n",
    "    structure=structure,\n",
    "    scales=[0.98, 0.99, 1.0, 1.01, 1.02],\n",
    "    scf_inputs = {\n",
    "        \"code\": code,\n",
    "        \"parameters\": orm.Dict(parameters),\n",
    "        \"file\": basis_pseudo_files,\n",
    "        \"metadata\": metadata,\n",
    "    }\n",
    ")\n",
    "wg.to_html()\n"
   ]
  },
  {
   "cell_type": "markdown",
   "metadata": {},
   "source": [
    "Run the workflow"
   ]
  },
  {
   "cell_type": "code",
   "execution_count": 2,
   "metadata": {},
   "outputs": [
    {
     "name": "stderr",
     "output_type": "stream",
     "text": [
      "09/04/2025 04:35:45 PM <1602706> aiida.orm.nodes.process.workflow.workchain.WorkChainNode: [REPORT] [181806|WorkGraphEngine|continue_workgraph]: tasks ready to run: scale_structure\n",
      "09/04/2025 04:35:46 PM <1602706> aiida.orm.nodes.process.workflow.workchain.WorkChainNode: [REPORT] [181806|WorkGraphEngine|update_task_state]: Task: scale_structure, type: CALCFUNCTION, finished.\n",
      "09/04/2025 04:35:46 PM <1602706> aiida.orm.nodes.process.workflow.workchain.WorkChainNode: [REPORT] [181806|WorkGraphEngine|continue_workgraph]: tasks ready to run: all_scf\n",
      "09/04/2025 04:35:49 PM <1602706> aiida.orm.nodes.process.workflow.workchain.WorkChainNode: [REPORT] [181806|WorkGraphEngine|on_wait]: Process status: Waiting for child processes: 181815\n",
      "09/04/2025 04:35:52 PM <1602706> aiida.orm.nodes.process.workflow.workchain.WorkChainNode: [REPORT] [181815|WorkGraphEngine|continue_workgraph]: tasks ready to run: Cp2kCalculation,Cp2kCalculation1,Cp2kCalculation2,Cp2kCalculation3,Cp2kCalculation4\n",
      "09/04/2025 04:35:55 PM <1602706> aiida.orm.nodes.process.workflow.workchain.WorkChainNode: [REPORT] [181815|WorkGraphEngine|on_wait]: Process status: Waiting for child processes: 181816, 181817, 181818, 181819, 181820\n",
      "09/04/2025 04:38:36 PM <1602706> aiida.orm.nodes.process.workflow.workchain.WorkChainNode: [REPORT] [181815|WorkGraphEngine|update_task_state]: Task: Cp2kCalculation2, type: CALCJOB, finished.\n",
      "09/04/2025 04:38:38 PM <1602706> aiida.orm.nodes.process.workflow.workchain.WorkChainNode: [REPORT] [181815|WorkGraphEngine|continue_workgraph]: tasks ready to run: \n",
      "09/04/2025 04:38:39 PM <1602706> aiida.orm.nodes.process.workflow.workchain.WorkChainNode: [REPORT] [181815|WorkGraphEngine|on_wait]: Process status: Waiting for child processes: 181816, 181817, 181819, 181820\n",
      "09/04/2025 04:39:15 PM <1602706> aiida.orm.nodes.process.workflow.workchain.WorkChainNode: [REPORT] [181815|WorkGraphEngine|update_task_state]: Task: Cp2kCalculation4, type: CALCJOB, finished.\n",
      "09/04/2025 04:39:17 PM <1602706> aiida.orm.nodes.process.workflow.workchain.WorkChainNode: [REPORT] [181815|WorkGraphEngine|continue_workgraph]: tasks ready to run: \n",
      "09/04/2025 04:39:17 PM <1602706> aiida.orm.nodes.process.workflow.workchain.WorkChainNode: [REPORT] [181815|WorkGraphEngine|on_wait]: Process status: Waiting for child processes: 181816, 181817, 181819\n",
      "09/04/2025 04:39:22 PM <1602706> aiida.orm.nodes.process.workflow.workchain.WorkChainNode: [REPORT] [181815|WorkGraphEngine|update_task_state]: Task: Cp2kCalculation1, type: CALCJOB, finished.\n",
      "09/04/2025 04:39:25 PM <1602706> aiida.orm.nodes.process.workflow.workchain.WorkChainNode: [REPORT] [181815|WorkGraphEngine|continue_workgraph]: tasks ready to run: \n",
      "09/04/2025 04:39:25 PM <1602706> aiida.orm.nodes.process.workflow.workchain.WorkChainNode: [REPORT] [181815|WorkGraphEngine|on_wait]: Process status: Waiting for child processes: 181816, 181819\n",
      "09/04/2025 04:39:29 PM <1602706> aiida.orm.nodes.process.workflow.workchain.WorkChainNode: [REPORT] [181815|WorkGraphEngine|update_task_state]: Task: Cp2kCalculation, type: CALCJOB, finished.\n",
      "09/04/2025 04:39:31 PM <1602706> aiida.orm.nodes.process.workflow.workchain.WorkChainNode: [REPORT] [181815|WorkGraphEngine|continue_workgraph]: tasks ready to run: \n",
      "09/04/2025 04:39:31 PM <1602706> aiida.orm.nodes.process.workflow.workchain.WorkChainNode: [REPORT] [181815|WorkGraphEngine|on_wait]: Process status: Waiting for child processes: 181819\n",
      "09/04/2025 04:39:39 PM <1602706> aiida.orm.nodes.process.workflow.workchain.WorkChainNode: [REPORT] [181815|WorkGraphEngine|update_task_state]: Task: Cp2kCalculation3, type: CALCJOB, finished.\n",
      "09/04/2025 04:39:42 PM <1602706> aiida.orm.nodes.process.workflow.workchain.WorkChainNode: [REPORT] [181815|WorkGraphEngine|continue_workgraph]: tasks ready to run: \n",
      "09/04/2025 04:39:42 PM <1602706> aiida.orm.nodes.process.workflow.workchain.WorkChainNode: [REPORT] [181815|WorkGraphEngine|finalize]: Finalize workgraph.\n",
      "09/04/2025 04:39:44 PM <1602706> aiida.orm.nodes.process.workflow.workchain.WorkChainNode: [REPORT] [181806|WorkGraphEngine|update_task_state]: Task: all_scf, type: GRAPH, finished.\n",
      "09/04/2025 04:39:44 PM <1602706> aiida.orm.nodes.process.workflow.workchain.WorkChainNode: [REPORT] [181806|WorkGraphEngine|continue_workgraph]: tasks ready to run: fit_eos\n",
      "09/04/2025 04:39:45 PM <1602706> aiida.orm.nodes.process.workflow.workchain.WorkChainNode: [REPORT] [181806|WorkGraphEngine|update_task_state]: Task: fit_eos, type: CALCFUNCTION, finished.\n",
      "09/04/2025 04:39:45 PM <1602706> aiida.orm.nodes.process.workflow.workchain.WorkChainNode: [REPORT] [181806|WorkGraphEngine|continue_workgraph]: tasks ready to run: \n",
      "09/04/2025 04:39:45 PM <1602706> aiida.orm.nodes.process.workflow.workchain.WorkChainNode: [REPORT] [181806|WorkGraphEngine|finalize]: Finalize workgraph.\n"
     ]
    }
   ],
   "source": [
    "wg.run()"
   ]
  },
  {
   "cell_type": "markdown",
   "metadata": {},
   "source": [
    "Print out the results:"
   ]
  },
  {
   "cell_type": "code",
   "execution_count": 3,
   "metadata": {},
   "outputs": [
    {
     "name": "stdout",
     "output_type": "stream",
     "text": [
      "\n",
      "Result: \n",
      "B: 88.464840164329\n",
      "v0: 40.896274824518\n",
      "e0: -214.09855023402\n",
      "v0: 40.896274824518\n"
     ]
    }
   ],
   "source": [
    "#------------------------- Print the output -------------------------\n",
    "data = wg.outputs.result.value.get_dict()\n",
    "print('\\nResult: \\nB: {B}\\nv0: {v0}\\ne0: {e0}\\nv0: {v0}'.format(**data))\n"
   ]
  }
 ],
 "metadata": {
  "kernelspec": {
   "display_name": "aiida",
   "language": "python",
   "name": "python3"
  },
  "language_info": {
   "codemirror_mode": {
    "name": "ipython",
    "version": 3
   },
   "file_extension": ".py",
   "mimetype": "text/x-python",
   "name": "python",
   "nbconvert_exporter": "python",
   "pygments_lexer": "ipython3",
   "version": "3.11.0"
  }
 },
 "nbformat": 4,
 "nbformat_minor": 2
}
