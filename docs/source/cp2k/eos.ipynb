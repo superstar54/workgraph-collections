{
 "cells": [
  {
   "cell_type": "markdown",
   "metadata": {},
   "source": [
    "# Equation of state (EOS) WorkGraph\n",
    "\n",
    "To run this tutorial, you need to install aiida-workgraph and restart the daemon. Open a terminal and run:\n",
    "```console\n",
    "pip install aiida-workgraph\n",
    "verdi daemon restart\n",
    "```\n",
    "\n",
    "## Create the calcfunction node"
   ]
  },
  {
   "cell_type": "markdown",
   "metadata": {},
   "source": [
    "\n",
    "### Visualize the workgraph"
   ]
  },
  {
   "cell_type": "code",
   "execution_count": 2,
   "metadata": {},
   "outputs": [
    {
     "data": {
      "text/html": [
       "\n",
       "        <iframe\n",
       "            width=\"100%\"\n",
       "            height=\"600px\"\n",
       "            src=\"html/eos.html\"\n",
       "            frameborder=\"0\"\n",
       "            allowfullscreen\n",
       "            \n",
       "        ></iframe>\n",
       "        "
      ],
      "text/plain": [
       "<IPython.lib.display.IFrame at 0x77046d778bd0>"
      ]
     },
     "execution_count": 2,
     "metadata": {},
     "output_type": "execute_result"
    }
   ],
   "source": [
    "from workgraph_collections.cp2k.eos import eos_workgraph\n",
    "from aiida import load_profile\n",
    "\n",
    "load_profile()\n",
    "\n",
    "wg = eos_workgraph(\"eos\")\n",
    "wg.to_html()"
   ]
  },
  {
   "cell_type": "markdown",
   "metadata": {},
   "source": [
    "## Prepare inputs and run\n"
   ]
  },
  {
   "cell_type": "code",
   "execution_count": 3,
   "metadata": {},
   "outputs": [
    {
     "name": "stdout",
     "output_type": "stream",
     "text": [
      "Waiting for the workgraph to finish...\n",
      "WorkGraph node created, PK: 14034\n"
     ]
    }
   ],
   "source": [
    "from aiida import load_profile\n",
    "from aiida.orm import Dict, KpointsData, StructureData, load_code, load_group\n",
    "from ase.build import bulk\n",
    "\n",
    "load_profile()\n",
    "\n",
    "si = orm.StructureData(ase=bulk(\"Si\"))\n",
    "code = load_code(\"qe-7.2-pw@localhost\")\n",
    "pw_paras = Dict({\n",
    "        \"CONTROL\": {\n",
    "            \"calculation\": \"scf\",\n",
    "        },\n",
    "        \"SYSTEM\": {\n",
    "            \"ecutwfc\": 30,\n",
    "            \"ecutrho\": 240,\n",
    "            \"occupations\": \"smearing\",\n",
    "            \"smearing\": \"gaussian\",\n",
    "            \"degauss\": 0.1,\n",
    "        },\n",
    "    })\n",
    "# Load the pseudopotential family.\n",
    "pseudo_family = load_group('SSSP/1.3/PBEsol/efficiency')\n",
    "pseudos = pseudo_family.get_pseudos(structure=si)\n",
    "#\n",
    "metadata = {'options': {\n",
    "                'resources': {\n",
    "                'num_machines': 1,\n",
    "                'num_mpiprocs_per_machine': 1,\n",
    "            },\n",
    "        }\n",
    "    }\n",
    "\n",
    "kpoints = orm.KpointsData()\n",
    "kpoints.set_kpoints_mesh([3, 3, 3])\n",
    "pseudos = pseudo_family.get_pseudos(structure=si)\n",
    "scf_inputs = {\"code\": code,\n",
    "        \"parameters\": pw_paras,\n",
    "        \"kpoints\": kpoints,\n",
    "        \"pseudos\": pseudos,\n",
    "        \"metadata\": metadata\n",
    "        }\n",
    "#-------------------------------------------------------\n",
    "# set the input parameters for each node\n",
    "wg.nodes[\"scale_structure1\"].set({\"structure\": si, \"scales\": [0.95, 1.0, 1.05]})\n",
    "wg.nodes[\"all_scf1\"].set({\"scf_inputs\": scf_inputs})\n",
    "print(\"Waiting for the workgraph to finish...\")\n",
    "wg.submit(wait=True, timeout=300)\n",
    "# one can also run the workgraph directly\n",
    "# wg.run()\n",
    "\n"
   ]
  },
  {
   "cell_type": "markdown",
   "metadata": {},
   "source": [
    "Print out the results:"
   ]
  },
  {
   "cell_type": "code",
   "execution_count": 4,
   "metadata": {},
   "outputs": [
    {
     "name": "stdout",
     "output_type": "stream",
     "text": [
      "B: 0.53596259211164\n",
      "v0: 41.134100879971\n",
      "e0: -308.19240692174\n",
      "v0: 41.134100879971\n"
     ]
    }
   ],
   "source": [
    "data = wg.nodes[\"eos1\"].outputs[\"result\"].value.get_dict()\n",
    "print('B: {B}\\nv0: {v0}\\ne0: {e0}\\nv0: {v0}'.format(**data))"
   ]
  }
 ],
 "metadata": {
  "kernelspec": {
   "display_name": "aiida",
   "language": "python",
   "name": "python3"
  },
  "language_info": {
   "codemirror_mode": {
    "name": "ipython",
    "version": 3
   },
   "file_extension": ".py",
   "mimetype": "text/x-python",
   "name": "python",
   "nbconvert_exporter": "python",
   "pygments_lexer": "ipython3",
   "version": "3.11.0"
  }
 },
 "nbformat": 4,
 "nbformat_minor": 2
}
