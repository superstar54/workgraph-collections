{
 "cells": [
  {
   "cell_type": "markdown",
   "id": "22d177dc-6cfb-4de2-9509-f1eb45e10cf2",
   "metadata": {},
   "source": [
    "# Wannier90\n",
    "\n",
    "## Example: GaAs band structure\n",
    "### Prepare the inputs and submit the workflow\n",
    "\n"
   ]
  },
  {
   "cell_type": "code",
   "execution_count": 1,
   "id": "8ee799d2-0b5b-4609-957f-6b3f2cd451f0",
   "metadata": {},
   "outputs": [
    {
     "name": "stderr",
     "output_type": "stream",
     "text": [
      "[thinkpad:1466174] mca_base_component_repository_open: unable to open mca_btl_openib: librdmacm.so.1: cannot open shared object file: No such file or directory (ignored)\n"
     ]
    },
    {
     "data": {
      "application/vnd.jupyter.widget-view+json": {
       "model_id": "c1544e0ea7104f1b83112feb5b7361ce",
       "version_major": 2,
       "version_minor": 1
      },
      "text/plain": [
       "NodeGraphWidget(settings={'minimap': True}, style={'width': '90%', 'height': '600px'}, value={'name': 'Wannier…"
      ]
     },
     "execution_count": 1,
     "metadata": {},
     "output_type": "execute_result"
    }
   ],
   "source": [
    "from aiida import load_profile\n",
    "from ase import Atoms\n",
    "from ase.build import bulk\n",
    "from gpaw import FermiDirac, PW\n",
    "from workgraph_collections.gpaw.wannier90 import Wannier90Workgraph\n",
    "from aiida_pythonjob.config import config\n",
    "# allow pickle\n",
    "config[\"allow_pickle\"] = True\n",
    "load_profile()\n",
    "\n",
    "cell = bulk('Ga', 'fcc', a=5.68).cell\n",
    "atoms = Atoms('GaAs', cell=cell, pbc=True,\n",
    "          scaled_positions=((0, 0, 0), (0.25, 0.25, 0.25)))\n",
    "\n",
    "scf_inputs = {\"atoms\": atoms,\n",
    "                \"seed\": \"GaAs\",\n",
    "                \"kpts\": {'size': (2, 2, 2), 'gamma': True},\n",
    "                \"mode\": PW(600),\n",
    "                \"xc\": 'LDA',\n",
    "                \"occupations\": FermiDirac(width=0.01),\n",
    "                \"convergence\": {'density': 1.e-6},\n",
    "                \"txt\": 'gs_GaAs.txt'\n",
    "            }\n",
    "wannier90_inputs = {\n",
    "    \"seed\": \"GaAs\",\n",
    "    \"binary\": '/home/xing/.conda/envs/quantum-espresso-7.4/bin/wannier90.x',\n",
    "    \"wannier_plot\": True,\n",
    "    \"bands\": list(range(4)),\n",
    "    \"orbitals_ai\": [[], [0, 1, 2, 3]]\n",
    "}\n",
    "wg = Wannier90Workgraph.build_graph(\n",
    "    scf_inputs=scf_inputs,\n",
    "    wannier90_inputs=wannier90_inputs\n",
    ")\n",
    "wg"
   ]
  },
  {
   "cell_type": "markdown",
   "id": "629cb39a",
   "metadata": {},
   "source": [
    "Run the workflow"
   ]
  },
  {
   "cell_type": "code",
   "execution_count": 2,
   "id": "3b0ce324",
   "metadata": {},
   "outputs": [
    {
     "name": "stderr",
     "output_type": "stream",
     "text": [
      "09/04/2025 02:26:28 PM <1466174> aiida.orm.nodes.process.workflow.workchain.WorkChainNode: [REPORT] [181653|WorkGraphEngine|continue_workgraph]: tasks ready to run: gpaw_calculator\n",
      "09/04/2025 02:26:29 PM <1466174> aiida.orm.nodes.process.workflow.workchain.WorkChainNode: [REPORT] [181653|WorkGraphEngine|on_wait]: Process status: Waiting for child processes: 181657\n",
      "09/04/2025 02:26:31 PM <1466174> aiida.orm.nodes.process.workflow.workchain.WorkChainNode: [REPORT] [181653|WorkGraphEngine|update_task_state]: Task: gpaw_calculator, type: PYTHONJOB, finished.\n",
      "09/04/2025 02:26:33 PM <1466174> aiida.orm.nodes.process.workflow.workchain.WorkChainNode: [REPORT] [181653|WorkGraphEngine|continue_workgraph]: tasks ready to run: wannier90\n",
      "09/04/2025 02:26:33 PM <1466174> aiida.orm.nodes.process.workflow.workchain.WorkChainNode: [REPORT] [181653|WorkGraphEngine|on_wait]: Process status: Waiting for child processes: 181665\n",
      "09/04/2025 02:26:41 PM <1466174> aiida.orm.nodes.process.workflow.workchain.WorkChainNode: [REPORT] [181653|WorkGraphEngine|update_task_state]: Task: wannier90, type: PYTHONJOB, finished.\n",
      "09/04/2025 02:26:43 PM <1466174> aiida.orm.nodes.process.workflow.workchain.WorkChainNode: [REPORT] [181653|WorkGraphEngine|continue_workgraph]: tasks ready to run: \n",
      "09/04/2025 02:26:43 PM <1466174> aiida.orm.nodes.process.workflow.workchain.WorkChainNode: [REPORT] [181653|WorkGraphEngine|finalize]: Finalize workgraph.\n"
     ]
    }
   ],
   "source": [
    "wg.run()"
   ]
  }
 ],
 "metadata": {
  "kernelspec": {
   "display_name": "aiida",
   "language": "python",
   "name": "python3"
  },
  "language_info": {
   "codemirror_mode": {
    "name": "ipython",
    "version": 3
   },
   "file_extension": ".py",
   "mimetype": "text/x-python",
   "name": "python",
   "nbconvert_exporter": "python",
   "pygments_lexer": "ipython3",
   "version": "3.11.0"
  }
 },
 "nbformat": 4,
 "nbformat_minor": 5
}
