{
 "cells": [
  {
   "cell_type": "markdown",
   "id": "22d177dc-6cfb-4de2-9509-f1eb45e10cf2",
   "metadata": {},
   "source": [
    "# Projected density of states (PDOS)\n",
    "For the source code, see [pdos](https://workgraph-collections.readthedocs.io/en/latest/ase/espresso/module.html#workgraph_collections.ase.espresso.pdos.pdos_workgraph).\n",
    "\n",
    "\n",
    "## Example: Silicon\n",
    "\n",
    "### Prepare the inputs and submit the workflow\n",
    "\n"
   ]
  },
  {
   "cell_type": "code",
   "execution_count": 1,
   "id": "8ee799d2-0b5b-4609-957f-6b3f2cd451f0",
   "metadata": {},
   "outputs": [
    {
     "data": {
      "text/html": [
       "\n",
       "        <iframe\n",
       "            width=\"100%\"\n",
       "            height=\"600px\"\n",
       "            src=\"html/PdosWorkgraph.html\"\n",
       "            frameborder=\"0\"\n",
       "            allowfullscreen\n",
       "            \n",
       "        ></iframe>\n",
       "        "
      ],
      "text/plain": [
       "<IPython.lib.display.IFrame at 0x7a9185873750>"
      ]
     },
     "execution_count": 1,
     "metadata": {},
     "output_type": "execute_result"
    }
   ],
   "source": [
    "from ase.build import bulk\n",
    "from aiida import load_profile\n",
    "from copy import deepcopy\n",
    "\n",
    "from workgraph_collections.ase.espresso.pdos import PdosWorkgraph\n",
    "\n",
    "load_profile()\n",
    "\n",
    "atoms = bulk('Al')\n",
    "\n",
    "\n",
    "metadata = {\n",
    "    \"options\": {\n",
    "        'prepend_text' : \"\"\"eval \"$(conda shell.posix hook)\"\n",
    "        conda activate aiida\n",
    "        export OMP_NUM_THREADS=1\n",
    "        \"\"\",\n",
    "    }\n",
    "}\n",
    "pseudopotentials = {\"Al\": \"Al.pbe-n-rrkjus_psl.1.0.0.UPF\"}\n",
    "pseudo_dir = \"/home/xing/data/ase/espresso_pseudo\"\n",
    "# pseudo_dir = \"/home/wang_x3/datas/pseudos/psl\"\n",
    "scf_input_data = {\n",
    "    \"system\": {\"ecutwfc\": 30, \"ecutrho\": 240,\n",
    "               \"occupations\": \"smearing\",\n",
    "                \"degauss\": 0.01,\n",
    "                \"smearing\": \"gaussian\",\n",
    "                },\n",
    "}\n",
    "nscf_input_data = deepcopy(scf_input_data)\n",
    "nscf_input_data[\"system\"].update({\"occupations\": \"tetrahedra\"})\n",
    "inputs = {\n",
    "    \"scf\": {\n",
    "        \"input_data\": scf_input_data,\n",
    "        \"kpts\": [10, 10, 10],\n",
    "        \"computer\": \"localhost\",\n",
    "        \"metadata\": metadata\n",
    "    },\n",
    "    \"nscf\": {\n",
    "        \"input_data\": nscf_input_data,\n",
    "        \"kpts\": [20, 20, 20],\n",
    "        \"computer\": \"localhost\",\n",
    "        \"metadata\": metadata\n",
    "    },\n",
    "    \"dos\": {\n",
    "        \"input_data\": {},\n",
    "        \"computer\": \"localhost\",\n",
    "        \"metadata\": metadata\n",
    "    }\n",
    "}\n",
    "#------------------------- Set the inputs -------------------------\n",
    "wg = PdosWorkgraph.build(atoms=atoms,\n",
    "                    pw_command=\"mpirun -np 4 pw.x\",\n",
    "                    dos_command=\"mpirun -np 4 dos.x\",\n",
    "                    projwfc_command=\"mpirun -np 4 projwfc.x\",\n",
    "                    pseudopotentials=pseudopotentials,\n",
    "                    pseudo_dir=pseudo_dir,\n",
    "                    inputs=inputs)\n",
    "wg.to_html()"
   ]
  },
  {
   "cell_type": "markdown",
   "id": "6df097e2",
   "metadata": {},
   "source": [
    "Run the calculation\n"
   ]
  },
  {
   "cell_type": "code",
   "execution_count": 2,
   "id": "d6112a2f",
   "metadata": {},
   "outputs": [
    {
     "name": "stderr",
     "output_type": "stream",
     "text": [
      "09/12/2025 01:39:40 PM <790230> aiida.orm.nodes.process.workflow.workchain.WorkChainNode: [REPORT] [186604|WorkGraphEngine|continue_workgraph]: tasks ready to run: pw_calculator\n",
      "REPORT:aiida.orm.nodes.process.workflow.workchain.WorkChainNode:[186604|WorkGraphEngine|continue_workgraph]: tasks ready to run: pw_calculator\n",
      "09/12/2025 01:39:41 PM <790230> aiida.orm.nodes.process.workflow.workchain.WorkChainNode: [REPORT] [186604|WorkGraphEngine|on_wait]: Process status: Waiting for child processes: 186606\n",
      "REPORT:aiida.orm.nodes.process.workflow.workchain.WorkChainNode:[186604|WorkGraphEngine|on_wait]: Process status: Waiting for child processes: 186606\n",
      "09/12/2025 01:39:47 PM <790230> aiida.orm.nodes.process.workflow.workchain.WorkChainNode: [REPORT] [186604|WorkGraphEngine|update_task_state]: Task: pw_calculator, type: PYTHONJOB, finished.\n",
      "REPORT:aiida.orm.nodes.process.workflow.workchain.WorkChainNode:[186604|WorkGraphEngine|update_task_state]: Task: pw_calculator, type: PYTHONJOB, finished.\n",
      "09/12/2025 01:39:48 PM <790230> aiida.orm.nodes.process.workflow.workchain.WorkChainNode: [REPORT] [186604|WorkGraphEngine|continue_workgraph]: tasks ready to run: pw_calculator1\n",
      "REPORT:aiida.orm.nodes.process.workflow.workchain.WorkChainNode:[186604|WorkGraphEngine|continue_workgraph]: tasks ready to run: pw_calculator1\n",
      "09/12/2025 01:39:49 PM <790230> aiida.orm.nodes.process.workflow.workchain.WorkChainNode: [REPORT] [186604|WorkGraphEngine|on_wait]: Process status: Waiting for child processes: 186620\n",
      "REPORT:aiida.orm.nodes.process.workflow.workchain.WorkChainNode:[186604|WorkGraphEngine|on_wait]: Process status: Waiting for child processes: 186620\n",
      "09/12/2025 01:40:04 PM <790230> aiida.orm.nodes.process.workflow.workchain.WorkChainNode: [REPORT] [186604|WorkGraphEngine|update_task_state]: Task: pw_calculator1, type: PYTHONJOB, finished.\n",
      "REPORT:aiida.orm.nodes.process.workflow.workchain.WorkChainNode:[186604|WorkGraphEngine|update_task_state]: Task: pw_calculator1, type: PYTHONJOB, finished.\n",
      "09/12/2025 01:40:06 PM <790230> aiida.orm.nodes.process.workflow.workchain.WorkChainNode: [REPORT] [186604|WorkGraphEngine|continue_workgraph]: tasks ready to run: dos_calculator,projwfc_calculator\n",
      "REPORT:aiida.orm.nodes.process.workflow.workchain.WorkChainNode:[186604|WorkGraphEngine|continue_workgraph]: tasks ready to run: dos_calculator,projwfc_calculator\n",
      "09/12/2025 01:40:07 PM <790230> aiida.orm.nodes.process.workflow.workchain.WorkChainNode: [REPORT] [186604|WorkGraphEngine|on_wait]: Process status: Waiting for child processes: 186634, 186638\n",
      "REPORT:aiida.orm.nodes.process.workflow.workchain.WorkChainNode:[186604|WorkGraphEngine|on_wait]: Process status: Waiting for child processes: 186634, 186638\n",
      "09/12/2025 01:40:28 PM <790230> aiida.parser.PythonJobParser: [ERROR] An error occurred when attempting to parse the output of the calculation: ValueError: Cannot serialize the provided object.\n",
      "\n",
      "Type: ase.spectrum.band_structure.BandStructure\n",
      "Tried entry-point key: 'ase.spectrum.band_structure.BandStructure' — not found in provided serializers.\n",
      "How to fix:\n",
      "1) Register a type-specific AiiDA Data class as an `aiida.data` entry point (recommended for domain objects).\n",
      "   Example in `pyproject.toml`:\n",
      "   [project.entry-points.\"aiida.data\"]\n",
      "   myplugin.ase.spectrum.band_structure.BandStructure = \"myplugin.data.mytype:MyTypeData\"\n",
      "   where `MyTypeData` is a subclass of `aiida.orm.Data` that knows how to store your object.\n",
      "\n",
      "2) Or make the class JSON-serializable so `JsonableData` can handle it by implementing:\n",
      "   - `to_dict()` / `as_dict()` (any one) returning only JSON-friendly structures, and\n",
      "   - `from_dict(cls, dct)` / `fromdict(cls, dct)` to rebuild the object later.\n",
      "\n",
      "3) Or pass an ad-hoc serializer function via the `serializers` argument:\n",
      "   general_serializer(obj, serializers={'ase.spectrum.band_structure.BandStructure': 'my_pkg.mod:to_aiida_node'})\n",
      "   where `to_aiida_node(obj)` returns an `aiida.orm.Data` instance.\n",
      "ERROR:aiida.parser.PythonJobParser:An error occurred when attempting to parse the output of the calculation: ValueError: Cannot serialize the provided object.\n",
      "\n",
      "Type: ase.spectrum.band_structure.BandStructure\n",
      "Tried entry-point key: 'ase.spectrum.band_structure.BandStructure' — not found in provided serializers.\n",
      "How to fix:\n",
      "1) Register a type-specific AiiDA Data class as an `aiida.data` entry point (recommended for domain objects).\n",
      "   Example in `pyproject.toml`:\n",
      "   [project.entry-points.\"aiida.data\"]\n",
      "   myplugin.ase.spectrum.band_structure.BandStructure = \"myplugin.data.mytype:MyTypeData\"\n",
      "   where `MyTypeData` is a subclass of `aiida.orm.Data` that knows how to store your object.\n",
      "\n",
      "2) Or make the class JSON-serializable so `JsonableData` can handle it by implementing:\n",
      "   - `to_dict()` / `as_dict()` (any one) returning only JSON-friendly structures, and\n",
      "   - `from_dict(cls, dct)` / `fromdict(cls, dct)` to rebuild the object later.\n",
      "\n",
      "3) Or pass an ad-hoc serializer function via the `serializers` argument:\n",
      "   general_serializer(obj, serializers={'ase.spectrum.band_structure.BandStructure': 'my_pkg.mod:to_aiida_node'})\n",
      "   where `to_aiida_node(obj)` returns an `aiida.orm.Data` instance.\n",
      "09/12/2025 01:40:28 PM <790230> aiida.orm.nodes.process.calculation.calcjob.CalcJobNode: [WARNING] output parser returned exit code<321>: The output file contains invalid output.\n",
      "WARNING:aiida.orm.nodes.process.calculation.calcjob.CalcJobNode:output parser returned exit code<321>: The output file contains invalid output.\n",
      "09/12/2025 01:40:29 PM <790230> aiida.orm.nodes.process.workflow.workchain.WorkChainNode: [REPORT] [186604|WorkGraphEngine|on_task_failed]: Task, projwfc_calculator, type: PYTHONJOB, failed. Error message: The output file contains invalid output.\n",
      "REPORT:aiida.orm.nodes.process.workflow.workchain.WorkChainNode:[186604|WorkGraphEngine|on_task_failed]: Task, projwfc_calculator, type: PYTHONJOB, failed. Error message: The output file contains invalid output.\n",
      "09/12/2025 01:40:29 PM <790230> aiida.orm.nodes.process.workflow.workchain.WorkChainNode: [REPORT] [186604|WorkGraphEngine|run_error_handlers]: Run error handlers for projwfc_calculator\n",
      "REPORT:aiida.orm.nodes.process.workflow.workchain.WorkChainNode:[186604|WorkGraphEngine|run_error_handlers]: Run error handlers for projwfc_calculator\n",
      "09/12/2025 01:40:31 PM <790230> aiida.orm.nodes.process.workflow.workchain.WorkChainNode: [REPORT] [186604|WorkGraphEngine|continue_workgraph]: tasks ready to run: \n",
      "REPORT:aiida.orm.nodes.process.workflow.workchain.WorkChainNode:[186604|WorkGraphEngine|continue_workgraph]: tasks ready to run: \n",
      "09/12/2025 01:40:31 PM <790230> aiida.orm.nodes.process.workflow.workchain.WorkChainNode: [REPORT] [186604|WorkGraphEngine|on_wait]: Process status: Waiting for child processes: 186634\n",
      "REPORT:aiida.orm.nodes.process.workflow.workchain.WorkChainNode:[186604|WorkGraphEngine|on_wait]: Process status: Waiting for child processes: 186634\n",
      "09/12/2025 01:41:41 PM <790230> aiida.orm.nodes.process.workflow.workchain.WorkChainNode: [REPORT] [186604|WorkGraphEngine|update_task_state]: Task: dos_calculator, type: PYTHONJOB, finished.\n",
      "REPORT:aiida.orm.nodes.process.workflow.workchain.WorkChainNode:[186604|WorkGraphEngine|update_task_state]: Task: dos_calculator, type: PYTHONJOB, finished.\n",
      "09/12/2025 01:41:44 PM <790230> aiida.orm.nodes.process.workflow.workchain.WorkChainNode: [REPORT] [186604|WorkGraphEngine|continue_workgraph]: tasks ready to run: \n",
      "REPORT:aiida.orm.nodes.process.workflow.workchain.WorkChainNode:[186604|WorkGraphEngine|continue_workgraph]: tasks ready to run: \n",
      "09/12/2025 01:41:44 PM <790230> aiida.orm.nodes.process.workflow.workchain.WorkChainNode: [REPORT] [186604|WorkGraphEngine|is_workgraph_finished]: WorkGraph finished, but tasks: ['projwfc_calculator'] failed. Thus all their child tasks are skipped.\n",
      "REPORT:aiida.orm.nodes.process.workflow.workchain.WorkChainNode:[186604|WorkGraphEngine|is_workgraph_finished]: WorkGraph finished, but tasks: ['projwfc_calculator'] failed. Thus all their child tasks are skipped.\n"
     ]
    },
    {
     "data": {
      "text/plain": [
       "{}"
      ]
     },
     "execution_count": 2,
     "metadata": {},
     "output_type": "execute_result"
    }
   ],
   "source": [
    "wg.run()"
   ]
  },
  {
   "cell_type": "markdown",
   "id": "ea09fce9",
   "metadata": {},
   "source": [
    "## Print the results"
   ]
  },
  {
   "cell_type": "code",
   "execution_count": 3,
   "id": "afe2b91d",
   "metadata": {},
   "outputs": [
    {
     "ename": "AttributeError",
     "evalue": "'NoneType' object has no attribute 'value'",
     "output_type": "error",
     "traceback": [
      "\u001b[0;31m---------------------------------------------------------------------------\u001b[0m",
      "\u001b[0;31mAttributeError\u001b[0m                            Traceback (most recent call last)",
      "Cell \u001b[0;32mIn[3], line 5\u001b[0m\n\u001b[1;32m      2\u001b[0m \u001b[38;5;28;01mimport\u001b[39;00m \u001b[38;5;21;01mnumpy\u001b[39;00m \u001b[38;5;28;01mas\u001b[39;00m \u001b[38;5;21;01mnp\u001b[39;00m\n\u001b[1;32m      4\u001b[0m \u001b[38;5;66;03m#------------------------- Print the output -------------------------\u001b[39;00m\n\u001b[0;32m----> 5\u001b[0m dos_data \u001b[38;5;241m=\u001b[39m \u001b[43mwg\u001b[49m\u001b[38;5;241;43m.\u001b[39;49m\u001b[43moutputs\u001b[49m\u001b[38;5;241;43m.\u001b[39;49m\u001b[43mdos\u001b[49m\u001b[38;5;241;43m.\u001b[39;49m\u001b[43mdos\u001b[49m\u001b[38;5;241;43m.\u001b[39;49m\u001b[43mvalue\u001b[49m\u001b[38;5;241;43m.\u001b[39;49m\u001b[43mvalue\u001b[49m\n\u001b[1;32m      6\u001b[0m pdos_data \u001b[38;5;241m=\u001b[39m wg\u001b[38;5;241m.\u001b[39moutputs\u001b[38;5;241m.\u001b[39mprojwfc\u001b[38;5;241m.\u001b[39mprojections\u001b[38;5;241m.\u001b[39mvalue\u001b[38;5;241m.\u001b[39mvalue\n\u001b[1;32m      7\u001b[0m \u001b[38;5;66;03m# make plots\u001b[39;00m\n",
      "\u001b[0;31mAttributeError\u001b[0m: 'NoneType' object has no attribute 'value'"
     ]
    }
   ],
   "source": [
    "import matplotlib.pyplot as plt\n",
    "import numpy as np\n",
    "\n",
    "#------------------------- Print the output -------------------------\n",
    "dos_data = wg.outputs.dos.dos.value.value\n",
    "pdos_data = wg.outputs.projwfc.projections.value.value\n",
    "# make plots\n",
    "plt.figure(figsize = (8, 4))\n",
    "plt.plot(dos_data['x']['array'], dos_data['y']['arrays'][1], label='total')\n",
    "# plt.plot(pdos_data['totol']['energy'], pdos_data['totol']['dos'], label='total')\n",
    "# for file_name, data in pdos_data['atom'].items():\n",
    "        # value = np.array(data)\n",
    "        # plt.plot(value[:, 0], np.sum(value[:, 2:], axis=1), label=file_name[-4:])\n",
    "plt.yticks([])\n",
    "plt.xlabel('Energy (eV)')\n",
    "plt.ylabel('DOS')\n",
    "plt.legend(frameon=False)\n"
   ]
  }
 ],
 "metadata": {
  "kernelspec": {
   "display_name": "aiida",
   "language": "python",
   "name": "python3"
  },
  "language_info": {
   "codemirror_mode": {
    "name": "ipython",
    "version": 3
   },
   "file_extension": ".py",
   "mimetype": "text/x-python",
   "name": "python",
   "nbconvert_exporter": "python",
   "pygments_lexer": "ipython3",
   "version": "3.11.0"
  }
 },
 "nbformat": 4,
 "nbformat_minor": 5
}
