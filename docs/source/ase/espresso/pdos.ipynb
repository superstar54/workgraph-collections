{
 "cells": [
  {
   "cell_type": "markdown",
   "id": "22d177dc-6cfb-4de2-9509-f1eb45e10cf2",
   "metadata": {},
   "source": [
    "# Projected density of states (PDOS)\n",
    "For the source code, see [pdos](https://workgraph-collections.readthedocs.io/en/latest/ase/espresso/module.html#workgraph_collections.ase.espresso.pdos.pdos_workgraph).\n",
    "\n",
    "\n",
    "## Example: Silicon\n",
    "\n",
    "### Prepare the inputs and submit the workflow\n",
    "\n"
   ]
  },
  {
   "cell_type": "code",
   "execution_count": 7,
   "id": "8ee799d2-0b5b-4609-957f-6b3f2cd451f0",
   "metadata": {},
   "outputs": [
    {
     "data": {
      "text/html": [
       "\n",
       "        <iframe\n",
       "            width=\"100%\"\n",
       "            height=\"600px\"\n",
       "            src=\"html/PdosWorkgraph.html\"\n",
       "            frameborder=\"0\"\n",
       "            allowfullscreen\n",
       "            \n",
       "        ></iframe>\n",
       "        "
      ],
      "text/plain": [
       "<IPython.lib.display.IFrame at 0x70dee85aaa90>"
      ]
     },
     "execution_count": 7,
     "metadata": {},
     "output_type": "execute_result"
    }
   ],
   "source": [
    "from ase.build import bulk\n",
    "from aiida import load_profile\n",
    "from copy import deepcopy\n",
    "\n",
    "from workgraph_collections.ase.espresso.pdos import PdosWorkgraph\n",
    "from aiida_pythonjob.config import config\n",
    "# allow pickle\n",
    "config[\"allow_pickle\"] = True\n",
    "\n",
    "load_profile()\n",
    "\n",
    "atoms = bulk('Al')\n",
    "\n",
    "\n",
    "metadata = {\n",
    "    \"options\": {\n",
    "        'prepend_text' : \"\"\"eval \"$(conda shell.posix hook)\"\n",
    "        conda activate aiida\n",
    "        export OMP_NUM_THREADS=1\n",
    "        \"\"\",\n",
    "    }\n",
    "}\n",
    "pseudopotentials = {\"Al\": \"Al.pbe-n-rrkjus_psl.1.0.0.UPF\"}\n",
    "pseudo_dir = \"/home/xing/data/ase/espresso_pseudo\"\n",
    "# pseudo_dir = \"/home/wang_x3/datas/pseudos/psl\"\n",
    "scf_input_data = {\n",
    "    \"system\": {\"ecutwfc\": 30, \"ecutrho\": 240,\n",
    "               \"occupations\": \"smearing\",\n",
    "                \"degauss\": 0.01,\n",
    "                \"smearing\": \"gaussian\",\n",
    "                },\n",
    "}\n",
    "nscf_input_data = deepcopy(scf_input_data)\n",
    "nscf_input_data[\"system\"].update({\"occupations\": \"tetrahedra\"})\n",
    "inputs = {\n",
    "    \"scf\": {\n",
    "        \"input_data\": scf_input_data,\n",
    "        \"kpts\": [10, 10, 10],\n",
    "        \"computer\": \"localhost\",\n",
    "        \"metadata\": metadata\n",
    "    },\n",
    "    \"nscf\": {\n",
    "        \"input_data\": nscf_input_data,\n",
    "        \"kpts\": [20, 20, 20],\n",
    "        \"computer\": \"localhost\",\n",
    "        \"metadata\": metadata\n",
    "    },\n",
    "    \"dos\": {\n",
    "        \"input_data\": {},\n",
    "        \"computer\": \"localhost\",\n",
    "        \"metadata\": metadata\n",
    "    }\n",
    "}\n",
    "#------------------------- Set the inputs -------------------------\n",
    "wg = PdosWorkgraph.build_graph(atoms=atoms,\n",
    "                    pw_command=\"mpirun -np 4 pw.x\",\n",
    "                    dos_command=\"mpirun -np 4 dos.x\",\n",
    "                    projwfc_command=\"mpirun -np 4 projwfc.x\",\n",
    "                    pseudopotentials=pseudopotentials,\n",
    "                    pseudo_dir=pseudo_dir,\n",
    "                    inputs=inputs)\n",
    "wg.to_html()"
   ]
  },
  {
   "cell_type": "markdown",
   "id": "6df097e2",
   "metadata": {},
   "source": [
    "Run the calculation\n"
   ]
  },
  {
   "cell_type": "code",
   "execution_count": 2,
   "id": "d6112a2f",
   "metadata": {},
   "outputs": [
    {
     "name": "stderr",
     "output_type": "stream",
     "text": [
      "09/03/2025 09:14:50 PM <328043> aiida.orm.nodes.process.workflow.workchain.WorkChainNode: [REPORT] [178738|WorkGraphEngine|continue_workgraph]: tasks ready to run: pw_calculator\n",
      "REPORT:aiida.orm.nodes.process.workflow.workchain.WorkChainNode:[178738|WorkGraphEngine|continue_workgraph]: tasks ready to run: pw_calculator\n",
      "09/03/2025 09:14:51 PM <328043> aiida.orm.nodes.process.workflow.workchain.WorkChainNode: [REPORT] [178738|WorkGraphEngine|on_wait]: Process status: Waiting for child processes: 178742\n",
      "REPORT:aiida.orm.nodes.process.workflow.workchain.WorkChainNode:[178738|WorkGraphEngine|on_wait]: Process status: Waiting for child processes: 178742\n",
      "09/03/2025 09:14:58 PM <328043> aiida.orm.nodes.process.workflow.workchain.WorkChainNode: [REPORT] [178738|WorkGraphEngine|update_task_state]: Task: pw_calculator, type: PYTHONJOB, finished.\n",
      "REPORT:aiida.orm.nodes.process.workflow.workchain.WorkChainNode:[178738|WorkGraphEngine|update_task_state]: Task: pw_calculator, type: PYTHONJOB, finished.\n",
      "09/03/2025 09:15:00 PM <328043> aiida.orm.nodes.process.workflow.workchain.WorkChainNode: [REPORT] [178738|WorkGraphEngine|continue_workgraph]: tasks ready to run: pw_calculator1\n",
      "REPORT:aiida.orm.nodes.process.workflow.workchain.WorkChainNode:[178738|WorkGraphEngine|continue_workgraph]: tasks ready to run: pw_calculator1\n",
      "09/03/2025 09:15:01 PM <328043> aiida.orm.nodes.process.workflow.workchain.WorkChainNode: [REPORT] [178738|WorkGraphEngine|on_wait]: Process status: Waiting for child processes: 178758\n",
      "REPORT:aiida.orm.nodes.process.workflow.workchain.WorkChainNode:[178738|WorkGraphEngine|on_wait]: Process status: Waiting for child processes: 178758\n",
      "09/03/2025 09:15:16 PM <328043> aiida.orm.nodes.process.workflow.workchain.WorkChainNode: [REPORT] [178738|WorkGraphEngine|update_task_state]: Task: pw_calculator1, type: PYTHONJOB, finished.\n",
      "REPORT:aiida.orm.nodes.process.workflow.workchain.WorkChainNode:[178738|WorkGraphEngine|update_task_state]: Task: pw_calculator1, type: PYTHONJOB, finished.\n",
      "09/03/2025 09:15:18 PM <328043> aiida.orm.nodes.process.workflow.workchain.WorkChainNode: [REPORT] [178738|WorkGraphEngine|continue_workgraph]: tasks ready to run: dos_calculator,projwfc_calculator\n",
      "REPORT:aiida.orm.nodes.process.workflow.workchain.WorkChainNode:[178738|WorkGraphEngine|continue_workgraph]: tasks ready to run: dos_calculator,projwfc_calculator\n",
      "09/03/2025 09:15:20 PM <328043> aiida.orm.nodes.process.workflow.workchain.WorkChainNode: [REPORT] [178738|WorkGraphEngine|on_wait]: Process status: Waiting for child processes: 178774, 178780\n",
      "REPORT:aiida.orm.nodes.process.workflow.workchain.WorkChainNode:[178738|WorkGraphEngine|on_wait]: Process status: Waiting for child processes: 178774, 178780\n",
      "09/03/2025 09:15:44 PM <328043> aiida.orm.nodes.process.workflow.workchain.WorkChainNode: [REPORT] [178738|WorkGraphEngine|update_task_state]: Task: projwfc_calculator, type: PYTHONJOB, finished.\n",
      "REPORT:aiida.orm.nodes.process.workflow.workchain.WorkChainNode:[178738|WorkGraphEngine|update_task_state]: Task: projwfc_calculator, type: PYTHONJOB, finished.\n",
      "09/03/2025 09:15:48 PM <328043> aiida.orm.nodes.process.workflow.workchain.WorkChainNode: [REPORT] [178738|WorkGraphEngine|continue_workgraph]: tasks ready to run: \n",
      "REPORT:aiida.orm.nodes.process.workflow.workchain.WorkChainNode:[178738|WorkGraphEngine|continue_workgraph]: tasks ready to run: \n",
      "09/03/2025 09:15:49 PM <328043> aiida.orm.nodes.process.workflow.workchain.WorkChainNode: [REPORT] [178738|WorkGraphEngine|on_wait]: Process status: Waiting for child processes: 178774\n",
      "REPORT:aiida.orm.nodes.process.workflow.workchain.WorkChainNode:[178738|WorkGraphEngine|on_wait]: Process status: Waiting for child processes: 178774\n",
      "09/03/2025 09:16:44 PM <328043> aiida.orm.nodes.process.workflow.workchain.WorkChainNode: [REPORT] [178738|WorkGraphEngine|update_task_state]: Task: dos_calculator, type: PYTHONJOB, finished.\n",
      "REPORT:aiida.orm.nodes.process.workflow.workchain.WorkChainNode:[178738|WorkGraphEngine|update_task_state]: Task: dos_calculator, type: PYTHONJOB, finished.\n",
      "09/03/2025 09:16:47 PM <328043> aiida.orm.nodes.process.workflow.workchain.WorkChainNode: [REPORT] [178738|WorkGraphEngine|continue_workgraph]: tasks ready to run: \n",
      "REPORT:aiida.orm.nodes.process.workflow.workchain.WorkChainNode:[178738|WorkGraphEngine|continue_workgraph]: tasks ready to run: \n",
      "09/03/2025 09:16:47 PM <328043> aiida.orm.nodes.process.workflow.workchain.WorkChainNode: [REPORT] [178738|WorkGraphEngine|finalize]: Finalize workgraph.\n",
      "REPORT:aiida.orm.nodes.process.workflow.workchain.WorkChainNode:[178738|WorkGraphEngine|finalize]: Finalize workgraph.\n"
     ]
    }
   ],
   "source": [
    "wg.run()"
   ]
  },
  {
   "cell_type": "markdown",
   "id": "ea09fce9",
   "metadata": {},
   "source": [
    "## Print the results"
   ]
  },
  {
   "cell_type": "code",
   "execution_count": 6,
   "id": "afe2b91d",
   "metadata": {},
   "outputs": [
    {
     "data": {
      "text/plain": [
       "<matplotlib.legend.Legend at 0x70deea144790>"
      ]
     },
     "execution_count": 6,
     "metadata": {},
     "output_type": "execute_result"
    },
    {
     "data": {
      "image/png": "[encoded data removed]",
      "text/plain": [
       "<Figure size 800x400 with 1 Axes>"
      ]
     },
     "metadata": {},
     "output_type": "display_data"
    }
   ],
   "source": [
    "import matplotlib.pyplot as plt\n",
    "import numpy as np\n",
    "\n",
    "#------------------------- Print the output -------------------------\n",
    "dos_data = wg.outputs.dos.dos.value.value\n",
    "pdos_data = wg.outputs.projwfc.projections.value.value\n",
    "# make plots\n",
    "plt.figure(figsize = (8, 4))\n",
    "plt.plot(dos_data['x']['array'], dos_data['y']['arrays'][1], label='total')\n",
    "# plt.plot(pdos_data['totol']['energy'], pdos_data['totol']['dos'], label='total')\n",
    "# for file_name, data in pdos_data['atom'].items():\n",
    "        # value = np.array(data)\n",
    "        # plt.plot(value[:, 0], np.sum(value[:, 2:], axis=1), label=file_name[-4:])\n",
    "plt.yticks([])\n",
    "plt.xlabel('Energy (eV)')\n",
    "plt.ylabel('DOS')\n",
    "plt.legend(frameon=False)\n"
   ]
  }
 ],
 "metadata": {
  "kernelspec": {
   "display_name": "aiida",
   "language": "python",
   "name": "python3"
  },
  "language_info": {
   "codemirror_mode": {
    "name": "ipython",
    "version": 3
   },
   "file_extension": ".py",
   "mimetype": "text/x-python",
   "name": "python",
   "nbconvert_exporter": "python",
   "pygments_lexer": "ipython3",
   "version": "3.11.0"
  }
 },
 "nbformat": 4,
 "nbformat_minor": 5
}
