{
 "cells": [
  {
   "cell_type": "markdown",
   "id": "22d177dc-6cfb-4de2-9509-f1eb45e10cf2",
   "metadata": {},
   "source": [
    "# Projected density of states (PDOS)\n",
    "\n",
    "## Visualizing the WorkGraph Builder\n",
    "\n"
   ]
  },
  {
   "cell_type": "code",
   "execution_count": 1,
   "id": "1a8ebc0d",
   "metadata": {},
   "outputs": [
    {
     "data": {
      "text/html": [
       "\n",
       "        <iframe\n",
       "            width=\"100%\"\n",
       "            height=\"600px\"\n",
       "            src=\"html/pdos_workgraph0.html\"\n",
       "            frameborder=\"0\"\n",
       "            allowfullscreen\n",
       "            \n",
       "        ></iframe>\n",
       "        "
      ],
      "text/plain": [
       "<IPython.lib.display.IFrame at 0x7d2aa642ff50>"
      ]
     },
     "execution_count": 1,
     "metadata": {},
     "output_type": "execute_result"
    }
   ],
   "source": [
    "from workgraph_collections.ase.espresso.pdos import pdos_workgraph\n",
    "from aiida import load_profile\n",
    "load_profile()\n",
    "\n",
    "node = pdos_workgraph.node()\n",
    "node.to_html()"
   ]
  },
  {
   "cell_type": "markdown",
   "id": "9e6360d8",
   "metadata": {},
   "source": [
    "## Visualizing the WorkGraph"
   ]
  },
  {
   "cell_type": "code",
   "execution_count": 2,
   "id": "01bedd69",
   "metadata": {},
   "outputs": [
    {
     "data": {
      "text/html": [
       "\n",
       "        <iframe\n",
       "            width=\"100%\"\n",
       "            height=\"600px\"\n",
       "            src=\"html/Atomization energy.html\"\n",
       "            frameborder=\"0\"\n",
       "            allowfullscreen\n",
       "            \n",
       "        ></iframe>\n",
       "        "
      ],
      "text/plain": [
       "<IPython.lib.display.IFrame at 0x7d2aa64ff950>"
      ]
     },
     "execution_count": 2,
     "metadata": {},
     "output_type": "execute_result"
    }
   ],
   "source": [
    "from workgraph_collections.ase.espresso.atomization_energy import atomization_energy\n",
    "\n",
    "wg = atomization_energy()\n",
    "wg.to_html()"
   ]
  },
  {
   "cell_type": "markdown",
   "id": "efa095d0",
   "metadata": {},
   "source": [
    "## Example: Silicon\n",
    "\n",
    "### Prepare the inputs and submit the workflow\n"
   ]
  },
  {
   "cell_type": "code",
   "execution_count": 3,
   "id": "8ee799d2-0b5b-4609-957f-6b3f2cd451f0",
   "metadata": {},
   "outputs": [
    {
     "name": "stdout",
     "output_type": "stream",
     "text": [
      "WorkGraph node created, PK: 51472\n",
      "dos: \n",
      " {'header': array('#  E (eV)   dos(E)     Int dos(E) EFermi =    6.674 eV\\n',\n",
      "      dtype='<U55'), 'dos_energy': array([-6.133, -6.123, -6.113, ..., 16.737, 16.747, 16.757]), 'dos_energy_units': array('eV', dtype='<U2'), 'dos': array([ 2.578e-07,  4.348e-07,  7.253e-07, ..., -5.186e-03, -3.975e-03,\n",
      "       -3.007e-03]), 'dos_units': array('states/eV', dtype='<U9'), 'integrated_dos': array([2.578e-09, 6.926e-09, 1.418e-08, ..., 1.600e+01, 1.600e+01,\n",
      "       1.600e+01]), 'integrated_dos_units': array('states', dtype='<U6')}\n",
      "pdos: \n",
      " None\n"
     ]
    }
   ],
   "source": [
    "from ase.build import bulk\n",
    "from aiida import load_profile\n",
    "from copy import deepcopy\n",
    "\n",
    "from workgraph_collections.ase.espresso.pdos import pdos_workgraph\n",
    "\n",
    "load_profile()\n",
    "\n",
    "atoms = bulk('Si')\n",
    "\n",
    "\n",
    "metadata = {\n",
    "    \"options\": {\n",
    "        'prepend_text' : \"\"\"eval \"$(conda shell.posix hook)\"\n",
    "        conda activate aiida\n",
    "        export OMP_NUM_THREADS=1\n",
    "        \"\"\",\n",
    "    }\n",
    "}\n",
    "pseudopotentials = {\"Si\": \"Si.pbe-nl-rrkjus_psl.1.0.0.UPF\"}\n",
    "pseudo_dir = \"/home/xing/data/ase/espresso_pseudo\"\n",
    "# pseudo_dir = \"/home/wang_x3/datas/pseudos/psl\"\n",
    "scf_input_data = {\n",
    "    \"control\": {\"calculation\": \"scf\",\n",
    "                },\n",
    "    \"system\": {\"ecutwfc\": 30, \"ecutrho\": 240,\n",
    "               \"occupations\": \"smearing\",\n",
    "                \"degauss\": 0.01,\n",
    "                \"smearing\": \"cold\"\n",
    "                },\n",
    "}\n",
    "nscf_input_data = deepcopy(scf_input_data)\n",
    "nscf_input_data[\"control\"].update({\"calculation\": \"nscf\",\n",
    "                                   })\n",
    "inputs = {\n",
    "    \"scf\": {\n",
    "        \"input_data\": scf_input_data,\n",
    "        \"kpts\": (4, 4, 4),\n",
    "        \"computer\": \"localhost\",\n",
    "        \"metadata\": metadata\n",
    "    },\n",
    "    \"nscf\": {\n",
    "        \"input_data\": nscf_input_data,\n",
    "        \"kpts\": (6, 6, 6),\n",
    "        \"computer\": \"localhost\",\n",
    "        \"metadata\": metadata\n",
    "    },\n",
    "    \"dos\": {\n",
    "        \"input_data\": {},\n",
    "        \"computer\": \"localhost\",\n",
    "        \"metadata\": metadata\n",
    "    }\n",
    "}\n",
    "#------------------------- Set the inputs -------------------------\n",
    "wg = pdos_workgraph(atoms=atoms,\n",
    "                    pw_command=\"mpirun -np 1 pw.x\",\n",
    "                    dos_command=\"mpirun -np 1 dos.x\",\n",
    "                    projwfc_command=\"mpirun -np 1 projwfc.x\",\n",
    "                    pseudopotentials=pseudopotentials,\n",
    "                    pseudo_dir=pseudo_dir,\n",
    "                    inputs=inputs)\n",
    "#------------------------- Submit the calculation -------------------\n",
    "# wg.run()\n",
    "wg.submit(wait=True, timeout=200)\n",
    "#------------------------- Print the output -------------------------\n",
    "print('dos: \\n {}'.format(wg.nodes['dos'].outputs[\"result\"].value.value))\n",
    "print('pdos: \\n {}'.format(wg.nodes['projwfc'].outputs[\"result\"].value.value))\n",
    "\n"
   ]
  },
  {
   "cell_type": "code",
   "execution_count": 4,
   "id": "f7f969ba",
   "metadata": {},
   "outputs": [
    {
     "name": "stdout",
     "output_type": "stream",
     "text": [
      "pdos: \n",
      " None\n"
     ]
    }
   ],
   "source": [
    "print('pdos: \\n {}'.format(wg.nodes['projwfc'].outputs[\"result\"].value.value))\n"
   ]
  },
  {
   "cell_type": "code",
   "execution_count": null,
   "id": "afe2b91d",
   "metadata": {},
   "outputs": [],
   "source": []
  }
 ],
 "metadata": {
  "kernelspec": {
   "display_name": "Python 3 (ipykernel)",
   "language": "python",
   "name": "python3"
  },
  "language_info": {
   "codemirror_mode": {
    "name": "ipython",
    "version": 3
   },
   "file_extension": ".py",
   "mimetype": "text/x-python",
   "name": "python",
   "nbconvert_exporter": "python",
   "pygments_lexer": "ipython3",
   "version": "3.11.0"
  },
  "vscode": {
   "interpreter": {
    "hash": "2f450c1ff08798c4974437dd057310afef0de414c25d1fd960ad375311c3f6ff"
   }
  }
 },
 "nbformat": 4,
 "nbformat_minor": 5
}
