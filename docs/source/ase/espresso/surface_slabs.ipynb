{
 "cells": [
  {
   "cell_type": "markdown",
   "id": "22d177dc-6cfb-4de2-9509-f1eb45e10cf2",
   "metadata": {},
   "source": [
    "# Surface slabs\n",
    "\n",
    "Generating surface slabs and related structures is a common task in computational materials science.\n",
    "\n",
    "## Visualizing the WorkGraph Builder\n"
   ]
  },
  {
   "cell_type": "code",
   "execution_count": 1,
   "id": "1a8ebc0d",
   "metadata": {},
   "outputs": [
    {
     "data": {
      "application/vnd.jupyter.widget-view+json": {
       "model_id": "15544c8bb791440d96b5720a0d25b67a",
       "version_major": 2,
       "version_minor": 1
      },
      "text/plain": [
       "NodeGraphWidget(settings={'minmap': False}, style={'width': '80%', 'height': '600px'}, value={'name': 'slabs_w…"
      ]
     },
     "execution_count": 1,
     "metadata": {},
     "output_type": "execute_result"
    }
   ],
   "source": [
    "from workgraph_collections.ase.espresso.slabs import slabs_workgraph\n",
    "\n",
    "task = slabs_workgraph.task()\n",
    "task.to_html()\n",
    "#\n",
    "# task"
   ]
  },
  {
   "cell_type": "markdown",
   "id": "9e6360d8",
   "metadata": {},
   "source": [
    "## Visualizing the WorkGraph"
   ]
  },
  {
   "cell_type": "code",
   "execution_count": 1,
   "id": "01bedd69",
   "metadata": {},
   "outputs": [
    {
     "data": {
      "text/html": [
       "\n",
       "        <iframe\n",
       "            width=\"100%\"\n",
       "            height=\"600px\"\n",
       "            src=\"html/slabs.html\"\n",
       "            frameborder=\"0\"\n",
       "            allowfullscreen\n",
       "            \n",
       "        ></iframe>\n",
       "        "
      ],
      "text/plain": [
       "<IPython.lib.display.IFrame at 0x7670a1bffd50>"
      ]
     },
     "execution_count": 1,
     "metadata": {},
     "output_type": "execute_result"
    }
   ],
   "source": [
    "from workgraph_collections.ase.espresso.slabs import slabs_workgraph\n",
    "\n",
    "wg = slabs_workgraph()\n",
    "wg.to_html()\n",
    "# wg"
   ]
  },
  {
   "cell_type": "markdown",
   "id": "efa095d0",
   "metadata": {},
   "source": [
    "## Example: Al (111) and Al (100) surfaces\n",
    "\n",
    "### Prepare the inputs and submit the workflow\n"
   ]
  },
  {
   "cell_type": "code",
   "execution_count": 2,
   "id": "8ee799d2-0b5b-4609-957f-6b3f2cd451f0",
   "metadata": {},
   "outputs": [
    {
     "name": "stdout",
     "output_type": "stream",
     "text": [
      "WorkGraph process created, PK: 154917\n"
     ]
    },
    {
     "data": {
      "text/plain": [
       "<WorkChainNode: uuid: 400b690c-40b7-4c00-8aa7-21ec90033533 (pk: 154917) (aiida.workflows:workgraph.engine)>"
      ]
     },
     "execution_count": 2,
     "metadata": {},
     "output_type": "execute_result"
    }
   ],
   "source": [
    "from workgraph_collections.ase.espresso.slabs import slabs_workgraph\n",
    "from ase.build import bulk\n",
    "from aiida import load_profile\n",
    "\n",
    "load_profile()\n",
    "\n",
    "# create input structure\n",
    "atoms = bulk(\"Al\")\n",
    "# atoms = bulk(\"Si\")\n",
    "\n",
    "metadata = {\n",
    "    \"options\": {\n",
    "        'prepend_text' : \"\"\"eval \"$(conda shell.posix hook)\"\n",
    "        conda activate aiida\n",
    "        export OMP_NUM_THREADS=1\n",
    "        \"\"\",\n",
    "    }\n",
    "}\n",
    "pseudopotentials = {\"Al\": \"Al.pbe-n-kjpaw_psl.1.0.0.UPF\"}\n",
    "# pseudopotentials = {\"Si\": \"Si.pbe-nl-rrkjus_psl.1.0.0.UPF\"}\n",
    "pseudo_dir = \"/home/xing/data/ase/espresso_pseudo\"\n",
    "# pseudo_dir = \"/home/wang_x3/datas/pseudos/psl\"\n",
    "input_data = {\n",
    "    \"CONTROL\": {\"calculation\": \"scf\"},\n",
    "    \"SYSTEM\": {\"ecutwfc\": 30, \"ecutrho\": 240,\n",
    "               \"occupations\": \"smearing\",\n",
    "                \"degauss\": 0.01,\n",
    "                \"smearing\": \"cold\",},\n",
    "}\n",
    "#------------------------- Set the inputs -------------------------\n",
    "wg = slabs_workgraph(atoms=atoms,\n",
    "                   computer=\"localhost\",\n",
    "                   miller_indices=[[1, 1, 1], [1, 0, 0]],\n",
    "                   command=\"mpirun -np 4 pw.x\",\n",
    "                   pseudopotentials=pseudopotentials,\n",
    "                   pseudo_dir=pseudo_dir,\n",
    "                   input_data=input_data,\n",
    "                   kspacing=0.1,\n",
    "                   metadata=metadata)\n",
    "#------------------------- Submit the calculation -------------------\n",
    "# wg.run()\n",
    "wg.submit(wait=True, timeout=300)\n",
    "\n"
   ]
  },
  {
   "cell_type": "markdown",
   "id": "cadb07af",
   "metadata": {},
   "source": [
    "## Relaxed slabs"
   ]
  },
  {
   "cell_type": "code",
   "execution_count": 25,
   "id": "88c6379d",
   "metadata": {},
   "outputs": [
    {
     "name": "stdout",
     "output_type": "stream",
     "text": [
      "Surface   Energy\n",
      "111 -1611.6069376127\n",
      "100 -1611.6069350276\n",
      "Surfae   Atoms\n",
      "111 Atoms(symbols='Al3', pbc=True, cell=[[2.8038215989776, -5.1940668363646e-18, 0.0], [1.4019107994888, 2.4281807323942, 0.0], [0.0, 0.0, 14.6373064841]])\n",
      "100 Atoms(symbols='Al3', pbc=True, cell=[[2.8038334564601, 3.4727431156223e-18, 0.0], [1.4019167282301, 2.4281910012753, 0.0], [0.0, 0.0, 14.637152415272]])\n"
     ]
    }
   ],
   "source": [
    "print(\"Surface   Energy\")\n",
    "for key, parameter in wg.tasks[\"relax_slabs\"].outputs.parameters.value.items():\n",
    "    print(key, parameter.value[\"energy\"])\n",
    "\n",
    "print(\"Surfae   Atoms\")\n",
    "for key, slab in wg.tasks[\"relax_slabs\"].outputs.structures.value.items():\n",
    "    print(key, slab.value)\n",
    "\n"
   ]
  }
 ],
 "metadata": {
  "kernelspec": {
   "display_name": "aiida",
   "language": "python",
   "name": "python3"
  },
  "language_info": {
   "codemirror_mode": {
    "name": "ipython",
    "version": 3
   },
   "file_extension": ".py",
   "mimetype": "text/x-python",
   "name": "python",
   "nbconvert_exporter": "python",
   "pygments_lexer": "ipython3",
   "version": "3.11.0"
  }
 },
 "nbformat": 4,
 "nbformat_minor": 5
}
