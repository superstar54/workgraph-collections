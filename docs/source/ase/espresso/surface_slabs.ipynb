{
 "cells": [
  {
   "cell_type": "markdown",
   "id": "22d177dc-6cfb-4de2-9509-f1eb45e10cf2",
   "metadata": {},
   "source": [
    "# Surface slabs\n",
    "\n",
    "Generating surface slabs and related structures is a common task in computational materials science.\n",
    "\n",
    "## Visualizing the WorkGraph Builder\n"
   ]
  },
  {
   "cell_type": "code",
   "execution_count": null,
   "id": "1a8ebc0d",
   "metadata": {},
   "outputs": [],
   "source": [
    "from workgraph_collections.ase.espresso.slabs import slabs_workgraph\n",
    "\n",
    "task = slabs_workgraph.task()\n",
    "task.to_html()\n",
    "#\n",
    "# task"
   ]
  },
  {
   "cell_type": "markdown",
   "id": "9e6360d8",
   "metadata": {},
   "source": [
    "## Visualizing the WorkGraph"
   ]
  },
  {
   "cell_type": "code",
   "execution_count": null,
   "id": "01bedd69",
   "metadata": {},
   "outputs": [],
   "source": [
    "from workgraph_collections.ase.espresso.slabs import slabs_workgraph\n",
    "\n",
    "wg = slabs_workgraph()\n",
    "wg.to_html()\n",
    "# wg"
   ]
  },
  {
   "cell_type": "markdown",
   "id": "efa095d0",
   "metadata": {},
   "source": [
    "## Example: Al (111) and Al (100) surfaces\n",
    "\n",
    "### Prepare the inputs and submit the workflow\n"
   ]
  },
  {
   "cell_type": "code",
   "execution_count": 1,
   "id": "8ee799d2-0b5b-4609-957f-6b3f2cd451f0",
   "metadata": {},
   "outputs": [
    {
     "name": "stdout",
     "output_type": "stream",
     "text": [
      "WorkGraph process created, PK: 156499\n"
     ]
    },
    {
     "data": {
      "text/plain": [
       "<WorkChainNode: uuid: 52e39e02-c48b-4a25-b5fd-6179ffb70d98 (pk: 156499) (aiida.workflows:workgraph.engine)>"
      ]
     },
     "execution_count": 1,
     "metadata": {},
     "output_type": "execute_result"
    }
   ],
   "source": [
    "from workgraph_collections.ase.espresso.slabs import slabs_workgraph\n",
    "from ase.build import bulk\n",
    "from aiida import load_profile\n",
    "\n",
    "load_profile()\n",
    "\n",
    "# create input structure\n",
    "atoms = bulk(\"Al\", cubic=True)\n",
    "# atoms = bulk(\"Si\")\n",
    "\n",
    "metadata = {\n",
    "    \"options\": {\n",
    "        'prepend_text' : \"\"\"eval \"$(conda shell.posix hook)\"\n",
    "        conda activate aiida\n",
    "        export OMP_NUM_THREADS=1\n",
    "        \"\"\",\n",
    "    }\n",
    "}\n",
    "pseudopotentials = {\"Al\": \"Al.pbe-n-kjpaw_psl.1.0.0.UPF\"}\n",
    "# pseudopotentials = {\"Si\": \"Si.pbe-nl-rrkjus_psl.1.0.0.UPF\"}\n",
    "pseudo_dir = \"/home/xing/data/ase/espresso_pseudo\"\n",
    "# pseudo_dir = \"/home/wang_x3/datas/pseudos/psl\"\n",
    "input_data = {\n",
    "    \"CONTROL\": {\"calculation\": \"scf\"},\n",
    "    \"SYSTEM\": {\"ecutwfc\": 30, \"ecutrho\": 240,\n",
    "               \"occupations\": \"smearing\",\n",
    "                \"degauss\": 0.01,\n",
    "                \"smearing\": \"cold\",},\n",
    "}\n",
    "#------------------------- Set the inputs -------------------------\n",
    "wg = slabs_workgraph(atoms=atoms,\n",
    "                   computer=\"localhost\",\n",
    "                   miller_indices=[[1, 1, 1], [1, 0, 0]],\n",
    "                   command=\"mpirun -np 4 pw.x\",\n",
    "                   pseudopotentials=pseudopotentials,\n",
    "                   pseudo_dir=pseudo_dir,\n",
    "                   input_data=input_data,\n",
    "                   kspacing=0.10,\n",
    "                   metadata=metadata,\n",
    "                   calc_surface_energy=True,\n",
    "                   )\n",
    "#------------------------- Submit the calculation -------------------\n",
    "# wg.run()\n",
    "wg.submit(wait=True, timeout=300)\n",
    "\n"
   ]
  },
  {
   "cell_type": "markdown",
   "id": "cadb07af",
   "metadata": {},
   "source": [
    "## Relaxed slabs"
   ]
  },
  {
   "cell_type": "code",
   "execution_count": 3,
   "id": "88c6379d",
   "metadata": {},
   "outputs": [
    {
     "name": "stdout",
     "output_type": "stream",
     "text": [
      "Surface   Energy\n",
      "slab100 1.4816161652404\n",
      "slab111 1.4816131295258\n",
      "Surfae   Atoms\n",
      "slab100 Atoms(symbols='Al3', pbc=True, cell=[[2.8794445061349, 0.0, 0.0], [1.4397222530675, 2.4936720911004, 0.0], [0.0, 0.0, 14.702113144751]])\n",
      "slab111 Atoms(symbols='Al3', pbc=True, cell=[[2.8794445061349, 0.0, 0.0], [1.4397222530675, 2.4936720911004, 0.0], [0.0, 0.0, 14.702113144751]])\n"
     ]
    }
   ],
   "source": [
    "print(\"Surface   Energy\")\n",
    "for key, E in wg.tasks[\"get_surface_energy\"].outputs.result.value.items():\n",
    "    print(key, E)\n",
    "\n",
    "print(\"Surfae   Atoms\")\n",
    "for key, slab in wg.tasks[\"relax_slabs\"].outputs.structures.value.items():\n",
    "    print(key, slab.value)\n",
    "\n"
   ]
  }
 ],
 "metadata": {
  "kernelspec": {
   "display_name": "aiida",
   "language": "python",
   "name": "python3"
  },
  "language_info": {
   "codemirror_mode": {
    "name": "ipython",
    "version": 3
   },
   "file_extension": ".py",
   "mimetype": "text/x-python",
   "name": "python",
   "nbconvert_exporter": "python",
   "pygments_lexer": "ipython3",
   "version": "3.11.0"
  }
 },
 "nbformat": 4,
 "nbformat_minor": 5
}
