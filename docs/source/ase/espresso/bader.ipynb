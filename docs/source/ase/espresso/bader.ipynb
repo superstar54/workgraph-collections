{
 "cells": [
  {
   "cell_type": "markdown",
   "id": "22d177dc-6cfb-4de2-9509-f1eb45e10cf2",
   "metadata": {},
   "source": [
    "# Bader charge analysis\n",
    "\n",
    "For the source code, see [bader](https://workgraph-collections.readthedocs.io/en/latest/ase/espresso/module.html#workgraph_collections.ase.espresso.bader.bader_workgraph).\n",
    "\n",
    "\n"
   ]
  },
  {
   "cell_type": "markdown",
   "id": "efa095d0",
   "metadata": {},
   "source": [
    "## Example: H2O\n",
    "\n",
    "### Prepare the inputs and visualize the WorkGraph\n"
   ]
  },
  {
   "cell_type": "code",
   "execution_count": 1,
   "id": "8ee799d2-0b5b-4609-957f-6b3f2cd451f0",
   "metadata": {},
   "outputs": [
    {
     "data": {
      "text/html": [
       "\n",
       "        <iframe\n",
       "            width=\"100%\"\n",
       "            height=\"600px\"\n",
       "            src=\"html/BaderWorkgraph.html\"\n",
       "            frameborder=\"0\"\n",
       "            allowfullscreen\n",
       "            \n",
       "        ></iframe>\n",
       "        "
      ],
      "text/plain": [
       "<IPython.lib.display.IFrame at 0x77df53f47cd0>"
      ]
     },
     "execution_count": 1,
     "metadata": {},
     "output_type": "execute_result"
    }
   ],
   "source": [
    "from ase.build import molecule\n",
    "from aiida import load_profile\n",
    "\n",
    "from workgraph_collections.ase.espresso.bader import BaderWorkgraph\n",
    "\n",
    "load_profile()\n",
    "\n",
    "atoms = molecule('H2O', vacuum=3.0)\n",
    "atoms.pbc = True\n",
    "\n",
    "\n",
    "metadata = {\n",
    "    \"options\": {\n",
    "        'prepend_text' : \"\"\"eval \"$(conda shell.posix hook)\"\n",
    "        conda activate aiida\n",
    "        export OMP_NUM_THREADS=1\n",
    "        \"\"\",\n",
    "    }\n",
    "}\n",
    "pseudopotentials = {\"H\": \"H.pbe-kjpaw_psl.1.0.0.UPF\", \n",
    "                    \"O\": \"O.pbe-n-kjpaw_psl.1.0.0.UPF\"}\n",
    "pseudo_dir = \"/home/xing/data/ase/espresso_pseudo/kjpaw\"\n",
    "# pseudo_dir = \"/home/wang_x3/datas/pseudos/psl\"\n",
    "scf_input_data = {\n",
    "    \"control\": {\"calculation\": \"scf\",\n",
    "                },\n",
    "    \"system\": {\"ecutwfc\": 30, \"ecutrho\": 240,\n",
    "               \"occupations\": \"smearing\",\n",
    "                \"degauss\": 0.01,\n",
    "                \"smearing\": \"cold\"\n",
    "                },\n",
    "}\n",
    "\n",
    "inputs = {\n",
    "    \"scf\": {\n",
    "        \"input_data\": scf_input_data,\n",
    "        \"kpts\": [1, 1, 1],\n",
    "        \"metadata\": metadata\n",
    "    },\n",
    "    \"pp_valence\": {\n",
    "        \"metadata\": metadata\n",
    "    },\n",
    "    \"pp_all\": {\n",
    "        \"metadata\": metadata\n",
    "    },\n",
    "    \"bader\": {\n",
    "        \"metadata\": metadata\n",
    "    }\n",
    "}\n",
    "#------------------------- Set the inputs -------------------------\n",
    "wg = BaderWorkgraph.build(atoms=atoms,\n",
    "                    pw_command=\"mpirun -np 1 pw.x\",\n",
    "                    pp_command=\"mpirun -np 1 pp.x\",\n",
    "                    bader_command=\"bader\",\n",
    "                    computer=\"localhost\",\n",
    "                    pseudopotentials=pseudopotentials,\n",
    "                    pseudo_dir=pseudo_dir,\n",
    "                    inputs=inputs)\n",
    "wg.to_html()"
   ]
  },
  {
   "cell_type": "markdown",
   "id": "9deaa83d",
   "metadata": {},
   "source": [
    "### Run the WorkGraph\n",
    "\n"
   ]
  },
  {
   "cell_type": "code",
   "execution_count": 2,
   "id": "26768641",
   "metadata": {},
   "outputs": [
    {
     "name": "stderr",
     "output_type": "stream",
     "text": [
      "09/09/2025 12:37:12 PM <2572991> aiida.orm.nodes.process.workflow.workchain.WorkChainNode: [REPORT] [183922|WorkGraphEngine|continue_workgraph]: tasks ready to run: pw_calculator\n",
      "REPORT:aiida.orm.nodes.process.workflow.workchain.WorkChainNode:[183922|WorkGraphEngine|continue_workgraph]: tasks ready to run: pw_calculator\n",
      "09/09/2025 12:37:12 PM <2572991> aiida.orm.nodes.process.workflow.workchain.WorkChainNode: [REPORT] [183922|WorkGraphEngine|on_wait]: Process status: Waiting for child processes: 183924\n",
      "REPORT:aiida.orm.nodes.process.workflow.workchain.WorkChainNode:[183922|WorkGraphEngine|on_wait]: Process status: Waiting for child processes: 183924\n",
      "09/09/2025 12:37:26 PM <2572991> aiida.orm.nodes.process.workflow.workchain.WorkChainNode: [REPORT] [183922|WorkGraphEngine|update_task_state]: Task: pw_calculator, type: PYTHONJOB, finished.\n",
      "REPORT:aiida.orm.nodes.process.workflow.workchain.WorkChainNode:[183922|WorkGraphEngine|update_task_state]: Task: pw_calculator, type: PYTHONJOB, finished.\n",
      "09/09/2025 12:37:27 PM <2572991> aiida.orm.nodes.process.workflow.workchain.WorkChainNode: [REPORT] [183922|WorkGraphEngine|continue_workgraph]: tasks ready to run: pp_calculator,pp_calculator1\n",
      "REPORT:aiida.orm.nodes.process.workflow.workchain.WorkChainNode:[183922|WorkGraphEngine|continue_workgraph]: tasks ready to run: pp_calculator,pp_calculator1\n",
      "09/09/2025 12:37:28 PM <2572991> aiida.orm.nodes.process.workflow.workchain.WorkChainNode: [REPORT] [183922|WorkGraphEngine|on_wait]: Process status: Waiting for child processes: 183938, 183942\n",
      "REPORT:aiida.orm.nodes.process.workflow.workchain.WorkChainNode:[183922|WorkGraphEngine|on_wait]: Process status: Waiting for child processes: 183938, 183942\n",
      "09/09/2025 12:37:37 PM <2572991> aiida.orm.nodes.process.workflow.workchain.WorkChainNode: [REPORT] [183922|WorkGraphEngine|update_task_state]: Task: pp_calculator, type: PYTHONJOB, finished.\n",
      "REPORT:aiida.orm.nodes.process.workflow.workchain.WorkChainNode:[183922|WorkGraphEngine|update_task_state]: Task: pp_calculator, type: PYTHONJOB, finished.\n",
      "09/09/2025 12:37:37 PM <2572991> aiida.orm.nodes.process.workflow.workchain.WorkChainNode: [REPORT] [183922|WorkGraphEngine|update_task_state]: Task: pp_calculator1, type: PYTHONJOB, finished.\n",
      "REPORT:aiida.orm.nodes.process.workflow.workchain.WorkChainNode:[183922|WorkGraphEngine|update_task_state]: Task: pp_calculator1, type: PYTHONJOB, finished.\n",
      "09/09/2025 12:37:38 PM <2572991> aiida.orm.nodes.process.workflow.workchain.WorkChainNode: [REPORT] [183922|WorkGraphEngine|continue_workgraph]: tasks ready to run: bader_calculator\n",
      "REPORT:aiida.orm.nodes.process.workflow.workchain.WorkChainNode:[183922|WorkGraphEngine|continue_workgraph]: tasks ready to run: bader_calculator\n",
      "09/09/2025 12:37:39 PM <2572991> aiida.orm.nodes.process.workflow.workchain.WorkChainNode: [REPORT] [183922|WorkGraphEngine|on_wait]: Process status: Waiting for child processes: 183952\n",
      "REPORT:aiida.orm.nodes.process.workflow.workchain.WorkChainNode:[183922|WorkGraphEngine|on_wait]: Process status: Waiting for child processes: 183952\n",
      "09/09/2025 12:37:44 PM <2572991> aiida.orm.nodes.process.workflow.workchain.WorkChainNode: [REPORT] [183922|WorkGraphEngine|update_task_state]: Task: bader_calculator, type: PYTHONJOB, finished.\n",
      "REPORT:aiida.orm.nodes.process.workflow.workchain.WorkChainNode:[183922|WorkGraphEngine|update_task_state]: Task: bader_calculator, type: PYTHONJOB, finished.\n",
      "09/09/2025 12:37:45 PM <2572991> aiida.orm.nodes.process.workflow.workchain.WorkChainNode: [REPORT] [183922|WorkGraphEngine|continue_workgraph]: tasks ready to run: \n",
      "REPORT:aiida.orm.nodes.process.workflow.workchain.WorkChainNode:[183922|WorkGraphEngine|continue_workgraph]: tasks ready to run: \n",
      "09/09/2025 12:37:45 PM <2572991> aiida.orm.nodes.process.workflow.workchain.WorkChainNode: [REPORT] [183922|WorkGraphEngine|finalize]: Finalize workgraph.\n",
      "REPORT:aiida.orm.nodes.process.workflow.workchain.WorkChainNode:[183922|WorkGraphEngine|finalize]: Finalize workgraph.\n"
     ]
    }
   ],
   "source": [
    "#------------------------- Submit the calculation -------------------\n",
    "wg.run()\n"
   ]
  },
  {
   "cell_type": "code",
   "execution_count": 4,
   "id": "9d20300e",
   "metadata": {},
   "outputs": [
    {
     "name": "stdout",
     "output_type": "stream",
     "text": [
      "Bader charges:\n",
      "Index    Symbol    Charge\n",
      "    0    O        7.148\n",
      "    1    H        0.426\n",
      "    2    H        0.426\n"
     ]
    }
   ],
   "source": [
    "#------------------------- Print the output -------------------------\n",
    "charges = wg.outputs.result.value.get_list()\n",
    "print(\"Bader charges:\")\n",
    "print(\"Index    Symbol    Charge\")\n",
    "for i, charge in enumerate(charges):\n",
    "    print(f\"{i:5d}    {atoms.get_chemical_symbols()[i]:5s}    {charge:5.3f}\")\n"
   ]
  }
 ],
 "metadata": {
  "kernelspec": {
   "display_name": "aiida",
   "language": "python",
   "name": "python3"
  },
  "language_info": {
   "codemirror_mode": {
    "name": "ipython",
    "version": 3
   },
   "file_extension": ".py",
   "mimetype": "text/x-python",
   "name": "python",
   "nbconvert_exporter": "python",
   "pygments_lexer": "ipython3",
   "version": "3.11.0"
  }
 },
 "nbformat": 4,
 "nbformat_minor": 5
}
