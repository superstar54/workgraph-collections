{
 "cells": [
  {
   "cell_type": "markdown",
   "id": "22d177dc-6cfb-4de2-9509-f1eb45e10cf2",
   "metadata": {},
   "source": [
    "# Bader charge analysis\n",
    "\n",
    "## Visualizing the WorkGraph Builder\n",
    "\n"
   ]
  },
  {
   "cell_type": "code",
   "execution_count": 1,
   "id": "1a8ebc0d",
   "metadata": {},
   "outputs": [
    {
     "data": {
      "text/html": [
       "\n",
       "        <iframe\n",
       "            width=\"100%\"\n",
       "            height=\"600px\"\n",
       "            src=\"html/bader_workgraph0.html\"\n",
       "            frameborder=\"0\"\n",
       "            allowfullscreen\n",
       "            \n",
       "        ></iframe>\n",
       "        "
      ],
      "text/plain": [
       "<IPython.lib.display.IFrame at 0x7e1c7b14ac90>"
      ]
     },
     "execution_count": 1,
     "metadata": {},
     "output_type": "execute_result"
    }
   ],
   "source": [
    "from workgraph_collections.ase.espresso.bader import bader_workgraph\n",
    "from aiida import load_profile\n",
    "load_profile()\n",
    "\n",
    "node = bader_workgraph.node()\n",
    "node.to_html()"
   ]
  },
  {
   "cell_type": "markdown",
   "id": "9e6360d8",
   "metadata": {},
   "source": [
    "## Visualizing the WorkGraph"
   ]
  },
  {
   "cell_type": "code",
   "execution_count": 2,
   "id": "01bedd69",
   "metadata": {},
   "outputs": [
    {
     "data": {
      "text/html": [
       "\n",
       "        <iframe\n",
       "            width=\"100%\"\n",
       "            height=\"600px\"\n",
       "            src=\"html/Bader.html\"\n",
       "            frameborder=\"0\"\n",
       "            allowfullscreen\n",
       "            \n",
       "        ></iframe>\n",
       "        "
      ],
      "text/plain": [
       "<IPython.lib.display.IFrame at 0x7e1c7b1e5250>"
      ]
     },
     "execution_count": 2,
     "metadata": {},
     "output_type": "execute_result"
    }
   ],
   "source": [
    "from workgraph_collections.ase.espresso.bader import bader_workgraph\n",
    "\n",
    "wg = bader_workgraph()\n",
    "wg.to_html()"
   ]
  },
  {
   "cell_type": "markdown",
   "id": "efa095d0",
   "metadata": {},
   "source": [
    "## Example: Silicon\n",
    "\n",
    "### Prepare the inputs and submit the workflow\n"
   ]
  },
  {
   "cell_type": "code",
   "execution_count": 5,
   "id": "8ee799d2-0b5b-4609-957f-6b3f2cd451f0",
   "metadata": {},
   "outputs": [
    {
     "name": "stdout",
     "output_type": "stream",
     "text": [
      "WorkGraph node created, PK: 53900\n",
      "Bader charges:\n",
      "Index    Symbol    Charge\n",
      "    0    O        7.148\n",
      "    1    H        0.426\n",
      "    2    H        0.426\n"
     ]
    }
   ],
   "source": [
    "from ase.build import molecule\n",
    "from aiida import load_profile\n",
    "\n",
    "from workgraph_collections.ase.espresso.bader import bader_workgraph\n",
    "\n",
    "load_profile()\n",
    "\n",
    "atoms = molecule('H2O', vacuum=3.0)\n",
    "atoms.pbc = True\n",
    "\n",
    "\n",
    "metadata = {\n",
    "    \"options\": {\n",
    "        'prepend_text' : \"\"\"eval \"$(conda shell.posix hook)\"\n",
    "        conda activate aiida\n",
    "        export OMP_NUM_THREADS=1\n",
    "        \"\"\",\n",
    "    }\n",
    "}\n",
    "pseudopotentials = {\"H\": \"H.pbe-kjpaw_psl.1.0.0.UPF\", \n",
    "                    \"O\": \"O.pbe-n-kjpaw_psl.1.0.0.UPF\"}\n",
    "pseudo_dir = \"/home/xing/data/ase/espresso_pseudo/kjpaw\"\n",
    "# pseudo_dir = \"/home/wang_x3/datas/pseudos/psl\"\n",
    "scf_input_data = {\n",
    "    \"control\": {\"calculation\": \"scf\",\n",
    "                },\n",
    "    \"system\": {\"ecutwfc\": 30, \"ecutrho\": 240,\n",
    "               \"occupations\": \"smearing\",\n",
    "                \"degauss\": 0.01,\n",
    "                \"smearing\": \"cold\"\n",
    "                },\n",
    "}\n",
    "\n",
    "inputs = {\n",
    "    \"scf\": {\n",
    "        \"input_data\": scf_input_data,\n",
    "        \"kpts\": (1, 1, 1),\n",
    "        \"metadata\": metadata\n",
    "    },\n",
    "    \"pp_valence\": {\n",
    "        \"metadata\": metadata\n",
    "    },\n",
    "    \"pp_all\": {\n",
    "        \"metadata\": metadata\n",
    "    },\n",
    "    \"bader\": {\n",
    "        \"metadata\": metadata\n",
    "    }\n",
    "}\n",
    "#------------------------- Set the inputs -------------------------\n",
    "wg = bader_workgraph(atoms=atoms,\n",
    "                    pw_command=\"mpirun -np 1 pw.x\",\n",
    "                    pp_command=\"mpirun -np 1 pp.x\",\n",
    "                    bader_command=\"bader\",\n",
    "                    computer=\"localhost\",\n",
    "                    pseudopotentials=pseudopotentials,\n",
    "                    pseudo_dir=pseudo_dir,\n",
    "                    inputs=inputs)\n",
    "#------------------------- Submit the calculation -------------------\n",
    "# wg.run()\n",
    "wg.submit(wait=True, timeout=200)\n",
    "#------------------------- Print the output -------------------------\n",
    "charges = wg.nodes['bader'].outputs[\"result\"].value.value\n",
    "print(\"Bader charges:\")\n",
    "print(\"Index    Symbol    Charge\")\n",
    "for i, charge in enumerate(charges):\n",
    "    print(f\"{i:5d}    {atoms.get_chemical_symbols()[i]:5s}    {charge:5.3f}\")\n"
   ]
  }
 ],
 "metadata": {
  "kernelspec": {
   "display_name": "Python 3 (ipykernel)",
   "language": "python",
   "name": "python3"
  },
  "language_info": {
   "codemirror_mode": {
    "name": "ipython",
    "version": 3
   },
   "file_extension": ".py",
   "mimetype": "text/x-python",
   "name": "python",
   "nbconvert_exporter": "python",
   "pygments_lexer": "ipython3",
   "version": "3.11.0"
  },
  "vscode": {
   "interpreter": {
    "hash": "2f450c1ff08798c4974437dd057310afef0de414c25d1fd960ad375311c3f6ff"
   }
  }
 },
 "nbformat": 4,
 "nbformat_minor": 5
}
