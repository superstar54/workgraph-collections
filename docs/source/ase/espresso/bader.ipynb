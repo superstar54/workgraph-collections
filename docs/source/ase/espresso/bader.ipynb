{
 "cells": [
  {
   "cell_type": "markdown",
   "id": "22d177dc-6cfb-4de2-9509-f1eb45e10cf2",
   "metadata": {},
   "source": [
    "# Bader charge analysis\n",
    "\n",
    "## Visualizing the WorkGraph Builder\n",
    "\n"
   ]
  },
  {
   "cell_type": "code",
   "execution_count": 1,
   "id": "1a8ebc0d",
   "metadata": {},
   "outputs": [
    {
     "data": {
      "text/html": [
       "\n",
       "        <iframe\n",
       "            width=\"100%\"\n",
       "            height=\"600px\"\n",
       "            src=\"html/bader_workgraph0.html\"\n",
       "            frameborder=\"0\"\n",
       "            allowfullscreen\n",
       "            \n",
       "        ></iframe>\n",
       "        "
      ],
      "text/plain": [
       "<IPython.lib.display.IFrame at 0x708237c99050>"
      ]
     },
     "execution_count": 1,
     "metadata": {},
     "output_type": "execute_result"
    }
   ],
   "source": [
    "from workgraph_collections.ase.espresso.bader import bader_workgraph\n",
    "from aiida import load_profile\n",
    "load_profile()\n",
    "\n",
    "node = bader_workgraph.node()\n",
    "node.to_html()"
   ]
  },
  {
   "cell_type": "markdown",
   "id": "9e6360d8",
   "metadata": {},
   "source": [
    "## Visualizing the WorkGraph"
   ]
  },
  {
   "cell_type": "code",
   "execution_count": 2,
   "id": "01bedd69",
   "metadata": {},
   "outputs": [
    {
     "name": "stderr",
     "output_type": "stream",
     "text": [
      "/home/xing/miniconda3/envs/aiida/lib/python3.11/site-packages/aiida/engine/processes/ports.py:148: UserWarning: default of input port `parent_folder_name` is a `Node` instance, which can lead to unexpected side effects. It is advised to use a lambda instead, e.g.: `default=lambda: orm.Int(5)`.\n",
      "  warnings.warn(UserWarning(message))\n"
     ]
    },
    {
     "data": {
      "text/html": [
       "\n",
       "        <iframe\n",
       "            width=\"100%\"\n",
       "            height=\"600px\"\n",
       "            src=\"html/Bader.html\"\n",
       "            frameborder=\"0\"\n",
       "            allowfullscreen\n",
       "            \n",
       "        ></iframe>\n",
       "        "
      ],
      "text/plain": [
       "<IPython.lib.display.IFrame at 0x708235eada10>"
      ]
     },
     "execution_count": 2,
     "metadata": {},
     "output_type": "execute_result"
    }
   ],
   "source": [
    "from workgraph_collections.ase.espresso.bader import bader_workgraph\n",
    "\n",
    "wg = bader_workgraph()\n",
    "wg.to_html()"
   ]
  },
  {
   "cell_type": "markdown",
   "id": "efa095d0",
   "metadata": {},
   "source": [
    "## Example: Silicon\n",
    "\n",
    "### Prepare the inputs and submit the workflow\n"
   ]
  },
  {
   "cell_type": "code",
   "execution_count": 5,
   "id": "8ee799d2-0b5b-4609-957f-6b3f2cd451f0",
   "metadata": {},
   "outputs": [
    {
     "name": "stdout",
     "output_type": "stream",
     "text": [
      "WorkGraph node created, PK: 53009\n",
      "bader: \n",
      " [7.997613, 0.001169, 0.001216]\n"
     ]
    }
   ],
   "source": [
    "from ase.build import molecule\n",
    "from aiida import load_profile\n",
    "\n",
    "from workgraph_collections.ase.espresso.bader import bader_workgraph\n",
    "\n",
    "load_profile()\n",
    "\n",
    "atoms = molecule('H2O', vacuum=3.0)\n",
    "atoms.pbc = True\n",
    "\n",
    "\n",
    "metadata = {\n",
    "    \"options\": {\n",
    "        'prepend_text' : \"\"\"eval \"$(conda shell.posix hook)\"\n",
    "        conda activate aiida\n",
    "        export OMP_NUM_THREADS=1\n",
    "        \"\"\",\n",
    "    }\n",
    "}\n",
    "pseudopotentials = {\"H\": \"H.pbe-rrkjus_psl.1.0.0.UPF\", \n",
    "                    \"O\": \"O.pbe-n-rrkjus_psl.1.0.0.UPF\"}\n",
    "pseudo_dir = \"/home/xing/data/ase/espresso_pseudo\"\n",
    "# pseudo_dir = \"/home/wang_x3/datas/pseudos/psl\"\n",
    "scf_input_data = {\n",
    "    \"control\": {\"calculation\": \"scf\",\n",
    "                },\n",
    "    \"system\": {\"ecutwfc\": 30, \"ecutrho\": 240,\n",
    "               \"occupations\": \"smearing\",\n",
    "                \"degauss\": 0.01,\n",
    "                \"smearing\": \"cold\"\n",
    "                },\n",
    "}\n",
    "\n",
    "inputs = {\n",
    "    \"scf\": {\n",
    "        \"input_data\": scf_input_data,\n",
    "        \"kpts\": (1, 1, 1),\n",
    "        \"computer\": \"localhost\",\n",
    "        \"metadata\": metadata\n",
    "    },\n",
    "    \"pp_valence\": {\n",
    "        \"input_data\": {\n",
    "                        \"INPUTPP\": {\"plot_num\": 0},\n",
    "                        \"PLOT\": {\"iflag\": 3,\n",
    "                                 \"output_format\": 6,\n",
    "                                 \"fileout\": \"charge_density.cube\",\n",
    "                                 },\n",
    "                    },\n",
    "        \"computer\": \"localhost\",\n",
    "        \"metadata\": metadata\n",
    "    },\n",
    "    \"pp_all\": {\n",
    "        \"input_data\": {\n",
    "                        \"INPUTPP\": {\"plot_num\": 21},\n",
    "                        \"PLOT\": {\"iflag\": 3,\n",
    "                                 \"output_format\": 6,\n",
    "                                 \"fileout\": \"charge_density.cube\",\n",
    "                                 },\n",
    "                    },\n",
    "        \"computer\": \"localhost\",\n",
    "        \"metadata\": metadata\n",
    "    },\n",
    "    \"bader\": {\n",
    "        \"computer\": \"localhost\",\n",
    "        \"metadata\": metadata\n",
    "    }\n",
    "}\n",
    "#------------------------- Set the inputs -------------------------\n",
    "wg = bader_workgraph(atoms=atoms,\n",
    "                    pw_command=\"mpirun -np 1 pw.x\",\n",
    "                    pp_command=\"mpirun -np 1 pp.x\",\n",
    "                    bader_command=\"bader\",\n",
    "                    pseudopotentials=pseudopotentials,\n",
    "                    pseudo_dir=pseudo_dir,\n",
    "                    inputs=inputs)\n",
    "#------------------------- Submit the calculation -------------------\n",
    "# wg.run()\n",
    "wg.submit(wait=True, timeout=200)\n",
    "#------------------------- Print the output -------------------------\n",
    "print('bader: \\n {}'.format(wg.nodes['bader'].outputs[\"result\"].value.value))\n",
    "\n"
   ]
  },
  {
   "cell_type": "code",
   "execution_count": null,
   "id": "afe2b91d",
   "metadata": {},
   "outputs": [],
   "source": []
  }
 ],
 "metadata": {
  "kernelspec": {
   "display_name": "Python 3 (ipykernel)",
   "language": "python",
   "name": "python3"
  },
  "language_info": {
   "codemirror_mode": {
    "name": "ipython",
    "version": 3
   },
   "file_extension": ".py",
   "mimetype": "text/x-python",
   "name": "python",
   "nbconvert_exporter": "python",
   "pygments_lexer": "ipython3",
   "version": "3.11.0"
  },
  "vscode": {
   "interpreter": {
    "hash": "2f450c1ff08798c4974437dd057310afef0de414c25d1fd960ad375311c3f6ff"
   }
  }
 },
 "nbformat": 4,
 "nbformat_minor": 5
}
