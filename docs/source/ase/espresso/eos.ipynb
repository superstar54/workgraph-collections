{
 "cells": [
  {
   "cell_type": "markdown",
   "id": "22d177dc-6cfb-4de2-9509-f1eb45e10cf2",
   "metadata": {},
   "source": [
    "# Equation of state (EOS)\n",
    "\n",
    "For the source code, see [eos](https://workgraph-collections.readthedocs.io/en/latest/ase/espresso/module.html#workgraph_collections.ase.espresso.eos.eos_workgraph).\n",
    "\n",
    "## Visualizing the WorkGraph Builder\n"
   ]
  },
  {
   "cell_type": "code",
   "execution_count": 1,
   "id": "1a8ebc0d",
   "metadata": {},
   "outputs": [
    {
     "data": {
      "text/html": [
       "\n",
       "        <iframe\n",
       "            width=\"100%\"\n",
       "            height=\"600px\"\n",
       "            src=\"html/eos_workgraph0.html\"\n",
       "            frameborder=\"0\"\n",
       "            allowfullscreen\n",
       "            \n",
       "        ></iframe>\n",
       "        "
      ],
      "text/plain": [
       "<IPython.lib.display.IFrame at 0x7f28d17bfa00>"
      ]
     },
     "execution_count": 1,
     "metadata": {},
     "output_type": "execute_result"
    }
   ],
   "source": [
    "from workgraph_collections.ase.espresso.eos import eos_workgraph\n",
    "\n",
    "node = eos_workgraph.node()\n",
    "node.to_html()"
   ]
  },
  {
   "cell_type": "markdown",
   "id": "9e6360d8",
   "metadata": {},
   "source": [
    "## Visualizing the WorkGraph"
   ]
  },
  {
   "cell_type": "code",
   "execution_count": 2,
   "id": "01bedd69",
   "metadata": {},
   "outputs": [
    {
     "data": {
      "text/html": [
       "\n",
       "        <iframe\n",
       "            width=\"100%\"\n",
       "            height=\"600px\"\n",
       "            src=\"html/EOS.html\"\n",
       "            frameborder=\"0\"\n",
       "            allowfullscreen\n",
       "            \n",
       "        ></iframe>\n",
       "        "
      ],
      "text/plain": [
       "<IPython.lib.display.IFrame at 0x7f28e2262b00>"
      ]
     },
     "execution_count": 2,
     "metadata": {},
     "output_type": "execute_result"
    }
   ],
   "source": [
    "from workgraph_collections.ase.espresso.eos import eos_workgraph\n",
    "from aiida import load_profile\n",
    "\n",
    "load_profile()\n",
    "\n",
    "wg = eos_workgraph()\n",
    "wg.to_html()"
   ]
  },
  {
   "cell_type": "markdown",
   "id": "efa095d0",
   "metadata": {},
   "source": [
    "## Example: Silicon\n",
    "\n",
    "### Prepare the inputs and submit the workflow\n"
   ]
  },
  {
   "cell_type": "code",
   "execution_count": 3,
   "id": "8ee799d2-0b5b-4609-957f-6b3f2cd451f0",
   "metadata": {},
   "outputs": [
    {
     "name": "stdout",
     "output_type": "stream",
     "text": [
      "WorkGraph node created, PK: 55877\n",
      "\n",
      "Result: \n",
      "B: 88.541865607602\n",
      "v0: 41.224378448351\n",
      "e0: -277.89647083333\n",
      "v0: 41.224378448351\n"
     ]
    }
   ],
   "source": [
    "from ase.build import bulk\n",
    "from ase import Atoms\n",
    "from aiida import load_profile\n",
    "from workgraph_collections.ase.espresso.eos import eos_workgraph\n",
    "\n",
    "load_profile()\n",
    "\n",
    "# create input structure node\n",
    "atoms = bulk(\"Si\")\n",
    "\n",
    "metadata = {\n",
    "    \"options\": {\n",
    "        'prepend_text' : \"\"\"eval \"$(conda shell.posix hook)\"\n",
    "        conda activate aiida\n",
    "        export OMP_NUM_THREADS=1\n",
    "        \"\"\",\n",
    "    }\n",
    "}\n",
    "pseudopotentials = {\"Si\": \"Si.pbe-nl-rrkjus_psl.1.0.0.UPF\"}\n",
    "pseudo_dir = \"/home/xing/data/ase/espresso_pseudo\"\n",
    "# pseudo_dir = \"/home/wang_x3/datas/pseudos/psl\"\n",
    "input_data = {\n",
    "    \"system\": {\"ecutwfc\": 30, \"ecutrho\": 240,\n",
    "               \"occupations\": \"smearing\",\n",
    "                \"degauss\": 0.01,\n",
    "                \"smearing\": \"cold\",},\n",
    "}\n",
    "#------------------------- Set the inputs -------------------------\n",
    "wg = eos_workgraph(atoms=atoms,\n",
    "                   computer=\"localhost\",\n",
    "                   scales=[0.95, 0.98, 1.0, 1.02, 1.05],\n",
    "                   command=\"mpirun -np 2 pw.x\",\n",
    "                   pseudopotentials=pseudopotentials,\n",
    "                   pseudo_dir=pseudo_dir,\n",
    "                   input_data=input_data,\n",
    "                   kpts=(4, 4, 4),\n",
    "                   metadata=metadata)\n",
    "#------------------------- Submit the calculation -------------------\n",
    "# wg.run()\n",
    "wg.submit(wait=True, timeout=200)\n",
    "#------------------------- Print the output -------------------------\n",
    "print('\\nResult: \\nB: {B}\\nv0: {v0}\\ne0: {e0}\\nv0: {v0}'.format(**wg.nodes[\"fit_eos\"].outputs[\"result\"].value.get_dict()))\n",
    "\n"
   ]
  }
 ],
 "metadata": {
  "kernelspec": {
   "display_name": "Python 3 (ipykernel)",
   "language": "python",
   "name": "python3"
  },
  "language_info": {
   "codemirror_mode": {
    "name": "ipython",
    "version": 3
   },
   "file_extension": ".py",
   "mimetype": "text/x-python",
   "name": "python",
   "nbconvert_exporter": "python",
   "pygments_lexer": "ipython3",
   "version": "3.10.0"
  },
  "vscode": {
   "interpreter": {
    "hash": "2f450c1ff08798c4974437dd057310afef0de414c25d1fd960ad375311c3f6ff"
   }
  }
 },
 "nbformat": 4,
 "nbformat_minor": 5
}
