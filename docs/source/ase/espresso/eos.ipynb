{
 "cells": [
  {
   "cell_type": "markdown",
   "id": "22d177dc-6cfb-4de2-9509-f1eb45e10cf2",
   "metadata": {},
   "source": [
    "# Equation of state (EOS)\n",
    "\n",
    "For the source code, see [eos](https://workgraph-collections.readthedocs.io/en/latest/ase/espresso/module.html#workgraph_collections.ase.espresso.eos.eos_workgraph).\n",
    "\n",
    "## Visualizing the WorkGraph Builder\n"
   ]
  },
  {
   "cell_type": "code",
   "execution_count": 1,
   "id": "1a8ebc0d",
   "metadata": {},
   "outputs": [
    {
     "data": {
      "text/html": [
       "\n",
       "        <iframe\n",
       "            width=\"100%\"\n",
       "            height=\"600px\"\n",
       "            src=\"html/eos_workgraph.html\"\n",
       "            frameborder=\"0\"\n",
       "            allowfullscreen\n",
       "            \n",
       "        ></iframe>\n",
       "        "
      ],
      "text/plain": [
       "<IPython.lib.display.IFrame at 0x7ce89df3aed0>"
      ]
     },
     "execution_count": 1,
     "metadata": {},
     "output_type": "execute_result"
    }
   ],
   "source": [
    "from workgraph_collections.ase.espresso.eos import eos_workgraph\n",
    "\n",
    "task = eos_workgraph._TaskCls()\n",
    "task.to_html()"
   ]
  },
  {
   "cell_type": "markdown",
   "id": "9e6360d8",
   "metadata": {},
   "source": [
    "## Visualizing the WorkGraph"
   ]
  },
  {
   "cell_type": "code",
   "execution_count": 2,
   "id": "01bedd69",
   "metadata": {},
   "outputs": [],
   "source": [
    "from workgraph_collections.ase.espresso.eos import eos_workgraph\n",
    "from aiida import load_profile\n",
    "\n",
    "load_profile()\n",
    "\n",
    "wg = eos_workgraph()\n",
    "# wg.to_html()\n",
    "# wg"
   ]
  },
  {
   "cell_type": "markdown",
   "id": "efa095d0",
   "metadata": {},
   "source": [
    "## Example: Silicon\n",
    "\n",
    "### Prepare the inputs and submit the workflow\n"
   ]
  },
  {
   "cell_type": "code",
   "execution_count": 4,
   "id": "8ee799d2-0b5b-4609-957f-6b3f2cd451f0",
   "metadata": {},
   "outputs": [
    {
     "name": "stderr",
     "output_type": "stream",
     "text": [
      "03/27/2025 09:59:12 PM <1595705> aiida.orm.nodes.process.workflow.workchain.WorkChainNode: [REPORT] [63172|WorkGraphEngine|continue_workgraph]: tasks ready to run: pw_calculator1\n",
      "REPORT:aiida.orm.nodes.process.workflow.workchain.WorkChainNode:[63172|WorkGraphEngine|continue_workgraph]: tasks ready to run: pw_calculator1\n",
      "03/27/2025 09:59:13 PM <1595705> aiida.orm.nodes.process.workflow.workchain.WorkChainNode: [REPORT] [63172|WorkGraphEngine|on_wait]: Process status: Waiting for child processes: 63178\n",
      "REPORT:aiida.orm.nodes.process.workflow.workchain.WorkChainNode:[63172|WorkGraphEngine|on_wait]: Process status: Waiting for child processes: 63178\n",
      "03/27/2025 09:59:26 PM <1595705> aiida.orm.nodes.process.workflow.workchain.WorkChainNode: [REPORT] [63172|WorkGraphEngine|update_task_state]: Task: pw_calculator1, type: PythonJob, finished.\n",
      "REPORT:aiida.orm.nodes.process.workflow.workchain.WorkChainNode:[63172|WorkGraphEngine|update_task_state]: Task: pw_calculator1, type: PythonJob, finished.\n",
      "03/27/2025 09:59:27 PM <1595705> aiida.orm.nodes.process.workflow.workchain.WorkChainNode: [REPORT] [63172|WorkGraphEngine|continue_workgraph]: tasks ready to run: generate_scaled_atoms2\n",
      "REPORT:aiida.orm.nodes.process.workflow.workchain.WorkChainNode:[63172|WorkGraphEngine|continue_workgraph]: tasks ready to run: generate_scaled_atoms2\n",
      "INFO:aiida_pythonjob.decorator:Executing process function, current stack status: 47 frames of 3000\n",
      "03/27/2025 09:59:28 PM <1595705> aiida.orm.nodes.process.workflow.workchain.WorkChainNode: [REPORT] [63172|WorkGraphEngine|update_task_state]: Task: generate_scaled_atoms2, type: PyFunction, finished.\n",
      "REPORT:aiida.orm.nodes.process.workflow.workchain.WorkChainNode:[63172|WorkGraphEngine|update_task_state]: Task: generate_scaled_atoms2, type: PyFunction, finished.\n",
      "03/27/2025 09:59:28 PM <1595705> aiida.orm.nodes.process.workflow.workchain.WorkChainNode: [REPORT] [63172|WorkGraphEngine|continue_workgraph]: tasks ready to run: map_zone3\n",
      "REPORT:aiida.orm.nodes.process.workflow.workchain.WorkChainNode:[63172|WorkGraphEngine|continue_workgraph]: tasks ready to run: map_zone3\n",
      "03/27/2025 09:59:29 PM <1595705> aiida.orm.nodes.process.workflow.workchain.WorkChainNode: [REPORT] [63172|WorkGraphEngine|continue_workgraph]: tasks ready to run: s_0_pw_calculator4,s_1_pw_calculator4,s_2_pw_calculator4,s_3_pw_calculator4,s_4_pw_calculator4\n",
      "REPORT:aiida.orm.nodes.process.workflow.workchain.WorkChainNode:[63172|WorkGraphEngine|continue_workgraph]: tasks ready to run: s_0_pw_calculator4,s_1_pw_calculator4,s_2_pw_calculator4,s_3_pw_calculator4,s_4_pw_calculator4\n",
      "03/27/2025 09:59:33 PM <1595705> aiida.orm.nodes.process.workflow.workchain.WorkChainNode: [REPORT] [63172|WorkGraphEngine|on_wait]: Process status: Waiting for child processes: 63203, 63209, 63215, 63221, 63227\n",
      "REPORT:aiida.orm.nodes.process.workflow.workchain.WorkChainNode:[63172|WorkGraphEngine|on_wait]: Process status: Waiting for child processes: 63203, 63209, 63215, 63221, 63227\n",
      "03/27/2025 09:59:54 PM <1595705> aiida.orm.nodes.process.workflow.workchain.WorkChainNode: [REPORT] [63172|WorkGraphEngine|update_task_state]: Task: s_0_pw_calculator4, type: PythonJob, finished.\n",
      "REPORT:aiida.orm.nodes.process.workflow.workchain.WorkChainNode:[63172|WorkGraphEngine|update_task_state]: Task: s_0_pw_calculator4, type: PythonJob, finished.\n",
      "03/27/2025 09:59:54 PM <1595705> aiida.orm.nodes.process.workflow.workchain.WorkChainNode: [REPORT] [63172|WorkGraphEngine|update_task_state]: Task: s_1_pw_calculator4, type: PythonJob, finished.\n",
      "REPORT:aiida.orm.nodes.process.workflow.workchain.WorkChainNode:[63172|WorkGraphEngine|update_task_state]: Task: s_1_pw_calculator4, type: PythonJob, finished.\n",
      "03/27/2025 09:59:54 PM <1595705> aiida.orm.nodes.process.workflow.workchain.WorkChainNode: [REPORT] [63172|WorkGraphEngine|update_task_state]: Task: s_2_pw_calculator4, type: PythonJob, finished.\n",
      "REPORT:aiida.orm.nodes.process.workflow.workchain.WorkChainNode:[63172|WorkGraphEngine|update_task_state]: Task: s_2_pw_calculator4, type: PythonJob, finished.\n",
      "03/27/2025 09:59:54 PM <1595705> aiida.orm.nodes.process.workflow.workchain.WorkChainNode: [REPORT] [63172|WorkGraphEngine|update_task_state]: Task: s_3_pw_calculator4, type: PythonJob, finished.\n",
      "REPORT:aiida.orm.nodes.process.workflow.workchain.WorkChainNode:[63172|WorkGraphEngine|update_task_state]: Task: s_3_pw_calculator4, type: PythonJob, finished.\n",
      "03/27/2025 09:59:54 PM <1595705> aiida.orm.nodes.process.workflow.workchain.WorkChainNode: [REPORT] [63172|WorkGraphEngine|update_task_state]: Task: s_4_pw_calculator4, type: PythonJob, finished.\n",
      "REPORT:aiida.orm.nodes.process.workflow.workchain.WorkChainNode:[63172|WorkGraphEngine|update_task_state]: Task: s_4_pw_calculator4, type: PythonJob, finished.\n",
      "03/27/2025 09:59:56 PM <1595705> aiida.orm.nodes.process.workflow.workchain.WorkChainNode: [REPORT] [63172|WorkGraphEngine|update_template_task_state]: Task: pw_calculator4 finished.\n",
      "REPORT:aiida.orm.nodes.process.workflow.workchain.WorkChainNode:[63172|WorkGraphEngine|update_template_task_state]: Task: pw_calculator4 finished.\n",
      "03/27/2025 09:59:56 PM <1595705> aiida.orm.nodes.process.workflow.workchain.WorkChainNode: [REPORT] [63172|WorkGraphEngine|update_zone_task_state]: Task: map_zone3 finished.\n",
      "REPORT:aiida.orm.nodes.process.workflow.workchain.WorkChainNode:[63172|WorkGraphEngine|update_zone_task_state]: Task: map_zone3 finished.\n",
      "03/27/2025 09:59:57 PM <1595705> aiida.orm.nodes.process.workflow.workchain.WorkChainNode: [REPORT] [63172|WorkGraphEngine|continue_workgraph]: tasks ready to run: fit_eos5\n",
      "REPORT:aiida.orm.nodes.process.workflow.workchain.WorkChainNode:[63172|WorkGraphEngine|continue_workgraph]: tasks ready to run: fit_eos5\n",
      "INFO:aiida_pythonjob.decorator:Executing process function, current stack status: 47 frames of 3000\n",
      "03/27/2025 09:59:58 PM <1595705> aiida.orm.nodes.process.workflow.workchain.WorkChainNode: [REPORT] [63172|WorkGraphEngine|update_task_state]: Task: fit_eos5, type: PyFunction, finished.\n",
      "REPORT:aiida.orm.nodes.process.workflow.workchain.WorkChainNode:[63172|WorkGraphEngine|update_task_state]: Task: fit_eos5, type: PyFunction, finished.\n",
      "03/27/2025 09:59:58 PM <1595705> aiida.orm.nodes.process.workflow.workchain.WorkChainNode: [REPORT] [63172|WorkGraphEngine|continue_workgraph]: tasks ready to run: \n",
      "REPORT:aiida.orm.nodes.process.workflow.workchain.WorkChainNode:[63172|WorkGraphEngine|continue_workgraph]: tasks ready to run: \n",
      "03/27/2025 09:59:58 PM <1595705> aiida.orm.nodes.process.workflow.workchain.WorkChainNode: [REPORT] [63172|WorkGraphEngine|finalize]: Finalize workgraph.\n",
      "REPORT:aiida.orm.nodes.process.workflow.workchain.WorkChainNode:[63172|WorkGraphEngine|finalize]: Finalize workgraph.\n"
     ]
    }
   ],
   "source": [
    "from ase.build import bulk\n",
    "from ase import Atoms\n",
    "from aiida import load_profile\n",
    "from workgraph_collections.ase.espresso.eos import eos_workgraph\n",
    "from aiida_pythonjob.config import config\n",
    "\n",
    "load_profile()\n",
    "\n",
    "config[\"allow_pickle\"] = True\n",
    "\n",
    "# create input structure\n",
    "atoms = bulk(\"Si\")\n",
    "\n",
    "metadata = {\n",
    "    \"options\": {\n",
    "        'prepend_text' : \"\"\"eval \"$(conda shell.posix hook)\"\n",
    "        conda activate aiida\n",
    "        export OMP_NUM_THREADS=1\n",
    "        \"\"\",\n",
    "    }\n",
    "}\n",
    "pseudopotentials = {\"Si\": \"Si.pbe-nl-rrkjus_psl.1.0.0.UPF\"}\n",
    "pseudo_dir = \"/home/xing/data/ase/espresso_pseudo\"\n",
    "# pseudo_dir = \"/home/wang_x3/datas/pseudos/psl\"\n",
    "input_data = {\n",
    "    \"control\": {\"calculation\": \"scf\"},\n",
    "    \"system\": {\"ecutwfc\": 30, \"ecutrho\": 240,\n",
    "               \"occupations\": \"smearing\",\n",
    "                \"degauss\": 0.01,\n",
    "                \"smearing\": \"cold\",},\n",
    "}\n",
    "#------------------------- Set the inputs -------------------------\n",
    "wg = eos_workgraph(atoms=atoms,\n",
    "                   computer=\"localhost\",\n",
    "                   scales=[0.95, 0.98, 1.0, 1.02, 1.05],\n",
    "                   command=\"mpirun -np 2 pw.x\",\n",
    "                   pseudopotentials=pseudopotentials,\n",
    "                   pseudo_dir=pseudo_dir,\n",
    "                   input_data=input_data,\n",
    "                   kpts=[4, 4, 4],\n",
    "                   metadata=metadata)\n",
    "#------------------------- Submit the calculation -------------------\n",
    "wg.run()\n",
    "# wg.submit(wait=True, timeout=200)\n",
    "\n"
   ]
  },
  {
   "cell_type": "code",
   "execution_count": 5,
   "id": "d1e32cd5",
   "metadata": {},
   "outputs": [
    {
     "name": "stdout",
     "output_type": "stream",
     "text": [
      "\n",
      "Result: \n",
      "B: 88.541858293157\n",
      "v0: 41.224378688729\n",
      "e0: -277.89646661704\n",
      "v0: 41.224378688729\n"
     ]
    }
   ],
   "source": [
    "#------------------------- Print the output -------------------------\n",
    "print('\\nResult: \\nB: {B}\\nv0: {v0}\\ne0: {e0}\\nv0: {v0}'.format(**wg.tasks[-1].outputs.result.value))\n"
   ]
  }
 ],
 "metadata": {
  "kernelspec": {
   "display_name": "aiida",
   "language": "python",
   "name": "python3"
  },
  "language_info": {
   "codemirror_mode": {
    "name": "ipython",
    "version": 3
   },
   "file_extension": ".py",
   "mimetype": "text/x-python",
   "name": "python",
   "nbconvert_exporter": "python",
   "pygments_lexer": "ipython3",
   "version": "3.11.0"
  }
 },
 "nbformat": 4,
 "nbformat_minor": 5
}
