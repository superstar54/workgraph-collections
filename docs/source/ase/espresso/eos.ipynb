{
 "cells": [
  {
   "cell_type": "markdown",
   "id": "22d177dc-6cfb-4de2-9509-f1eb45e10cf2",
   "metadata": {},
   "source": [
    "# Equation of state (EOS)\n",
    "\n",
    "For the source code, see [eos](https://workgraph-collections.readthedocs.io/en/latest/ase/espresso/module.html#workgraph_collections.ase.espresso.eos.eos_workgraph).\n",
    "\n",
    "## Example: Silicon\n",
    "\n",
    "### Prepare the inputs and submit the workflow\n",
    "\n"
   ]
  },
  {
   "cell_type": "code",
   "execution_count": 1,
   "id": "8ee799d2-0b5b-4609-957f-6b3f2cd451f0",
   "metadata": {},
   "outputs": [
    {
     "data": {
      "text/html": [
       "\n",
       "        <iframe\n",
       "            width=\"100%\"\n",
       "            height=\"600px\"\n",
       "            src=\"html/EosWorkGraph.html\"\n",
       "            frameborder=\"0\"\n",
       "            allowfullscreen\n",
       "            \n",
       "        ></iframe>\n",
       "        "
      ],
      "text/plain": [
       "<IPython.lib.display.IFrame at 0x785fcdcae250>"
      ]
     },
     "execution_count": 1,
     "metadata": {},
     "output_type": "execute_result"
    }
   ],
   "source": [
    "from ase.build import bulk\n",
    "from ase import Atoms\n",
    "from aiida import load_profile\n",
    "from workgraph_collections.ase.espresso.eos import EosWorkGraph\n",
    "\n",
    "load_profile()\n",
    "\n",
    "\n",
    "# create input structure\n",
    "atoms = bulk(\"Si\")\n",
    "\n",
    "metadata = {\n",
    "    \"options\": {\n",
    "        'prepend_text' : \"\"\"eval \"$(conda shell.posix hook)\"\n",
    "        conda activate aiida\n",
    "        export OMP_NUM_THREADS=1\n",
    "        \"\"\",\n",
    "    }\n",
    "}\n",
    "pseudopotentials = {\"Si\": \"Si.pbe-nl-rrkjus_psl.1.0.0.UPF\"}\n",
    "pseudo_dir = \"/home/xing/data/ase/espresso_pseudo\"\n",
    "# pseudo_dir = \"/home/wang_x3/datas/pseudos/psl\"\n",
    "input_data = {\n",
    "    \"control\": {\"calculation\": \"scf\"},\n",
    "    \"system\": {\"ecutwfc\": 30, \"ecutrho\": 240,\n",
    "               \"occupations\": \"smearing\",\n",
    "                \"degauss\": 0.01,\n",
    "                \"smearing\": \"cold\",},\n",
    "}\n",
    "#------------------------- Set the inputs -------------------------\n",
    "wg = EosWorkGraph.build(atoms=atoms,\n",
    "                   computer=\"localhost\",\n",
    "                   scales=[0.95, 0.98, 1.0, 1.02, 1.05],\n",
    "                   command=\"mpirun -np 2 pw.x\",\n",
    "                   pseudopotentials=pseudopotentials,\n",
    "                   pseudo_dir=pseudo_dir,\n",
    "                   input_data=input_data,\n",
    "                   kpts=[4, 4, 4],\n",
    "                   metadata=metadata)\n",
    "wg.to_html()"
   ]
  },
  {
   "cell_type": "markdown",
   "id": "9c213904",
   "metadata": {},
   "source": [
    "Run the calculation\n"
   ]
  },
  {
   "cell_type": "code",
   "execution_count": 2,
   "id": "d1e32cd5",
   "metadata": {},
   "outputs": [
    {
     "name": "stderr",
     "output_type": "stream",
     "text": [
      "09/12/2025 11:41:14 PM <1838528> aiida.orm.nodes.process.workflow.workchain.WorkChainNode: [REPORT] [187534|WorkGraphEngine|continue_workgraph]: tasks ready to run: pw_calculator\n",
      "REPORT:aiida.orm.nodes.process.workflow.workchain.WorkChainNode:[187534|WorkGraphEngine|continue_workgraph]: tasks ready to run: pw_calculator\n",
      "09/12/2025 11:41:15 PM <1838528> aiida.orm.nodes.process.workflow.workchain.WorkChainNode: [REPORT] [187534|WorkGraphEngine|on_wait]: Process status: Waiting for child processes: 187536\n",
      "REPORT:aiida.orm.nodes.process.workflow.workchain.WorkChainNode:[187534|WorkGraphEngine|on_wait]: Process status: Waiting for child processes: 187536\n",
      "09/12/2025 11:41:20 PM <1838528> aiida.orm.nodes.process.workflow.workchain.WorkChainNode: [REPORT] [187534|WorkGraphEngine|update_task_state]: Task: pw_calculator, type: PYTHONJOB, finished.\n",
      "REPORT:aiida.orm.nodes.process.workflow.workchain.WorkChainNode:[187534|WorkGraphEngine|update_task_state]: Task: pw_calculator, type: PYTHONJOB, finished.\n",
      "09/12/2025 11:41:20 PM <1838528> aiida.orm.nodes.process.workflow.workchain.WorkChainNode: [REPORT] [187534|WorkGraphEngine|continue_workgraph]: tasks ready to run: generate_scaled_atoms\n",
      "REPORT:aiida.orm.nodes.process.workflow.workchain.WorkChainNode:[187534|WorkGraphEngine|continue_workgraph]: tasks ready to run: generate_scaled_atoms\n",
      "INFO:aiida_pythonjob.decorator:Executing process function, current stack status: 46 frames of 3000\n",
      "09/12/2025 11:41:21 PM <1838528> aiida.orm.nodes.process.workflow.workchain.WorkChainNode: [REPORT] [187534|WorkGraphEngine|update_task_state]: Task: generate_scaled_atoms, type: PYFUNCTION, finished.\n",
      "REPORT:aiida.orm.nodes.process.workflow.workchain.WorkChainNode:[187534|WorkGraphEngine|update_task_state]: Task: generate_scaled_atoms, type: PYFUNCTION, finished.\n",
      "09/12/2025 11:41:21 PM <1838528> aiida.orm.nodes.process.workflow.workchain.WorkChainNode: [REPORT] [187534|WorkGraphEngine|continue_workgraph]: tasks ready to run: calc_all_structures\n",
      "REPORT:aiida.orm.nodes.process.workflow.workchain.WorkChainNode:[187534|WorkGraphEngine|continue_workgraph]: tasks ready to run: calc_all_structures\n",
      "09/12/2025 11:41:22 PM <1838528> aiida.orm.nodes.process.workflow.workchain.WorkChainNode: [REPORT] [187534|WorkGraphEngine|on_wait]: Process status: Waiting for child processes: 187582\n",
      "REPORT:aiida.orm.nodes.process.workflow.workchain.WorkChainNode:[187534|WorkGraphEngine|on_wait]: Process status: Waiting for child processes: 187582\n",
      "09/12/2025 11:41:22 PM <1838528> aiida.orm.nodes.process.workflow.workchain.WorkChainNode: [REPORT] [187582|WorkGraphEngine|continue_workgraph]: tasks ready to run: pw_calculator,pw_calculator1,pw_calculator2,pw_calculator3,pw_calculator4\n",
      "REPORT:aiida.orm.nodes.process.workflow.workchain.WorkChainNode:[187582|WorkGraphEngine|continue_workgraph]: tasks ready to run: pw_calculator,pw_calculator1,pw_calculator2,pw_calculator3,pw_calculator4\n",
      "09/12/2025 11:41:24 PM <1838528> aiida.orm.nodes.process.workflow.workchain.WorkChainNode: [REPORT] [187582|WorkGraphEngine|on_wait]: Process status: Waiting for child processes: 187584, 187586, 187588, 187590, 187592\n",
      "REPORT:aiida.orm.nodes.process.workflow.workchain.WorkChainNode:[187582|WorkGraphEngine|on_wait]: Process status: Waiting for child processes: 187584, 187586, 187588, 187590, 187592\n",
      "09/12/2025 11:41:40 PM <1838528> aiida.orm.nodes.process.workflow.workchain.WorkChainNode: [REPORT] [187582|WorkGraphEngine|update_task_state]: Task: pw_calculator, type: PYTHONJOB, finished.\n",
      "REPORT:aiida.orm.nodes.process.workflow.workchain.WorkChainNode:[187582|WorkGraphEngine|update_task_state]: Task: pw_calculator, type: PYTHONJOB, finished.\n",
      "09/12/2025 11:41:41 PM <1838528> aiida.orm.nodes.process.workflow.workchain.WorkChainNode: [REPORT] [187582|WorkGraphEngine|continue_workgraph]: tasks ready to run: \n",
      "REPORT:aiida.orm.nodes.process.workflow.workchain.WorkChainNode:[187582|WorkGraphEngine|continue_workgraph]: tasks ready to run: \n",
      "09/12/2025 11:41:41 PM <1838528> aiida.orm.nodes.process.workflow.workchain.WorkChainNode: [REPORT] [187582|WorkGraphEngine|on_wait]: Process status: Waiting for child processes: 187586, 187588, 187590, 187592\n",
      "REPORT:aiida.orm.nodes.process.workflow.workchain.WorkChainNode:[187582|WorkGraphEngine|on_wait]: Process status: Waiting for child processes: 187586, 187588, 187590, 187592\n",
      "09/12/2025 11:41:44 PM <1838528> aiida.orm.nodes.process.workflow.workchain.WorkChainNode: [REPORT] [187582|WorkGraphEngine|update_task_state]: Task: pw_calculator1, type: PYTHONJOB, finished.\n",
      "REPORT:aiida.orm.nodes.process.workflow.workchain.WorkChainNode:[187582|WorkGraphEngine|update_task_state]: Task: pw_calculator1, type: PYTHONJOB, finished.\n",
      "09/12/2025 11:41:45 PM <1838528> aiida.orm.nodes.process.workflow.workchain.WorkChainNode: [REPORT] [187582|WorkGraphEngine|update_task_state]: Task: pw_calculator2, type: PYTHONJOB, finished.\n",
      "REPORT:aiida.orm.nodes.process.workflow.workchain.WorkChainNode:[187582|WorkGraphEngine|update_task_state]: Task: pw_calculator2, type: PYTHONJOB, finished.\n",
      "09/12/2025 11:41:45 PM <1838528> aiida.orm.nodes.process.workflow.workchain.WorkChainNode: [REPORT] [187582|WorkGraphEngine|update_task_state]: Task: pw_calculator3, type: PYTHONJOB, finished.\n",
      "REPORT:aiida.orm.nodes.process.workflow.workchain.WorkChainNode:[187582|WorkGraphEngine|update_task_state]: Task: pw_calculator3, type: PYTHONJOB, finished.\n",
      "09/12/2025 11:41:45 PM <1838528> aiida.orm.nodes.process.workflow.workchain.WorkChainNode: [REPORT] [187582|WorkGraphEngine|update_task_state]: Task: pw_calculator4, type: PYTHONJOB, finished.\n",
      "REPORT:aiida.orm.nodes.process.workflow.workchain.WorkChainNode:[187582|WorkGraphEngine|update_task_state]: Task: pw_calculator4, type: PYTHONJOB, finished.\n",
      "09/12/2025 11:41:45 PM <1838528> aiida.orm.nodes.process.workflow.workchain.WorkChainNode: [REPORT] [187582|WorkGraphEngine|continue_workgraph]: tasks ready to run: \n",
      "REPORT:aiida.orm.nodes.process.workflow.workchain.WorkChainNode:[187582|WorkGraphEngine|continue_workgraph]: tasks ready to run: \n",
      "09/12/2025 11:41:45 PM <1838528> aiida.orm.nodes.process.workflow.workchain.WorkChainNode: [REPORT] [187582|WorkGraphEngine|finalize]: Finalize workgraph.\n",
      "REPORT:aiida.orm.nodes.process.workflow.workchain.WorkChainNode:[187582|WorkGraphEngine|finalize]: Finalize workgraph.\n",
      "09/12/2025 11:41:46 PM <1838528> aiida.orm.nodes.process.workflow.workchain.WorkChainNode: [REPORT] [187534|WorkGraphEngine|update_task_state]: Task: calc_all_structures, type: GRAPH, finished.\n",
      "REPORT:aiida.orm.nodes.process.workflow.workchain.WorkChainNode:[187534|WorkGraphEngine|update_task_state]: Task: calc_all_structures, type: GRAPH, finished.\n",
      "09/12/2025 11:41:46 PM <1838528> aiida.orm.nodes.process.workflow.workchain.WorkChainNode: [REPORT] [187534|WorkGraphEngine|continue_workgraph]: tasks ready to run: fit_eos\n",
      "REPORT:aiida.orm.nodes.process.workflow.workchain.WorkChainNode:[187534|WorkGraphEngine|continue_workgraph]: tasks ready to run: fit_eos\n",
      "INFO:aiida_pythonjob.decorator:Executing process function, current stack status: 46 frames of 3000\n",
      "09/12/2025 11:41:47 PM <1838528> aiida.orm.nodes.process.workflow.workchain.WorkChainNode: [REPORT] [187534|WorkGraphEngine|update_task_state]: Task: fit_eos, type: PYFUNCTION, finished.\n",
      "REPORT:aiida.orm.nodes.process.workflow.workchain.WorkChainNode:[187534|WorkGraphEngine|update_task_state]: Task: fit_eos, type: PYFUNCTION, finished.\n",
      "09/12/2025 11:41:47 PM <1838528> aiida.orm.nodes.process.workflow.workchain.WorkChainNode: [REPORT] [187534|WorkGraphEngine|continue_workgraph]: tasks ready to run: \n",
      "REPORT:aiida.orm.nodes.process.workflow.workchain.WorkChainNode:[187534|WorkGraphEngine|continue_workgraph]: tasks ready to run: \n",
      "09/12/2025 11:41:47 PM <1838528> aiida.orm.nodes.process.workflow.workchain.WorkChainNode: [REPORT] [187534|WorkGraphEngine|finalize]: Finalize workgraph.\n",
      "REPORT:aiida.orm.nodes.process.workflow.workchain.WorkChainNode:[187534|WorkGraphEngine|finalize]: Finalize workgraph.\n"
     ]
    },
    {
     "data": {
      "text/plain": [
       "{'result': <Dict: uuid: 09e62649-4d48-4668-88e4-c0c59dd43da1 (pk: 187644)>}"
      ]
     },
     "execution_count": 2,
     "metadata": {},
     "output_type": "execute_result"
    }
   ],
   "source": [
    "wg.run()\n"
   ]
  },
  {
   "cell_type": "markdown",
   "id": "0f6d4e61",
   "metadata": {},
   "source": [
    "Print the results"
   ]
  },
  {
   "cell_type": "code",
   "execution_count": 3,
   "id": "4aae567b",
   "metadata": {},
   "outputs": [
    {
     "name": "stdout",
     "output_type": "stream",
     "text": [
      "\n",
      "Result: \n",
      "B: 90.247955134586\n",
      "v0: 41.302487642021\n",
      "e0: -277.89706525605\n",
      "v0: 41.302487642021\n"
     ]
    }
   ],
   "source": [
    "#------------------------- Print the output -------------------------\n",
    "print('\\nResult: \\nB: {B}\\nv0: {v0}\\ne0: {e0}\\nv0: {v0}'.format(**wg.outputs.result.value))\n"
   ]
  }
 ],
 "metadata": {
  "kernelspec": {
   "display_name": "aiida",
   "language": "python",
   "name": "python3"
  },
  "language_info": {
   "codemirror_mode": {
    "name": "ipython",
    "version": 3
   },
   "file_extension": ".py",
   "mimetype": "text/x-python",
   "name": "python",
   "nbconvert_exporter": "python",
   "pygments_lexer": "ipython3",
   "version": "3.11.0"
  }
 },
 "nbformat": 4,
 "nbformat_minor": 5
}
