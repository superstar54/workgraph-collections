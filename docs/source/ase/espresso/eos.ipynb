{
 "cells": [
  {
   "cell_type": "markdown",
   "id": "22d177dc-6cfb-4de2-9509-f1eb45e10cf2",
   "metadata": {},
   "source": [
    "# Equation of state (EOS)\n",
    "\n",
    "For the source code, see [eos](https://workgraph-collections.readthedocs.io/en/latest/ase/espresso/module.html#workgraph_collections.ase.espresso.eos.eos_workgraph).\n",
    "\n",
    "## Example: Silicon\n",
    "\n",
    "### Prepare the inputs and submit the workflow\n",
    "\n"
   ]
  },
  {
   "cell_type": "code",
   "execution_count": null,
   "id": "8ee799d2-0b5b-4609-957f-6b3f2cd451f0",
   "metadata": {},
   "outputs": [
    {
     "data": {
      "text/html": [
       "\n",
       "        <iframe\n",
       "            width=\"100%\"\n",
       "            height=\"600px\"\n",
       "            src=\"html/EosWorkGraph.html\"\n",
       "            frameborder=\"0\"\n",
       "            allowfullscreen\n",
       "            \n",
       "        ></iframe>\n",
       "        "
      ],
      "text/plain": [
       "<IPython.lib.display.IFrame at 0x7efafb1809d0>"
      ]
     },
     "execution_count": 1,
     "metadata": {},
     "output_type": "execute_result"
    }
   ],
   "source": [
    "from ase.build import bulk\n",
    "from ase import Atoms\n",
    "from aiida import load_profile\n",
    "from workgraph_collections.ase.espresso.eos import EosWorkGraph\n",
    "\n",
    "load_profile()\n",
    "\n",
    "\n",
    "# create input structure\n",
    "atoms = bulk(\"Si\")\n",
    "\n",
    "metadata = {\n",
    "    \"options\": {\n",
    "        'prepend_text' : \"\"\"eval \"$(conda shell.posix hook)\"\n",
    "        conda activate quantum-espresso-7.4\n",
    "        export OMP_NUM_THREADS=1\n",
    "        \"\"\",\n",
    "    }\n",
    "}\n",
    "pseudopotentials = {\"Si\": \"Si.pbe-nl-rrkjus_psl.1.0.0.UPF\"}\n",
    "pseudo_dir = \"/home/xing/data/ase/espresso_pseudo\"\n",
    "# pseudo_dir = \"/home/wang_x3/datas/pseudos/psl\"\n",
    "input_data = {\n",
    "    \"control\": {\"calculation\": \"scf\"},\n",
    "    \"system\": {\"ecutwfc\": 30, \"ecutrho\": 240,\n",
    "               \"occupations\": \"smearing\",\n",
    "                \"degauss\": 0.01,\n",
    "                \"smearing\": \"cold\",},\n",
    "}\n",
    "pw_inputs = {\n",
    "    \"command\": \"mpirun -np 2 pw.x\",\n",
    "    \"input_data\": input_data,\n",
    "    \"kpts\": [4, 4, 4],\n",
    "    \"pseudopotentials\": pseudopotentials,\n",
    "    \"pseudo_dir\": pseudo_dir,\n",
    "    \"metadata\": metadata,\n",
    "    \"computer\": \"localhost\",\n",
    "}\n",
    "#------------------------- Set the inputs -------------------------\n",
    "wg = EosWorkGraph.build(atoms=atoms,\n",
    "                   scales=[0.95, 0.98, 1.0, 1.02, 1.05],\n",
    "                   pw_inputs=pw_inputs,\n",
    "                   )\n",
    "wg.to_html()"
   ]
  },
  {
   "cell_type": "markdown",
   "id": "9c213904",
   "metadata": {},
   "source": [
    "Run the calculation\n"
   ]
  },
  {
   "cell_type": "code",
   "execution_count": 2,
   "id": "d1e32cd5",
   "metadata": {},
   "outputs": [
    {
     "name": "stderr",
     "output_type": "stream",
     "text": [
      "10/08/2025 11:48:23 AM <2554077> aiida.orm.nodes.process.workflow.workchain.WorkChainNode: [REPORT] [201874|WorkGraphEngine|continue_workgraph]: tasks ready to run: pw_calculator\n",
      "REPORT:aiida.orm.nodes.process.workflow.workchain.WorkChainNode:[201874|WorkGraphEngine|continue_workgraph]: tasks ready to run: pw_calculator\n",
      "10/08/2025 11:48:24 AM <2554077> aiida.orm.nodes.process.workflow.workchain.WorkChainNode: [REPORT] [201874|WorkGraphEngine|on_wait]: Process status: Waiting for child processes: 201876\n",
      "REPORT:aiida.orm.nodes.process.workflow.workchain.WorkChainNode:[201874|WorkGraphEngine|on_wait]: Process status: Waiting for child processes: 201876\n",
      "10/08/2025 11:48:33 AM <2554077> aiida.orm.nodes.process.calculation.calcjob.CalcJobNode: [WARNING] output parser returned exit code<326>: Function execution failed.\n",
      "wall_time_seconds found in both dictionaries with different values: 4.6 vs. 4.594454050064087\n",
      "Traceback (most recent call last):\n",
      "  File \"<stdin>\", line 41, in main\n",
      "  File \"/home/xing/repos/superstar54/workgraph-collections/workgraph_collections/ase/espresso/pw.py\", line 196, in pw_calculator\n",
      "    atoms.get_potential_energy()\n",
      "  File \"/home/xing/apps/miniforge3/envs/aiida/lib/python3.11/site-packages/ase/atoms.py\", line 835, in get_potential_energy\n",
      "    energy = self._calc.get_potential_energy(self)\n",
      "             ^^^^^^^^^^^^^^^^^^^^^^^^^^^^^^^^^^^^^\n",
      "  File \"/home/xing/apps/miniforge3/envs/aiida/lib/python3.11/site-packages/ase/calculators/abc.py\", line 26, in get_potential_energy\n",
      "    return self.get_property(name, atoms)\n",
      "           ^^^^^^^^^^^^^^^^^^^^^^^^^^^^^^\n",
      "  File \"/home/xing/apps/miniforge3/envs/aiida/lib/python3.11/site-packages/ase_quantumespresso/espresso.py\", line 141, in get_property\n",
      "    return super().get_property(name, atoms=atoms, **kwargs)\n",
      "           ^^^^^^^^^^^^^^^^^^^^^^^^^^^^^^^^^^^^^^^^^^^^^^^^^\n",
      "  File \"/home/xing/apps/miniforge3/envs/aiida/lib/python3.11/site-packages/ase/calculators/calculator.py\", line 519, in get_property\n",
      "    self.calculate(atoms, [name], system_changes)\n",
      "  File \"/home/xing/apps/miniforge3/envs/aiida/lib/python3.11/site-packages/ase/calculators/genericfileio.py\", line 336, in calculate\n",
      "    self.results = self.template.read_results(self.directory)\n",
      "                   ^^^^^^^^^^^^^^^^^^^^^^^^^^^^^^^^^^^^^^^^^^\n",
      "  File \"/home/xing/apps/miniforge3/envs/aiida/lib/python3.11/site-packages/ase_quantumespresso/espresso.py\", line 63, in read_results\n",
      "    exit_code = parser.parse()\n",
      "                ^^^^^^^^^^^^^^\n",
      "  File \"/home/xing/apps/miniforge3/envs/aiida/lib/python3.11/site-packages/ase_quantumespresso/parsers/pw.py\", line 88, in parse\n",
      "    parsed_parameters = self.build_output_parameters(parsed_stdout, parsed_xml)\n",
      "                        ^^^^^^^^^^^^^^^^^^^^^^^^^^^^^^^^^^^^^^^^^^^^^^^^^^^^^^^\n",
      "  File \"/home/xing/apps/miniforge3/envs/aiida/lib/python3.11/site-packages/ase_quantumespresso/parsers/pw.py\", line 502, in build_output_parameters\n",
      "    raise AssertionError(\n",
      "AssertionError: wall_time_seconds found in both dictionaries with different values: 4.6 vs. 4.594454050064087\n",
      "\n",
      "WARNING:aiida.orm.nodes.process.calculation.calcjob.CalcJobNode:output parser returned exit code<326>: Function execution failed.\n",
      "wall_time_seconds found in both dictionaries with different values: 4.6 vs. 4.594454050064087\n",
      "Traceback (most recent call last):\n",
      "  File \"<stdin>\", line 41, in main\n",
      "  File \"/home/xing/repos/superstar54/workgraph-collections/workgraph_collections/ase/espresso/pw.py\", line 196, in pw_calculator\n",
      "    atoms.get_potential_energy()\n",
      "  File \"/home/xing/apps/miniforge3/envs/aiida/lib/python3.11/site-packages/ase/atoms.py\", line 835, in get_potential_energy\n",
      "    energy = self._calc.get_potential_energy(self)\n",
      "             ^^^^^^^^^^^^^^^^^^^^^^^^^^^^^^^^^^^^^\n",
      "  File \"/home/xing/apps/miniforge3/envs/aiida/lib/python3.11/site-packages/ase/calculators/abc.py\", line 26, in get_potential_energy\n",
      "    return self.get_property(name, atoms)\n",
      "           ^^^^^^^^^^^^^^^^^^^^^^^^^^^^^^\n",
      "  File \"/home/xing/apps/miniforge3/envs/aiida/lib/python3.11/site-packages/ase_quantumespresso/espresso.py\", line 141, in get_property\n",
      "    return super().get_property(name, atoms=atoms, **kwargs)\n",
      "           ^^^^^^^^^^^^^^^^^^^^^^^^^^^^^^^^^^^^^^^^^^^^^^^^^\n",
      "  File \"/home/xing/apps/miniforge3/envs/aiida/lib/python3.11/site-packages/ase/calculators/calculator.py\", line 519, in get_property\n",
      "    self.calculate(atoms, [name], system_changes)\n",
      "  File \"/home/xing/apps/miniforge3/envs/aiida/lib/python3.11/site-packages/ase/calculators/genericfileio.py\", line 336, in calculate\n",
      "    self.results = self.template.read_results(self.directory)\n",
      "                   ^^^^^^^^^^^^^^^^^^^^^^^^^^^^^^^^^^^^^^^^^^\n",
      "  File \"/home/xing/apps/miniforge3/envs/aiida/lib/python3.11/site-packages/ase_quantumespresso/espresso.py\", line 63, in read_results\n",
      "    exit_code = parser.parse()\n",
      "                ^^^^^^^^^^^^^^\n",
      "  File \"/home/xing/apps/miniforge3/envs/aiida/lib/python3.11/site-packages/ase_quantumespresso/parsers/pw.py\", line 88, in parse\n",
      "    parsed_parameters = self.build_output_parameters(parsed_stdout, parsed_xml)\n",
      "                        ^^^^^^^^^^^^^^^^^^^^^^^^^^^^^^^^^^^^^^^^^^^^^^^^^^^^^^^\n",
      "  File \"/home/xing/apps/miniforge3/envs/aiida/lib/python3.11/site-packages/ase_quantumespresso/parsers/pw.py\", line 502, in build_output_parameters\n",
      "    raise AssertionError(\n",
      "AssertionError: wall_time_seconds found in both dictionaries with different values: 4.6 vs. 4.594454050064087\n",
      "\n",
      "10/08/2025 11:48:33 AM <2554077> aiida.orm.nodes.process.workflow.workchain.WorkChainNode: [REPORT] [201874|WorkGraphEngine|on_task_failed]: Task, pw_calculator, type: PYTHONJOB, failed. Error message: Function execution failed.\n",
      "wall_time_seconds found in both dictionaries with different values: 4.6 vs. 4.594454050064087\n",
      "Traceback (most recent call last):\n",
      "  File \"<stdin>\", line 41, in main\n",
      "  File \"/home/xing/repos/superstar54/workgraph-collections/workgraph_collections/ase/espresso/pw.py\", line 196, in pw_calculator\n",
      "    atoms.get_potential_energy()\n",
      "  File \"/home/xing/apps/miniforge3/envs/aiida/lib/python3.11/site-packages/ase/atoms.py\", line 835, in get_potential_energy\n",
      "    energy = self._calc.get_potential_energy(self)\n",
      "             ^^^^^^^^^^^^^^^^^^^^^^^^^^^^^^^^^^^^^\n",
      "  File \"/home/xing/apps/miniforge3/envs/aiida/lib/python3.11/site-packages/ase/calculators/abc.py\", line 26, in get_potential_energy\n",
      "    return self.get_property(name, atoms)\n",
      "           ^^^^^^^^^^^^^^^^^^^^^^^^^^^^^^\n",
      "  File \"/home/xing/apps/miniforge3/envs/aiida/lib/python3.11/site-packages/ase_quantumespresso/espresso.py\", line 141, in get_property\n",
      "    return super().get_property(name, atoms=atoms, **kwargs)\n",
      "           ^^^^^^^^^^^^^^^^^^^^^^^^^^^^^^^^^^^^^^^^^^^^^^^^^\n",
      "  File \"/home/xing/apps/miniforge3/envs/aiida/lib/python3.11/site-packages/ase/calculators/calculator.py\", line 519, in get_property\n",
      "    self.calculate(atoms, [name], system_changes)\n",
      "  File \"/home/xing/apps/miniforge3/envs/aiida/lib/python3.11/site-packages/ase/calculators/genericfileio.py\", line 336, in calculate\n",
      "    self.results = self.template.read_results(self.directory)\n",
      "                   ^^^^^^^^^^^^^^^^^^^^^^^^^^^^^^^^^^^^^^^^^^\n",
      "  File \"/home/xing/apps/miniforge3/envs/aiida/lib/python3.11/site-packages/ase_quantumespresso/espresso.py\", line 63, in read_results\n",
      "    exit_code = parser.parse()\n",
      "                ^^^^^^^^^^^^^^\n",
      "  File \"/home/xing/apps/miniforge3/envs/aiida/lib/python3.11/site-packages/ase_quantumespresso/parsers/pw.py\", line 88, in parse\n",
      "    parsed_parameters = self.build_output_parameters(parsed_stdout, parsed_xml)\n",
      "                        ^^^^^^^^^^^^^^^^^^^^^^^^^^^^^^^^^^^^^^^^^^^^^^^^^^^^^^^\n",
      "  File \"/home/xing/apps/miniforge3/envs/aiida/lib/python3.11/site-packages/ase_quantumespresso/parsers/pw.py\", line 502, in build_output_parameters\n",
      "    raise AssertionError(\n",
      "AssertionError: wall_time_seconds found in both dictionaries with different values: 4.6 vs. 4.594454050064087\n",
      "\n",
      "REPORT:aiida.orm.nodes.process.workflow.workchain.WorkChainNode:[201874|WorkGraphEngine|on_task_failed]: Task, pw_calculator, type: PYTHONJOB, failed. Error message: Function execution failed.\n",
      "wall_time_seconds found in both dictionaries with different values: 4.6 vs. 4.594454050064087\n",
      "Traceback (most recent call last):\n",
      "  File \"<stdin>\", line 41, in main\n",
      "  File \"/home/xing/repos/superstar54/workgraph-collections/workgraph_collections/ase/espresso/pw.py\", line 196, in pw_calculator\n",
      "    atoms.get_potential_energy()\n",
      "  File \"/home/xing/apps/miniforge3/envs/aiida/lib/python3.11/site-packages/ase/atoms.py\", line 835, in get_potential_energy\n",
      "    energy = self._calc.get_potential_energy(self)\n",
      "             ^^^^^^^^^^^^^^^^^^^^^^^^^^^^^^^^^^^^^\n",
      "  File \"/home/xing/apps/miniforge3/envs/aiida/lib/python3.11/site-packages/ase/calculators/abc.py\", line 26, in get_potential_energy\n",
      "    return self.get_property(name, atoms)\n",
      "           ^^^^^^^^^^^^^^^^^^^^^^^^^^^^^^\n",
      "  File \"/home/xing/apps/miniforge3/envs/aiida/lib/python3.11/site-packages/ase_quantumespresso/espresso.py\", line 141, in get_property\n",
      "    return super().get_property(name, atoms=atoms, **kwargs)\n",
      "           ^^^^^^^^^^^^^^^^^^^^^^^^^^^^^^^^^^^^^^^^^^^^^^^^^\n",
      "  File \"/home/xing/apps/miniforge3/envs/aiida/lib/python3.11/site-packages/ase/calculators/calculator.py\", line 519, in get_property\n",
      "    self.calculate(atoms, [name], system_changes)\n",
      "  File \"/home/xing/apps/miniforge3/envs/aiida/lib/python3.11/site-packages/ase/calculators/genericfileio.py\", line 336, in calculate\n",
      "    self.results = self.template.read_results(self.directory)\n",
      "                   ^^^^^^^^^^^^^^^^^^^^^^^^^^^^^^^^^^^^^^^^^^\n",
      "  File \"/home/xing/apps/miniforge3/envs/aiida/lib/python3.11/site-packages/ase_quantumespresso/espresso.py\", line 63, in read_results\n",
      "    exit_code = parser.parse()\n",
      "                ^^^^^^^^^^^^^^\n",
      "  File \"/home/xing/apps/miniforge3/envs/aiida/lib/python3.11/site-packages/ase_quantumespresso/parsers/pw.py\", line 88, in parse\n",
      "    parsed_parameters = self.build_output_parameters(parsed_stdout, parsed_xml)\n",
      "                        ^^^^^^^^^^^^^^^^^^^^^^^^^^^^^^^^^^^^^^^^^^^^^^^^^^^^^^^\n",
      "  File \"/home/xing/apps/miniforge3/envs/aiida/lib/python3.11/site-packages/ase_quantumespresso/parsers/pw.py\", line 502, in build_output_parameters\n",
      "    raise AssertionError(\n",
      "AssertionError: wall_time_seconds found in both dictionaries with different values: 4.6 vs. 4.594454050064087\n",
      "\n",
      "10/08/2025 11:48:33 AM <2554077> aiida.orm.nodes.process.workflow.workchain.WorkChainNode: [REPORT] [201874|WorkGraphEngine|run_error_handlers]: Run error handlers for pw_calculator\n",
      "REPORT:aiida.orm.nodes.process.workflow.workchain.WorkChainNode:[201874|WorkGraphEngine|run_error_handlers]: Run error handlers for pw_calculator\n",
      "10/08/2025 11:48:34 AM <2554077> aiida.orm.nodes.process.workflow.workchain.WorkChainNode: [REPORT] [201874|WorkGraphEngine|continue_workgraph]: tasks ready to run: \n",
      "REPORT:aiida.orm.nodes.process.workflow.workchain.WorkChainNode:[201874|WorkGraphEngine|continue_workgraph]: tasks ready to run: \n",
      "10/08/2025 11:48:34 AM <2554077> aiida.orm.nodes.process.workflow.workchain.WorkChainNode: [REPORT] [201874|WorkGraphEngine|is_workgraph_finished]: WorkGraph finished, but tasks: ['pw_calculator'] failed. Thus all their child tasks are skipped.\n",
      "REPORT:aiida.orm.nodes.process.workflow.workchain.WorkChainNode:[201874|WorkGraphEngine|is_workgraph_finished]: WorkGraph finished, but tasks: ['pw_calculator'] failed. Thus all their child tasks are skipped.\n"
     ]
    },
    {
     "data": {
      "text/plain": [
       "{}"
      ]
     },
     "execution_count": 2,
     "metadata": {},
     "output_type": "execute_result"
    }
   ],
   "source": [
    "wg.run()\n"
   ]
  },
  {
   "cell_type": "markdown",
   "id": "0f6d4e61",
   "metadata": {},
   "source": [
    "Print the results"
   ]
  },
  {
   "cell_type": "code",
   "execution_count": 3,
   "id": "4aae567b",
   "metadata": {},
   "outputs": [
    {
     "ename": "TypeError",
     "evalue": "str.format() argument after ** must be a mapping, not NoneType",
     "output_type": "error",
     "traceback": [
      "\u001b[31m---------------------------------------------------------------------------\u001b[39m",
      "\u001b[31mTypeError\u001b[39m                                 Traceback (most recent call last)",
      "\u001b[36mCell\u001b[39m\u001b[36m \u001b[39m\u001b[32mIn[3]\u001b[39m\u001b[32m, line 2\u001b[39m\n\u001b[32m      1\u001b[39m \u001b[38;5;66;03m#------------------------- Print the output -------------------------\u001b[39;00m\n\u001b[32m----> \u001b[39m\u001b[32m2\u001b[39m \u001b[38;5;28mprint\u001b[39m(\u001b[33m'\u001b[39m\u001b[38;5;130;01m\\n\u001b[39;00m\u001b[33mResult: \u001b[39m\u001b[38;5;130;01m\\n\u001b[39;00m\u001b[33mB: \u001b[39m\u001b[38;5;132;01m{B}\u001b[39;00m\u001b[38;5;130;01m\\n\u001b[39;00m\u001b[33mv0: \u001b[39m\u001b[38;5;132;01m{v0}\u001b[39;00m\u001b[38;5;130;01m\\n\u001b[39;00m\u001b[33me0: \u001b[39m\u001b[38;5;132;01m{e0}\u001b[39;00m\u001b[38;5;130;01m\\n\u001b[39;00m\u001b[33mv0: \u001b[39m\u001b[38;5;132;01m{v0}\u001b[39;00m\u001b[33m'\u001b[39m.format(**wg.outputs.result.value))\n",
      "\u001b[31mTypeError\u001b[39m: str.format() argument after ** must be a mapping, not NoneType"
     ]
    }
   ],
   "source": [
    "#------------------------- Print the output -------------------------\n",
    "print('\\nResult: \\nB: {B}\\nv0: {v0}\\ne0: {e0}\\nv0: {v0}'.format(**wg.outputs.result.value))\n"
   ]
  }
 ],
 "metadata": {
  "kernelspec": {
   "display_name": "aiida",
   "language": "python",
   "name": "python3"
  },
  "language_info": {
   "codemirror_mode": {
    "name": "ipython",
    "version": 3
   },
   "file_extension": ".py",
   "mimetype": "text/x-python",
   "name": "python",
   "nbconvert_exporter": "python",
   "pygments_lexer": "ipython3",
   "version": "3.11.13"
  }
 },
 "nbformat": 4,
 "nbformat_minor": 5
}
