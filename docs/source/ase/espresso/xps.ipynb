{
 "cells": [
  {
   "cell_type": "markdown",
   "id": "22d177dc-6cfb-4de2-9509-f1eb45e10cf2",
   "metadata": {},
   "source": [
    "# X-ray photoelectron spectroscopy (XPS)\n",
    "\n",
    "## Visualizing the WorkGraph Builder\n"
   ]
  },
  {
   "cell_type": "code",
   "execution_count": 1,
   "id": "6be40ba7",
   "metadata": {},
   "outputs": [
    {
     "data": {
      "text/html": [
       "\n",
       "        <iframe\n",
       "            width=\"100%\"\n",
       "            height=\"600px\"\n",
       "            src=\"html/xps_workgraph0.html\"\n",
       "            frameborder=\"0\"\n",
       "            allowfullscreen\n",
       "            \n",
       "        ></iframe>\n",
       "        "
      ],
      "text/plain": [
       "<IPython.lib.display.IFrame at 0x7f9dd8a19c60>"
      ]
     },
     "execution_count": 1,
     "metadata": {},
     "output_type": "execute_result"
    }
   ],
   "source": [
    "from workgraph_collections.ase.espresso.xps import xps_workgraph\n",
    "from aiida import load_profile\n",
    "load_profile()\n",
    "\n",
    "node = xps_workgraph.node()\n",
    "node.to_html()"
   ]
  },
  {
   "cell_type": "markdown",
   "id": "9e6360d8",
   "metadata": {},
   "source": [
    "## Visualizing the WorkGraph"
   ]
  },
  {
   "cell_type": "code",
   "execution_count": 2,
   "id": "01bedd69",
   "metadata": {},
   "outputs": [
    {
     "data": {
      "text/html": [
       "\n",
       "        <iframe\n",
       "            width=\"100%\"\n",
       "            height=\"600px\"\n",
       "            src=\"html/XPS.html\"\n",
       "            frameborder=\"0\"\n",
       "            allowfullscreen\n",
       "            \n",
       "        ></iframe>\n",
       "        "
      ],
      "text/plain": [
       "<IPython.lib.display.IFrame at 0x7f9dea7ba0e0>"
      ]
     },
     "execution_count": 2,
     "metadata": {},
     "output_type": "execute_result"
    }
   ],
   "source": [
    "from workgraph_collections.ase.espresso.xps import xps_workgraph\n",
    "from aiida import load_profile\n",
    "load_profile()\n",
    "\n",
    "wg = xps_workgraph()\n",
    "wg.to_html()"
   ]
  },
  {
   "cell_type": "markdown",
   "id": "efa095d0",
   "metadata": {},
   "source": [
    "## Example: ETFA molecule\n",
    "\n",
    "### Prepare the inputs and submit the workflow\n"
   ]
  },
  {
   "cell_type": "code",
   "execution_count": 3,
   "id": "8ee799d2-0b5b-4609-957f-6b3f2cd451f0",
   "metadata": {},
   "outputs": [
    {
     "name": "stdout",
     "output_type": "stream",
     "text": [
      "WorkGraph node created, PK: 17649\n"
     ]
    },
    {
     "data": {
      "text/plain": [
       "<WorkChainNode: uuid: ab76064a-9ae0-4292-931f-3a3639e89998 (pk: 17649) (aiida_workgraph.engine.workgraph.WorkGraphEngine)>"
      ]
     },
     "execution_count": 3,
     "metadata": {},
     "output_type": "execute_result"
    }
   ],
   "source": [
    "from ase.io import read\n",
    "from aiida import load_profile\n",
    "from workgraph_collections.ase.espresso.xps import xps_workgraph\n",
    "\n",
    "load_profile()\n",
    "\n",
    "# create input structure node\n",
    "atoms = read(\"../datas/ETFA.xyz\")\n",
    "atoms.center(vacuum=3.0)\n",
    "input_data = {\n",
    "        \"CONTROL\": {\n",
    "            \"calculation\": \"scf\",\n",
    "        },\n",
    "        \"SYSTEM\": {\n",
    "            \"ecutwfc\": 30,\n",
    "            \"ecutrho\": 240,\n",
    "            \"occupations\": \"fixed\",\n",
    "        },\n",
    "    }\n",
    "kpts = (1, 1, 1)\n",
    "# Pseudos from https://github.com/superstar54/xps-data/tree/main/pseudo_demo/pseudo_demo_pbe\n",
    "pseudopotentials = {\n",
    "    \"C\": \"C.pbe-n-kjgipaw_psl.1.0.0.UPF\",\n",
    "    \"H\": \"H.pbe-kjpaw_psl.1.0.0.UPF\",\n",
    "    \"O\": \"O.pbe-n-kjpaw_psl.0.1.UPF\",\n",
    "    \"F\": \"F.pbe-n-rrkjus_psl.1.0.0.UPF\",\n",
    "}\n",
    "core_hole_pseudos = {\n",
    "    \"C_1s\": \"C.star1s.pbe-n-kjgipaw_psl.1.0.0.UPF\",\n",
    "    \"O_1s\": \"O.star1s.pbe-n-kjpaw_psl.0.1.UPF\",\n",
    "}\n",
    "#\n",
    "metadata = {\n",
    "    \"options\": {\n",
    "        'prepend_text' : \"\"\"eval \"$(conda shell.posix hook)\"\n",
    "        conda activate aiida\n",
    "        export OMP_NUM_THREADS=1\n",
    "        \"\"\",\n",
    "    }\n",
    "}\n",
    "scf_inputs = {\n",
    "    \"command\": \"mpirun -np 4 pw.x\",\n",
    "    \"computer\": \"localhost\",\n",
    "    \"input_data\": input_data,\n",
    "    \"kpts\": kpts,\n",
    "    \"pseudopotentials\": pseudopotentials,\n",
    "    \"pseudo_dir\": \"/home/wang_x3/datas/pseudos/xps/pbe\",\n",
    "    \"core_hole_pseudos\": core_hole_pseudos,\n",
    "    \"is_molecule\": True,\n",
    "}\n",
    "# corrections from https://github.com/superstar54/xps-data/blob/main/pseudo_demo/pseudo_demo_pbe/datas.py\n",
    "corrections = {\n",
    "        \"C\": 345.99 - 6.2,\n",
    "        \"O\": 676.47 - 8.25,\n",
    "        }\n",
    "# ===============================================================================\n",
    "wg = xps_workgraph(\n",
    "    atoms=atoms,\n",
    "    atoms_list=[(0, \"1s\"), (1, \"1s\"), (2, \"1s\"), (3, \"1s\")],\n",
    "    scf_inputs=scf_inputs,\n",
    "    corrections=corrections,\n",
    "    metadata=metadata,\n",
    ")\n",
    "wg.name = \"ASE-espresso-XPS-ETFA\"\n",
    "wg.submit(wait=True, timeout=300)"
   ]
  },
  {
   "cell_type": "markdown",
   "id": "a533e6c8",
   "metadata": {},
   "source": [
    "## Print the results\n"
   ]
  },
  {
   "cell_type": "code",
   "execution_count": 4,
   "id": "5a25d691",
   "metadata": {},
   "outputs": [
    {
     "name": "stdout",
     "output_type": "stream",
     "text": [
      "C_1s_0: 298.96 eV\n",
      "C_1s_1: 295.86 eV\n",
      "C_1s_2: 293.56 eV\n",
      "C_1s_3: 291.85 eV\n"
     ]
    }
   ],
   "source": [
    "for key, energy in wg.nodes[\"binding_energy\"].outputs[\"result\"].value.value.items():\n",
    "    print(f\"{key}: {energy:.2f} eV\")"
   ]
  }
 ],
 "metadata": {
  "kernelspec": {
   "display_name": "Python 3 (ipykernel)",
   "language": "python",
   "name": "python3"
  },
  "language_info": {
   "codemirror_mode": {
    "name": "ipython",
    "version": 3
   },
   "file_extension": ".py",
   "mimetype": "text/x-python",
   "name": "python",
   "nbconvert_exporter": "python",
   "pygments_lexer": "ipython3",
   "version": "3.10.0"
  },
  "vscode": {
   "interpreter": {
    "hash": "2f450c1ff08798c4974437dd057310afef0de414c25d1fd960ad375311c3f6ff"
   }
  }
 },
 "nbformat": 4,
 "nbformat_minor": 5
}
