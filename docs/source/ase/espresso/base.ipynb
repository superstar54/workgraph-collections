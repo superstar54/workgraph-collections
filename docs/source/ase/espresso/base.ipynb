{
 "cells": [
  {
   "cell_type": "markdown",
   "id": "22d177dc-6cfb-4de2-9509-f1eb45e10cf2",
   "metadata": {},
   "source": [
    "# Calculator\n",
    "\n",
    "## Introduction\n",
    "### pw\n",
    "The `pw_calculator` is the task to wrap the [espresso](https://wiki.fysik.dtu.dk/ase/ase/calculators/espresso.html#espresso) calculator. Let's visualize the task to find the inputs and outputs of the task.\n"
   ]
  },
  {
   "cell_type": "code",
   "execution_count": null,
   "id": "01bedd69",
   "metadata": {},
   "outputs": [
    {
     "data": {
      "application/vnd.jupyter.widget-view+json": {
       "model_id": "18717669efc747d3875d2884211120de",
       "version_major": 2,
       "version_minor": 1
      },
      "text/plain": [
       "NodeGraphWidget(settings={'minmap': False}, style={'width': '80%', 'height': '600px'}, value={'name': 'pw_calc…"
      ]
     },
     "execution_count": 2,
     "metadata": {},
     "output_type": "execute_result"
    }
   ],
   "source": [
    "from workgraph_collections.ase.espresso.pw import pw_calculator\n",
    "\n",
    "task = pw_calculator()._node\n",
    "task.to_html()"
   ]
  },
  {
   "cell_type": "markdown",
   "id": "34a32c1c",
   "metadata": {},
   "source": [
    "## dos"
   ]
  },
  {
   "cell_type": "code",
   "execution_count": 3,
   "id": "ade67b06",
   "metadata": {},
   "outputs": [
    {
     "data": {
      "text/html": [
       "\n",
       "        <iframe\n",
       "            width=\"100%\"\n",
       "            height=\"600px\"\n",
       "            src=\"html/dos_calculator.html\"\n",
       "            frameborder=\"0\"\n",
       "            allowfullscreen\n",
       "            \n",
       "        ></iframe>\n",
       "        "
      ],
      "text/plain": [
       "<IPython.lib.display.IFrame at 0x77b9279e4850>"
      ]
     },
     "execution_count": 3,
     "metadata": {},
     "output_type": "execute_result"
    }
   ],
   "source": [
    "from workgraph_collections.ase.espresso.base import dos_calculator\n",
    "\n",
    "task = dos_calculator()._node\n",
    "task.to_html()"
   ]
  },
  {
   "cell_type": "markdown",
   "id": "5e2737f1",
   "metadata": {},
   "source": [
    "## projwfc"
   ]
  },
  {
   "cell_type": "code",
   "execution_count": 4,
   "id": "3c1a4732",
   "metadata": {},
   "outputs": [
    {
     "data": {
      "text/html": [
       "\n",
       "        <iframe\n",
       "            width=\"100%\"\n",
       "            height=\"600px\"\n",
       "            src=\"html/projwfc_calculator.html\"\n",
       "            frameborder=\"0\"\n",
       "            allowfullscreen\n",
       "            \n",
       "        ></iframe>\n",
       "        "
      ],
      "text/plain": [
       "<IPython.lib.display.IFrame at 0x77b92606e1d0>"
      ]
     },
     "execution_count": 4,
     "metadata": {},
     "output_type": "execute_result"
    }
   ],
   "source": [
    "from workgraph_collections.ase.espresso.base import projwfc_calculator\n",
    "\n",
    "task = projwfc_calculator()._node\n",
    "task.to_html()"
   ]
  },
  {
   "cell_type": "markdown",
   "id": "61218e70",
   "metadata": {},
   "source": [
    "## pp"
   ]
  },
  {
   "cell_type": "code",
   "execution_count": 5,
   "id": "ccd79543",
   "metadata": {},
   "outputs": [
    {
     "data": {
      "text/html": [
       "\n",
       "        <iframe\n",
       "            width=\"100%\"\n",
       "            height=\"600px\"\n",
       "            src=\"html/pp_calculator.html\"\n",
       "            frameborder=\"0\"\n",
       "            allowfullscreen\n",
       "            \n",
       "        ></iframe>\n",
       "        "
      ],
      "text/plain": [
       "<IPython.lib.display.IFrame at 0x77b92609e1d0>"
      ]
     },
     "execution_count": 5,
     "metadata": {},
     "output_type": "execute_result"
    }
   ],
   "source": [
    "from workgraph_collections.ase.espresso.base import pp_calculator\n",
    "\n",
    "task = pp_calculator()._node\n",
    "task.to_html()"
   ]
  }
 ],
 "metadata": {
  "kernelspec": {
   "display_name": "aiida",
   "language": "python",
   "name": "python3"
  },
  "language_info": {
   "codemirror_mode": {
    "name": "ipython",
    "version": 3
   },
   "file_extension": ".py",
   "mimetype": "text/x-python",
   "name": "python",
   "nbconvert_exporter": "python",
   "pygments_lexer": "ipython3",
   "version": "3.11.0"
  }
 },
 "nbformat": 4,
 "nbformat_minor": 5
}
