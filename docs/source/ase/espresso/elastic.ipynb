{
 "cells": [
  {
   "cell_type": "markdown",
   "id": "22d177dc-6cfb-4de2-9509-f1eb45e10cf2",
   "metadata": {},
   "source": [
    "# Elastic tensors\n",
    "\n",
    "For the source code, see [elastic](https://workgraph-collections.readthedocs.io/en/latest/ase/espresso/module.html#workgraph_collections.ase.espresso.elastic.elastic_workgraph).\n",
    "\n",
    "## Visualizing the WorkGraph Builder\n"
   ]
  },
  {
   "cell_type": "code",
   "execution_count": null,
   "id": "1a8ebc0d",
   "metadata": {},
   "outputs": [],
   "source": [
    "from workgraph_collections.ase.espresso.elastic import elastic_workgraph\n",
    "\n",
    "node = elastic_workgraph.node()\n",
    "node.to_html()"
   ]
  },
  {
   "cell_type": "markdown",
   "id": "9e6360d8",
   "metadata": {},
   "source": [
    "## Visualizing the WorkGraph"
   ]
  },
  {
   "cell_type": "code",
   "execution_count": null,
   "id": "01bedd69",
   "metadata": {},
   "outputs": [],
   "source": [
    "from workgraph_collections.ase.espresso.elastic import elastic_workgraph\n",
    "from aiida import load_profile\n",
    "\n",
    "load_profile()\n",
    "\n",
    "wg = elastic_workgraph()\n",
    "wg.to_html()"
   ]
  },
  {
   "cell_type": "markdown",
   "id": "efa095d0",
   "metadata": {},
   "source": [
    "## Example: Silicon\n",
    "\n",
    "### Prepare the inputs and submit the workflow\n"
   ]
  },
  {
   "cell_type": "code",
   "execution_count": 15,
   "id": "8ee799d2-0b5b-4609-957f-6b3f2cd451f0",
   "metadata": {},
   "outputs": [
    {
     "name": "stdout",
     "output_type": "stream",
     "text": [
      "WorkGraph node created, PK: 62671\n"
     ]
    },
    {
     "data": {
      "text/plain": [
       "<WorkChainNode: uuid: b05ac0ef-aeda-4a42-8e50-18ad9621215c (pk: 62671) (aiida_workgraph.engine.workgraph.WorkGraphEngine)>"
      ]
     },
     "execution_count": 15,
     "metadata": {},
     "output_type": "execute_result"
    }
   ],
   "source": [
    "from ase.build import bulk\n",
    "from aiida import load_profile\n",
    "from workgraph_collections.ase.espresso.elastic import elastic_workgraph\n",
    "\n",
    "load_profile()\n",
    "\n",
    "# create input structure node\n",
    "atoms = bulk(\"Al\")\n",
    "\n",
    "metadata = {\n",
    "    \"options\": {\n",
    "        'prepend_text' : \"\"\"\n",
    "        module load cray/21.12  cpeIntel/21.12 QuantumESPRESSO/7.2\n",
    "        eval \"$(conda shell.posix hook)\"\n",
    "        conda activate aiida\n",
    "        export OMP_NUM_THREADS=1\n",
    "        \"\"\",\n",
    "    }\n",
    "}\n",
    "\n",
    "metadata_eiger = {\n",
    "    \"options\": {\n",
    "        \"custom_scheduler_commands\": \"#SBATCH --account=mr32\",\n",
    "        \"resources\": {\n",
    "            \"num_machines\": 1,\n",
    "            \"num_mpiprocs_per_machine\": 36,\n",
    "        },\n",
    "    }\n",
    "}\n",
    "\n",
    "pseudopotentials = {\"Al\": \"Al.pbe-nl-rrkjus_psl.1.0.0.UPF\"}\n",
    "pseudo_dir = \"/home/xing/data/ase/espresso_pseudo\"\n",
    "# pseudo_dir = \"/home/wang_x3/datas/pseudos/psl\"\n",
    "input_data = {\n",
    "    \"control\": {\"calculation\": \"relax\", \n",
    "                \"tstress\": True,\n",
    "                \"tprnfor\": True,\n",
    "                \"verbosity\": \"high\",\n",
    "                \"etot_conv_thr\": 1e-7,\n",
    "                \"forc_conv_thr\": 1.0e-6,\n",
    "                },\n",
    "    \"system\": {\"ecutwfc\": 40, \"ecutrho\": 320,\n",
    "               \"occupations\": \"smearing\",\n",
    "               \"smearing\": \"gaussian\",\n",
    "                \"degauss\": 0.01,\n",
    "                },\n",
    "    \"electrons\": {\"conv_thr\": 1e-11}\n",
    "}\n",
    "#------------------------- Set the inputs -------------------------\n",
    "wg = elastic_workgraph(atoms=atoms,\n",
    "                   computer=\"localhost\",\n",
    "                   command=\"mpirun -np 2 pw.x\",\n",
    "                   pseudopotentials=pseudopotentials,\n",
    "                   pseudo_dir=pseudo_dir,\n",
    "                   input_data=input_data,\n",
    "                   kpts=(24, 24, 24),\n",
    "                   metadata=metadata)\n",
    "#------------------------- Submit the calculation -------------------\n",
    "wg.submit(wait=True, timeout=300)\n"
   ]
  },
  {
   "cell_type": "code",
   "execution_count": 13,
   "id": "e14c98b4",
   "metadata": {},
   "outputs": [
    {
     "name": "stdout",
     "output_type": "stream",
     "text": [
      "Result: \n",
      "[[ 0.82  0.32  0.32 -0.   -0.03  0.03]\n",
      " [ 0.32  0.82  0.32  0.03 -0.   -0.03]\n",
      " [ 0.32  0.32  0.82 -0.03  0.03  0.  ]\n",
      " [ 0.    0.   -0.    0.24 -0.   -0.  ]\n",
      " [ 0.   -0.    0.    0.    0.24  0.  ]\n",
      " [-0.   -0.    0.    0.   -0.    0.24]]\n"
     ]
    }
   ],
   "source": [
    "#------------------------- Print the output -------------------------\n",
    "# 1 eV/Angstrom3 = 160.21766208 GPa\n",
    "import numpy as np\n",
    "print(\"Result: \")\n",
    "elastic_constants = wg.nodes[\"fit_elastic\"].outputs[\"result\"].value.value\n",
    "print(np.round(elastic_constants, 2))\n"
   ]
  }
 ],
 "metadata": {
  "kernelspec": {
   "display_name": "Python 3 (ipykernel)",
   "language": "python",
   "name": "python3"
  },
  "language_info": {
   "codemirror_mode": {
    "name": "ipython",
    "version": 3
   },
   "file_extension": ".py",
   "mimetype": "text/x-python",
   "name": "python",
   "nbconvert_exporter": "python",
   "pygments_lexer": "ipython3",
   "version": "3.11.0"
  },
  "vscode": {
   "interpreter": {
    "hash": "2f450c1ff08798c4974437dd057310afef0de414c25d1fd960ad375311c3f6ff"
   }
  }
 },
 "nbformat": 4,
 "nbformat_minor": 5
}
