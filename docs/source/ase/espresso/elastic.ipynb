{
 "cells": [
  {
   "cell_type": "markdown",
   "id": "22d177dc-6cfb-4de2-9509-f1eb45e10cf2",
   "metadata": {},
   "source": [
    "# Elastic constants\n",
    "\n",
    "For the source code, see [elastic](https://workgraph-collections.readthedocs.io/en/latest/ase/espresso/module.html#workgraph_collections.ase.espresso.elastic.elastic_workgraph).\n",
    "\n",
    "## Visualizing the WorkGraph Builder\n"
   ]
  },
  {
   "cell_type": "code",
   "execution_count": 1,
   "id": "1a8ebc0d",
   "metadata": {},
   "outputs": [
    {
     "data": {
      "text/html": [
       "\n",
       "        <iframe\n",
       "            width=\"100%\"\n",
       "            height=\"600px\"\n",
       "            src=\"html/elastic_workgraph0.html\"\n",
       "            frameborder=\"0\"\n",
       "            allowfullscreen\n",
       "            \n",
       "        ></iframe>\n",
       "        "
      ],
      "text/plain": [
       "<IPython.lib.display.IFrame at 0x7f16fdf2a920>"
      ]
     },
     "execution_count": 1,
     "metadata": {},
     "output_type": "execute_result"
    }
   ],
   "source": [
    "from workgraph_collections.ase.espresso.elastic import elastic_workgraph\n",
    "\n",
    "task = elastic_workgraph.task()\n",
    "task.to_html()"
   ]
  },
  {
   "cell_type": "markdown",
   "id": "9e6360d8",
   "metadata": {},
   "source": [
    "## Visualizing the WorkGraph"
   ]
  },
  {
   "cell_type": "code",
   "execution_count": 2,
   "id": "01bedd69",
   "metadata": {},
   "outputs": [
    {
     "data": {
      "text/html": [
       "\n",
       "        <iframe\n",
       "            width=\"100%\"\n",
       "            height=\"600px\"\n",
       "            src=\"html/Elastic.html\"\n",
       "            frameborder=\"0\"\n",
       "            allowfullscreen\n",
       "            \n",
       "        ></iframe>\n",
       "        "
      ],
      "text/plain": [
       "<IPython.lib.display.IFrame at 0x7f16fdf28df0>"
      ]
     },
     "execution_count": 2,
     "metadata": {},
     "output_type": "execute_result"
    }
   ],
   "source": [
    "from workgraph_collections.ase.espresso.elastic import elastic_workgraph\n",
    "from aiida import load_profile\n",
    "\n",
    "load_profile()\n",
    "\n",
    "wg = elastic_workgraph()\n",
    "wg.to_html()"
   ]
  },
  {
   "cell_type": "markdown",
   "id": "efa095d0",
   "metadata": {},
   "source": [
    "## Example: Aluminum\n",
    "\n",
    "\n",
    "### Prepare the inputs and submit the workflow\n"
   ]
  },
  {
   "cell_type": "code",
   "execution_count": 10,
   "id": "8ee799d2-0b5b-4609-957f-6b3f2cd451f0",
   "metadata": {},
   "outputs": [
    {
     "name": "stdout",
     "output_type": "stream",
     "text": [
      "WorkGraph process created, PK: 20671\n"
     ]
    },
    {
     "data": {
      "text/plain": [
       "<WorkChainNode: uuid: 2502d582-697a-4683-8839-cc8cace66188 (pk: 20671) (aiida_workgraph.engine.workgraph.WorkGraphEngine)>"
      ]
     },
     "execution_count": 10,
     "metadata": {},
     "output_type": "execute_result"
    }
   ],
   "source": [
    "from ase.build import bulk\n",
    "from aiida import load_profile\n",
    "from workgraph_collections.ase.espresso.elastic import elastic_workgraph\n",
    "\n",
    "load_profile()\n",
    "\n",
    "# create input structure\n",
    "atoms = bulk(\"Al\")\n",
    "\n",
    "\n",
    "metadata = {\n",
    "    \"options\": {\n",
    "        'prepend_text' : \"\"\"\n",
    "eval \"$(conda shell.posix hook)\"\n",
    "conda activate aiida\n",
    "export OMP_NUM_THREADS=1\n",
    "\"\"\",\n",
    "    }\n",
    "}\n",
    "\n",
    "pseudopotentials = {\"Al\": \"Al.pbe-nl-rrkjus_psl.1.0.0.UPF\"}\n",
    "# pseudo_dir = \"/home/xing/data/ase/espresso_pseudo\"\n",
    "pseudo_dir = \"/home/wang_x3/datas/pseudos/psl\"\n",
    "\n",
    "# we need use high conv_thr to get accurate elastic constants\n",
    "input_data = {\n",
    "    \"control\": {\"calculation\": \"relax\", \n",
    "                \"tstress\": True,\n",
    "                \"tprnfor\": True,\n",
    "                \"verbosity\": \"high\",\n",
    "                \"etot_conv_thr\": 1e-5,\n",
    "                \"forc_conv_thr\": 1.0e-5,\n",
    "                },\n",
    "    \"system\": {\"ecutwfc\": 40, \"ecutrho\": 320,\n",
    "               \"occupations\": \"smearing\",\n",
    "               \"smearing\": \"gaussian\",\n",
    "                \"degauss\": 0.01,\n",
    "                },\n",
    "    \"electrons\": {\"conv_thr\": 1e-11}\n",
    "}\n",
    "#------------------------- Set the inputs -------------------------\n",
    "wg = elastic_workgraph(atoms=atoms,\n",
    "                   computer=\"localhost\",\n",
    "                   command=\"mpirun -np 4 pw.x\",\n",
    "                   pseudopotentials=pseudopotentials,\n",
    "                   pseudo_dir=pseudo_dir,\n",
    "                   input_data=input_data,\n",
    "                   kpts=(30, 30, 30),\n",
    "                   metadata=metadata)\n",
    "#------------------------- Submit the calculation -------------------\n",
    "wg.submit(wait=True, timeout=500)\n"
   ]
  },
  {
   "cell_type": "code",
   "execution_count": 11,
   "id": "e14c98b4",
   "metadata": {},
   "outputs": [
    {
     "name": "stdout",
     "output_type": "stream",
     "text": [
      "Elastic constants: \n",
      "[[117.33  57.59  57.59  -0.    -4.2    4.2 ]\n",
      " [ 57.59 117.33  57.59   4.2    0.    -4.2 ]\n",
      " [ 57.59  57.59 117.33  -4.2    4.2   -0.  ]\n",
      " [  0.     0.    -0.    38.14  -0.    -0.  ]\n",
      " [  0.     0.    -0.    -0.    38.14  -0.  ]\n",
      " [ -0.    -0.    -0.    -0.    -0.    38.14]]\n"
     ]
    }
   ],
   "source": [
    "#------------------------- Print the output -------------------------\n",
    "import numpy as np\n",
    "elastic_constants = wg.tasks[\"fit_elastic\"].outputs[\"result\"].value.value\n",
    "# 1 eV/Angstrom3 = 160.21766208 GPa\n",
    "elastic_constants = elastic_constants * 160.21766208\n",
    "print(\"Elastic constants: \")\n",
    "print(np.round(elastic_constants, 2))\n"
   ]
  },
  {
   "cell_type": "markdown",
   "id": "25e5a469",
   "metadata": {},
   "source": [
    "The calcualted elastic constants of aluminum are C<sub>11</sub>=117.3 GPa, C<sub>12</sub>=57.6 GPa, and C<sub>44</sub>=38.1 GPa, compared to the values reported by [experiment](https://pubs.aip.org/aip/jap/article/35/6/1825/133322/Elastic-Constants-of-Aluminum): C<sub>11</sub>=116.3 GPa, C<sub>12</sub>=64.8 GPa, and C<sub>44</sub>=30.9 GPa."
   ]
  }
 ],
 "metadata": {
  "kernelspec": {
   "display_name": "Python 3 (ipykernel)",
   "language": "python",
   "name": "python3"
  },
  "language_info": {
   "codemirror_mode": {
    "name": "ipython",
    "version": 3
   },
   "file_extension": ".py",
   "mimetype": "text/x-python",
   "name": "python",
   "nbconvert_exporter": "python",
   "pygments_lexer": "ipython3",
   "version": "3.10.0"
  },
  "vscode": {
   "interpreter": {
    "hash": "2f450c1ff08798c4974437dd057310afef0de414c25d1fd960ad375311c3f6ff"
   }
  }
 },
 "nbformat": 4,
 "nbformat_minor": 5
}
