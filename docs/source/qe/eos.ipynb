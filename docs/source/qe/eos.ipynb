{
 "cells": [
  {
   "cell_type": "markdown",
   "id": "22d177dc-6cfb-4de2-9509-f1eb45e10cf2",
   "metadata": {},
   "source": [
    "# Equation of state (EOS)\n",
    "For the source code, see [eos](https://workgraph-collections.readthedocs.io/en/latest/qe/module.html#workgraph_collections.ase.espresso.eos.eos_workgraph).\n",
    "\n",
    "## Example: Silicon\n",
    "### Prepare the inputs and visualize the WorkGraph"
   ]
  },
  {
   "cell_type": "code",
   "execution_count": 6,
   "id": "8ee799d2-0b5b-4609-957f-6b3f2cd451f0",
   "metadata": {},
   "outputs": [
    {
     "data": {
      "text/html": [
       "\n",
       "        <iframe\n",
       "            width=\"100%\"\n",
       "            height=\"600px\"\n",
       "            src=\"html/EosWorkgraph.html\"\n",
       "            frameborder=\"0\"\n",
       "            allowfullscreen\n",
       "            \n",
       "        ></iframe>\n",
       "        "
      ],
      "text/plain": [
       "<IPython.lib.display.IFrame at 0x7b2ea1511210>"
      ]
     },
     "execution_count": 6,
     "metadata": {},
     "output_type": "execute_result"
    }
   ],
   "source": [
    "from aiida import load_profile, orm\n",
    "from ase.build import bulk\n",
    "from workgraph_collections.qe.eos import EosWorkgraph\n",
    "\n",
    "load_profile()\n",
    "\n",
    "structure = orm.StructureData(ase=bulk(\"Si\"))\n",
    "code = orm.load_code(\"pw-7.4@localhost\")\n",
    "parameters = {\n",
    "    \"CONTROL\": {\n",
    "        \"calculation\": \"scf\",\n",
    "    },\n",
    "    \"SYSTEM\": {\n",
    "        \"ecutwfc\": 30,\n",
    "        \"ecutrho\": 240,\n",
    "        \"occupations\": \"smearing\",\n",
    "        \"smearing\": \"gaussian\",\n",
    "        \"degauss\": 0.1,\n",
    "    },\n",
    "}\n",
    "# Load the pseudopotential family.\n",
    "pseudo_family = orm.load_group(\"SSSP/1.3/PBEsol/efficiency\")\n",
    "pseudos = pseudo_family.get_pseudos(structure=structure)\n",
    "kpoints = orm.KpointsData()\n",
    "kpoints.set_kpoints_mesh([3, 3, 3])\n",
    "#\n",
    "metadata = {\n",
    "    \"options\": {\n",
    "        \"resources\": {\n",
    "            \"num_machines\": 1,\n",
    "            \"num_mpiprocs_per_machine\": 1,\n",
    "        },\n",
    "    }\n",
    "}\n",
    "scf_inputs = {\n",
    "    \"pw\": {\n",
    "        \"code\": code,\n",
    "        \"parameters\": orm.Dict(parameters),\n",
    "        \"pseudos\": pseudos,\n",
    "        \"metadata\": metadata,\n",
    "    },\n",
    "    \"kpoints\": kpoints,\n",
    "}\n",
    "# ===============================================================================\n",
    "wg = EosWorkgraph.build(\n",
    "    structure=structure,\n",
    "    scales=[0.98, 0.99, 1.0, 1.01, 1.02],\n",
    "    scf_inputs=scf_inputs,\n",
    ")\n",
    "wg.to_html()"
   ]
  },
  {
   "cell_type": "markdown",
   "id": "4e61ea35",
   "metadata": {},
   "source": [
    "### Run the workflow"
   ]
  },
  {
   "cell_type": "code",
   "execution_count": 4,
   "id": "99092862",
   "metadata": {},
   "outputs": [
    {
     "name": "stderr",
     "output_type": "stream",
     "text": [
      "10/08/2025 11:02:15 AM <2482962> aiida.orm.nodes.process.workflow.workchain.WorkChainNode: [REPORT] [201574|WorkGraphEngine|continue_workgraph]: tasks ready to run: scale_structure\n",
      "10/08/2025 11:02:16 AM <2482962> aiida.orm.nodes.process.workflow.workchain.WorkChainNode: [REPORT] [201574|WorkGraphEngine|update_task_state]: Task: scale_structure, type: CALCFUNCTION, finished.\n",
      "10/08/2025 11:02:16 AM <2482962> aiida.orm.nodes.process.workflow.workchain.WorkChainNode: [REPORT] [201574|WorkGraphEngine|continue_workgraph]: tasks ready to run: all_scf\n",
      "10/08/2025 11:02:16 AM <2482962> aiida.orm.nodes.process.workflow.workchain.WorkChainNode: [REPORT] [201574|WorkGraphEngine|on_wait]: Process status: Waiting for child processes: 201582\n",
      "10/08/2025 11:02:17 AM <2482962> aiida.orm.nodes.process.workflow.workchain.WorkChainNode: [REPORT] [201582|WorkGraphEngine|continue_workgraph]: tasks ready to run: PwBaseWorkChain,PwBaseWorkChain1,PwBaseWorkChain2,PwBaseWorkChain3,PwBaseWorkChain4\n",
      "10/08/2025 11:02:20 AM <2482962> aiida.orm.nodes.process.workflow.workchain.WorkChainNode: [REPORT] [201582|WorkGraphEngine|on_wait]: Process status: Waiting for child processes: 201585, 201588, 201591, 201594, 201597\n",
      "10/08/2025 11:02:21 AM <2482962> aiida.orm.nodes.process.workflow.workchain.WorkChainNode: [REPORT] [201585|PwBaseWorkChain|run_process]: launching PwCalculation<201600> iteration #1\n",
      "10/08/2025 11:02:21 AM <2482962> aiida.orm.nodes.process.workflow.workchain.WorkChainNode: [REPORT] [201588|PwBaseWorkChain|run_process]: launching PwCalculation<201603> iteration #1\n",
      "10/08/2025 11:02:22 AM <2482962> aiida.orm.nodes.process.workflow.workchain.WorkChainNode: [REPORT] [201591|PwBaseWorkChain|run_process]: launching PwCalculation<201606> iteration #1\n",
      "10/08/2025 11:02:23 AM <2482962> aiida.orm.nodes.process.workflow.workchain.WorkChainNode: [REPORT] [201594|PwBaseWorkChain|run_process]: launching PwCalculation<201609> iteration #1\n",
      "10/08/2025 11:02:24 AM <2482962> aiida.orm.nodes.process.workflow.workchain.WorkChainNode: [REPORT] [201597|PwBaseWorkChain|run_process]: launching PwCalculation<201612> iteration #1\n",
      "10/08/2025 11:02:38 AM <2482962> aiida.orm.nodes.process.workflow.workchain.WorkChainNode: [REPORT] [201585|PwBaseWorkChain|results]: work chain completed after 1 iterations\n",
      "10/08/2025 11:02:38 AM <2482962> aiida.orm.nodes.process.workflow.workchain.WorkChainNode: [REPORT] [201585|PwBaseWorkChain|on_terminated]: remote folders will not be cleaned\n",
      "10/08/2025 11:02:39 AM <2482962> aiida.orm.nodes.process.workflow.workchain.WorkChainNode: [REPORT] [201582|WorkGraphEngine|update_task_state]: Task: PwBaseWorkChain, type: WORKCHAIN, finished.\n",
      "10/08/2025 11:02:40 AM <2482962> aiida.orm.nodes.process.workflow.workchain.WorkChainNode: [REPORT] [201582|WorkGraphEngine|continue_workgraph]: tasks ready to run: \n",
      "10/08/2025 11:02:40 AM <2482962> aiida.orm.nodes.process.workflow.workchain.WorkChainNode: [REPORT] [201582|WorkGraphEngine|on_wait]: Process status: Waiting for child processes: 201588, 201591, 201594, 201597\n",
      "10/08/2025 11:02:46 AM <2482962> aiida.orm.nodes.process.workflow.workchain.WorkChainNode: [REPORT] [201588|PwBaseWorkChain|results]: work chain completed after 1 iterations\n",
      "10/08/2025 11:02:46 AM <2482962> aiida.orm.nodes.process.workflow.workchain.WorkChainNode: [REPORT] [201588|PwBaseWorkChain|on_terminated]: remote folders will not be cleaned\n",
      "10/08/2025 11:02:47 AM <2482962> aiida.orm.nodes.process.workflow.workchain.WorkChainNode: [REPORT] [201591|PwBaseWorkChain|results]: work chain completed after 1 iterations\n",
      "10/08/2025 11:02:47 AM <2482962> aiida.orm.nodes.process.workflow.workchain.WorkChainNode: [REPORT] [201591|PwBaseWorkChain|on_terminated]: remote folders will not be cleaned\n",
      "10/08/2025 11:02:47 AM <2482962> aiida.orm.nodes.process.workflow.workchain.WorkChainNode: [REPORT] [201594|PwBaseWorkChain|results]: work chain completed after 1 iterations\n",
      "10/08/2025 11:02:48 AM <2482962> aiida.orm.nodes.process.workflow.workchain.WorkChainNode: [REPORT] [201594|PwBaseWorkChain|on_terminated]: remote folders will not be cleaned\n",
      "10/08/2025 11:02:48 AM <2482962> aiida.orm.nodes.process.workflow.workchain.WorkChainNode: [REPORT] [201597|PwBaseWorkChain|sanity_check_insufficient_bands]: PwCalculation<201612> run with smearing and highest band is occupied\n",
      "10/08/2025 11:02:48 AM <2482962> aiida.orm.nodes.process.workflow.workchain.WorkChainNode: [REPORT] [201597|PwBaseWorkChain|sanity_check_insufficient_bands]: BandsData<201635> has invalid occupations: Occupation of 0.00937999764792026 at last band lkn<0,0,8>\n",
      "10/08/2025 11:02:48 AM <2482962> aiida.orm.nodes.process.workflow.workchain.WorkChainNode: [REPORT] [201597|PwBaseWorkChain|sanity_check_insufficient_bands]: PwCalculation<201612> had insufficient bands\n",
      "10/08/2025 11:02:48 AM <2482962> aiida.orm.nodes.process.workflow.workchain.WorkChainNode: [REPORT] [201597|PwBaseWorkChain|sanity_check_insufficient_bands]: Action taken: increased number of bands to 12 and restarting from the previous charge density.\n",
      "10/08/2025 11:02:48 AM <2482962> aiida.orm.nodes.process.workflow.workchain.WorkChainNode: [REPORT] [201597|PwBaseWorkChain|inspect_process]: PwCalculation<201612> finished successfully but a handler was triggered, restarting\n",
      "10/08/2025 11:02:49 AM <2482962> aiida.orm.nodes.process.workflow.workchain.WorkChainNode: [REPORT] [201597|PwBaseWorkChain|run_process]: launching PwCalculation<201640> iteration #2\n",
      "10/08/2025 11:02:49 AM <2482962> aiida.orm.nodes.process.workflow.workchain.WorkChainNode: [REPORT] [201582|WorkGraphEngine|update_task_state]: Task: PwBaseWorkChain1, type: WORKCHAIN, finished.\n",
      "10/08/2025 11:02:49 AM <2482962> aiida.orm.nodes.process.workflow.workchain.WorkChainNode: [REPORT] [201582|WorkGraphEngine|update_task_state]: Task: PwBaseWorkChain2, type: WORKCHAIN, finished.\n",
      "10/08/2025 11:02:49 AM <2482962> aiida.orm.nodes.process.workflow.workchain.WorkChainNode: [REPORT] [201582|WorkGraphEngine|update_task_state]: Task: PwBaseWorkChain3, type: WORKCHAIN, finished.\n",
      "10/08/2025 11:02:50 AM <2482962> aiida.orm.nodes.process.workflow.workchain.WorkChainNode: [REPORT] [201582|WorkGraphEngine|continue_workgraph]: tasks ready to run: \n",
      "10/08/2025 11:02:50 AM <2482962> aiida.orm.nodes.process.workflow.workchain.WorkChainNode: [REPORT] [201582|WorkGraphEngine|on_wait]: Process status: Waiting for child processes: 201597\n",
      "10/08/2025 11:02:57 AM <2482962> aiida.orm.nodes.process.workflow.workchain.WorkChainNode: [REPORT] [201597|PwBaseWorkChain|results]: work chain completed after 2 iterations\n",
      "10/08/2025 11:02:57 AM <2482962> aiida.orm.nodes.process.workflow.workchain.WorkChainNode: [REPORT] [201597|PwBaseWorkChain|on_terminated]: remote folders will not be cleaned\n",
      "10/08/2025 11:02:57 AM <2482962> aiida.orm.nodes.process.workflow.workchain.WorkChainNode: [REPORT] [201582|WorkGraphEngine|update_task_state]: Task: PwBaseWorkChain4, type: WORKCHAIN, finished.\n",
      "10/08/2025 11:02:58 AM <2482962> aiida.orm.nodes.process.workflow.workchain.WorkChainNode: [REPORT] [201582|WorkGraphEngine|continue_workgraph]: tasks ready to run: \n",
      "10/08/2025 11:02:58 AM <2482962> aiida.orm.nodes.process.workflow.workchain.WorkChainNode: [REPORT] [201582|WorkGraphEngine|finalize]: Finalize workgraph.\n",
      "10/08/2025 11:02:58 AM <2482962> aiida.orm.nodes.process.workflow.workchain.WorkChainNode: [REPORT] [201574|WorkGraphEngine|update_task_state]: Task: all_scf, type: GRAPH, finished.\n",
      "10/08/2025 11:02:59 AM <2482962> aiida.orm.nodes.process.workflow.workchain.WorkChainNode: [REPORT] [201574|WorkGraphEngine|continue_workgraph]: tasks ready to run: fit_eos\n",
      "10/08/2025 11:03:00 AM <2482962> aiida.orm.nodes.process.workflow.workchain.WorkChainNode: [REPORT] [201574|WorkGraphEngine|update_task_state]: Task: fit_eos, type: CALCFUNCTION, finished.\n",
      "10/08/2025 11:03:00 AM <2482962> aiida.orm.nodes.process.workflow.workchain.WorkChainNode: [REPORT] [201574|WorkGraphEngine|continue_workgraph]: tasks ready to run: \n",
      "10/08/2025 11:03:00 AM <2482962> aiida.orm.nodes.process.workflow.workchain.WorkChainNode: [REPORT] [201574|WorkGraphEngine|finalize]: Finalize workgraph.\n"
     ]
    },
    {
     "data": {
      "text/plain": [
       "{'result': <Dict: uuid: a29908bc-8353-4ea4-85ac-6c9909e148d3 (pk: 201647)>}"
      ]
     },
     "execution_count": 4,
     "metadata": {},
     "output_type": "execute_result"
    }
   ],
   "source": [
    "wg.run()"
   ]
  },
  {
   "cell_type": "markdown",
   "id": "164a589f",
   "metadata": {},
   "source": [
    "## Print the results"
   ]
  },
  {
   "cell_type": "code",
   "execution_count": 5,
   "id": "64c3f175",
   "metadata": {},
   "outputs": [
    {
     "name": "stdout",
     "output_type": "stream",
     "text": [
      "\n",
      "Result: \n",
      "B: 83.918906760674\n",
      "v0: 40.947419077162\n",
      "e0: -308.18973202602\n",
      "v0: 40.947419077162\n"
     ]
    }
   ],
   "source": [
    "#------------------------- Print the output -------------------------\n",
    "data = wg.outputs.result.value.get_dict()\n",
    "print('\\nResult: \\nB: {B}\\nv0: {v0}\\ne0: {e0}\\nv0: {v0}'.format(**data))\n"
   ]
  }
 ],
 "metadata": {
  "kernelspec": {
   "display_name": "aiida",
   "language": "python",
   "name": "python3"
  },
  "language_info": {
   "codemirror_mode": {
    "name": "ipython",
    "version": 3
   },
   "file_extension": ".py",
   "mimetype": "text/x-python",
   "name": "python",
   "nbconvert_exporter": "python",
   "pygments_lexer": "ipython3",
   "version": "3.11.13"
  }
 },
 "nbformat": 4,
 "nbformat_minor": 5
}
