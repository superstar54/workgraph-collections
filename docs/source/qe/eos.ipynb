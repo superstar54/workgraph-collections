{
 "cells": [
  {
   "cell_type": "markdown",
   "id": "22d177dc-6cfb-4de2-9509-f1eb45e10cf2",
   "metadata": {},
   "source": [
    "# Equation of state (EOS)\n",
    "For the source code, see [eos](https://workgraph-collections.readthedocs.io/en/latest/qe/module.html#workgraph_collections.ase.espresso.eos.eos_workgraph).\n",
    "\n",
    "## Visualizing the WorkGraph Builder\n",
    "\n",
    "\n"
   ]
  },
  {
   "cell_type": "code",
   "execution_count": 1,
   "id": "b25d223b",
   "metadata": {},
   "outputs": [
    {
     "data": {
      "text/html": [
       "\n",
       "        <iframe\n",
       "            width=\"100%\"\n",
       "            height=\"600px\"\n",
       "            src=\"html/eos_workgraph0.html\"\n",
       "            frameborder=\"0\"\n",
       "            allowfullscreen\n",
       "            \n",
       "        ></iframe>\n",
       "        "
      ],
      "text/plain": [
       "<IPython.lib.display.IFrame at 0x7feecd8f8510>"
      ]
     },
     "execution_count": 1,
     "metadata": {},
     "output_type": "execute_result"
    }
   ],
   "source": [
    "from workgraph_collections.qe.eos import eos_workgraph\n",
    "from aiida import load_profile\n",
    "load_profile()\n",
    "\n",
    "task = eos_workgraph.TaskCls()\n",
    "task.to_html()"
   ]
  },
  {
   "cell_type": "markdown",
   "id": "f226a175",
   "metadata": {},
   "source": [
    "\n",
    "## Visualizing the WorkGraph"
   ]
  },
  {
   "cell_type": "code",
   "execution_count": 2,
   "id": "01bedd69",
   "metadata": {},
   "outputs": [
    {
     "data": {
      "text/html": [
       "\n",
       "        <iframe\n",
       "            width=\"100%\"\n",
       "            height=\"600px\"\n",
       "            src=\"html/EOS.html\"\n",
       "            frameborder=\"0\"\n",
       "            allowfullscreen\n",
       "            \n",
       "        ></iframe>\n",
       "        "
      ],
      "text/plain": [
       "<IPython.lib.display.IFrame at 0x7feecc263690>"
      ]
     },
     "execution_count": 2,
     "metadata": {},
     "output_type": "execute_result"
    }
   ],
   "source": [
    "from workgraph_collections.qe.eos import eos_workgraph\n",
    "from aiida import load_profile\n",
    "load_profile()\n",
    "\n",
    "wg = eos_workgraph()\n",
    "wg.to_html()"
   ]
  },
  {
   "cell_type": "markdown",
   "id": "efa095d0",
   "metadata": {},
   "source": [
    "## Example: Silicon\n",
    "### Prepare the inputs and submit the workflow\n"
   ]
  },
  {
   "cell_type": "code",
   "execution_count": 3,
   "id": "8ee799d2-0b5b-4609-957f-6b3f2cd451f0",
   "metadata": {},
   "outputs": [
    {
     "name": "stdout",
     "output_type": "stream",
     "text": [
      "WorkGraph process created, PK: 54748\n"
     ]
    },
    {
     "data": {
      "text/plain": [
       "<WorkChainNode: uuid: 7c17abf8-237d-4f47-98ad-3b54b77e5f36 (pk: 54748) (aiida_workgraph.engine.workgraph.WorkGraphEngine)>"
      ]
     },
     "execution_count": 3,
     "metadata": {},
     "output_type": "execute_result"
    }
   ],
   "source": [
    "from aiida import load_profile, orm\n",
    "from ase.build import bulk\n",
    "from workgraph_collections.qe.eos import eos_workgraph\n",
    "\n",
    "load_profile()\n",
    "\n",
    "structure = orm.StructureData(ase=bulk(\"Si\"))\n",
    "code = orm.load_code(\"qe-7.2-pw@localhost\")\n",
    "parameters = {\n",
    "    \"CONTROL\": {\n",
    "        \"calculation\": \"scf\",\n",
    "    },\n",
    "    \"SYSTEM\": {\n",
    "        \"ecutwfc\": 30,\n",
    "        \"ecutrho\": 240,\n",
    "        \"occupations\": \"smearing\",\n",
    "        \"smearing\": \"gaussian\",\n",
    "        \"degauss\": 0.1,\n",
    "    },\n",
    "}\n",
    "# Load the pseudopotential family.\n",
    "pseudo_family = orm.load_group(\"SSSP/1.3/PBEsol/efficiency\")\n",
    "pseudos = pseudo_family.get_pseudos(structure=structure)\n",
    "kpoints = orm.KpointsData()\n",
    "kpoints.set_kpoints_mesh([3, 3, 3])\n",
    "#\n",
    "metadata = {\n",
    "    \"options\": {\n",
    "        \"resources\": {\n",
    "            \"num_machines\": 1,\n",
    "            \"num_mpiprocs_per_machine\": 1,\n",
    "        },\n",
    "    }\n",
    "}\n",
    "\n",
    "# ===============================================================================\n",
    "wg = eos_workgraph(\n",
    "    structure=structure,\n",
    "    code=code,\n",
    "    scales=[0.98, 0.99, 1.0, 1.01, 1.02],\n",
    "    parameters=parameters,\n",
    "    kpoints=kpoints,\n",
    "    pseudos=pseudos,\n",
    "    metadata=metadata,\n",
    ")\n",
    "wg.name = \"QE-EOS-Si\"\n",
    "#------------------------- Submit the calculation -------------------\n",
    "wg.submit(wait=True, timeout=300)\n"
   ]
  },
  {
   "cell_type": "markdown",
   "id": "164a589f",
   "metadata": {},
   "source": [
    "## Print the results"
   ]
  },
  {
   "cell_type": "code",
   "execution_count": 7,
   "id": "64c3f175",
   "metadata": {},
   "outputs": [
    {
     "name": "stdout",
     "output_type": "stream",
     "text": [
      "\n",
      "Result: \n",
      "B: 83.930472220007\n",
      "v0: 40.947349586558\n",
      "e0: -308.18973212512\n",
      "v0: 40.947349586558\n"
     ]
    }
   ],
   "source": [
    "#------------------------- Print the output -------------------------\n",
    "data = wg.tasks[\"fit_eos\"].outputs[\"result\"].value.get_dict()\n",
    "print('\\nResult: \\nB: {B}\\nv0: {v0}\\ne0: {e0}\\nv0: {v0}'.format(**data))\n"
   ]
  }
 ],
 "metadata": {
  "kernelspec": {
   "display_name": "Python 3 (ipykernel)",
   "language": "python",
   "name": "python3"
  },
  "language_info": {
   "codemirror_mode": {
    "name": "ipython",
    "version": 3
   },
   "file_extension": ".py",
   "mimetype": "text/x-python",
   "name": "python",
   "nbconvert_exporter": "python",
   "pygments_lexer": "ipython3",
   "version": "3.11.0"
  },
  "vscode": {
   "interpreter": {
    "hash": "2f450c1ff08798c4974437dd057310afef0de414c25d1fd960ad375311c3f6ff"
   }
  }
 },
 "nbformat": 4,
 "nbformat_minor": 5
}
