{
 "cells": [
  {
   "cell_type": "markdown",
   "id": "22d177dc-6cfb-4de2-9509-f1eb45e10cf2",
   "metadata": {},
   "source": [
    "# Bader Charge\n",
    "\n",
    "For the source code, see [bader](https://workgraph-collections.readthedocs.io/en/latest/qe/module.html#workgraph_collections.ase.espresso.bader.bader_workgraph).\n",
    "\n",
    "\n",
    "## Visualizing the WorkGraph Builder\n"
   ]
  },
  {
   "cell_type": "code",
   "execution_count": 1,
   "id": "6be40ba7",
   "metadata": {},
   "outputs": [
    {
     "data": {
      "text/html": [
       "\n",
       "        <iframe\n",
       "            width=\"100%\"\n",
       "            height=\"600px\"\n",
       "            src=\"html/bader_workgraph0.html\"\n",
       "            frameborder=\"0\"\n",
       "            allowfullscreen\n",
       "            \n",
       "        ></iframe>\n",
       "        "
      ],
      "text/plain": [
       "<IPython.lib.display.IFrame at 0x7eeb2d467c90>"
      ]
     },
     "execution_count": 1,
     "metadata": {},
     "output_type": "execute_result"
    }
   ],
   "source": [
    "from workgraph_collections.qe.bader import bader_workgraph\n",
    "from aiida import load_profile\n",
    "load_profile()\n",
    "\n",
    "node = bader_workgraph.node()\n",
    "node.to_html()"
   ]
  },
  {
   "cell_type": "markdown",
   "id": "9e6360d8",
   "metadata": {},
   "source": [
    "## Visualizing the WorkGraph"
   ]
  },
  {
   "cell_type": "code",
   "execution_count": 2,
   "id": "01bedd69",
   "metadata": {},
   "outputs": [
    {
     "name": "stderr",
     "output_type": "stream",
     "text": [
      "/home/xing/miniconda3/envs/aiida/lib/python3.11/site-packages/aiida/engine/processes/ports.py:148: UserWarning: default of input port `charge_density_filename` is a `Node` instance, which can lead to unexpected side effects. It is advised to use a lambda instead, e.g.: `default=lambda: orm.Int(5)`.\n",
      "  warnings.warn(UserWarning(message))\n",
      "/home/xing/miniconda3/envs/aiida/lib/python3.11/site-packages/aiida/engine/processes/ports.py:148: UserWarning: default of input port `reference_charge_density_filename` is a `Node` instance, which can lead to unexpected side effects. It is advised to use a lambda instead, e.g.: `default=lambda: orm.Int(5)`.\n",
      "  warnings.warn(UserWarning(message))\n"
     ]
    },
    {
     "data": {
      "text/html": [
       "\n",
       "        <iframe\n",
       "            width=\"100%\"\n",
       "            height=\"600px\"\n",
       "            src=\"html/BaderCharge.html\"\n",
       "            frameborder=\"0\"\n",
       "            allowfullscreen\n",
       "            \n",
       "        ></iframe>\n",
       "        "
      ],
      "text/plain": [
       "<IPython.lib.display.IFrame at 0x7eebf8339d50>"
      ]
     },
     "execution_count": 2,
     "metadata": {},
     "output_type": "execute_result"
    }
   ],
   "source": [
    "from workgraph_collections.qe.bader import bader_workgraph\n",
    "\n",
    "wg = bader_workgraph()\n",
    "wg.to_html()"
   ]
  },
  {
   "cell_type": "markdown",
   "id": "efa095d0",
   "metadata": {},
   "source": [
    "## Example: H2O molecule\n",
    "\n",
    "### Prepare the inputs and submit the workflow\n"
   ]
  },
  {
   "cell_type": "code",
   "execution_count": 8,
   "id": "8ee799d2-0b5b-4609-957f-6b3f2cd451f0",
   "metadata": {},
   "outputs": [
    {
     "name": "stdout",
     "output_type": "stream",
     "text": [
      "WorkGraph node created, PK: 53980\n",
      "Bader charges:\n",
      "Index    Symbol    Charge\n",
      "    0    O        7.147\n",
      "    1    H        0.427\n",
      "    2    H        0.427\n"
     ]
    }
   ],
   "source": [
    "from aiida import load_profile\n",
    "from aiida.orm import Dict, KpointsData, StructureData, load_code\n",
    "from aiida_pseudo.data.pseudo import UpfData\n",
    "from ase.build import molecule\n",
    "from workgraph_collections.qe.bader import bader_workgraph\n",
    "\n",
    "\n",
    "load_profile()\n",
    "#===============================================================================\n",
    "# load the codes\n",
    "pw_code = load_code(\"qe-7.2-pw@localhost\")\n",
    "pp_code = load_code(\"qe-7.2-pp@localhost\")\n",
    "bader_code = load_code(\"bader@localhost\")\n",
    "# ===============================================================================\n",
    "# create input structure node\n",
    "atoms = molecule(\"H2O\")\n",
    "atoms.center(vacuum=3.0)\n",
    "atoms.pbc = True\n",
    "structure = StructureData(ase=atoms)\n",
    "# create input parameters node\n",
    "scf_paras = Dict(\n",
    "    {\n",
    "        \"CONTROL\": {\n",
    "            \"calculation\": \"scf\",\n",
    "        },\n",
    "        \"SYSTEM\": {\n",
    "            \"ecutwfc\": 30,\n",
    "            \"ecutrho\": 240,\n",
    "            \"occupations\": \"smearing\",\n",
    "            \"smearing\": \"gaussian\",\n",
    "            \"degauss\": 0.1,\n",
    "        },\n",
    "    }\n",
    ")\n",
    "kpoints = KpointsData()\n",
    "kpoints.set_kpoints_mesh([1, 1, 1])\n",
    "# Load the pseudopotential kjpaw.\n",
    "pseudos = {\"H\": UpfData(\"/home/xing/data/ase/espresso_pseudo/kjpaw/H.pbe-kjpaw_psl.1.0.0.UPF\"),\n",
    "           \"O\": UpfData(\"/home/xing/data/ase/espresso_pseudo/kjpaw/O.pbe-n-kjpaw_psl.1.0.0.UPF\")}\n",
    "#\n",
    "#\n",
    "metadata = {\n",
    "    \"options\": {\n",
    "        \"resources\": {\n",
    "            \"num_machines\": 1,\n",
    "            \"num_mpiprocs_per_machine\": 1,\n",
    "        },\n",
    "    }\n",
    "}\n",
    "# ===============================================================================\n",
    "inputs = {\"scf\":{\n",
    "                \"pw\": {\n",
    "                    \"parameters\": scf_paras,\n",
    "                    \"pseudos\": pseudos,\n",
    "                    \"metadata\": metadata\n",
    "                },\n",
    "                \"kpoints\": kpoints,\n",
    "            },\n",
    "\n",
    "        \"pp_valence\": {\n",
    "                \"parameters\": Dict({\n",
    "                        \"INPUTPP\": {\"plot_num\": 0},\n",
    "                        \"PLOT\": {\"iflag\": 3},\n",
    "                    }),\n",
    "                \"metadata\": metadata,\n",
    "        },\n",
    "        \"pp_all\": {\n",
    "                \"parameters\": Dict({\n",
    "                        \"INPUTPP\": {\"plot_num\": 21},\n",
    "                        \"PLOT\": {\"iflag\": 3},\n",
    "                    }),\n",
    "                \"metadata\": metadata,\n",
    "        },\n",
    "        \"bader\": {\n",
    "            \"metadata\": metadata,\n",
    "        }\n",
    "}\n",
    "# prepare inputs and submit\n",
    "wg = bader_workgraph(structure=structure, pw_code=pw_code,\n",
    "                     pp_code=pp_code, bader_code=bader_code,\n",
    "                     inputs=inputs)\n",
    "wg.submit(wait=True, timeout=300)\n",
    "#------------------------- Print the output -------------------------\n",
    "charges = wg.tasks[\"bader\"].node.outputs.bader_charge.get_array(\"charge\")\n",
    "print(\"Bader charges:\")\n",
    "print(\"Index    Symbol    Charge\")\n",
    "for i, charge in enumerate(charges):\n",
    "    print(f\"{i:5d}    {atoms.get_chemical_symbols()[i]:5s}    {charge:5.3f}\")\n"
   ]
  }
 ],
 "metadata": {
  "kernelspec": {
   "display_name": "Python 3 (ipykernel)",
   "language": "python",
   "name": "python3"
  },
  "language_info": {
   "codemirror_mode": {
    "name": "ipython",
    "version": 3
   },
   "file_extension": ".py",
   "mimetype": "text/x-python",
   "name": "python",
   "nbconvert_exporter": "python",
   "pygments_lexer": "ipython3",
   "version": "3.1.-1"
  },
  "vscode": {
   "interpreter": {
    "hash": "2f450c1ff08798c4974437dd057310afef0de414c25d1fd960ad375311c3f6ff"
   }
  }
 },
 "nbformat": 4,
 "nbformat_minor": 5
}
