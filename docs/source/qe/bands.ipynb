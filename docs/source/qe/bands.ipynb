{
 "cells": [
  {
   "cell_type": "markdown",
   "id": "22d177dc-6cfb-4de2-9509-f1eb45e10cf2",
   "metadata": {},
   "source": [
    "# Bands WorkGraph"
   ]
  },
  {
   "cell_type": "markdown",
   "id": "a559242a",
   "metadata": {},
   "source": [
    "## Introduction\n",
    "In this tutorial, you will use `AiiDA-WorkGraph` to carry out a DFT calculation using Quantum ESPRESSO.\n",
    "\n",
    "## Requirements\n",
    "To run this tutorial, you need to install `aiida-quantumespresso` and `aiida-pseudo`. Open a terminal and run:\n",
    "\n",
    "```console\n",
    "pip install aiida-quantumespresso aiida-pseudo\n",
    "aiida-pseudo install sssp -x PBEsol\n",
    "```\n",
    "\n",
    "Then, restart the AiiDA daemon.\n",
    "```console\n",
    "verdi daemon restart --reset\n",
    "```\n"
   ]
  },
  {
   "cell_type": "markdown",
   "id": "9e6360d8",
   "metadata": {},
   "source": [
    "## Visualizing the WorkGraph"
   ]
  },
  {
   "cell_type": "code",
   "execution_count": 2,
   "id": "01bedd69",
   "metadata": {},
   "outputs": [
    {
     "data": {
      "text/html": [
       "\n",
       "        <iframe\n",
       "            width=\"100%\"\n",
       "            height=\"600px\"\n",
       "            src=\"html/WorkGraph.html\"\n",
       "            frameborder=\"0\"\n",
       "            allowfullscreen\n",
       "            \n",
       "        ></iframe>\n",
       "        "
      ],
      "text/plain": [
       "<IPython.lib.display.IFrame at 0x7d582ad92e10>"
      ]
     },
     "execution_count": 2,
     "metadata": {},
     "output_type": "execute_result"
    }
   ],
   "source": [
    "from workgraph_collections.qe.bands import bands_workgraph\n",
    "from aiida import load_profile\n",
    "load_profile()\n",
    "\n",
    "wg = bands_workgraph()\n",
    "wg.to_html()"
   ]
  },
  {
   "cell_type": "markdown",
   "id": "efa095d0",
   "metadata": {},
   "source": [
    "### Prepare the inputs and submit the workflow\n"
   ]
  },
  {
   "cell_type": "code",
   "execution_count": null,
   "id": "8ee799d2-0b5b-4609-957f-6b3f2cd451f0",
   "metadata": {},
   "outputs": [],
   "source": [
    "from aiida import load_profile\n",
    "from aiida.orm import Dict, KpointsData, StructureData, load_code, load_group\n",
    "from ase.build import molecule\n",
    "\n",
    "load_profile()\n",
    "# create input structure node\n",
    "mol = molecule(\"N2\")\n",
    "mol.center(vacuum=1.5)\n",
    "mol.pbc = True\n",
    "structure_n2 = StructureData(ase=mol)\n",
    "# create the PW node\n",
    "code = load_code(\"qe-7.2-pw@localhost\")\n",
    "paras = Dict({\n",
    "        \"CONTROL\": {\n",
    "            \"calculation\": \"scf\",\n",
    "        },\n",
    "        \"SYSTEM\": {\n",
    "            \"ecutwfc\": 30,\n",
    "            \"ecutrho\": 240,\n",
    "            \"occupations\": \"smearing\",\n",
    "            \"smearing\": \"gaussian\",\n",
    "            \"degauss\": 0.1,\n",
    "        },\n",
    "    })\n",
    "kpoints = KpointsData()\n",
    "kpoints.set_kpoints_mesh([1, 1, 1])\n",
    "# Load the pseudopotential family.\n",
    "pseudo_family = load_group('SSSP/1.3/PBEsol/efficiency')\n",
    "pseudos = pseudo_family.get_pseudos(structure=structure_n2)\n",
    "#\n",
    "metadata = {\n",
    "    'options': {'resources': {\n",
    "                'num_machines': 1,\n",
    "                'num_mpiprocs_per_machine': 1,\n",
    "            },\n",
    "        }\n",
    "    }\n",
    "\n",
    "#------------------------- Set the inputs -------------------------\n",
    "pw1.set({\"code\": code,\n",
    "         \"structure\": structure_n2,\n",
    "        \"parameters\": paras,\n",
    "        \"kpoints\": kpoints,\n",
    "        \"pseudos\": pseudos,\n",
    "        \"metadata\": metadata\n",
    "        })\n",
    "#------------------------- Submit the calculation -------------------------\n",
    "wg.submit(wait=True, timeout=200)\n",
    "#------------------------- Print the output -------------------------\n",
    "print('Energy of an un-relaxed N2 molecule: {:0.3f}'.format(pw1.outputs[\"output_parameters\"].value.get_dict()[\"energy\"]))\n"
   ]
  },
  {
   "cell_type": "markdown",
   "id": "125ac629",
   "metadata": {},
   "source": [
    "Generate node graph from the AiiDA process:"
   ]
  },
  {
   "cell_type": "code",
   "execution_count": null,
   "id": "0060e380",
   "metadata": {},
   "outputs": [],
   "source": [
    "from aiida_workgraph.utils import generate_node_graph\n",
    "generate_node_graph(wg.pk)"
   ]
  }
 ],
 "metadata": {
  "kernelspec": {
   "display_name": "Python 3 (ipykernel)",
   "language": "python",
   "name": "python3"
  },
  "language_info": {
   "codemirror_mode": {
    "name": "ipython",
    "version": 3
   },
   "file_extension": ".py",
   "mimetype": "text/x-python",
   "name": "python",
   "nbconvert_exporter": "python",
   "pygments_lexer": "ipython3",
   "version": "3.11.0"
  },
  "vscode": {
   "interpreter": {
    "hash": "2f450c1ff08798c4974437dd057310afef0de414c25d1fd960ad375311c3f6ff"
   }
  }
 },
 "nbformat": 4,
 "nbformat_minor": 5
}
