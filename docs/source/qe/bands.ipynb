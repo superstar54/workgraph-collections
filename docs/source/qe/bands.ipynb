{
 "cells": [
  {
   "cell_type": "markdown",
   "id": "22d177dc-6cfb-4de2-9509-f1eb45e10cf2",
   "metadata": {},
   "source": [
    "# Bands Structure"
   ]
  },
  {
   "cell_type": "markdown",
   "id": "a559242a",
   "metadata": {},
   "source": [
    "## Introduction\n",
    "\n",
    "## Visualizing the WorkGraph Builder\n",
    "\n"
   ]
  },
  {
   "cell_type": "code",
   "execution_count": 1,
   "id": "c052509f",
   "metadata": {},
   "outputs": [
    {
     "data": {
      "text/html": [
       "\n",
       "        <iframe\n",
       "            width=\"100%\"\n",
       "            height=\"600px\"\n",
       "            src=\"html/bands_workgraph0.html\"\n",
       "            frameborder=\"0\"\n",
       "            allowfullscreen\n",
       "            \n",
       "        ></iframe>\n",
       "        "
      ],
      "text/plain": [
       "<IPython.lib.display.IFrame at 0x7d8dfeaea9d0>"
      ]
     },
     "execution_count": 1,
     "metadata": {},
     "output_type": "execute_result"
    }
   ],
   "source": [
    "from workgraph_collections.qe.bands import bands_workgraph\n",
    "from aiida import load_profile\n",
    "load_profile()\n",
    "\n",
    "node = bands_workgraph.node()\n",
    "node.to_html()"
   ]
  },
  {
   "cell_type": "markdown",
   "id": "9e6360d8",
   "metadata": {},
   "source": [
    "## Visualizing the WorkGraph"
   ]
  },
  {
   "cell_type": "code",
   "execution_count": 2,
   "id": "01bedd69",
   "metadata": {},
   "outputs": [
    {
     "data": {
      "text/html": [
       "\n",
       "        <iframe\n",
       "            width=\"100%\"\n",
       "            height=\"600px\"\n",
       "            src=\"html/BandsStructure.html\"\n",
       "            frameborder=\"0\"\n",
       "            allowfullscreen\n",
       "            \n",
       "        ></iframe>\n",
       "        "
      ],
      "text/plain": [
       "<IPython.lib.display.IFrame at 0x7d8e00cbe350>"
      ]
     },
     "execution_count": 2,
     "metadata": {},
     "output_type": "execute_result"
    }
   ],
   "source": [
    "from workgraph_collections.qe.bands import bands_workgraph\n",
    "from aiida import load_profile\n",
    "load_profile()\n",
    "\n",
    "wg = bands_workgraph(run_relax=True)\n",
    "wg.to_html()"
   ]
  },
  {
   "cell_type": "markdown",
   "id": "efa095d0",
   "metadata": {},
   "source": [
    "## Example: Silicon band structure\n",
    "### Prepare the inputs and submit the workflow\n"
   ]
  },
  {
   "cell_type": "code",
   "execution_count": 3,
   "id": "8ee799d2-0b5b-4609-957f-6b3f2cd451f0",
   "metadata": {},
   "outputs": [
    {
     "name": "stdout",
     "output_type": "stream",
     "text": [
      "WorkGraph node created, PK: 16115\n"
     ]
    },
    {
     "data": {
      "text/plain": [
       "<WorkChainNode: uuid: b173cc7f-b75a-48bc-a46a-3a0a4fcc6fa7 (pk: 16115) (aiida_workgraph.engine.workgraph.WorkGraphEngine)>"
      ]
     },
     "execution_count": 3,
     "metadata": {},
     "output_type": "execute_result"
    }
   ],
   "source": [
    "from copy import deepcopy\n",
    "\n",
    "from aiida import load_profile\n",
    "from aiida.orm import Dict, Float, KpointsData, StructureData, load_code\n",
    "from aiida_workgraph import WorkGraph\n",
    "from ase.build import bulk\n",
    "\n",
    "from workgraph_collections.qe.bands import bands_workgraph\n",
    "\n",
    "load_profile()\n",
    "\n",
    "atoms = bulk('Si')\n",
    "structure_si = StructureData(ase=atoms)\n",
    "\n",
    "pw_code = load_code('qe-7.2-pw@localhost')\n",
    "scf_paras = {\n",
    "    'CONTROL': {\n",
    "        'calculation': 'scf',\n",
    "    },\n",
    "    'SYSTEM': {\n",
    "        'ecutwfc': 30,\n",
    "        'ecutrho': 240,\n",
    "        'occupations': 'smearing',\n",
    "        'smearing': 'gaussian',\n",
    "        'degauss': 0.1,\n",
    "    },\n",
    "}\n",
    "relax_paras = deepcopy(scf_paras)\n",
    "relax_paras['CONTROL']['calculation'] = 'vc-relax'\n",
    "bands_paras = deepcopy(scf_paras)\n",
    "bands_paras['CONTROL']['calculation'] = 'bands'\n",
    "\n",
    "kpoints = KpointsData()\n",
    "kpoints.set_kpoints_mesh([3, 3, 3])\n",
    "\n",
    "#\n",
    "metadata = {\n",
    "    'options': {\n",
    "        'resources': {\n",
    "            'num_machines': 1,\n",
    "            'num_mpiprocs_per_machine': 1,\n",
    "        },\n",
    "    }\n",
    "}\n",
    "\n",
    "bands_inputs = {\n",
    "    'relax': {\n",
    "        'base': {\n",
    "            'pw': {\n",
    "                'parameters': Dict(relax_paras),\n",
    "                'metadata': metadata,\n",
    "            },\n",
    "            'kpoints': kpoints,\n",
    "        },\n",
    "    },\n",
    "    'scf': {\n",
    "        'pw': {\n",
    "            'parameters': Dict(scf_paras),\n",
    "            'metadata': metadata,\n",
    "        },\n",
    "        'kpoints': kpoints,\n",
    "    },\n",
    "    'bands': {\n",
    "        'pw': {\n",
    "            'parameters': Dict(bands_paras),\n",
    "            'metadata': metadata,\n",
    "        },\n",
    "        'kpoints': kpoints,\n",
    "    },\n",
    "}\n",
    "\n",
    "wg = WorkGraph('Bands')\n",
    "wg = bands_workgraph(\n",
    "    structure=structure_si,\n",
    "    code=pw_code,\n",
    "    inputs=bands_inputs,\n",
    "    pseudo_family='SSSP/1.3/PBEsol/efficiency',\n",
    "    run_relax=True,\n",
    "    bands_kpoints_distance=Float(0.2),\n",
    ")\n",
    "wg.submit(wait=True, timeout=300)\n"
   ]
  }
 ],
 "metadata": {
  "kernelspec": {
   "display_name": "Python 3 (ipykernel)",
   "language": "python",
   "name": "python3"
  },
  "language_info": {
   "codemirror_mode": {
    "name": "ipython",
    "version": 3
   },
   "file_extension": ".py",
   "mimetype": "text/x-python",
   "name": "python",
   "nbconvert_exporter": "python",
   "pygments_lexer": "ipython3",
   "version": "3.11.0"
  },
  "vscode": {
   "interpreter": {
    "hash": "2f450c1ff08798c4974437dd057310afef0de414c25d1fd960ad375311c3f6ff"
   }
  }
 },
 "nbformat": 4,
 "nbformat_minor": 5
}
