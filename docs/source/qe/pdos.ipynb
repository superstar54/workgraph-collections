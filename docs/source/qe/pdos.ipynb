{
 "cells": [
  {
   "cell_type": "markdown",
   "id": "22d177dc-6cfb-4de2-9509-f1eb45e10cf2",
   "metadata": {},
   "source": [
    "# Projected density of states (PDOS)\n",
    "For the source code, see [pdos](https://workgraph-collections.readthedocs.io/en/latest/qe/module.html#workgraph_collections.ase.espresso.pdos.pdos_workgraph).\n",
    "\n",
    "## Example: Silicon\n",
    "\n",
    "### Prepare the inputs "
   ]
  },
  {
   "cell_type": "code",
   "execution_count": 1,
   "id": "8ee799d2-0b5b-4609-957f-6b3f2cd451f0",
   "metadata": {},
   "outputs": [
    {
     "data": {
      "text/html": [
       "\n",
       "        <iframe\n",
       "            width=\"100%\"\n",
       "            height=\"600px\"\n",
       "            src=\"html/PdosWorkGraph.html\"\n",
       "            frameborder=\"0\"\n",
       "            allowfullscreen\n",
       "            \n",
       "        ></iframe>\n",
       "        "
      ],
      "text/plain": [
       "<IPython.lib.display.IFrame at 0x73bd70c5f210>"
      ]
     },
     "execution_count": 1,
     "metadata": {},
     "output_type": "execute_result"
    }
   ],
   "source": [
    "from copy import deepcopy\n",
    "from aiida import load_profile\n",
    "from aiida.orm import Dict, KpointsData, StructureData, load_code, load_group\n",
    "from ase.build import bulk\n",
    "\n",
    "from workgraph_collections.qe.pdos import PdosWorkGraph\n",
    "\n",
    "load_profile()\n",
    "\n",
    "atoms = bulk('Si')\n",
    "structure_si = StructureData(ase=atoms)\n",
    "\n",
    "pw_code = load_code('pw-7.4@localhost')\n",
    "dos_code = load_code('dos-7.4@localhost')\n",
    "projwfc_code = load_code('projwfc-7.4@localhost')\n",
    "paras = {\n",
    "    'CONTROL': {\n",
    "        'calculation': 'scf',\n",
    "    },\n",
    "    'SYSTEM': {\n",
    "        'ecutwfc': 30,\n",
    "        'ecutrho': 240,\n",
    "        'occupations': 'smearing',\n",
    "        'smearing': 'gaussian',\n",
    "        'degauss': 0.1,\n",
    "    },\n",
    "}\n",
    "nscf_paras = deepcopy(paras)\n",
    "nscf_paras['CONTROL']['calculation'] = 'nscf'\n",
    "nscf_paras['SYSTEM']['occupations'] = 'tetrahedra'\n",
    "\n",
    "kpoints = KpointsData()\n",
    "kpoints.set_kpoints_mesh([3, 3, 3])\n",
    "nscf_kpoints = KpointsData()\n",
    "nscf_kpoints.set_kpoints_mesh([10, 10, 10])\n",
    "#\n",
    "metadata = {\n",
    "    'options': {\n",
    "        'resources': {\n",
    "            'num_machines': 1,\n",
    "            'num_mpiprocs_per_machine': 1,\n",
    "        },\n",
    "    }\n",
    "}\n",
    "\n",
    "pdos_inputs = {\n",
    "    'scf': {\n",
    "        'pw': {\n",
    "            'parameters': Dict(paras),\n",
    "            'metadata': metadata,\n",
    "        },\n",
    "        'kpoints': kpoints,\n",
    "    },\n",
    "    'nscf': {\n",
    "        'pw': {\n",
    "            'parameters': Dict(nscf_paras),\n",
    "            'metadata': metadata,\n",
    "        },\n",
    "        'kpoints': kpoints,\n",
    "    },\n",
    "    'dos': {\n",
    "        'metadata': metadata,\n",
    "    },\n",
    "    'projwfc': {\n",
    "        'metadata': metadata,\n",
    "    },\n",
    "}\n",
    "\n",
    "wg = PdosWorkGraph.build_graph(structure=structure_si,\n",
    "                    pw_code=pw_code,\n",
    "                    dos_code=dos_code,\n",
    "                    projwfc_code=projwfc_code,\n",
    "                    inputs=pdos_inputs,\n",
    "                    pseudo_family='SSSP/1.3/PBEsol/efficiency',\n",
    "                    run_scf=True,\n",
    "                    )\n",
    "wg.to_html()"
   ]
  },
  {
   "cell_type": "markdown",
   "id": "38c5209d",
   "metadata": {},
   "source": [
    "### Run the WorkGraph"
   ]
  },
  {
   "cell_type": "code",
   "execution_count": 2,
   "id": "5d11d672",
   "metadata": {},
   "outputs": [
    {
     "name": "stderr",
     "output_type": "stream",
     "text": [
      "09/02/2025 01:37:54 PM <1340270> aiida.orm.nodes.process.workflow.workchain.WorkChainNode: [REPORT] [175279|WorkGraphEngine|continue_workgraph]: tasks ready to run: PwBaseWorkChain\n",
      "09/02/2025 01:37:56 PM <1340270> aiida.orm.nodes.process.workflow.workchain.WorkChainNode: [REPORT] [175279|WorkGraphEngine|on_wait]: Process status: Waiting for child processes: 175282\n",
      "09/02/2025 01:38:05 PM <1340270> aiida.orm.nodes.process.workflow.workchain.WorkChainNode: [REPORT] [175282|PwBaseWorkChain|run_process]: launching PwCalculation<175285> iteration #1\n",
      "09/02/2025 01:38:13 PM <1340270> aiida.orm.nodes.process.workflow.workchain.WorkChainNode: [REPORT] [175282|PwBaseWorkChain|results]: work chain completed after 1 iterations\n",
      "09/02/2025 01:38:13 PM <1340270> aiida.orm.nodes.process.workflow.workchain.WorkChainNode: [REPORT] [175282|PwBaseWorkChain|on_terminated]: remote folders will not be cleaned\n",
      "09/02/2025 01:38:14 PM <1340270> aiida.orm.nodes.process.workflow.workchain.WorkChainNode: [REPORT] [175279|WorkGraphEngine|update_task_state]: Task: PwBaseWorkChain, type: WORKCHAIN, finished.\n",
      "09/02/2025 01:38:23 PM <1340270> aiida.orm.nodes.process.workflow.workchain.WorkChainNode: [REPORT] [175279|WorkGraphEngine|continue_workgraph]: tasks ready to run: PwBaseWorkChain1\n",
      "09/02/2025 01:38:26 PM <1340270> aiida.orm.nodes.process.workflow.workchain.WorkChainNode: [REPORT] [175279|WorkGraphEngine|on_wait]: Process status: Waiting for child processes: 175293\n",
      "09/02/2025 01:38:34 PM <1340270> aiida.orm.nodes.process.workflow.workchain.WorkChainNode: [REPORT] [175293|PwBaseWorkChain|run_process]: launching PwCalculation<175296> iteration #1\n",
      "09/02/2025 01:38:40 PM <1340270> aiida.orm.nodes.process.workflow.workchain.WorkChainNode: [REPORT] [175293|PwBaseWorkChain|results]: work chain completed after 1 iterations\n",
      "09/02/2025 01:38:41 PM <1340270> aiida.orm.nodes.process.workflow.workchain.WorkChainNode: [REPORT] [175293|PwBaseWorkChain|on_terminated]: remote folders will not be cleaned\n",
      "09/02/2025 01:38:42 PM <1340270> aiida.orm.nodes.process.workflow.workchain.WorkChainNode: [REPORT] [175279|WorkGraphEngine|update_task_state]: Task: PwBaseWorkChain1, type: WORKCHAIN, finished.\n",
      "09/02/2025 01:38:50 PM <1340270> aiida.orm.nodes.process.workflow.workchain.WorkChainNode: [REPORT] [175279|WorkGraphEngine|continue_workgraph]: tasks ready to run: generate_dos_parameters,generate_projwfc_parameters\n",
      "09/02/2025 01:38:52 PM <1340270> aiida.orm.nodes.process.workflow.workchain.WorkChainNode: [REPORT] [175279|WorkGraphEngine|update_task_state]: Task: generate_dos_parameters, type: CALCFUNCTION, finished.\n",
      "09/02/2025 01:38:53 PM <1340270> aiida.orm.nodes.process.workflow.workchain.WorkChainNode: [REPORT] [175279|WorkGraphEngine|continue_workgraph]: tasks ready to run: DosCalculation,generate_projwfc_parameters\n",
      "09/02/2025 01:38:56 PM <1340270> aiida.orm.nodes.process.workflow.workchain.WorkChainNode: [REPORT] [175279|WorkGraphEngine|update_task_state]: Task: generate_projwfc_parameters, type: CALCFUNCTION, finished.\n",
      "09/02/2025 01:38:56 PM <1340270> aiida.orm.nodes.process.workflow.workchain.WorkChainNode: [REPORT] [175279|WorkGraphEngine|continue_workgraph]: tasks ready to run: ProjwfcCalculation\n",
      "09/02/2025 01:38:59 PM <1340270> aiida.orm.nodes.process.workflow.workchain.WorkChainNode: [REPORT] [175279|WorkGraphEngine|on_wait]: Process status: Waiting for child processes: 175304, 175307\n",
      "/home/xing/repos/aiidateam/aiida-core/src/aiida/plugins/entry_point.py:351: AiidaDeprecationWarning: The entry point `realhydrogen` is deprecated. Please replace it with `core.realhydrogen`. (this will be removed in v3)\n",
      "  warn_deprecation(f'The entry point `{name}` is deprecated. Please replace it with `core.{name}`.', version=3)\n",
      "09/02/2025 01:39:16 PM <1340270> aiida.orm.nodes.process.workflow.workchain.WorkChainNode: [REPORT] [175279|WorkGraphEngine|update_task_state]: Task: ProjwfcCalculation, type: CALCJOB, finished.\n",
      "09/02/2025 01:39:16 PM <1340270> aiida.orm.nodes.process.workflow.workchain.WorkChainNode: [REPORT] [175279|WorkGraphEngine|update_task_state]: Task: DosCalculation, type: CALCJOB, finished.\n",
      "09/02/2025 01:39:25 PM <1340270> aiida.orm.nodes.process.workflow.workchain.WorkChainNode: [REPORT] [175279|WorkGraphEngine|continue_workgraph]: tasks ready to run: \n",
      "09/02/2025 01:39:26 PM <1340270> aiida.orm.nodes.process.workflow.workchain.WorkChainNode: [REPORT] [175279|WorkGraphEngine|finalize]: Finalize workgraph.\n"
     ]
    }
   ],
   "source": [
    "wg.run()"
   ]
  },
  {
   "cell_type": "markdown",
   "id": "b72a1e8a",
   "metadata": {},
   "source": [
    "Print the results"
   ]
  },
  {
   "cell_type": "code",
   "execution_count": 3,
   "id": "bd0ea563",
   "metadata": {},
   "outputs": [
    {
     "data": {
      "text/plain": [
       "<matplotlib.legend.Legend at 0x73c1b168d1d0>"
      ]
     },
     "execution_count": 3,
     "metadata": {},
     "output_type": "execute_result"
    },
    {
     "data": {
      "image/png": "[encoded data removed]",
      "text/plain": [
       "<Figure size 800x400 with 1 Axes>"
      ]
     },
     "metadata": {},
     "output_type": "display_data"
    }
   ],
   "source": [
    "import matplotlib.pyplot as plt\n",
    "import numpy as np\n",
    "#------------------------- Print the output -------------------------\n",
    "dos_data = wg.outputs.dos.output_dos.value\n",
    "# pdos_data = wg.tasks['projwfc'].outputs[\"results\"].value.value\n",
    "# make plots\n",
    "plt.figure(figsize = (8, 4))\n",
    "plt.plot(dos_data.get_array(\"x_array\"), dos_data.get_array(\"y_array_1\"), label='total')\n",
    "# plt.plot(pdos_data['totol']['energy'], pdos_data['totol']['dos'], label='total')\n",
    "# for file_name, data in pdos_data['atom'].items():\n",
    "        # value = np.array(data)\n",
    "        # plt.plot(value[:, 0], np.sum(value[:, 2:], axis=1), label=file_name[-4:])\n",
    "plt.yticks([])\n",
    "plt.xlabel('Energy (eV)')\n",
    "plt.ylabel('DOS')\n",
    "plt.legend(frameon=False)"
   ]
  }
 ],
 "metadata": {
  "kernelspec": {
   "display_name": "aiida",
   "language": "python",
   "name": "python3"
  },
  "language_info": {
   "codemirror_mode": {
    "name": "ipython",
    "version": 3
   },
   "file_extension": ".py",
   "mimetype": "text/x-python",
   "name": "python",
   "nbconvert_exporter": "python",
   "pygments_lexer": "ipython3",
   "version": "3.11.0"
  }
 },
 "nbformat": 4,
 "nbformat_minor": 5
}
