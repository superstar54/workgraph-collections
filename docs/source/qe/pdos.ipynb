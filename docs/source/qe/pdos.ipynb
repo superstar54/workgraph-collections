{
 "cells": [
  {
   "cell_type": "markdown",
   "id": "22d177dc-6cfb-4de2-9509-f1eb45e10cf2",
   "metadata": {},
   "source": [
    "# Projected density of states (PDOS)\n",
    "For the source code, see [pdos](https://workgraph-collections.readthedocs.io/en/latest/qe/module.html#workgraph_collections.ase.espresso.pdos.pdos_workgraph).\n",
    "\n",
    "\n",
    "## Visualizing the WorkGraph Builder\n",
    "\n"
   ]
  },
  {
   "cell_type": "code",
   "execution_count": 4,
   "id": "10a0fe13",
   "metadata": {},
   "outputs": [
    {
     "data": {
      "text/html": [
       "\n",
       "        <iframe\n",
       "            width=\"100%\"\n",
       "            height=\"600px\"\n",
       "            src=\"html/pdos_workgraph0.html\"\n",
       "            frameborder=\"0\"\n",
       "            allowfullscreen\n",
       "            \n",
       "        ></iframe>\n",
       "        "
      ],
      "text/plain": [
       "<IPython.lib.display.IFrame at 0x7cec92aa6390>"
      ]
     },
     "execution_count": 4,
     "metadata": {},
     "output_type": "execute_result"
    }
   ],
   "source": [
    "from workgraph_collections.qe.pdos import pdos_workgraph\n",
    "from aiida import load_profile\n",
    "load_profile()\n",
    "\n",
    "task = pdos_workgraph.task()\n",
    "task.to_html()"
   ]
  },
  {
   "cell_type": "markdown",
   "id": "0ce77a97",
   "metadata": {},
   "source": [
    "## Visualizing the WorkGraph"
   ]
  },
  {
   "cell_type": "code",
   "execution_count": 5,
   "id": "01bedd69",
   "metadata": {},
   "outputs": [
    {
     "data": {
      "text/html": [
       "\n",
       "        <iframe\n",
       "            width=\"100%\"\n",
       "            height=\"600px\"\n",
       "            src=\"html/PDOS.html\"\n",
       "            frameborder=\"0\"\n",
       "            allowfullscreen\n",
       "            \n",
       "        ></iframe>\n",
       "        "
      ],
      "text/plain": [
       "<IPython.lib.display.IFrame at 0x7cec9872e1d0>"
      ]
     },
     "execution_count": 5,
     "metadata": {},
     "output_type": "execute_result"
    }
   ],
   "source": [
    "from workgraph_collections.qe.pdos import pdos_workgraph\n",
    "from aiida import load_profile\n",
    "load_profile()\n",
    "\n",
    "wg = pdos_workgraph(run_relax=True, run_scf=True)\n",
    "wg.to_html()"
   ]
  },
  {
   "cell_type": "markdown",
   "id": "efa095d0",
   "metadata": {},
   "source": [
    "## Example: Silicon\n",
    "\n",
    "### Prepare the inputs and submit the workflow\n"
   ]
  },
  {
   "cell_type": "code",
   "execution_count": 15,
   "id": "8ee799d2-0b5b-4609-957f-6b3f2cd451f0",
   "metadata": {},
   "outputs": [
    {
     "name": "stdout",
     "output_type": "stream",
     "text": [
      "WorkGraph process created, PK: 98639\n"
     ]
    },
    {
     "data": {
      "text/plain": [
       "<WorkChainNode: uuid: 29e6f41a-9fa1-47e4-a097-d60afddac750 (pk: 98639) (aiida.workflows:workgraph.engine)>"
      ]
     },
     "execution_count": 15,
     "metadata": {},
     "output_type": "execute_result"
    }
   ],
   "source": [
    "from copy import deepcopy\n",
    "from aiida import load_profile\n",
    "from aiida.orm import Dict, KpointsData, StructureData, load_code, load_group\n",
    "from ase.build import bulk\n",
    "\n",
    "from workgraph_collections.qe.pdos import pdos_workgraph\n",
    "\n",
    "load_profile()\n",
    "\n",
    "atoms = bulk('Si')\n",
    "structure_si = StructureData(ase=atoms)\n",
    "\n",
    "pw_code = load_code('qe-7.2-pw@localhost')\n",
    "dos_code = load_code('qe-7.2-dos@localhost')\n",
    "projwfc_code = load_code('qe-7.2-projwfc@localhost')\n",
    "paras = {\n",
    "    'CONTROL': {\n",
    "        'calculation': 'scf',\n",
    "    },\n",
    "    'SYSTEM': {\n",
    "        'ecutwfc': 30,\n",
    "        'ecutrho': 240,\n",
    "        'occupations': 'smearing',\n",
    "        'smearing': 'gaussian',\n",
    "        'degauss': 0.1,\n",
    "    },\n",
    "}\n",
    "nscf_paras = deepcopy(paras)\n",
    "nscf_paras['CONTROL']['calculation'] = 'nscf'\n",
    "nscf_paras['SYSTEM']['occupations'] = 'tetrahedra'\n",
    "\n",
    "kpoints = KpointsData()\n",
    "kpoints.set_kpoints_mesh([3, 3, 3])\n",
    "nscf_kpoints = KpointsData()\n",
    "nscf_kpoints.set_kpoints_mesh([10, 10, 10])\n",
    "#\n",
    "metadata = {\n",
    "    'options': {\n",
    "        'resources': {\n",
    "            'num_machines': 1,\n",
    "            'num_mpiprocs_per_machine': 1,\n",
    "        },\n",
    "    }\n",
    "}\n",
    "\n",
    "pdos_inputs = {\n",
    "    'scf': {\n",
    "        'pw': {\n",
    "            'parameters': Dict(paras),\n",
    "            'metadata': metadata,\n",
    "        },\n",
    "        'kpoints': kpoints,\n",
    "    },\n",
    "    'nscf': {\n",
    "        'pw': {\n",
    "            'parameters': Dict(nscf_paras),\n",
    "            'metadata': metadata,\n",
    "        },\n",
    "        'kpoints': kpoints,\n",
    "    },\n",
    "    'dos': {\n",
    "        'metadata': metadata,\n",
    "    },\n",
    "    'projwfc': {\n",
    "        'metadata': metadata,\n",
    "    },\n",
    "}\n",
    "\n",
    "wg = pdos_workgraph(structure=structure_si,\n",
    "                    pw_code=pw_code,\n",
    "                    dos_code=dos_code,\n",
    "                    projwfc_code=projwfc_code,\n",
    "                    inputs=pdos_inputs,\n",
    "                    pseudo_family='SSSP/1.3/PBEsol/efficiency',\n",
    "                    run_scf=True,\n",
    "                    )\n",
    "wg.name = 'scf_and_pdos'\n",
    "wg.submit(wait=True)\n"
   ]
  },
  {
   "cell_type": "markdown",
   "id": "b72a1e8a",
   "metadata": {},
   "source": [
    "Print the results"
   ]
  },
  {
   "cell_type": "code",
   "execution_count": 16,
   "id": "bd0ea563",
   "metadata": {},
   "outputs": [
    {
     "data": {
      "text/plain": [
       "<matplotlib.legend.Legend at 0x7cec7b67a1d0>"
      ]
     },
     "execution_count": 16,
     "metadata": {},
     "output_type": "execute_result"
    },
    {
     "data": {
      "image/png": "[encoded data removed]",
      "text/plain": [
       "<Figure size 800x400 with 1 Axes>"
      ]
     },
     "metadata": {},
     "output_type": "display_data"
    }
   ],
   "source": [
    "import matplotlib.pyplot as plt\n",
    "import numpy as np\n",
    "#------------------------- Print the output -------------------------\n",
    "dos_data = wg.tasks['dos'].outputs[\"output_dos\"].value\n",
    "# pdos_data = wg.tasks['projwfc'].outputs[\"results\"].value.value\n",
    "# make plots\n",
    "plt.figure(figsize = (8, 4))\n",
    "plt.plot(dos_data.get_array(\"x_array\"), dos_data.get_array(\"y_array_1\"), label='total')\n",
    "# plt.plot(pdos_data['totol']['energy'], pdos_data['totol']['dos'], label='total')\n",
    "# for file_name, data in pdos_data['atom'].items():\n",
    "        # value = np.array(data)\n",
    "        # plt.plot(value[:, 0], np.sum(value[:, 2:], axis=1), label=file_name[-4:])\n",
    "plt.yticks([])\n",
    "plt.xlabel('Energy (eV)')\n",
    "plt.ylabel('DOS')\n",
    "plt.legend(frameon=False)"
   ]
  },
  {
   "cell_type": "code",
   "execution_count": null,
   "id": "0d11bf81",
   "metadata": {},
   "outputs": [],
   "source": []
  }
 ],
 "metadata": {
  "kernelspec": {
   "display_name": "Python 3 (ipykernel)",
   "language": "python",
   "name": "python3"
  },
  "language_info": {
   "codemirror_mode": {
    "name": "ipython",
    "version": 3
   },
   "file_extension": ".py",
   "mimetype": "text/x-python",
   "name": "python",
   "nbconvert_exporter": "python",
   "pygments_lexer": "ipython3",
   "version": "3.11.0"
  },
  "vscode": {
   "interpreter": {
    "hash": "2f450c1ff08798c4974437dd057310afef0de414c25d1fd960ad375311c3f6ff"
   }
  }
 },
 "nbformat": 4,
 "nbformat_minor": 5
}
