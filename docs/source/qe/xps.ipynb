{
 "cells": [
  {
   "cell_type": "markdown",
   "id": "22d177dc-6cfb-4de2-9509-f1eb45e10cf2",
   "metadata": {},
   "source": [
    "# X-ray photoelectron spectroscopy (XPS)\n",
    "For the source code, see [xps](https://workgraph-collections.readthedocs.io/en/latest/qe/module.html#workgraph_collections.ase.espresso.xps.xps_workgraph).\n",
    "\n",
    "\n",
    "## Visualizing the WorkGraph Builder\n"
   ]
  },
  {
   "cell_type": "code",
   "execution_count": 1,
   "id": "6be40ba7",
   "metadata": {},
   "outputs": [
    {
     "data": {
      "text/html": [
       "\n",
       "        <iframe\n",
       "            width=\"100%\"\n",
       "            height=\"600px\"\n",
       "            src=\"html/xps_workgraph0.html\"\n",
       "            frameborder=\"0\"\n",
       "            allowfullscreen\n",
       "            \n",
       "        ></iframe>\n",
       "        "
      ],
      "text/plain": [
       "<IPython.lib.display.IFrame at 0x7f69021abad0>"
      ]
     },
     "execution_count": 1,
     "metadata": {},
     "output_type": "execute_result"
    }
   ],
   "source": [
    "from workgraph_collections.qe.xps import xps_workgraph\n",
    "from aiida import load_profile\n",
    "load_profile()\n",
    "\n",
    "node = xps_workgraph.node()\n",
    "node.to_html()"
   ]
  },
  {
   "cell_type": "markdown",
   "id": "9e6360d8",
   "metadata": {},
   "source": [
    "## Visualizing the WorkGraph"
   ]
  },
  {
   "cell_type": "code",
   "execution_count": 2,
   "id": "01bedd69",
   "metadata": {},
   "outputs": [
    {
     "data": {
      "text/html": [
       "\n",
       "        <iframe\n",
       "            width=\"100%\"\n",
       "            height=\"600px\"\n",
       "            src=\"html/WorkGraph.html\"\n",
       "            frameborder=\"0\"\n",
       "            allowfullscreen\n",
       "            \n",
       "        ></iframe>\n",
       "        "
      ],
      "text/plain": [
       "<IPython.lib.display.IFrame at 0x7f6900307890>"
      ]
     },
     "execution_count": 2,
     "metadata": {},
     "output_type": "execute_result"
    }
   ],
   "source": [
    "from workgraph_collections.qe.xps import xps_workgraph\n",
    "from aiida import load_profile\n",
    "load_profile()\n",
    "\n",
    "wg = xps_workgraph()\n",
    "wg.to_html()"
   ]
  },
  {
   "cell_type": "markdown",
   "id": "efa095d0",
   "metadata": {},
   "source": [
    "## Example: ETFA molecule\n",
    "\n",
    "### Prepare the inputs and submit the workflow\n"
   ]
  },
  {
   "cell_type": "code",
   "execution_count": null,
   "id": "8ee799d2-0b5b-4609-957f-6b3f2cd451f0",
   "metadata": {},
   "outputs": [],
   "source": [
    "from ase.io import read\n",
    "from aiida import load_profile\n",
    "from aiida.orm import (\n",
    "    Dict,\n",
    "    KpointsData,\n",
    "    StructureData,\n",
    "    load_code,\n",
    "    load_group,\n",
    "    QueryBuilder,\n",
    "    Group,\n",
    ")\n",
    "from workgraph_collections.qe.xps import xps_workgraph\n",
    "\n",
    "load_profile()\n",
    "\n",
    "def load_core_hole_pseudos(pseudo_group=\"pseudo_demo_pbe\"):\n",
    "    \"\"\"Load the core hole pseudos.\"\"\"\n",
    "    pseudo_group = (\n",
    "        QueryBuilder().append(Group, filters={\"label\": pseudo_group}).one()[0]\n",
    "    )\n",
    "    core_hole_pseudos = {node.label: node for node in pseudo_group.nodes}\n",
    "    return core_hole_pseudos, pseudo_group.base.extras.get(\"correction\", {})\n",
    "\n",
    "\n",
    "# create input structure node\n",
    "etfa = read(\"datas/ETFA.xyz\")\n",
    "structure = StructureData(ase=etfa)\n",
    "# create the PW node\n",
    "# code = load_code(\"qe-7.2-pw@localhost\")\n",
    "code = load_code(\"qe-7.2-pw@eiger\")\n",
    "parameters = Dict(\n",
    "    {\n",
    "        \"CONTROL\": {\n",
    "            \"calculation\": \"scf\",\n",
    "        },\n",
    "        \"SYSTEM\": {\n",
    "            \"ecutwfc\": 50,\n",
    "            \"ecutrho\": 600,\n",
    "            \"occupations\": \"fixed\",\n",
    "        },\n",
    "    }\n",
    ")\n",
    "kpoints = KpointsData()\n",
    "kpoints.set_kpoints_mesh([1, 1, 1])\n",
    "# Load the pseudopotential family.\n",
    "core_hole_pseudos, correction_energies = load_core_hole_pseudos(\"pseudo_demo_pbe\")\n",
    "correction_energies = {\n",
    "    key.split(\"_\")[0]: value[\"core\"] for key, value in correction_energies.items()\n",
    "}\n",
    "pseudo_family = load_group(\"SSSP/1.3/PBE/efficiency\")\n",
    "pseudos = pseudo_family.get_pseudos(structure=structure)\n",
    "# print(\"core_hole_pseudos\", core_hole_pseudos)\n",
    "pseudos[\"C\"] = core_hole_pseudos[\"C_gs\"]\n",
    "#\n",
    "metadata = {\n",
    "    \"options\": {\n",
    "        \"resources\": {\n",
    "            \"num_machines\": 1,\n",
    "            \"num_mpiprocs_per_machine\": 1,\n",
    "        },\n",
    "    }\n",
    "}\n",
    "metadata_eiger = {\n",
    "    \"options\": {\n",
    "        \"custom_scheduler_commands\": \"#SBATCH --account=mr32\",\n",
    "        \"resources\": {\n",
    "            \"num_machines\": 1,\n",
    "            \"num_mpiprocs_per_machine\": 36,\n",
    "        },\n",
    "    }\n",
    "}\n",
    "# ===============================================================================\n",
    "wg = xps_workgraph(\n",
    "    structure=structure,\n",
    "    code=code,\n",
    "    atoms_list=[(0, \"1s\"), (1, \"1s\"), (2, \"1s\"), (3, \"1s\")],\n",
    "    parameters=parameters,\n",
    "    kpoints=kpoints,\n",
    "    pseudos=pseudos,\n",
    "    is_molecule=True,\n",
    "    core_hole_pseudos=core_hole_pseudos,\n",
    "    correction_energies=correction_energies,\n",
    "    metadata=metadata_eiger,\n",
    ")\n",
    "wg.name = \"QE, XPS, ETFA\"\n",
    "# print(\"correction_energies\", correction_energies)\n",
    "wg.submit()\n"
   ]
  }
 ],
 "metadata": {
  "kernelspec": {
   "display_name": "Python 3 (ipykernel)",
   "language": "python",
   "name": "python3"
  },
  "language_info": {
   "codemirror_mode": {
    "name": "ipython",
    "version": 3
   },
   "file_extension": ".py",
   "mimetype": "text/x-python",
   "name": "python",
   "nbconvert_exporter": "python",
   "pygments_lexer": "ipython3",
   "version": "3.1.-1"
  },
  "vscode": {
   "interpreter": {
    "hash": "2f450c1ff08798c4974437dd057310afef0de414c25d1fd960ad375311c3f6ff"
   }
  }
 },
 "nbformat": 4,
 "nbformat_minor": 5
}
