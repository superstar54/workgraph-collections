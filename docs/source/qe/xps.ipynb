{
 "cells": [
  {
   "cell_type": "markdown",
   "id": "22d177dc-6cfb-4de2-9509-f1eb45e10cf2",
   "metadata": {},
   "source": [
    "# X-ray photoelectron spectroscopy (XPS)\n",
    "For the source code, see [xps](https://workgraph-collections.readthedocs.io/en/latest/qe/module.html#workgraph_collections.ase.espresso.xps.xps_workgraph).\n",
    "\n",
    "\n",
    "## Visualizing the WorkGraph Builder\n"
   ]
  },
  {
   "cell_type": "code",
   "execution_count": 1,
   "id": "6be40ba7",
   "metadata": {},
   "outputs": [
    {
     "data": {
      "text/html": [
       "\n",
       "        <iframe\n",
       "            width=\"100%\"\n",
       "            height=\"600px\"\n",
       "            src=\"html/xps_workgraph0.html\"\n",
       "            frameborder=\"0\"\n",
       "            allowfullscreen\n",
       "            \n",
       "        ></iframe>\n",
       "        "
      ],
      "text/plain": [
       "<IPython.lib.display.IFrame at 0x7f954642e990>"
      ]
     },
     "execution_count": 1,
     "metadata": {},
     "output_type": "execute_result"
    }
   ],
   "source": [
    "from workgraph_collections.qe.xps import xps_workgraph\n",
    "from aiida import load_profile\n",
    "load_profile()\n",
    "\n",
    "task = xps_workgraph.task()\n",
    "task.to_html()"
   ]
  },
  {
   "cell_type": "markdown",
   "id": "9e6360d8",
   "metadata": {},
   "source": [
    "## Visualizing the WorkGraph"
   ]
  },
  {
   "cell_type": "code",
   "execution_count": 2,
   "id": "01bedd69",
   "metadata": {},
   "outputs": [
    {
     "data": {
      "text/html": [
       "\n",
       "        <iframe\n",
       "            width=\"100%\"\n",
       "            height=\"600px\"\n",
       "            src=\"html/WorkGraph.html\"\n",
       "            frameborder=\"0\"\n",
       "            allowfullscreen\n",
       "            \n",
       "        ></iframe>\n",
       "        "
      ],
      "text/plain": [
       "<IPython.lib.display.IFrame at 0x7f962e9c7490>"
      ]
     },
     "execution_count": 2,
     "metadata": {},
     "output_type": "execute_result"
    }
   ],
   "source": [
    "from workgraph_collections.qe.xps import xps_workgraph\n",
    "from aiida import load_profile\n",
    "load_profile()\n",
    "\n",
    "wg = xps_workgraph()\n",
    "wg.to_html()"
   ]
  },
  {
   "cell_type": "markdown",
   "id": "efa095d0",
   "metadata": {},
   "source": [
    "## Example: ETFA molecule\n",
    "\n",
    "### Prepare the inputs and submit the workflow\n"
   ]
  },
  {
   "cell_type": "code",
   "execution_count": 3,
   "id": "8ee799d2-0b5b-4609-957f-6b3f2cd451f0",
   "metadata": {},
   "outputs": [
    {
     "name": "stdout",
     "output_type": "stream",
     "text": [
      "core_hole_pseudos dict_keys(['core_hole', 'gipaw'])\n"
     ]
    },
    {
     "name": "stderr",
     "output_type": "stream",
     "text": [
      "06/10/2024 07:36:12 AM <756097> aiida.orm.nodes.process.workflow.workchain.WorkChainNode: [REPORT] [56762|WorkGraphEngine|continue_workgraph]: Continue workgraph.\n"
     ]
    },
    {
     "name": "stdout",
     "output_type": "stream",
     "text": [
      "Continue workgraph.\n"
     ]
    },
    {
     "name": "stderr",
     "output_type": "stream",
     "text": [
      "06/10/2024 07:36:12 AM <756097> aiida.orm.nodes.process.workflow.workchain.WorkChainNode: [REPORT] [56762|WorkGraphEngine|continue_workgraph]: nodes ready to run: marked_structures\n",
      "06/10/2024 07:36:12 AM <756097> aiida.orm.nodes.process.workflow.workchain.WorkChainNode: [REPORT] [56762|WorkGraphEngine|run_nodes]: Run node: marked_structures, type: CALCFUNCTION\n"
     ]
    },
    {
     "name": "stdout",
     "output_type": "stream",
     "text": [
      "------------------------------------------------------------\n",
      "executor:  <function get_xspectra_structures at 0x7f954675de40>\n",
      "args:  [<StructureData: uuid: 5c2d1082-273c-4a9a-9a65-977984354fd8 (pk: 56756)>]\n",
      "kwargs:  {'structure': <StructureData: uuid: 5c2d1082-273c-4a9a-9a65-977984354fd8 (pk: 56756)>}\n",
      "var_kwargs:  {'absorbing_elements_list': <List: uuid: 6bb0ba0a-68fb-46a8-873f-213913f285a4 (pk: 56757) value: ['C']>, 'is_molecule_input': <Bool: uuid: 60114c81-3fc8-4140-895c-c6eac836bd25 (pk: 56758) value: True>}\n",
      "node type: calcfunction/workfunction.\n",
      "link_label:  supercell uuid: 8702053c-59d8-4d45-8648-bba6c7e55679 (unstored)\n",
      "link_label:  output_parameters uuid: dd789b6d-bf57-42f1-ba62-cd9beb90d56c (unstored)\n",
      "link_label:  marked_structures__site_0 uuid: f2bde682-dfb9-4f85-84df-8b6fefc41d4c (unstored)\n",
      "link_label:  marked_structures__site_1 uuid: ded5fe01-ed43-4cd1-ac41-78da08195e25 (unstored)\n",
      "link_label:  marked_structures__site_2 uuid: 9c11afc3-1865-442d-94c5-c5d8b6bd9af6 (unstored)\n"
     ]
    },
    {
     "name": "stderr",
     "output_type": "stream",
     "text": [
      "06/10/2024 07:36:13 AM <756097> aiida.orm.nodes.process.workflow.workchain.WorkChainNode: [REPORT] [56762|WorkGraphEngine|run_nodes]: Node: marked_structures finished.\n",
      "06/10/2024 07:36:13 AM <756097> aiida.orm.nodes.process.workflow.workchain.WorkChainNode: [REPORT] [56762|WorkGraphEngine|continue_workgraph]: Continue workgraph.\n"
     ]
    },
    {
     "name": "stdout",
     "output_type": "stream",
     "text": [
      "link_label:  marked_structures__site_3 uuid: 50ffdefc-1a14-4a9e-b9a6-aadb3250453f (unstored)\n",
      "Continue workgraph.\n"
     ]
    },
    {
     "name": "stderr",
     "output_type": "stream",
     "text": [
      "06/10/2024 07:36:13 AM <756097> aiida.orm.nodes.process.workflow.workchain.WorkChainNode: [REPORT] [56762|WorkGraphEngine|continue_workgraph]: nodes ready to run: run_scf\n",
      "06/10/2024 07:36:13 AM <756097> aiida.orm.nodes.process.workflow.workchain.WorkChainNode: [REPORT] [56762|WorkGraphEngine|run_nodes]: Run node: run_scf, type: graph_builder\n"
     ]
    },
    {
     "name": "stdout",
     "output_type": "stream",
     "text": [
      "------------------------------------------------------------\n",
      "executor:  <function run_scf at 0x7f953ed4ab60>\n",
      "args:  []\n",
      "kwargs:  {'structure': <StructureData: uuid: 5c2d1082-273c-4a9a-9a65-977984354fd8 (pk: 56756)>, 'code': <InstalledCode: Remote code 'qe-7.2-pw' on eiger pk: 56609, uuid: a6efafe4-b2ec-4f72-9c06-ecc412a6ddfd>, 'parameters': <Dict: uuid: ca89f844-0beb-49cb-afb7-5b6bcb69bbc8 (pk: 56759)>, 'kpoints': <KpointsData: uuid: 77822613-d6af-4c39-ab43-5c1134fc2ea5 (pk: 56760)>, 'pseudos': {'C': <UpfData: uuid: acc0db68-1169-4fc6-8f6b-c19a961739a2 (pk: 531)>, 'F': <UpfData: uuid: c656bc1d-e22e-4fd2-b13f-577a9eface5f (pk: 615)>, 'H': <UpfData: uuid: e21ed402-1c7f-492d-ac2b-7a31f61e891d (pk: 592)>, 'O': <UpfData: uuid: 7ab4de29-5f82-4382-8d39-883fb29c61c7 (pk: 612)>}, 'core_hole_pseudos': {'core_hole': {'Al': <UpfData: uuid: 3225e978-5e40-480a-8cc9-23551bb206ed (pk: 6996)>, 'Au': <UpfData: uuid: b360facb-8723-422a-8380-3937099eddb1 (pk: 6989)>, 'C': <UpfData: uuid: 2ed40ad1-57b5-46d2-b132-d1b6d5a06112 (pk: 6480)>, 'Co': <UpfData: uuid: e3af8d70-b488-4535-a120-5dc15b7c391d (pk: 6475)>, 'Cu': <UpfData: uuid: e3d36b74-7e80-4f86-a97b-cc15e6d056a3 (pk: 6479)>, 'F': <UpfData: uuid: 8dff7774-8a25-4129-8565-409202f6031a (pk: 6477)>, 'O': <UpfData: uuid: 0ff9df1e-593d-4167-987f-8e5d321a75b1 (pk: 6481)>, 'Pt': <UpfData: uuid: d21f062c-0f29-42f5-9004-039cc0f3f9e9 (pk: 6993)>, 'Si': <UpfData: uuid: 77672c22-a680-4b0d-86b1-6eca2ac90a83 (pk: 6483)>}, 'gipaw': {'Al': <UpfData: uuid: 68734ebc-7952-4b54-b8fa-f5b5e8afaa60 (pk: 6992)>, 'Au': <UpfData: uuid: c300baa5-4ac1-4928-b119-81d5feb7f980 (pk: 6995)>, 'C': <UpfData: uuid: e990ad52-c36d-45ad-8f85-57eeed5d564d (pk: 6472)>, 'Co': <UpfData: uuid: f5915af2-b8a1-4c43-b44e-9a1e7c955816 (pk: 6474)>, 'Cu': <UpfData: uuid: 84deb42b-fd70-4eb9-8d73-bffd537fd967 (pk: 6476)>, 'F': <UpfData: uuid: e88b5d89-4589-4cce-8799-c992dca6c9fb (pk: 6478)>, 'O': <UpfData: uuid: 32f3d016-6c62-4f9b-afbc-54a3b1a3b0b1 (pk: 6482)>, 'Pt': <UpfData: uuid: df89d405-dee8-4658-b47b-cf1ed07d1b44 (pk: 6991)>, 'Si': <UpfData: uuid: 717bcd45-bf3d-4076-8cd5-7391e0f0af72 (pk: 6473)>, 'W': <UpfData: uuid: be57a342-f6bb-40a8-8b03-a78c665db677 (pk: 33967)>}}, 'core_hole_treatment': 'xch', 'is_molecule': True, 'metadata': {'options': {'custom_scheduler_commands': '#SBATCH --account=mr32', 'resources': {'num_machines': 1, 'num_mpiprocs_per_machine': 36}}}}\n",
      "var_kwargs:  {'supercell': <StructureData: uuid: 8702053c-59d8-4d45-8648-bba6c7e55679 (pk: 56764)>, 'output_parameters': <Dict: uuid: dd789b6d-bf57-42f1-ba62-cd9beb90d56c (pk: 56765)>, 'marked_structures': {'site_0': <StructureData: uuid: f2bde682-dfb9-4f85-84df-8b6fefc41d4c (pk: 56766)>, 'site_1': <StructureData: uuid: ded5fe01-ed43-4cd1-ac41-78da08195e25 (pk: 56767)>, 'site_2': <StructureData: uuid: 9c11afc3-1865-442d-94c5-c5d8b6bd9af6 (pk: 56768)>, 'site_3': <StructureData: uuid: 50ffdefc-1a14-4a9e-b9a6-aadb3250453f (pk: 56769)>}}\n",
      "node  type: graph_builder.\n",
      "var_kwargs:  {'supercell': <StructureData: uuid: 8702053c-59d8-4d45-8648-bba6c7e55679 (pk: 56764)>, 'output_parameters': <Dict: uuid: dd789b6d-bf57-42f1-ba62-cd9beb90d56c (pk: 56765)>, 'marked_structures': {'site_0': <StructureData: uuid: f2bde682-dfb9-4f85-84df-8b6fefc41d4c (pk: 56766)>, 'site_1': <StructureData: uuid: ded5fe01-ed43-4cd1-ac41-78da08195e25 (pk: 56767)>, 'site_2': <StructureData: uuid: 9c11afc3-1865-442d-94c5-c5d8b6bd9af6 (pk: 56768)>, 'site_3': <StructureData: uuid: 50ffdefc-1a14-4a9e-b9a6-aadb3250453f (pk: 56769)>}}\n",
      "sites_info {'site_0': {'symbol': 'C', 'site_index': 0, 'multiplicity': 1, 'equivalent_sites_list': [0]}, 'site_1': {'symbol': 'C', 'site_index': 1, 'multiplicity': 1, 'equivalent_sites_list': [1]}, 'site_2': {'symbol': 'C', 'site_index': 2, 'multiplicity': 1, 'equivalent_sites_list': [2]}, 'site_3': {'symbol': 'C', 'site_index': 3, 'multiplicity': 1, 'equivalent_sites_list': [3]}}\n",
      "WorkGraph process created, PK: 56782\n",
      "submit workgraph: \n",
      "node:  binding_energy CREATED\n",
      "node:  marked_structures FINISHED\n",
      "node:  run_scf RUNNING\n",
      "is workgraph finished:  False\n"
     ]
    },
    {
     "name": "stderr",
     "output_type": "stream",
     "text": [
      "06/10/2024 07:36:18 AM <756097> aiida.orm.nodes.process.workflow.workchain.WorkChainNode: [REPORT] [56782|WorkGraphEngine|continue_workgraph]: Continue workgraph.\n"
     ]
    },
    {
     "name": "stdout",
     "output_type": "stream",
     "text": [
      "Continue workgraph.\n"
     ]
    },
    {
     "name": "stderr",
     "output_type": "stream",
     "text": [
      "06/10/2024 07:36:18 AM <756097> aiida.orm.nodes.process.workflow.workchain.WorkChainNode: [REPORT] [56782|WorkGraphEngine|continue_workgraph]: nodes ready to run: ground,pw_excited_site_0,pw_excited_site_1,pw_excited_site_2,pw_excited_site_3\n",
      "06/10/2024 07:36:18 AM <756097> aiida.orm.nodes.process.workflow.workchain.WorkChainNode: [REPORT] [56782|WorkGraphEngine|run_nodes]: Run node: ground, type: CALCJOB\n"
     ]
    },
    {
     "name": "stdout",
     "output_type": "stream",
     "text": [
      "------------------------------------------------------------\n",
      "executor:  <class 'aiida_quantumespresso.calculations.pw.PwCalculation'>\n",
      "args:  [<StructureData: uuid: 8702053c-59d8-4d45-8648-bba6c7e55679 (pk: 56764)>, <Dict: uuid: ca89f844-0beb-49cb-afb7-5b6bcb69bbc8 (pk: 56759)>, {'C': <UpfData: uuid: e990ad52-c36d-45ad-8f85-57eeed5d564d (pk: 6472)>, 'F': <UpfData: uuid: c656bc1d-e22e-4fd2-b13f-577a9eface5f (pk: 615)>, 'H': <UpfData: uuid: e21ed402-1c7f-492d-ac2b-7a31f61e891d (pk: 592)>, 'O': <UpfData: uuid: 7ab4de29-5f82-4382-8d39-883fb29c61c7 (pk: 612)>}, <KpointsData: uuid: 77822613-d6af-4c39-ab43-5c1134fc2ea5 (pk: 56760)>]\n",
      "kwargs:  {'metadata': {'options': {'custom_scheduler_commands': '#SBATCH --account=mr32', 'resources': {'num_machines': 1, 'num_mpiprocs_per_machine': 36}}}, 'code': <InstalledCode: Remote code 'qe-7.2-pw' on eiger pk: 56609, uuid: a6efafe4-b2ec-4f72-9c06-ecc412a6ddfd>, 'structure': <StructureData: uuid: 8702053c-59d8-4d45-8648-bba6c7e55679 (pk: 56764)>, 'parameters': <Dict: uuid: ca89f844-0beb-49cb-afb7-5b6bcb69bbc8 (pk: 56759)>, 'pseudos': {'C': <UpfData: uuid: e990ad52-c36d-45ad-8f85-57eeed5d564d (pk: 6472)>, 'F': <UpfData: uuid: c656bc1d-e22e-4fd2-b13f-577a9eface5f (pk: 615)>, 'H': <UpfData: uuid: e21ed402-1c7f-492d-ac2b-7a31f61e891d (pk: 592)>, 'O': <UpfData: uuid: 7ab4de29-5f82-4382-8d39-883fb29c61c7 (pk: 612)>}, 'kpoints': <KpointsData: uuid: 77822613-d6af-4c39-ab43-5c1134fc2ea5 (pk: 56760)>}\n",
      "var_kwargs:  None\n",
      "node  type: calcjob/workchain.\n"
     ]
    },
    {
     "name": "stderr",
     "output_type": "stream",
     "text": [
      "06/10/2024 07:36:19 AM <756097> aiida.orm.nodes.process.workflow.workchain.WorkChainNode: [REPORT] [56782|WorkGraphEngine|run_nodes]: Run node: pw_excited_site_0, type: CALCJOB\n"
     ]
    },
    {
     "name": "stdout",
     "output_type": "stream",
     "text": [
      "------------------------------------------------------------\n",
      "executor:  <class 'aiida_quantumespresso.calculations.pw.PwCalculation'>\n",
      "args:  [<StructureData: uuid: f2bde682-dfb9-4f85-84df-8b6fefc41d4c (pk: 56766)>, <Dict: uuid: 1e1109c6-2679-4f77-a4b5-57352c320589 (pk: 56770)>, {'C': <UpfData: uuid: e990ad52-c36d-45ad-8f85-57eeed5d564d (pk: 6472)>, 'F': <UpfData: uuid: c656bc1d-e22e-4fd2-b13f-577a9eface5f (pk: 615)>, 'H': <UpfData: uuid: e21ed402-1c7f-492d-ac2b-7a31f61e891d (pk: 592)>, 'O': <UpfData: uuid: 7ab4de29-5f82-4382-8d39-883fb29c61c7 (pk: 612)>, 'X': <UpfData: uuid: 2ed40ad1-57b5-46d2-b132-d1b6d5a06112 (pk: 6480)>}, <KpointsData: uuid: f812ba71-edc1-4573-871b-a7d761b27e2a (pk: 56772)>]\n",
      "kwargs:  {'metadata': {'options': {'custom_scheduler_commands': '#SBATCH --account=mr32', 'resources': {'num_machines': 1, 'num_mpiprocs_per_machine': 36}}}, 'code': <InstalledCode: Remote code 'qe-7.2-pw' on eiger pk: 56609, uuid: a6efafe4-b2ec-4f72-9c06-ecc412a6ddfd>, 'settings': <Dict: uuid: fe9b498b-3798-45e6-b920-3b9d11fd2817 (pk: 56771)>, 'structure': <StructureData: uuid: f2bde682-dfb9-4f85-84df-8b6fefc41d4c (pk: 56766)>, 'parameters': <Dict: uuid: 1e1109c6-2679-4f77-a4b5-57352c320589 (pk: 56770)>, 'pseudos': {'C': <UpfData: uuid: e990ad52-c36d-45ad-8f85-57eeed5d564d (pk: 6472)>, 'F': <UpfData: uuid: c656bc1d-e22e-4fd2-b13f-577a9eface5f (pk: 615)>, 'H': <UpfData: uuid: e21ed402-1c7f-492d-ac2b-7a31f61e891d (pk: 592)>, 'O': <UpfData: uuid: 7ab4de29-5f82-4382-8d39-883fb29c61c7 (pk: 612)>, 'X': <UpfData: uuid: 2ed40ad1-57b5-46d2-b132-d1b6d5a06112 (pk: 6480)>}, 'kpoints': <KpointsData: uuid: f812ba71-edc1-4573-871b-a7d761b27e2a (pk: 56772)>}\n",
      "var_kwargs:  None\n",
      "node  type: calcjob/workchain.\n"
     ]
    },
    {
     "name": "stderr",
     "output_type": "stream",
     "text": [
      "06/10/2024 07:36:19 AM <756097> aiida.orm.nodes.process.workflow.workchain.WorkChainNode: [REPORT] [56782|WorkGraphEngine|run_nodes]: Run node: pw_excited_site_1, type: CALCJOB\n"
     ]
    },
    {
     "name": "stdout",
     "output_type": "stream",
     "text": [
      "------------------------------------------------------------\n",
      "executor:  <class 'aiida_quantumespresso.calculations.pw.PwCalculation'>\n",
      "args:  [<StructureData: uuid: ded5fe01-ed43-4cd1-ac41-78da08195e25 (pk: 56767)>, <Dict: uuid: 0562307b-080d-4a49-a42b-8df48b846f46 (pk: 56773)>, {'C': <UpfData: uuid: e990ad52-c36d-45ad-8f85-57eeed5d564d (pk: 6472)>, 'F': <UpfData: uuid: c656bc1d-e22e-4fd2-b13f-577a9eface5f (pk: 615)>, 'H': <UpfData: uuid: e21ed402-1c7f-492d-ac2b-7a31f61e891d (pk: 592)>, 'O': <UpfData: uuid: 7ab4de29-5f82-4382-8d39-883fb29c61c7 (pk: 612)>, 'X': <UpfData: uuid: 2ed40ad1-57b5-46d2-b132-d1b6d5a06112 (pk: 6480)>}, <KpointsData: uuid: a333a56a-4e44-47d1-8567-337522f333a8 (pk: 56775)>]\n",
      "kwargs:  {'metadata': {'options': {'custom_scheduler_commands': '#SBATCH --account=mr32', 'resources': {'num_machines': 1, 'num_mpiprocs_per_machine': 36}}}, 'code': <InstalledCode: Remote code 'qe-7.2-pw' on eiger pk: 56609, uuid: a6efafe4-b2ec-4f72-9c06-ecc412a6ddfd>, 'settings': <Dict: uuid: 93b27e1f-74ae-4786-90ec-9fab06a47178 (pk: 56774)>, 'structure': <StructureData: uuid: ded5fe01-ed43-4cd1-ac41-78da08195e25 (pk: 56767)>, 'parameters': <Dict: uuid: 0562307b-080d-4a49-a42b-8df48b846f46 (pk: 56773)>, 'pseudos': {'C': <UpfData: uuid: e990ad52-c36d-45ad-8f85-57eeed5d564d (pk: 6472)>, 'F': <UpfData: uuid: c656bc1d-e22e-4fd2-b13f-577a9eface5f (pk: 615)>, 'H': <UpfData: uuid: e21ed402-1c7f-492d-ac2b-7a31f61e891d (pk: 592)>, 'O': <UpfData: uuid: 7ab4de29-5f82-4382-8d39-883fb29c61c7 (pk: 612)>, 'X': <UpfData: uuid: 2ed40ad1-57b5-46d2-b132-d1b6d5a06112 (pk: 6480)>}, 'kpoints': <KpointsData: uuid: a333a56a-4e44-47d1-8567-337522f333a8 (pk: 56775)>}\n",
      "var_kwargs:  None\n",
      "node  type: calcjob/workchain.\n"
     ]
    },
    {
     "name": "stderr",
     "output_type": "stream",
     "text": [
      "06/10/2024 07:36:19 AM <756097> aiida.orm.nodes.process.workflow.workchain.WorkChainNode: [REPORT] [56782|WorkGraphEngine|run_nodes]: Run node: pw_excited_site_2, type: CALCJOB\n"
     ]
    },
    {
     "name": "stdout",
     "output_type": "stream",
     "text": [
      "------------------------------------------------------------\n",
      "executor:  <class 'aiida_quantumespresso.calculations.pw.PwCalculation'>\n",
      "args:  [<StructureData: uuid: 9c11afc3-1865-442d-94c5-c5d8b6bd9af6 (pk: 56768)>, <Dict: uuid: 74a3a52c-6592-44f9-8df4-a1a1dc107f93 (pk: 56776)>, {'C': <UpfData: uuid: e990ad52-c36d-45ad-8f85-57eeed5d564d (pk: 6472)>, 'F': <UpfData: uuid: c656bc1d-e22e-4fd2-b13f-577a9eface5f (pk: 615)>, 'H': <UpfData: uuid: e21ed402-1c7f-492d-ac2b-7a31f61e891d (pk: 592)>, 'O': <UpfData: uuid: 7ab4de29-5f82-4382-8d39-883fb29c61c7 (pk: 612)>, 'X': <UpfData: uuid: 2ed40ad1-57b5-46d2-b132-d1b6d5a06112 (pk: 6480)>}, <KpointsData: uuid: cbb4d0d8-6549-4607-bcf1-186c2fa9e341 (pk: 56778)>]\n",
      "kwargs:  {'metadata': {'options': {'custom_scheduler_commands': '#SBATCH --account=mr32', 'resources': {'num_machines': 1, 'num_mpiprocs_per_machine': 36}}}, 'code': <InstalledCode: Remote code 'qe-7.2-pw' on eiger pk: 56609, uuid: a6efafe4-b2ec-4f72-9c06-ecc412a6ddfd>, 'settings': <Dict: uuid: c8ea3e71-bedc-4804-90e6-dd2f546e9102 (pk: 56777)>, 'structure': <StructureData: uuid: 9c11afc3-1865-442d-94c5-c5d8b6bd9af6 (pk: 56768)>, 'parameters': <Dict: uuid: 74a3a52c-6592-44f9-8df4-a1a1dc107f93 (pk: 56776)>, 'pseudos': {'C': <UpfData: uuid: e990ad52-c36d-45ad-8f85-57eeed5d564d (pk: 6472)>, 'F': <UpfData: uuid: c656bc1d-e22e-4fd2-b13f-577a9eface5f (pk: 615)>, 'H': <UpfData: uuid: e21ed402-1c7f-492d-ac2b-7a31f61e891d (pk: 592)>, 'O': <UpfData: uuid: 7ab4de29-5f82-4382-8d39-883fb29c61c7 (pk: 612)>, 'X': <UpfData: uuid: 2ed40ad1-57b5-46d2-b132-d1b6d5a06112 (pk: 6480)>}, 'kpoints': <KpointsData: uuid: cbb4d0d8-6549-4607-bcf1-186c2fa9e341 (pk: 56778)>}\n",
      "var_kwargs:  None\n",
      "node  type: calcjob/workchain.\n"
     ]
    },
    {
     "name": "stderr",
     "output_type": "stream",
     "text": [
      "06/10/2024 07:36:20 AM <756097> aiida.orm.nodes.process.workflow.workchain.WorkChainNode: [REPORT] [56782|WorkGraphEngine|run_nodes]: Run node: pw_excited_site_3, type: CALCJOB\n"
     ]
    },
    {
     "name": "stdout",
     "output_type": "stream",
     "text": [
      "------------------------------------------------------------\n",
      "executor:  <class 'aiida_quantumespresso.calculations.pw.PwCalculation'>\n",
      "args:  [<StructureData: uuid: 50ffdefc-1a14-4a9e-b9a6-aadb3250453f (pk: 56769)>, <Dict: uuid: 89371200-de21-404e-abba-fc0bcf23a151 (pk: 56779)>, {'C': <UpfData: uuid: e990ad52-c36d-45ad-8f85-57eeed5d564d (pk: 6472)>, 'F': <UpfData: uuid: c656bc1d-e22e-4fd2-b13f-577a9eface5f (pk: 615)>, 'H': <UpfData: uuid: e21ed402-1c7f-492d-ac2b-7a31f61e891d (pk: 592)>, 'O': <UpfData: uuid: 7ab4de29-5f82-4382-8d39-883fb29c61c7 (pk: 612)>, 'X': <UpfData: uuid: 2ed40ad1-57b5-46d2-b132-d1b6d5a06112 (pk: 6480)>}, <KpointsData: uuid: 2cf55d29-22b9-477a-9491-734e07b362a1 (pk: 56781)>]\n",
      "kwargs:  {'metadata': {'options': {'custom_scheduler_commands': '#SBATCH --account=mr32', 'resources': {'num_machines': 1, 'num_mpiprocs_per_machine': 36}}}, 'code': <InstalledCode: Remote code 'qe-7.2-pw' on eiger pk: 56609, uuid: a6efafe4-b2ec-4f72-9c06-ecc412a6ddfd>, 'settings': <Dict: uuid: 2d35d5f1-66a8-48e3-aa62-b1cd0f2cb29f (pk: 56780)>, 'structure': <StructureData: uuid: 50ffdefc-1a14-4a9e-b9a6-aadb3250453f (pk: 56769)>, 'parameters': <Dict: uuid: 89371200-de21-404e-abba-fc0bcf23a151 (pk: 56779)>, 'pseudos': {'C': <UpfData: uuid: e990ad52-c36d-45ad-8f85-57eeed5d564d (pk: 6472)>, 'F': <UpfData: uuid: c656bc1d-e22e-4fd2-b13f-577a9eface5f (pk: 615)>, 'H': <UpfData: uuid: e21ed402-1c7f-492d-ac2b-7a31f61e891d (pk: 592)>, 'O': <UpfData: uuid: 7ab4de29-5f82-4382-8d39-883fb29c61c7 (pk: 612)>, 'X': <UpfData: uuid: 2ed40ad1-57b5-46d2-b132-d1b6d5a06112 (pk: 6480)>}, 'kpoints': <KpointsData: uuid: 2cf55d29-22b9-477a-9491-734e07b362a1 (pk: 56781)>}\n",
      "var_kwargs:  None\n",
      "node  type: calcjob/workchain.\n",
      "node:  ground RUNNING\n",
      "node:  pw_excited_site_0 RUNNING\n",
      "node:  pw_excited_site_1 RUNNING\n",
      "node:  pw_excited_site_2 RUNNING\n",
      "node:  pw_excited_site_3 RUNNING\n",
      "is workgraph finished:  False\n"
     ]
    }
   ],
   "source": [
    "from ase.io import read\n",
    "from aiida import load_profile\n",
    "from aiida.orm import (\n",
    "    Dict,\n",
    "    KpointsData,\n",
    "    StructureData,\n",
    "    load_code,\n",
    "    load_group,\n",
    "    QueryBuilder,\n",
    "    Group,\n",
    ")\n",
    "from workgraph_collections.qe.xps import xps_workgraph\n",
    "\n",
    "load_profile()\n",
    "\n",
    "def load_core_hole_pseudos(pseudo_group=\"pseudo_demo_pbe\"):\n",
    "    \"\"\"Load the core hole pseudos.\"\"\"\n",
    "    pseudo_group = (\n",
    "        QueryBuilder().append(Group, filters={\"label\": pseudo_group}).one()[0]\n",
    "    )\n",
    "    pseudos = {\"core_hole\": {\n",
    "        pseudo.label.split(\"_\")[0]: pseudo for pseudo in pseudo_group.nodes if \"gs\" not in pseudo.label\n",
    "    },\n",
    "    \"gipaw\": {\n",
    "        pseudo.label.split(\"_\")[0]: pseudo for pseudo in pseudo_group.nodes if \"gs\" in pseudo.label\n",
    "    }}\n",
    "    return pseudos, pseudo_group.base.extras.get(\"correction\", {})\n",
    "\n",
    "\n",
    "# create input structure\n",
    "etfa = read(\"datas/ETFA.xyz\")\n",
    "structure = StructureData(ase=etfa)\n",
    "# create the PW node\n",
    "# code = load_code(\"qe-7.2-pw@localhost\")\n",
    "code = load_code(\"qe-7.2-pw@eiger\")\n",
    "parameters = Dict(\n",
    "    {\n",
    "        \"CONTROL\": {\n",
    "            \"calculation\": \"scf\",\n",
    "        },\n",
    "        \"SYSTEM\": {\n",
    "            \"ecutwfc\": 50,\n",
    "            \"ecutrho\": 600,\n",
    "            \"occupations\": \"fixed\",\n",
    "        },\n",
    "    }\n",
    ")\n",
    "kpoints = KpointsData()\n",
    "kpoints.set_kpoints_mesh([1, 1, 1])\n",
    "# Load the pseudopotential family.\n",
    "core_hole_pseudos, correction_energies = load_core_hole_pseudos(\"pseudo_demo_pbe\")\n",
    "correction_energies = {\n",
    "    key.split(\"_\")[0]: value[\"core\"] for key, value in correction_energies.items()\n",
    "}\n",
    "pseudo_family = load_group(\"SSSP/1.3/PBE/efficiency\")\n",
    "pseudos = pseudo_family.get_pseudos(structure=structure)\n",
    "#\n",
    "metadata = {\n",
    "    \"options\": {\n",
    "        \"resources\": {\n",
    "            \"num_machines\": 1,\n",
    "            \"num_mpiprocs_per_machine\": 1,\n",
    "        },\n",
    "    }\n",
    "}\n",
    "metadata_eiger = {\n",
    "    \"options\": {\n",
    "        \"custom_scheduler_commands\": \"#SBATCH --account=mr32\",\n",
    "        \"resources\": {\n",
    "            \"num_machines\": 1,\n",
    "            \"num_mpiprocs_per_machine\": 36,\n",
    "        },\n",
    "    }\n",
    "}\n",
    "# ===============================================================================\n",
    "wg = xps_workgraph(\n",
    "    structure=structure,\n",
    "    code=code,\n",
    "    # atoms_list=[0, 1, 2, 3],\n",
    "    element_list=[\"C\"],\n",
    "    parameters=parameters,\n",
    "    kpoints=kpoints,\n",
    "    pseudos=pseudos,\n",
    "    is_molecule=True,\n",
    "    core_hole_pseudos=core_hole_pseudos,\n",
    "    correction_energies=correction_energies,\n",
    "    metadata=metadata_eiger,\n",
    ")\n",
    "wg.name = \"QE, XPS, ETFA\"\n",
    "print(\"core_hole_pseudos\", core_hole_pseudos.keys())\n",
    "# wg.submit()\n",
    "wg.run()\n"
   ]
  }
 ],
 "metadata": {
  "kernelspec": {
   "display_name": "Python 3 (ipykernel)",
   "language": "python",
   "name": "python3"
  },
  "language_info": {
   "codemirror_mode": {
    "name": "ipython",
    "version": 3
   },
   "file_extension": ".py",
   "mimetype": "text/x-python",
   "name": "python",
   "nbconvert_exporter": "python",
   "pygments_lexer": "ipython3",
   "version": "3.1.-1"
  },
  "vscode": {
   "interpreter": {
    "hash": "2f450c1ff08798c4974437dd057310afef0de414c25d1fd960ad375311c3f6ff"
   }
  }
 },
 "nbformat": 4,
 "nbformat_minor": 5
}
