{
 "cells": [
  {
   "cell_type": "markdown",
   "id": "22d177dc-6cfb-4de2-9509-f1eb45e10cf2",
   "metadata": {},
   "source": [
    "# X-ray photoelectron spectroscopy (XPS)\n",
    "For the source code, see [xps](https://workgraph-collections.readthedocs.io/en/latest/qe/module.html#workgraph_collections.ase.espresso.xps.xps_workgraph).\n",
    "\n",
    "\n",
    "## Visualizing the WorkGraph Builder\n"
   ]
  },
  {
   "cell_type": "code",
   "execution_count": 1,
   "id": "6be40ba7",
   "metadata": {},
   "outputs": [
    {
     "data": {
      "text/html": [
       "\n",
       "        <iframe\n",
       "            width=\"100%\"\n",
       "            height=\"600px\"\n",
       "            src=\"html/xps_workgraph0.html\"\n",
       "            frameborder=\"0\"\n",
       "            allowfullscreen\n",
       "            \n",
       "        ></iframe>\n",
       "        "
      ],
      "text/plain": [
       "<IPython.lib.display.IFrame at 0x716b5c60af10>"
      ]
     },
     "execution_count": 1,
     "metadata": {},
     "output_type": "execute_result"
    }
   ],
   "source": [
    "from workgraph_collections.qe.xps import xps_workgraph\n",
    "from aiida import load_profile\n",
    "load_profile()\n",
    "\n",
    "node = xps_workgraph.node()\n",
    "node.to_html()"
   ]
  },
  {
   "cell_type": "markdown",
   "id": "9e6360d8",
   "metadata": {},
   "source": [
    "## Visualizing the WorkGraph"
   ]
  },
  {
   "cell_type": "code",
   "execution_count": 2,
   "id": "01bedd69",
   "metadata": {},
   "outputs": [
    {
     "data": {
      "text/html": [
       "\n",
       "        <iframe\n",
       "            width=\"100%\"\n",
       "            height=\"600px\"\n",
       "            src=\"html/WorkGraph.html\"\n",
       "            frameborder=\"0\"\n",
       "            allowfullscreen\n",
       "            \n",
       "        ></iframe>\n",
       "        "
      ],
      "text/plain": [
       "<IPython.lib.display.IFrame at 0x716c4cc3b190>"
      ]
     },
     "execution_count": 2,
     "metadata": {},
     "output_type": "execute_result"
    }
   ],
   "source": [
    "from workgraph_collections.qe.xps import xps_workgraph\n",
    "from aiida import load_profile\n",
    "load_profile()\n",
    "\n",
    "wg = xps_workgraph()\n",
    "wg.to_html()"
   ]
  },
  {
   "cell_type": "markdown",
   "id": "efa095d0",
   "metadata": {},
   "source": [
    "## Example: ETFA molecule\n",
    "\n",
    "### Prepare the inputs and submit the workflow\n"
   ]
  },
  {
   "cell_type": "code",
   "execution_count": 3,
   "id": "8ee799d2-0b5b-4609-957f-6b3f2cd451f0",
   "metadata": {},
   "outputs": [
    {
     "name": "stdout",
     "output_type": "stream",
     "text": [
      "core_hole_pseudos dict_keys(['core_hole', 'gipaw'])\n"
     ]
    },
    {
     "name": "stderr",
     "output_type": "stream",
     "text": [
      "06/09/2024 08:36:17 PM <642816> aiida.orm.nodes.process.workflow.workchain.WorkChainNode: [REPORT] [56713|WorkGraphEngine|continue_workgraph]: Continue workgraph.\n"
     ]
    },
    {
     "name": "stdout",
     "output_type": "stream",
     "text": [
      "Continue workgraph.\n"
     ]
    },
    {
     "name": "stderr",
     "output_type": "stream",
     "text": [
      "06/09/2024 08:36:18 PM <642816> aiida.orm.nodes.process.workflow.workchain.WorkChainNode: [REPORT] [56713|WorkGraphEngine|continue_workgraph]: nodes ready to run: marked_structures\n",
      "06/09/2024 08:36:18 PM <642816> aiida.orm.nodes.process.workflow.workchain.WorkChainNode: [REPORT] [56713|WorkGraphEngine|run_nodes]: Run node: marked_structures, type: CALCFUNCTION\n"
     ]
    },
    {
     "name": "stdout",
     "output_type": "stream",
     "text": [
      "------------------------------------------------------------\n",
      "executor:  <function get_xspectra_structures at 0x716b5ca7dbc0>\n",
      "args:  [<StructureData: uuid: e606cdac-7c3c-417c-8c39-469d54365ec9 (pk: 56707)>]\n",
      "kwargs:  {'structure': <StructureData: uuid: e606cdac-7c3c-417c-8c39-469d54365ec9 (pk: 56707)>}\n",
      "var_kwargs:  {'absorbing_elements_list': <List: uuid: e027cebe-04b2-4eab-810b-d1c45034b843 (pk: 56708) value: ['C']>, 'is_molecule_input': <Bool: uuid: c224896a-119d-42dc-94aa-3098d355a629 (pk: 56709) value: True>}\n",
      "node type: calcfunction/workfunction.\n",
      "link_label:  supercell uuid: 80ba80df-033f-4df1-a12e-96e773cf469e (unstored)\n",
      "link_label:  site_0_C uuid: 06d9cb5e-22fd-4446-99ca-55763cb21075 (unstored)\n",
      "link_label:  site_1_C uuid: 946cda02-6b69-41fb-b782-33e72c103463 (unstored)\n",
      "link_label:  site_2_C uuid: 93a7f087-1cc6-4aec-baad-2ef34f04c183 (unstored)\n",
      "link_label:  site_3_C uuid: 2a0dd23d-f52c-4004-885b-b46e5d581c1d (unstored)\n"
     ]
    },
    {
     "name": "stderr",
     "output_type": "stream",
     "text": [
      "06/09/2024 08:36:18 PM <642816> aiida.orm.nodes.process.workflow.workchain.WorkChainNode: [REPORT] [56713|WorkGraphEngine|run_nodes]: Node: marked_structures finished.\n",
      "06/09/2024 08:36:18 PM <642816> aiida.orm.nodes.process.workflow.workchain.WorkChainNode: [REPORT] [56713|WorkGraphEngine|continue_workgraph]: Continue workgraph.\n"
     ]
    },
    {
     "name": "stdout",
     "output_type": "stream",
     "text": [
      "link_label:  output_parameters uuid: 8964f17f-8bb3-46ab-807e-0996ba3fddaf (unstored)\n",
      "Continue workgraph.\n"
     ]
    },
    {
     "name": "stderr",
     "output_type": "stream",
     "text": [
      "06/09/2024 08:36:18 PM <642816> aiida.orm.nodes.process.workflow.workchain.WorkChainNode: [REPORT] [56713|WorkGraphEngine|continue_workgraph]: nodes ready to run: run_scf\n",
      "06/09/2024 08:36:18 PM <642816> aiida.orm.nodes.process.workflow.workchain.WorkChainNode: [REPORT] [56713|WorkGraphEngine|run_nodes]: Run node: run_scf, type: graph_builder\n",
      "06/09/2024 08:36:19 PM <642816> aiida.orm.nodes.process.workflow.workchain.WorkChainNode: [REPORT] [56713|WorkGraphEngine|on_except]: Traceback (most recent call last):\n",
      "  File \"/home/xing/miniconda3/envs/aiida/lib/python3.11/site-packages/plumpy/process_states.py\", line 228, in execute\n",
      "    result = self.run_fn(*self.args, **self.kwargs)\n",
      "             ^^^^^^^^^^^^^^^^^^^^^^^^^^^^^^^^^^^^^^\n",
      "  File \"/home/xing/repos/superstar54/aiida-workgraph/aiida_workgraph/engine/workgraph.py\", line 267, in run\n",
      "    return self._do_step()\n",
      "           ^^^^^^^^^^^^^^^\n",
      "  File \"/home/xing/repos/superstar54/aiida-workgraph/aiida_workgraph/engine/workgraph.py\", line 282, in _do_step\n",
      "    self.continue_workgraph()\n",
      "  File \"/home/xing/repos/superstar54/aiida-workgraph/aiida_workgraph/engine/workgraph.py\", line 564, in continue_workgraph\n",
      "    self.run_nodes(node_to_run)\n",
      "  File \"/home/xing/repos/superstar54/aiida-workgraph/aiida_workgraph/engine/workgraph.py\", line 776, in run_nodes\n",
      "    self.continue_workgraph(names)\n",
      "  File \"/home/xing/repos/superstar54/aiida-workgraph/aiida_workgraph/engine/workgraph.py\", line 564, in continue_workgraph\n",
      "    self.run_nodes(node_to_run)\n",
      "  File \"/home/xing/repos/superstar54/aiida-workgraph/aiida_workgraph/engine/workgraph.py\", line 790, in run_nodes\n",
      "    wg = self.run_executor(executor, [], kwargs, var_args, var_kwargs)\n",
      "         ^^^^^^^^^^^^^^^^^^^^^^^^^^^^^^^^^^^^^^^^^^^^^^^^^^^^^^^^^^^^^\n",
      "  File \"/home/xing/repos/superstar54/aiida-workgraph/aiida_workgraph/engine/workgraph.py\", line 1084, in run_executor\n",
      "    return executor(*args, **kwargs, **var_kwargs)\n",
      "           ^^^^^^^^^^^^^^^^^^^^^^^^^^^^^^^^^^^^^^^\n",
      "  File \"/home/xing/repos/superstar54/workgraph-collections/workgraph_collections/qe/xps.py\", line 67, in run_scf\n",
      "    symbol = sites_info[key][\"symbol\"]\n",
      "             ~~~~~~~~~~^^^^^\n",
      "KeyError: 'site_0_C'\n",
      "\n"
     ]
    },
    {
     "name": "stdout",
     "output_type": "stream",
     "text": [
      "------------------------------------------------------------\n",
      "executor:  <function run_scf at 0x716b58e665c0>\n",
      "args:  []\n",
      "kwargs:  {'structure': <StructureData: uuid: e606cdac-7c3c-417c-8c39-469d54365ec9 (pk: 56707)>, 'code': <InstalledCode: Remote code 'qe-7.2-pw' on eiger pk: 56609, uuid: a6efafe4-b2ec-4f72-9c06-ecc412a6ddfd>, 'parameters': <Dict: uuid: f9997682-e2af-401e-bedf-f74be625b676 (pk: 56710)>, 'kpoints': <KpointsData: uuid: b347bc2c-cb7c-4d75-bb97-767e08b1e91d (pk: 56711)>, 'pseudos': {'C': <UpfData: uuid: acc0db68-1169-4fc6-8f6b-c19a961739a2 (pk: 531)>, 'F': <UpfData: uuid: c656bc1d-e22e-4fd2-b13f-577a9eface5f (pk: 615)>, 'H': <UpfData: uuid: e21ed402-1c7f-492d-ac2b-7a31f61e891d (pk: 592)>, 'O': <UpfData: uuid: 7ab4de29-5f82-4382-8d39-883fb29c61c7 (pk: 612)>}, 'core_hole_pseudos': {'core_hole': {'Al': <UpfData: uuid: 3225e978-5e40-480a-8cc9-23551bb206ed (pk: 6996)>, 'Au': <UpfData: uuid: b360facb-8723-422a-8380-3937099eddb1 (pk: 6989)>, 'C': <UpfData: uuid: 2ed40ad1-57b5-46d2-b132-d1b6d5a06112 (pk: 6480)>, 'Co': <UpfData: uuid: e3af8d70-b488-4535-a120-5dc15b7c391d (pk: 6475)>, 'Cu': <UpfData: uuid: e3d36b74-7e80-4f86-a97b-cc15e6d056a3 (pk: 6479)>, 'F': <UpfData: uuid: 8dff7774-8a25-4129-8565-409202f6031a (pk: 6477)>, 'O': <UpfData: uuid: 0ff9df1e-593d-4167-987f-8e5d321a75b1 (pk: 6481)>, 'Pt': <UpfData: uuid: d21f062c-0f29-42f5-9004-039cc0f3f9e9 (pk: 6993)>, 'Si': <UpfData: uuid: 77672c22-a680-4b0d-86b1-6eca2ac90a83 (pk: 6483)>}, 'gipaw': {'Al': <UpfData: uuid: 68734ebc-7952-4b54-b8fa-f5b5e8afaa60 (pk: 6992)>, 'Au': <UpfData: uuid: c300baa5-4ac1-4928-b119-81d5feb7f980 (pk: 6995)>, 'C': <UpfData: uuid: e990ad52-c36d-45ad-8f85-57eeed5d564d (pk: 6472)>, 'Co': <UpfData: uuid: f5915af2-b8a1-4c43-b44e-9a1e7c955816 (pk: 6474)>, 'Cu': <UpfData: uuid: 84deb42b-fd70-4eb9-8d73-bffd537fd967 (pk: 6476)>, 'F': <UpfData: uuid: e88b5d89-4589-4cce-8799-c992dca6c9fb (pk: 6478)>, 'O': <UpfData: uuid: 32f3d016-6c62-4f9b-afbc-54a3b1a3b0b1 (pk: 6482)>, 'Pt': <UpfData: uuid: df89d405-dee8-4658-b47b-cf1ed07d1b44 (pk: 6991)>, 'Si': <UpfData: uuid: 717bcd45-bf3d-4076-8cd5-7391e0f0af72 (pk: 6473)>, 'W': <UpfData: uuid: be57a342-f6bb-40a8-8b03-a78c665db677 (pk: 33967)>}}, 'core_hole_treatment': 'xch', 'is_molecule': True, 'metadata': {'options': {'custom_scheduler_commands': '#SBATCH --account=mr32', 'resources': {'num_machines': 1, 'num_mpiprocs_per_machine': 36}}}}\n",
      "var_kwargs:  {'supercell': <StructureData: uuid: 80ba80df-033f-4df1-a12e-96e773cf469e (pk: 56715)>, 'site_0_C': <StructureData: uuid: 06d9cb5e-22fd-4446-99ca-55763cb21075 (pk: 56716)>, 'site_1_C': <StructureData: uuid: 946cda02-6b69-41fb-b782-33e72c103463 (pk: 56717)>, 'site_2_C': <StructureData: uuid: 93a7f087-1cc6-4aec-baad-2ef34f04c183 (pk: 56718)>, 'site_3_C': <StructureData: uuid: 2a0dd23d-f52c-4004-885b-b46e5d581c1d (pk: 56719)>, 'output_parameters': <Dict: uuid: 8964f17f-8bb3-46ab-807e-0996ba3fddaf (pk: 56720)>}\n",
      "node  type: graph_builder.\n",
      "var_kwargs:  {'supercell': <StructureData: uuid: 80ba80df-033f-4df1-a12e-96e773cf469e (pk: 56715)>, 'site_0_C': <StructureData: uuid: 06d9cb5e-22fd-4446-99ca-55763cb21075 (pk: 56716)>, 'site_1_C': <StructureData: uuid: 946cda02-6b69-41fb-b782-33e72c103463 (pk: 56717)>, 'site_2_C': <StructureData: uuid: 93a7f087-1cc6-4aec-baad-2ef34f04c183 (pk: 56718)>, 'site_3_C': <StructureData: uuid: 2a0dd23d-f52c-4004-885b-b46e5d581c1d (pk: 56719)>, 'output_parameters': <Dict: uuid: 8964f17f-8bb3-46ab-807e-0996ba3fddaf (pk: 56720)>}\n",
      "sites_info {'site_0': {'symbol': 'C', 'site_index': 0, 'multiplicity': 1, 'equivalent_sites_list': [0]}, 'site_1': {'symbol': 'C', 'site_index': 1, 'multiplicity': 1, 'equivalent_sites_list': [1]}, 'site_2': {'symbol': 'C', 'site_index': 2, 'multiplicity': 1, 'equivalent_sites_list': [2]}, 'site_3': {'symbol': 'C', 'site_index': 3, 'multiplicity': 1, 'equivalent_sites_list': [3]}}\n"
     ]
    },
    {
     "ename": "KeyError",
     "evalue": "'site_0_C'",
     "output_type": "error",
     "traceback": [
      "\u001b[0;31m---------------------------------------------------------------------------\u001b[0m",
      "\u001b[0;31mKeyError\u001b[0m                                  Traceback (most recent call last)",
      "\u001b[0;32m/tmp/ipykernel_642816/3749456606.py\u001b[0m in \u001b[0;36m<cell line: 0>\u001b[0;34m()\u001b[0m\n\u001b[1;32m     90\u001b[0m \u001b[0mprint\u001b[0m\u001b[0;34m(\u001b[0m\u001b[0;34m\"core_hole_pseudos\"\u001b[0m\u001b[0;34m,\u001b[0m \u001b[0mcore_hole_pseudos\u001b[0m\u001b[0;34m.\u001b[0m\u001b[0mkeys\u001b[0m\u001b[0;34m(\u001b[0m\u001b[0;34m)\u001b[0m\u001b[0;34m)\u001b[0m\u001b[0;34m\u001b[0m\u001b[0;34m\u001b[0m\u001b[0m\n\u001b[1;32m     91\u001b[0m \u001b[0;31m# wg.submit()\u001b[0m\u001b[0;34m\u001b[0m\u001b[0;34m\u001b[0m\u001b[0m\n\u001b[0;32m---> 92\u001b[0;31m \u001b[0mwg\u001b[0m\u001b[0;34m.\u001b[0m\u001b[0mrun\u001b[0m\u001b[0;34m(\u001b[0m\u001b[0;34m)\u001b[0m\u001b[0;34m\u001b[0m\u001b[0;34m\u001b[0m\u001b[0m\n\u001b[0m",
      "\u001b[0;32m~/repos/superstar54/aiida-workgraph/aiida_workgraph/workgraph.py\u001b[0m in \u001b[0;36mrun\u001b[0;34m(self, inputs)\u001b[0m\n\u001b[1;32m     89\u001b[0m         \u001b[0;31m# save workgraph data into process node\u001b[0m\u001b[0;34m\u001b[0m\u001b[0;34m\u001b[0m\u001b[0m\n\u001b[1;32m     90\u001b[0m         \u001b[0mself\u001b[0m\u001b[0;34m.\u001b[0m\u001b[0msave_to_base\u001b[0m\u001b[0;34m(\u001b[0m\u001b[0mwgdata\u001b[0m\u001b[0;34m)\u001b[0m\u001b[0;34m\u001b[0m\u001b[0;34m\u001b[0m\u001b[0m\n\u001b[0;32m---> 91\u001b[0;31m         \u001b[0mresult\u001b[0m \u001b[0;34m=\u001b[0m \u001b[0maiida\u001b[0m\u001b[0;34m.\u001b[0m\u001b[0mengine\u001b[0m\u001b[0;34m.\u001b[0m\u001b[0mrun\u001b[0m\u001b[0;34m(\u001b[0m\u001b[0mprocess_inited\u001b[0m\u001b[0;34m)\u001b[0m\u001b[0;34m\u001b[0m\u001b[0;34m\u001b[0m\u001b[0m\n\u001b[0m\u001b[1;32m     92\u001b[0m         \u001b[0mself\u001b[0m\u001b[0;34m.\u001b[0m\u001b[0mupdate\u001b[0m\u001b[0;34m(\u001b[0m\u001b[0;34m)\u001b[0m\u001b[0;34m\u001b[0m\u001b[0;34m\u001b[0m\u001b[0m\n\u001b[1;32m     93\u001b[0m         \u001b[0;32mreturn\u001b[0m \u001b[0mresult\u001b[0m\u001b[0;34m\u001b[0m\u001b[0;34m\u001b[0m\u001b[0m\n",
      "\u001b[0;32m~/miniconda3/envs/aiida/lib/python3.11/site-packages/aiida/engine/launch.py\u001b[0m in \u001b[0;36mrun\u001b[0;34m(process, inputs, **kwargs)\u001b[0m\n\u001b[1;32m     45\u001b[0m         \u001b[0mrunner\u001b[0m \u001b[0;34m=\u001b[0m \u001b[0mmanager\u001b[0m\u001b[0;34m.\u001b[0m\u001b[0mget_manager\u001b[0m\u001b[0;34m(\u001b[0m\u001b[0;34m)\u001b[0m\u001b[0;34m.\u001b[0m\u001b[0mget_runner\u001b[0m\u001b[0;34m(\u001b[0m\u001b[0;34m)\u001b[0m\u001b[0;34m\u001b[0m\u001b[0;34m\u001b[0m\u001b[0m\n\u001b[1;32m     46\u001b[0m \u001b[0;34m\u001b[0m\u001b[0m\n\u001b[0;32m---> 47\u001b[0;31m     \u001b[0;32mreturn\u001b[0m \u001b[0mrunner\u001b[0m\u001b[0;34m.\u001b[0m\u001b[0mrun\u001b[0m\u001b[0;34m(\u001b[0m\u001b[0mprocess\u001b[0m\u001b[0;34m,\u001b[0m \u001b[0minputs\u001b[0m\u001b[0;34m,\u001b[0m \u001b[0;34m**\u001b[0m\u001b[0mkwargs\u001b[0m\u001b[0;34m)\u001b[0m\u001b[0;34m\u001b[0m\u001b[0;34m\u001b[0m\u001b[0m\n\u001b[0m\u001b[1;32m     48\u001b[0m \u001b[0;34m\u001b[0m\u001b[0m\n\u001b[1;32m     49\u001b[0m \u001b[0;34m\u001b[0m\u001b[0m\n",
      "\u001b[0;32m~/miniconda3/envs/aiida/lib/python3.11/site-packages/aiida/engine/runners.py\u001b[0m in \u001b[0;36mrun\u001b[0;34m(self, process, inputs, **kwargs)\u001b[0m\n\u001b[1;32m    272\u001b[0m         \u001b[0;34m:\u001b[0m\u001b[0;32mreturn\u001b[0m\u001b[0;34m:\u001b[0m \u001b[0mthe\u001b[0m \u001b[0moutputs\u001b[0m \u001b[0mof\u001b[0m \u001b[0mthe\u001b[0m \u001b[0mprocess\u001b[0m\u001b[0;34m\u001b[0m\u001b[0;34m\u001b[0m\u001b[0m\n\u001b[1;32m    273\u001b[0m         \"\"\"\n\u001b[0;32m--> 274\u001b[0;31m         \u001b[0mresult\u001b[0m\u001b[0;34m,\u001b[0m \u001b[0m_\u001b[0m \u001b[0;34m=\u001b[0m \u001b[0mself\u001b[0m\u001b[0;34m.\u001b[0m\u001b[0m_run\u001b[0m\u001b[0;34m(\u001b[0m\u001b[0mprocess\u001b[0m\u001b[0;34m,\u001b[0m \u001b[0minputs\u001b[0m\u001b[0;34m,\u001b[0m \u001b[0;34m**\u001b[0m\u001b[0mkwargs\u001b[0m\u001b[0;34m)\u001b[0m\u001b[0;34m\u001b[0m\u001b[0;34m\u001b[0m\u001b[0m\n\u001b[0m\u001b[1;32m    275\u001b[0m         \u001b[0;32mreturn\u001b[0m \u001b[0mresult\u001b[0m\u001b[0;34m\u001b[0m\u001b[0;34m\u001b[0m\u001b[0m\n\u001b[1;32m    276\u001b[0m \u001b[0;34m\u001b[0m\u001b[0m\n",
      "\u001b[0;32m~/miniconda3/envs/aiida/lib/python3.11/site-packages/aiida/engine/runners.py\u001b[0m in \u001b[0;36m_run\u001b[0;34m(self, process, inputs, **kwargs)\u001b[0m\n\u001b[1;32m    256\u001b[0m                 \u001b[0msignal\u001b[0m\u001b[0;34m.\u001b[0m\u001b[0msignal\u001b[0m\u001b[0;34m(\u001b[0m\u001b[0msignal\u001b[0m\u001b[0;34m.\u001b[0m\u001b[0mSIGINT\u001b[0m\u001b[0;34m,\u001b[0m \u001b[0mkill_process\u001b[0m\u001b[0;34m)\u001b[0m\u001b[0;34m\u001b[0m\u001b[0;34m\u001b[0m\u001b[0m\n\u001b[1;32m    257\u001b[0m                 \u001b[0msignal\u001b[0m\u001b[0;34m.\u001b[0m\u001b[0msignal\u001b[0m\u001b[0;34m(\u001b[0m\u001b[0msignal\u001b[0m\u001b[0;34m.\u001b[0m\u001b[0mSIGTERM\u001b[0m\u001b[0;34m,\u001b[0m \u001b[0mkill_process\u001b[0m\u001b[0;34m)\u001b[0m\u001b[0;34m\u001b[0m\u001b[0;34m\u001b[0m\u001b[0m\n\u001b[0;32m--> 258\u001b[0;31m                 \u001b[0mprocess_inited\u001b[0m\u001b[0;34m.\u001b[0m\u001b[0mexecute\u001b[0m\u001b[0;34m(\u001b[0m\u001b[0;34m)\u001b[0m\u001b[0;34m\u001b[0m\u001b[0;34m\u001b[0m\u001b[0m\n\u001b[0m\u001b[1;32m    259\u001b[0m             \u001b[0;32mfinally\u001b[0m\u001b[0;34m:\u001b[0m\u001b[0;34m\u001b[0m\u001b[0;34m\u001b[0m\u001b[0m\n\u001b[1;32m    260\u001b[0m                 \u001b[0msignal\u001b[0m\u001b[0;34m.\u001b[0m\u001b[0msignal\u001b[0m\u001b[0;34m(\u001b[0m\u001b[0msignal\u001b[0m\u001b[0;34m.\u001b[0m\u001b[0mSIGINT\u001b[0m\u001b[0;34m,\u001b[0m \u001b[0moriginal_handler_int\u001b[0m\u001b[0;34m)\u001b[0m\u001b[0;34m\u001b[0m\u001b[0;34m\u001b[0m\u001b[0m\n",
      "\u001b[0;32m~/miniconda3/envs/aiida/lib/python3.11/site-packages/plumpy/processes.py\u001b[0m in \u001b[0;36mfunc_wrapper\u001b[0;34m(self, *args, **kwargs)\u001b[0m\n\u001b[1;32m     84\u001b[0m         \u001b[0;32mif\u001b[0m \u001b[0mself\u001b[0m\u001b[0;34m.\u001b[0m\u001b[0m_closed\u001b[0m\u001b[0;34m:\u001b[0m\u001b[0;34m\u001b[0m\u001b[0;34m\u001b[0m\u001b[0m\n\u001b[1;32m     85\u001b[0m             \u001b[0;32mraise\u001b[0m \u001b[0mexceptions\u001b[0m\u001b[0;34m.\u001b[0m\u001b[0mClosedError\u001b[0m\u001b[0;34m(\u001b[0m\u001b[0;34m'Process is closed'\u001b[0m\u001b[0;34m)\u001b[0m\u001b[0;34m\u001b[0m\u001b[0;34m\u001b[0m\u001b[0m\n\u001b[0;32m---> 86\u001b[0;31m         \u001b[0;32mreturn\u001b[0m \u001b[0mfunc\u001b[0m\u001b[0;34m(\u001b[0m\u001b[0mself\u001b[0m\u001b[0;34m,\u001b[0m \u001b[0;34m*\u001b[0m\u001b[0margs\u001b[0m\u001b[0;34m,\u001b[0m \u001b[0;34m**\u001b[0m\u001b[0mkwargs\u001b[0m\u001b[0;34m)\u001b[0m\u001b[0;34m\u001b[0m\u001b[0;34m\u001b[0m\u001b[0m\n\u001b[0m\u001b[1;32m     87\u001b[0m \u001b[0;34m\u001b[0m\u001b[0m\n\u001b[1;32m     88\u001b[0m     \u001b[0;32mreturn\u001b[0m \u001b[0mfunc_wrapper\u001b[0m\u001b[0;34m\u001b[0m\u001b[0;34m\u001b[0m\u001b[0m\n",
      "\u001b[0;32m~/miniconda3/envs/aiida/lib/python3.11/site-packages/plumpy/processes.py\u001b[0m in \u001b[0;36mexecute\u001b[0;34m(self)\u001b[0m\n\u001b[1;32m   1195\u001b[0m             \u001b[0mself\u001b[0m\u001b[0;34m.\u001b[0m\u001b[0mloop\u001b[0m\u001b[0;34m.\u001b[0m\u001b[0mrun_until_complete\u001b[0m\u001b[0;34m(\u001b[0m\u001b[0mself\u001b[0m\u001b[0;34m.\u001b[0m\u001b[0mstep_until_terminated\u001b[0m\u001b[0;34m(\u001b[0m\u001b[0;34m)\u001b[0m\u001b[0;34m)\u001b[0m\u001b[0;34m\u001b[0m\u001b[0;34m\u001b[0m\u001b[0m\n\u001b[1;32m   1196\u001b[0m \u001b[0;34m\u001b[0m\u001b[0m\n\u001b[0;32m-> 1197\u001b[0;31m         \u001b[0;32mreturn\u001b[0m \u001b[0mself\u001b[0m\u001b[0;34m.\u001b[0m\u001b[0mfuture\u001b[0m\u001b[0;34m(\u001b[0m\u001b[0;34m)\u001b[0m\u001b[0;34m.\u001b[0m\u001b[0mresult\u001b[0m\u001b[0;34m(\u001b[0m\u001b[0;34m)\u001b[0m\u001b[0;34m\u001b[0m\u001b[0;34m\u001b[0m\u001b[0m\n\u001b[0m\u001b[1;32m   1198\u001b[0m \u001b[0;34m\u001b[0m\u001b[0m\n\u001b[1;32m   1199\u001b[0m     \u001b[0;34m@\u001b[0m\u001b[0mensure_not_closed\u001b[0m\u001b[0;34m\u001b[0m\u001b[0;34m\u001b[0m\u001b[0m\n",
      "\u001b[0;32m~/miniconda3/envs/aiida/lib/python3.11/site-packages/plumpy/process_states.py\u001b[0m in \u001b[0;36mexecute\u001b[0;34m(self)\u001b[0m\n\u001b[1;32m    226\u001b[0m                 \u001b[0;32mtry\u001b[0m\u001b[0;34m:\u001b[0m\u001b[0;34m\u001b[0m\u001b[0;34m\u001b[0m\u001b[0m\n\u001b[1;32m    227\u001b[0m                     \u001b[0mself\u001b[0m\u001b[0;34m.\u001b[0m\u001b[0m_running\u001b[0m \u001b[0;34m=\u001b[0m \u001b[0;32mTrue\u001b[0m\u001b[0;34m\u001b[0m\u001b[0;34m\u001b[0m\u001b[0m\n\u001b[0;32m--> 228\u001b[0;31m                     \u001b[0mresult\u001b[0m \u001b[0;34m=\u001b[0m \u001b[0mself\u001b[0m\u001b[0;34m.\u001b[0m\u001b[0mrun_fn\u001b[0m\u001b[0;34m(\u001b[0m\u001b[0;34m*\u001b[0m\u001b[0mself\u001b[0m\u001b[0;34m.\u001b[0m\u001b[0margs\u001b[0m\u001b[0;34m,\u001b[0m \u001b[0;34m**\u001b[0m\u001b[0mself\u001b[0m\u001b[0;34m.\u001b[0m\u001b[0mkwargs\u001b[0m\u001b[0;34m)\u001b[0m\u001b[0;34m\u001b[0m\u001b[0;34m\u001b[0m\u001b[0m\n\u001b[0m\u001b[1;32m    229\u001b[0m                 \u001b[0;32mfinally\u001b[0m\u001b[0;34m:\u001b[0m\u001b[0;34m\u001b[0m\u001b[0;34m\u001b[0m\u001b[0m\n\u001b[1;32m    230\u001b[0m                     \u001b[0mself\u001b[0m\u001b[0;34m.\u001b[0m\u001b[0m_running\u001b[0m \u001b[0;34m=\u001b[0m \u001b[0;32mFalse\u001b[0m\u001b[0;34m\u001b[0m\u001b[0;34m\u001b[0m\u001b[0m\n",
      "\u001b[0;32m~/repos/superstar54/aiida-workgraph/aiida_workgraph/engine/workgraph.py\u001b[0m in \u001b[0;36mrun\u001b[0;34m(self)\u001b[0m\n\u001b[1;32m    265\u001b[0m     \u001b[0;32mdef\u001b[0m \u001b[0mrun\u001b[0m\u001b[0;34m(\u001b[0m\u001b[0mself\u001b[0m\u001b[0;34m)\u001b[0m \u001b[0;34m->\u001b[0m \u001b[0mt\u001b[0m\u001b[0;34m.\u001b[0m\u001b[0mAny\u001b[0m\u001b[0;34m:\u001b[0m\u001b[0;34m\u001b[0m\u001b[0;34m\u001b[0m\u001b[0m\n\u001b[1;32m    266\u001b[0m         \u001b[0mself\u001b[0m\u001b[0;34m.\u001b[0m\u001b[0msetup\u001b[0m\u001b[0;34m(\u001b[0m\u001b[0;34m)\u001b[0m\u001b[0;34m\u001b[0m\u001b[0;34m\u001b[0m\u001b[0m\n\u001b[0;32m--> 267\u001b[0;31m         \u001b[0;32mreturn\u001b[0m \u001b[0mself\u001b[0m\u001b[0;34m.\u001b[0m\u001b[0m_do_step\u001b[0m\u001b[0;34m(\u001b[0m\u001b[0;34m)\u001b[0m\u001b[0;34m\u001b[0m\u001b[0;34m\u001b[0m\u001b[0m\n\u001b[0m\u001b[1;32m    268\u001b[0m \u001b[0;34m\u001b[0m\u001b[0m\n\u001b[1;32m    269\u001b[0m     \u001b[0;32mdef\u001b[0m \u001b[0m_do_step\u001b[0m\u001b[0;34m(\u001b[0m\u001b[0mself\u001b[0m\u001b[0;34m)\u001b[0m \u001b[0;34m->\u001b[0m \u001b[0mt\u001b[0m\u001b[0;34m.\u001b[0m\u001b[0mAny\u001b[0m\u001b[0;34m:\u001b[0m\u001b[0;34m\u001b[0m\u001b[0;34m\u001b[0m\u001b[0m\n",
      "\u001b[0;32m~/repos/superstar54/aiida-workgraph/aiida_workgraph/engine/workgraph.py\u001b[0m in \u001b[0;36m_do_step\u001b[0;34m(self)\u001b[0m\n\u001b[1;32m    280\u001b[0m \u001b[0;34m\u001b[0m\u001b[0m\n\u001b[1;32m    281\u001b[0m         \u001b[0;32mtry\u001b[0m\u001b[0;34m:\u001b[0m\u001b[0;34m\u001b[0m\u001b[0;34m\u001b[0m\u001b[0m\n\u001b[0;32m--> 282\u001b[0;31m             \u001b[0mself\u001b[0m\u001b[0;34m.\u001b[0m\u001b[0mcontinue_workgraph\u001b[0m\u001b[0;34m(\u001b[0m\u001b[0;34m)\u001b[0m\u001b[0;34m\u001b[0m\u001b[0;34m\u001b[0m\u001b[0m\n\u001b[0m\u001b[1;32m    283\u001b[0m         \u001b[0;32mexcept\u001b[0m \u001b[0m_PropagateReturn\u001b[0m \u001b[0;32mas\u001b[0m \u001b[0mexception\u001b[0m\u001b[0;34m:\u001b[0m\u001b[0;34m\u001b[0m\u001b[0;34m\u001b[0m\u001b[0m\n\u001b[1;32m    284\u001b[0m             \u001b[0mfinished\u001b[0m\u001b[0;34m,\u001b[0m \u001b[0mresult\u001b[0m \u001b[0;34m=\u001b[0m \u001b[0;32mTrue\u001b[0m\u001b[0;34m,\u001b[0m \u001b[0mexception\u001b[0m\u001b[0;34m.\u001b[0m\u001b[0mexit_code\u001b[0m\u001b[0;34m\u001b[0m\u001b[0;34m\u001b[0m\u001b[0m\n",
      "\u001b[0;32m~/repos/superstar54/aiida-workgraph/aiida_workgraph/engine/workgraph.py\u001b[0m in \u001b[0;36mcontinue_workgraph\u001b[0;34m(self, exclude)\u001b[0m\n\u001b[1;32m    562\u001b[0m         \u001b[0;31m#\u001b[0m\u001b[0;34m\u001b[0m\u001b[0;34m\u001b[0m\u001b[0m\n\u001b[1;32m    563\u001b[0m         \u001b[0mself\u001b[0m\u001b[0;34m.\u001b[0m\u001b[0mreport\u001b[0m\u001b[0;34m(\u001b[0m\u001b[0;34m\"nodes ready to run: {}\"\u001b[0m\u001b[0;34m.\u001b[0m\u001b[0mformat\u001b[0m\u001b[0;34m(\u001b[0m\u001b[0;34m\",\"\u001b[0m\u001b[0;34m.\u001b[0m\u001b[0mjoin\u001b[0m\u001b[0;34m(\u001b[0m\u001b[0mnode_to_run\u001b[0m\u001b[0;34m)\u001b[0m\u001b[0;34m)\u001b[0m\u001b[0;34m)\u001b[0m\u001b[0;34m\u001b[0m\u001b[0;34m\u001b[0m\u001b[0m\n\u001b[0;32m--> 564\u001b[0;31m         \u001b[0mself\u001b[0m\u001b[0;34m.\u001b[0m\u001b[0mrun_nodes\u001b[0m\u001b[0;34m(\u001b[0m\u001b[0mnode_to_run\u001b[0m\u001b[0;34m)\u001b[0m\u001b[0;34m\u001b[0m\u001b[0;34m\u001b[0m\u001b[0m\n\u001b[0m\u001b[1;32m    565\u001b[0m \u001b[0;34m\u001b[0m\u001b[0m\n\u001b[1;32m    566\u001b[0m     \u001b[0;32mdef\u001b[0m \u001b[0mupdate_node_state\u001b[0m\u001b[0;34m(\u001b[0m\u001b[0mself\u001b[0m\u001b[0;34m,\u001b[0m \u001b[0mname\u001b[0m\u001b[0;34m:\u001b[0m \u001b[0mstr\u001b[0m\u001b[0;34m)\u001b[0m \u001b[0;34m->\u001b[0m \u001b[0;32mNone\u001b[0m\u001b[0;34m:\u001b[0m\u001b[0;34m\u001b[0m\u001b[0;34m\u001b[0m\u001b[0m\n",
      "\u001b[0;32m~/repos/superstar54/aiida-workgraph/aiida_workgraph/engine/workgraph.py\u001b[0m in \u001b[0;36mrun_nodes\u001b[0;34m(self, names, continue_workgraph)\u001b[0m\n\u001b[1;32m    774\u001b[0m                 \u001b[0;31m# exclude the current nodes from the next run\u001b[0m\u001b[0;34m\u001b[0m\u001b[0;34m\u001b[0m\u001b[0m\n\u001b[1;32m    775\u001b[0m                 \u001b[0;32mif\u001b[0m \u001b[0mcontinue_workgraph\u001b[0m\u001b[0;34m:\u001b[0m\u001b[0;34m\u001b[0m\u001b[0;34m\u001b[0m\u001b[0m\n\u001b[0;32m--> 776\u001b[0;31m                     \u001b[0mself\u001b[0m\u001b[0;34m.\u001b[0m\u001b[0mcontinue_workgraph\u001b[0m\u001b[0;34m(\u001b[0m\u001b[0mnames\u001b[0m\u001b[0;34m)\u001b[0m\u001b[0;34m\u001b[0m\u001b[0;34m\u001b[0m\u001b[0m\n\u001b[0m\u001b[1;32m    777\u001b[0m             \u001b[0;32melif\u001b[0m \u001b[0mnode\u001b[0m\u001b[0;34m[\u001b[0m\u001b[0;34m\"metadata\"\u001b[0m\u001b[0;34m]\u001b[0m\u001b[0;34m[\u001b[0m\u001b[0;34m\"node_type\"\u001b[0m\u001b[0;34m]\u001b[0m\u001b[0;34m.\u001b[0m\u001b[0mupper\u001b[0m\u001b[0;34m(\u001b[0m\u001b[0;34m)\u001b[0m \u001b[0;32min\u001b[0m \u001b[0;34m[\u001b[0m\u001b[0;34m\"CALCJOB\"\u001b[0m\u001b[0;34m,\u001b[0m \u001b[0;34m\"WORKCHAIN\"\u001b[0m\u001b[0;34m]\u001b[0m\u001b[0;34m:\u001b[0m\u001b[0;34m\u001b[0m\u001b[0;34m\u001b[0m\u001b[0m\n\u001b[1;32m    778\u001b[0m                 \u001b[0;31m# process = run_get_node(executor, *args, **kwargs)\u001b[0m\u001b[0;34m\u001b[0m\u001b[0;34m\u001b[0m\u001b[0m\n",
      "\u001b[0;32m~/repos/superstar54/aiida-workgraph/aiida_workgraph/engine/workgraph.py\u001b[0m in \u001b[0;36mcontinue_workgraph\u001b[0;34m(self, exclude)\u001b[0m\n\u001b[1;32m    562\u001b[0m         \u001b[0;31m#\u001b[0m\u001b[0;34m\u001b[0m\u001b[0;34m\u001b[0m\u001b[0m\n\u001b[1;32m    563\u001b[0m         \u001b[0mself\u001b[0m\u001b[0;34m.\u001b[0m\u001b[0mreport\u001b[0m\u001b[0;34m(\u001b[0m\u001b[0;34m\"nodes ready to run: {}\"\u001b[0m\u001b[0;34m.\u001b[0m\u001b[0mformat\u001b[0m\u001b[0;34m(\u001b[0m\u001b[0;34m\",\"\u001b[0m\u001b[0;34m.\u001b[0m\u001b[0mjoin\u001b[0m\u001b[0;34m(\u001b[0m\u001b[0mnode_to_run\u001b[0m\u001b[0;34m)\u001b[0m\u001b[0;34m)\u001b[0m\u001b[0;34m)\u001b[0m\u001b[0;34m\u001b[0m\u001b[0;34m\u001b[0m\u001b[0m\n\u001b[0;32m--> 564\u001b[0;31m         \u001b[0mself\u001b[0m\u001b[0;34m.\u001b[0m\u001b[0mrun_nodes\u001b[0m\u001b[0;34m(\u001b[0m\u001b[0mnode_to_run\u001b[0m\u001b[0;34m)\u001b[0m\u001b[0;34m\u001b[0m\u001b[0;34m\u001b[0m\u001b[0m\n\u001b[0m\u001b[1;32m    565\u001b[0m \u001b[0;34m\u001b[0m\u001b[0m\n\u001b[1;32m    566\u001b[0m     \u001b[0;32mdef\u001b[0m \u001b[0mupdate_node_state\u001b[0m\u001b[0;34m(\u001b[0m\u001b[0mself\u001b[0m\u001b[0;34m,\u001b[0m \u001b[0mname\u001b[0m\u001b[0;34m:\u001b[0m \u001b[0mstr\u001b[0m\u001b[0;34m)\u001b[0m \u001b[0;34m->\u001b[0m \u001b[0;32mNone\u001b[0m\u001b[0;34m:\u001b[0m\u001b[0;34m\u001b[0m\u001b[0;34m\u001b[0m\u001b[0m\n",
      "\u001b[0;32m~/repos/superstar54/aiida-workgraph/aiida_workgraph/engine/workgraph.py\u001b[0m in \u001b[0;36mrun_nodes\u001b[0;34m(self, names, continue_workgraph)\u001b[0m\n\u001b[1;32m    788\u001b[0m             \u001b[0;32melif\u001b[0m \u001b[0mnode\u001b[0m\u001b[0;34m[\u001b[0m\u001b[0;34m\"metadata\"\u001b[0m\u001b[0;34m]\u001b[0m\u001b[0;34m[\u001b[0m\u001b[0;34m\"node_type\"\u001b[0m\u001b[0;34m]\u001b[0m\u001b[0;34m.\u001b[0m\u001b[0mupper\u001b[0m\u001b[0;34m(\u001b[0m\u001b[0;34m)\u001b[0m \u001b[0;32min\u001b[0m \u001b[0;34m[\u001b[0m\u001b[0;34m\"GRAPH_BUILDER\"\u001b[0m\u001b[0;34m]\u001b[0m\u001b[0;34m:\u001b[0m\u001b[0;34m\u001b[0m\u001b[0;34m\u001b[0m\u001b[0m\n\u001b[1;32m    789\u001b[0m                 \u001b[0mprint\u001b[0m\u001b[0;34m(\u001b[0m\u001b[0;34m\"node  type: graph_builder.\"\u001b[0m\u001b[0;34m)\u001b[0m\u001b[0;34m\u001b[0m\u001b[0;34m\u001b[0m\u001b[0m\n\u001b[0;32m--> 790\u001b[0;31m                 \u001b[0mwg\u001b[0m \u001b[0;34m=\u001b[0m \u001b[0mself\u001b[0m\u001b[0;34m.\u001b[0m\u001b[0mrun_executor\u001b[0m\u001b[0;34m(\u001b[0m\u001b[0mexecutor\u001b[0m\u001b[0;34m,\u001b[0m \u001b[0;34m[\u001b[0m\u001b[0;34m]\u001b[0m\u001b[0;34m,\u001b[0m \u001b[0mkwargs\u001b[0m\u001b[0;34m,\u001b[0m \u001b[0mvar_args\u001b[0m\u001b[0;34m,\u001b[0m \u001b[0mvar_kwargs\u001b[0m\u001b[0;34m)\u001b[0m\u001b[0;34m\u001b[0m\u001b[0;34m\u001b[0m\u001b[0m\n\u001b[0m\u001b[1;32m    791\u001b[0m                 \u001b[0mwg\u001b[0m\u001b[0;34m.\u001b[0m\u001b[0mname\u001b[0m \u001b[0;34m=\u001b[0m \u001b[0mname\u001b[0m\u001b[0;34m\u001b[0m\u001b[0;34m\u001b[0m\u001b[0m\n\u001b[1;32m    792\u001b[0m                 \u001b[0mwg\u001b[0m\u001b[0;34m.\u001b[0m\u001b[0mgroup_outputs\u001b[0m \u001b[0;34m=\u001b[0m \u001b[0mself\u001b[0m\u001b[0;34m.\u001b[0m\u001b[0mctx\u001b[0m\u001b[0;34m.\u001b[0m\u001b[0mnodes\u001b[0m\u001b[0;34m[\u001b[0m\u001b[0mname\u001b[0m\u001b[0;34m]\u001b[0m\u001b[0;34m[\u001b[0m\u001b[0;34m\"metadata\"\u001b[0m\u001b[0;34m]\u001b[0m\u001b[0;34m[\u001b[0m\u001b[0;34m\"group_outputs\"\u001b[0m\u001b[0;34m]\u001b[0m\u001b[0;34m\u001b[0m\u001b[0;34m\u001b[0m\u001b[0m\n",
      "\u001b[0;32m~/repos/superstar54/aiida-workgraph/aiida_workgraph/engine/workgraph.py\u001b[0m in \u001b[0;36mrun_executor\u001b[0;34m(self, executor, args, kwargs, var_args, var_kwargs)\u001b[0m\n\u001b[1;32m   1082\u001b[0m         \u001b[0;32melse\u001b[0m\u001b[0;34m:\u001b[0m\u001b[0;34m\u001b[0m\u001b[0;34m\u001b[0m\u001b[0m\n\u001b[1;32m   1083\u001b[0m             \u001b[0mprint\u001b[0m\u001b[0;34m(\u001b[0m\u001b[0;34m\"var_kwargs: \"\u001b[0m\u001b[0;34m,\u001b[0m \u001b[0mvar_kwargs\u001b[0m\u001b[0;34m)\u001b[0m\u001b[0;34m\u001b[0m\u001b[0;34m\u001b[0m\u001b[0m\n\u001b[0;32m-> 1084\u001b[0;31m             \u001b[0;32mreturn\u001b[0m \u001b[0mexecutor\u001b[0m\u001b[0;34m(\u001b[0m\u001b[0;34m*\u001b[0m\u001b[0margs\u001b[0m\u001b[0;34m,\u001b[0m \u001b[0;34m**\u001b[0m\u001b[0mkwargs\u001b[0m\u001b[0;34m,\u001b[0m \u001b[0;34m**\u001b[0m\u001b[0mvar_kwargs\u001b[0m\u001b[0;34m)\u001b[0m\u001b[0;34m\u001b[0m\u001b[0;34m\u001b[0m\u001b[0m\n\u001b[0m\u001b[1;32m   1085\u001b[0m \u001b[0;34m\u001b[0m\u001b[0m\n\u001b[1;32m   1086\u001b[0m     \u001b[0;32mdef\u001b[0m \u001b[0msave_results_to_extras\u001b[0m\u001b[0;34m(\u001b[0m\u001b[0mself\u001b[0m\u001b[0;34m,\u001b[0m \u001b[0mname\u001b[0m\u001b[0;34m:\u001b[0m \u001b[0mstr\u001b[0m\u001b[0;34m)\u001b[0m \u001b[0;34m->\u001b[0m \u001b[0;32mNone\u001b[0m\u001b[0;34m:\u001b[0m\u001b[0;34m\u001b[0m\u001b[0;34m\u001b[0m\u001b[0m\n",
      "\u001b[0;32m~/repos/superstar54/workgraph-collections/workgraph_collections/qe/xps.py\u001b[0m in \u001b[0;36mrun_scf\u001b[0;34m(structure, code, parameters, kpoints, pseudos, core_hole_pseudos, core_hole_treatment, is_molecule, metadata, **marked_structures)\u001b[0m\n\u001b[1;32m     65\u001b[0m     \u001b[0;32mfor\u001b[0m \u001b[0mkey\u001b[0m\u001b[0;34m,\u001b[0m \u001b[0mmarked_structure\u001b[0m \u001b[0;32min\u001b[0m \u001b[0mmarked_structures\u001b[0m\u001b[0;34m.\u001b[0m\u001b[0mitems\u001b[0m\u001b[0;34m(\u001b[0m\u001b[0;34m)\u001b[0m\u001b[0;34m:\u001b[0m\u001b[0;34m\u001b[0m\u001b[0;34m\u001b[0m\u001b[0m\n\u001b[1;32m     66\u001b[0m         \u001b[0mpseudos1\u001b[0m \u001b[0;34m=\u001b[0m \u001b[0mpseudos\u001b[0m\u001b[0;34m.\u001b[0m\u001b[0mcopy\u001b[0m\u001b[0;34m(\u001b[0m\u001b[0;34m)\u001b[0m\u001b[0;34m\u001b[0m\u001b[0;34m\u001b[0m\u001b[0m\n\u001b[0;32m---> 67\u001b[0;31m         \u001b[0msymbol\u001b[0m \u001b[0;34m=\u001b[0m \u001b[0msites_info\u001b[0m\u001b[0;34m[\u001b[0m\u001b[0mkey\u001b[0m\u001b[0;34m]\u001b[0m\u001b[0;34m[\u001b[0m\u001b[0;34m\"symbol\"\u001b[0m\u001b[0;34m]\u001b[0m\u001b[0;34m\u001b[0m\u001b[0;34m\u001b[0m\u001b[0m\n\u001b[0m\u001b[1;32m     68\u001b[0m         \u001b[0mpseudos1\u001b[0m\u001b[0;34m[\u001b[0m\u001b[0;34m\"X\"\u001b[0m\u001b[0;34m]\u001b[0m \u001b[0;34m=\u001b[0m \u001b[0mcore_hole_pseudos\u001b[0m\u001b[0;34m[\u001b[0m\u001b[0;34m\"core_hole\"\u001b[0m\u001b[0;34m]\u001b[0m\u001b[0;34m[\u001b[0m\u001b[0msymbol\u001b[0m\u001b[0;34m]\u001b[0m\u001b[0;34m\u001b[0m\u001b[0;34m\u001b[0m\u001b[0m\n\u001b[1;32m     69\u001b[0m         \u001b[0;31m# remove pseudo of non-exist element\u001b[0m\u001b[0;34m\u001b[0m\u001b[0;34m\u001b[0m\u001b[0m\n",
      "\u001b[0;31mKeyError\u001b[0m: 'site_0_C'"
     ]
    }
   ],
   "source": [
    "from ase.io import read\n",
    "from aiida import load_profile\n",
    "from aiida.orm import (\n",
    "    Dict,\n",
    "    KpointsData,\n",
    "    StructureData,\n",
    "    load_code,\n",
    "    load_group,\n",
    "    QueryBuilder,\n",
    "    Group,\n",
    ")\n",
    "from workgraph_collections.qe.xps import xps_workgraph\n",
    "\n",
    "load_profile()\n",
    "\n",
    "def load_core_hole_pseudos(pseudo_group=\"pseudo_demo_pbe\"):\n",
    "    \"\"\"Load the core hole pseudos.\"\"\"\n",
    "    pseudo_group = (\n",
    "        QueryBuilder().append(Group, filters={\"label\": pseudo_group}).one()[0]\n",
    "    )\n",
    "    pseudos = {\"core_hole\": {\n",
    "        pseudo.label.split(\"_\")[0]: pseudo for pseudo in pseudo_group.nodes if \"gs\" not in pseudo.label\n",
    "    },\n",
    "    \"gipaw\": {\n",
    "        pseudo.label.split(\"_\")[0]: pseudo for pseudo in pseudo_group.nodes if \"gs\" in pseudo.label\n",
    "    }}\n",
    "    return pseudos, pseudo_group.base.extras.get(\"correction\", {})\n",
    "\n",
    "\n",
    "# create input structure node\n",
    "etfa = read(\"datas/ETFA.xyz\")\n",
    "structure = StructureData(ase=etfa)\n",
    "# create the PW node\n",
    "# code = load_code(\"qe-7.2-pw@localhost\")\n",
    "code = load_code(\"qe-7.2-pw@eiger\")\n",
    "parameters = Dict(\n",
    "    {\n",
    "        \"CONTROL\": {\n",
    "            \"calculation\": \"scf\",\n",
    "        },\n",
    "        \"SYSTEM\": {\n",
    "            \"ecutwfc\": 50,\n",
    "            \"ecutrho\": 600,\n",
    "            \"occupations\": \"fixed\",\n",
    "        },\n",
    "    }\n",
    ")\n",
    "kpoints = KpointsData()\n",
    "kpoints.set_kpoints_mesh([1, 1, 1])\n",
    "# Load the pseudopotential family.\n",
    "core_hole_pseudos, correction_energies = load_core_hole_pseudos(\"pseudo_demo_pbe\")\n",
    "correction_energies = {\n",
    "    key.split(\"_\")[0]: value[\"core\"] for key, value in correction_energies.items()\n",
    "}\n",
    "pseudo_family = load_group(\"SSSP/1.3/PBE/efficiency\")\n",
    "pseudos = pseudo_family.get_pseudos(structure=structure)\n",
    "#\n",
    "metadata = {\n",
    "    \"options\": {\n",
    "        \"resources\": {\n",
    "            \"num_machines\": 1,\n",
    "            \"num_mpiprocs_per_machine\": 1,\n",
    "        },\n",
    "    }\n",
    "}\n",
    "metadata_eiger = {\n",
    "    \"options\": {\n",
    "        \"custom_scheduler_commands\": \"#SBATCH --account=mr32\",\n",
    "        \"resources\": {\n",
    "            \"num_machines\": 1,\n",
    "            \"num_mpiprocs_per_machine\": 36,\n",
    "        },\n",
    "    }\n",
    "}\n",
    "# ===============================================================================\n",
    "wg = xps_workgraph(\n",
    "    structure=structure,\n",
    "    code=code,\n",
    "    # atoms_list=[0, 1, 2, 3],\n",
    "    element_list=[\"C\"],\n",
    "    parameters=parameters,\n",
    "    kpoints=kpoints,\n",
    "    pseudos=pseudos,\n",
    "    is_molecule=True,\n",
    "    core_hole_pseudos=core_hole_pseudos,\n",
    "    correction_energies=correction_energies,\n",
    "    metadata=metadata_eiger,\n",
    ")\n",
    "wg.name = \"QE, XPS, ETFA\"\n",
    "print(\"core_hole_pseudos\", core_hole_pseudos.keys())\n",
    "# wg.submit()\n",
    "wg.run()\n"
   ]
  }
 ],
 "metadata": {
  "kernelspec": {
   "display_name": "Python 3 (ipykernel)",
   "language": "python",
   "name": "python3"
  },
  "language_info": {
   "codemirror_mode": {
    "name": "ipython",
    "version": 3
   },
   "file_extension": ".py",
   "mimetype": "text/x-python",
   "name": "python",
   "nbconvert_exporter": "python",
   "pygments_lexer": "ipython3",
   "version": "3.11.0"
  },
  "vscode": {
   "interpreter": {
    "hash": "2f450c1ff08798c4974437dd057310afef0de414c25d1fd960ad375311c3f6ff"
   }
  }
 },
 "nbformat": 4,
 "nbformat_minor": 5
}
