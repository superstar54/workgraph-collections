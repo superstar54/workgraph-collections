{
 "cells": [
  {
   "cell_type": "markdown",
   "metadata": {},
   "source": [
    "# Test ETFA"
   ]
  },
  {
   "cell_type": "code",
   "execution_count": 1,
   "metadata": {},
   "outputs": [
    {
     "data": {
      "text/plain": [
       "Profile<uuid='26d1506a5df343b38cc9d3e4cc459793' name='default'>"
      ]
     },
     "execution_count": 1,
     "metadata": {},
     "output_type": "execute_result"
    }
   ],
   "source": [
    "from aiida import load_profile\n",
    "\n",
    "load_profile()\n"
   ]
  },
  {
   "cell_type": "code",
   "execution_count": 2,
   "metadata": {},
   "outputs": [
    {
     "name": "stdout",
     "output_type": "stream",
     "text": [
      "ndata:  {'node_type': 'CALCFUNCTION', 'executor': <function get_structures at 0x7fe98efb3130>}\n",
      "ndata:  {'node_type': 'CALCFUNCTION', 'executor': <function binding_energy at 0x7fe98efb3a30>}\n"
     ]
    },
    {
     "data": {
      "application/vnd.jupyter.widget-view+json": {
       "model_id": "eae4585b521f4010b8cf6e6b1bdffd21",
       "version_major": 2,
       "version_minor": 0
      },
      "text/plain": [
       "NodeGraphWidget(settings={'minimap': True}, style={'width': '90%', 'height': '600px'}, value={'name': 'binding…"
      ]
     },
     "execution_count": 2,
     "metadata": {},
     "output_type": "execute_result"
    }
   ],
   "source": [
    "from workgraph_collections.cp2k.xps import xps_workflow\n",
    "wg = xps_workflow()\n",
    "wg"
   ]
  },
  {
   "cell_type": "markdown",
   "metadata": {},
   "source": [
    "## Prepare the input files"
   ]
  },
  {
   "cell_type": "code",
   "execution_count": 3,
   "metadata": {},
   "outputs": [
    {
     "ename": "FileNotFoundError",
     "evalue": "[Errno 2] No such file or directory: 'datas/ETFA.xyz'",
     "output_type": "error",
     "traceback": [
      "\u001b[0;31m---------------------------------------------------------------------------\u001b[0m",
      "\u001b[0;31mFileNotFoundError\u001b[0m                         Traceback (most recent call last)",
      "\u001b[0;32m/tmp/ipykernel_1718495/946939493.py\u001b[0m in \u001b[0;36m<cell line: 15>\u001b[0;34m()\u001b[0m\n\u001b[1;32m     13\u001b[0m         }\n\u001b[1;32m     14\u001b[0m \u001b[0;31m# Structure.\u001b[0m\u001b[0;34m\u001b[0m\u001b[0;34m\u001b[0m\u001b[0m\n\u001b[0;32m---> 15\u001b[0;31m \u001b[0metfa\u001b[0m \u001b[0;34m=\u001b[0m \u001b[0mread\u001b[0m\u001b[0;34m(\u001b[0m\u001b[0;34m\"datas/ETFA.xyz\"\u001b[0m\u001b[0;34m)\u001b[0m\u001b[0;34m\u001b[0m\u001b[0;34m\u001b[0m\u001b[0m\n\u001b[0m\u001b[1;32m     16\u001b[0m \u001b[0;31m# view(pt_111_333)\u001b[0m\u001b[0;34m\u001b[0m\u001b[0;34m\u001b[0m\u001b[0m\n\u001b[1;32m     17\u001b[0m \u001b[0mstructure\u001b[0m \u001b[0;34m=\u001b[0m \u001b[0mStructureData\u001b[0m\u001b[0;34m(\u001b[0m\u001b[0mase\u001b[0m\u001b[0;34m=\u001b[0m\u001b[0metfa\u001b[0m\u001b[0;34m)\u001b[0m\u001b[0;34m\u001b[0m\u001b[0;34m\u001b[0m\u001b[0m\n",
      "\u001b[0;32m~/apps/miniconda3/envs/science/lib/python3.10/site-packages/ase/io/formats.py\u001b[0m in \u001b[0;36mread\u001b[0;34m(filename, index, format, parallel, do_not_split_by_at_sign, **kwargs)\u001b[0m\n\u001b[1;32m    727\u001b[0m     \u001b[0;32mif\u001b[0m \u001b[0mindex\u001b[0m \u001b[0;32mis\u001b[0m \u001b[0;32mNone\u001b[0m\u001b[0;34m:\u001b[0m\u001b[0;34m\u001b[0m\u001b[0;34m\u001b[0m\u001b[0m\n\u001b[1;32m    728\u001b[0m         \u001b[0mindex\u001b[0m \u001b[0;34m=\u001b[0m \u001b[0;34m-\u001b[0m\u001b[0;36m1\u001b[0m\u001b[0;34m\u001b[0m\u001b[0;34m\u001b[0m\u001b[0m\n\u001b[0;32m--> 729\u001b[0;31m     \u001b[0mformat\u001b[0m \u001b[0;34m=\u001b[0m \u001b[0mformat\u001b[0m \u001b[0;32mor\u001b[0m \u001b[0mfiletype\u001b[0m\u001b[0;34m(\u001b[0m\u001b[0mfilename\u001b[0m\u001b[0;34m,\u001b[0m \u001b[0mread\u001b[0m\u001b[0;34m=\u001b[0m\u001b[0misinstance\u001b[0m\u001b[0;34m(\u001b[0m\u001b[0mfilename\u001b[0m\u001b[0;34m,\u001b[0m \u001b[0mstr\u001b[0m\u001b[0;34m)\u001b[0m\u001b[0;34m)\u001b[0m\u001b[0;34m\u001b[0m\u001b[0;34m\u001b[0m\u001b[0m\n\u001b[0m\u001b[1;32m    730\u001b[0m \u001b[0;34m\u001b[0m\u001b[0m\n\u001b[1;32m    731\u001b[0m     \u001b[0mio\u001b[0m \u001b[0;34m=\u001b[0m \u001b[0mget_ioformat\u001b[0m\u001b[0;34m(\u001b[0m\u001b[0mformat\u001b[0m\u001b[0;34m)\u001b[0m\u001b[0;34m\u001b[0m\u001b[0;34m\u001b[0m\u001b[0m\n",
      "\u001b[0;32m~/apps/miniconda3/envs/science/lib/python3.10/site-packages/ase/io/formats.py\u001b[0m in \u001b[0;36mfiletype\u001b[0;34m(filename, read, guess)\u001b[0m\n\u001b[1;32m    918\u001b[0m \u001b[0;34m\u001b[0m\u001b[0m\n\u001b[1;32m    919\u001b[0m         \u001b[0;32mif\u001b[0m \u001b[0morig_filename\u001b[0m \u001b[0;34m==\u001b[0m \u001b[0mfilename\u001b[0m\u001b[0;34m:\u001b[0m\u001b[0;34m\u001b[0m\u001b[0;34m\u001b[0m\u001b[0m\n\u001b[0;32m--> 920\u001b[0;31m             \u001b[0mfd\u001b[0m \u001b[0;34m=\u001b[0m \u001b[0mopen_with_compression\u001b[0m\u001b[0;34m(\u001b[0m\u001b[0mfilename\u001b[0m\u001b[0;34m,\u001b[0m \u001b[0;34m'rb'\u001b[0m\u001b[0;34m)\u001b[0m\u001b[0;34m\u001b[0m\u001b[0;34m\u001b[0m\u001b[0m\n\u001b[0m\u001b[1;32m    921\u001b[0m         \u001b[0;32melse\u001b[0m\u001b[0;34m:\u001b[0m\u001b[0;34m\u001b[0m\u001b[0;34m\u001b[0m\u001b[0m\n\u001b[1;32m    922\u001b[0m             \u001b[0mfd\u001b[0m \u001b[0;34m=\u001b[0m \u001b[0morig_filename\u001b[0m  \u001b[0;31m# type: ignore\u001b[0m\u001b[0;34m\u001b[0m\u001b[0;34m\u001b[0m\u001b[0m\n",
      "\u001b[0;32m~/apps/miniconda3/envs/science/lib/python3.10/site-packages/ase/io/formats.py\u001b[0m in \u001b[0;36mopen_with_compression\u001b[0;34m(filename, mode)\u001b[0m\n\u001b[1;32m    549\u001b[0m     \u001b[0;32melse\u001b[0m\u001b[0;34m:\u001b[0m\u001b[0;34m\u001b[0m\u001b[0;34m\u001b[0m\u001b[0m\n\u001b[1;32m    550\u001b[0m         \u001b[0;31m# Either None or unknown string\u001b[0m\u001b[0;34m\u001b[0m\u001b[0;34m\u001b[0m\u001b[0m\n\u001b[0;32m--> 551\u001b[0;31m         \u001b[0;32mreturn\u001b[0m \u001b[0mopen\u001b[0m\u001b[0;34m(\u001b[0m\u001b[0mfilename\u001b[0m\u001b[0;34m,\u001b[0m \u001b[0mmode\u001b[0m\u001b[0;34m)\u001b[0m\u001b[0;34m\u001b[0m\u001b[0;34m\u001b[0m\u001b[0m\n\u001b[0m\u001b[1;32m    552\u001b[0m \u001b[0;34m\u001b[0m\u001b[0m\n\u001b[1;32m    553\u001b[0m \u001b[0;34m\u001b[0m\u001b[0m\n",
      "\u001b[0;31mFileNotFoundError\u001b[0m: [Errno 2] No such file or directory: 'datas/ETFA.xyz'"
     ]
    }
   ],
   "source": [
    "from ase.build import fcc111\n",
    "from ase.io import  read\n",
    "from ase.visualize import view\n",
    "from aiida.orm import Dict, load_code, load_node, StructureData\n",
    "\n",
    "cp2k_code = load_code(\"cp2k-ssmp-2024.1@localhost\")\n",
    "# cp2k_code = load_code(\"cp2k-psmp-2024.1@eiger\")\n",
    "basis_file = load_node(9041)\n",
    "pseudo_file = load_node(9042)\n",
    "basis_pseudo_files = {\n",
    "            \"basis\": basis_file,\n",
    "            \"pseudo\": pseudo_file,\n",
    "        }\n",
    "# Structure.\n",
    "etfa = read(\"datas/ETFA.xyz\")\n",
    "# view(pt_111_333)\n",
    "structure = StructureData(ase=etfa)\n",
    "structure.label = \"ETFA molecule, vacuum 5.0 Angstroms\"\n",
    "# Parameters.\n",
    "parameters = {\n",
    "        \"GLOBAL\": {\n",
    "            \"RUN_TYPE\": \"ENERGY_FORCE\",\n",
    "        },\n",
    "        \"FORCE_EVAL\": {\n",
    "            \"METHOD\": \"Quickstep\",\n",
    "            \"DFT\": {\n",
    "                \"BASIS_SET_FILE_NAME\": \"BASIS_MOLOPT\",\n",
    "                \"POTENTIAL_FILE_NAME\": \"POTENTIALS\",\n",
    "                \"UKS\": True,\n",
    "                \"MULTIPLICITY\": 1,\n",
    "                \"SCF\": {\n",
    "                    \"EPS_DIIS\": 0.1,\n",
    "                    \"EPS_SCF\": 1e-06,\n",
    "                    \"ADDED_MOS\": 200,\n",
    "                    \"OUTER_SCF\": {\n",
    "                        \"MAX_SCF\": 20,\n",
    "                        \"EPS_SCF\": 1e-06,\n",
    "                    },\n",
    "                    \"OT\": {\n",
    "                        \"ORTHO_IRAC\": \"CHOL\",\n",
    "                        \"N_HISTORY_VEC\": 7,\n",
    "                        \"SAFE_DIIS\": False,\n",
    "                        \"PRECONDITIONER\": \"FULL_ALL\",\n",
    "                        \"ENERGY_GAP\": 0.05,\n",
    "                        \"MINIMIZER\": \"CG\",\n",
    "                        \"ALGORITHM\": \"IRAC\",\n",
    "                        \"EPS_IRAC_SWITCH\": 0.01,\n",
    "                    },\n",
    "                },\n",
    "                \"QS\": {\n",
    "                    \"METHOD\": \"GPW\",\n",
    "                    \"EPS_DEFAULT\": 1.0e-12,\n",
    "                    \"EXTRAPOLATION_ORDER\": 3,\n",
    "                },\n",
    "                \"MGRID\": {\n",
    "                    \"NGRIDS\": 5,\n",
    "                    \"CUTOFF\": 1000,\n",
    "                    \"REL_CUTOFF\": 50,\n",
    "                },\n",
    "                \"XC\": {\n",
    "                    \"XC_FUNCTIONAL\": {\n",
    "                        \"PBE\": {\n",
    "                        \"PARAMETRIZATION\": \"PBESOL\",\n",
    "                        }\n",
    "                    },\n",
    "                },\n",
    "            },\n",
    "            \"SUBSYS\": {\n",
    "                \"KIND\": [\n",
    "                    {\n",
    "                        \"_\": \"O\",\n",
    "                        \"BASIS_SET\": \"DZVP-MOLOPT-GTH\",\n",
    "                        \"POTENTIAL\": \"GTH-PBESOL-q6\",\n",
    "                    },\n",
    "                    {\n",
    "                        \"_\": \"C\",\n",
    "                        \"BASIS_SET\": \"DZVP-MOLOPT-GTH\",\n",
    "                        \"POTENTIAL\": \"GTH-PBESOL-q4\",\n",
    "                    },\n",
    "                    {\n",
    "                        \"_\": \"H\",\n",
    "                        \"BASIS_SET\": \"DZVP-MOLOPT-GTH\",\n",
    "                        \"POTENTIAL\": \"GTH-PBE\",\n",
    "                    },\n",
    "                    {\n",
    "                        \"_\": \"Pt\",\n",
    "                        \"ELEMENT\": \"Pt\",\n",
    "                        \"BASIS_SET\": \"DZVP-MOLOPT-SR-GTH-q18\",\n",
    "                        \"POTENTIAL\": \"GTH-PBESOL-q18\",\n",
    "                    },\n",
    "                ],\n",
    "            },\n",
    "        },\n",
    "    }\n",
    "metadata = {\"options\": {'custom_scheduler_commands' : 'export OMP_NUM_THREADS=4',\n",
    "                    'resources': {\n",
    "                                'num_machines' : 1,\n",
    "                                'num_mpiprocs_per_machine' : 1,\n",
    "                                }\n",
    "                    }\n",
    "        }\n",
    "metadata_eiger = {\"options\": {\n",
    "                  'custom_scheduler_commands' : '#SBATCH --account=mr32',\n",
    "                  'resources': {\n",
    "                              'num_machines' : 1,\n",
    "                              'num_mpiprocs_per_machine' : 128,\n",
    "                              }\n",
    "                  }\n",
    "                  }\n",
    "#---------------------------------------------------------------\n",
    "core_hole_pseudos = {\n",
    "    \"C\": {\n",
    "            \"_\": \"X\",\n",
    "            \"ELEMENT\": \"C\",\n",
    "            \"BASIS_SET\": \"DZVP-MOLOPT-GTH\",\n",
    "            \"POTENTIAL\": \"GTH-PBESOL-q5_1s1\",\n",
    "            \"CORE_CORRECTION\": 1,\n",
    "        },\n",
    "    \"O\": {\n",
    "            \"_\": \"X\",\n",
    "            \"ELEMENT\": \"O\",\n",
    "            \"BASIS_SET\": \"DZVP-MOLOPT-GTH\",\n",
    "            \"POTENTIAL\": \"GTH-PBESOL-q7_1s1\",\n",
    "            \"CORE_CORRECTION\": 1,\n",
    "        },\n",
    "    \"Pt\": {\n",
    "            \"_\": \"X\",\n",
    "            \"ELEMENT\": \"Pt\",\n",
    "            \"BASIS_SET\": \"DZVP-MOLOPT-SR-GTH-q18\",\n",
    "            \"POTENTIAL\": \"GTH-PBESOL-q19_4f13\",\n",
    "            \"CORE_CORRECTION\": 1,\n",
    "        }\n",
    "}\n",
    "wg = xps_workflow()\n",
    "wg.name = \"ETFA\"\n",
    "wg.nodes[\"get_structures\"].set({\n",
    "        \"structure\": structure,\n",
    "        \"atoms_list\": [(0, \"1s\"), (1, \"1s\"), (2, \"1s\"), (3, \"1s\")],\n",
    "        })\n",
    "wg.nodes[\"run_scf\"].set({\n",
    "      \"parameters\": parameters,\n",
    "      \"code\": cp2k_code,\n",
    "      \"basis_pseudo_files\": basis_pseudo_files,\n",
    "      \"core_hole_pseudos\": core_hole_pseudos,\n",
    "    #   \"metadata\": metadata_eiger,\n",
    "      \"metadata\": metadata,\n",
    "    })\n",
    "wg.nodes[\"binding_energy\"].set({\n",
    "    \"corrections\": {\n",
    "        \"C\": 397.4,\n",
    "        \"O\": 746.4,\n",
    "        \"Pt\": 460.6,\n",
    "        \"Au\": 296.1,\n",
    "        }})\n",
    "# wg.submit()\n",
    "wg.run()\n",
    "print(\"Binding energy of Pt (111) surface: \", wg.nodes[\"binding_energy\"].outputs[\"result\"].value)\n",
    "\n"
   ]
  },
  {
   "cell_type": "markdown",
   "metadata": {},
   "source": [
    "## pt"
   ]
  },
  {
   "cell_type": "code",
   "execution_count": 3,
   "metadata": {},
   "outputs": [
    {
     "name": "stdout",
     "output_type": "stream",
     "text": [
      "ndata:  {'node_type': 'CALCFUNCTION', 'executor': <function binding_energy at 0x7f3058f9fac0>}\n"
     ]
    },
    {
     "name": "stderr",
     "output_type": "stream",
     "text": [
      "05/13/2024 01:31:34 PM <1602650> aiida.orm.nodes.process.workflow.workchain.WorkChainNode: [REPORT] [9019|WorkGraph|continue_workgraph]: Continue workgraph.\n"
     ]
    },
    {
     "name": "stdout",
     "output_type": "stream",
     "text": [
      "Continue workgraph.\n"
     ]
    },
    {
     "name": "stderr",
     "output_type": "stream",
     "text": [
      "05/13/2024 01:31:34 PM <1602650> aiida.orm.nodes.process.workflow.workchain.WorkChainNode: [REPORT] [9019|WorkGraph|continue_workgraph]: nodes ready to run: get_structures\n",
      "05/13/2024 01:31:34 PM <1602650> aiida.orm.nodes.process.workflow.workchain.WorkChainNode: [REPORT] [9019|WorkGraph|run_nodes]: Run node: get_structures, type: CALCFUNCTION\n"
     ]
    },
    {
     "name": "stdout",
     "output_type": "stream",
     "text": [
      "------------------------------------------------------------\n",
      "executor:  <function get_structures at 0x7f304732d990>\n",
      "node type: calcfunction/workfunction.\n"
     ]
    },
    {
     "name": "stderr",
     "output_type": "stream",
     "text": [
      "05/13/2024 01:31:35 PM <1602650> aiida.orm.nodes.process.workflow.workchain.WorkChainNode: [REPORT] [9019|WorkGraph|run_nodes]: Node: get_structures finished.\n",
      "05/13/2024 01:31:35 PM <1602650> aiida.orm.nodes.process.workflow.workchain.WorkChainNode: [REPORT] [9019|WorkGraph|continue_workgraph]: Continue workgraph.\n"
     ]
    },
    {
     "name": "stdout",
     "output_type": "stream",
     "text": [
      "Continue workgraph.\n"
     ]
    },
    {
     "name": "stderr",
     "output_type": "stream",
     "text": [
      "05/13/2024 01:31:35 PM <1602650> aiida.orm.nodes.process.workflow.workchain.WorkChainNode: [REPORT] [9019|WorkGraph|continue_workgraph]: nodes ready to run: run_scf\n",
      "05/13/2024 01:31:35 PM <1602650> aiida.orm.nodes.process.workflow.workchain.WorkChainNode: [REPORT] [9019|WorkGraph|run_nodes]: Run node: run_scf, type: graph_builder\n"
     ]
    },
    {
     "name": "stdout",
     "output_type": "stream",
     "text": [
      "------------------------------------------------------------\n",
      "executor:  <function run_scf at 0x7f304732ec20>\n",
      "node  type: graph_builder.\n",
      "WorkGraph node created, PK: 9029\n",
      "submit workgraph: \n",
      "node:  binding_energy CREATED\n",
      "node:  get_structures FINISHED\n",
      "node:  run_scf RUNNING\n",
      "is workgraph finished:  False\n"
     ]
    },
    {
     "name": "stderr",
     "output_type": "stream",
     "text": [
      "05/13/2024 01:31:39 PM <1602650> aiida.orm.nodes.process.workflow.workchain.WorkChainNode: [REPORT] [9029|WorkGraph|continue_workgraph]: Continue workgraph.\n"
     ]
    },
    {
     "name": "stdout",
     "output_type": "stream",
     "text": [
      "Continue workgraph.\n"
     ]
    },
    {
     "name": "stderr",
     "output_type": "stream",
     "text": [
      "05/13/2024 01:31:40 PM <1602650> aiida.orm.nodes.process.workflow.workchain.WorkChainNode: [REPORT] [9029|WorkGraph|continue_workgraph]: nodes ready to run: scf_Pt_0,scf_Pt_1,scf_ground\n",
      "05/13/2024 01:31:40 PM <1602650> aiida.orm.nodes.process.workflow.workchain.WorkChainNode: [REPORT] [9029|WorkGraph|run_nodes]: Run node: scf_Pt_0, type: CALCJOB\n"
     ]
    },
    {
     "name": "stdout",
     "output_type": "stream",
     "text": [
      "------------------------------------------------------------\n",
      "executor:  <class 'aiida_cp2k.calculations.Cp2kCalculation'>\n",
      "node  type: calcjob/workchain.\n"
     ]
    },
    {
     "name": "stderr",
     "output_type": "stream",
     "text": [
      "05/13/2024 01:31:40 PM <1602650> aiida.orm.nodes.process.workflow.workchain.WorkChainNode: [REPORT] [9029|WorkGraph|run_nodes]: Run node: scf_Pt_1, type: CALCJOB\n"
     ]
    },
    {
     "name": "stdout",
     "output_type": "stream",
     "text": [
      "------------------------------------------------------------\n",
      "executor:  <class 'aiida_cp2k.calculations.Cp2kCalculation'>\n",
      "node  type: calcjob/workchain.\n"
     ]
    },
    {
     "name": "stderr",
     "output_type": "stream",
     "text": [
      "05/13/2024 01:31:40 PM <1602650> aiida.orm.nodes.process.workflow.workchain.WorkChainNode: [REPORT] [9029|WorkGraph|run_nodes]: Run node: scf_ground, type: CALCJOB\n"
     ]
    },
    {
     "name": "stdout",
     "output_type": "stream",
     "text": [
      "------------------------------------------------------------\n",
      "executor:  <class 'aiida_cp2k.calculations.Cp2kCalculation'>\n",
      "node  type: calcjob/workchain.\n",
      "node:  scf_Pt_0 RUNNING\n",
      "node:  scf_Pt_1 RUNNING\n",
      "node:  scf_ground RUNNING\n",
      "is workgraph finished:  False\n"
     ]
    },
    {
     "name": "stderr",
     "output_type": "stream",
     "text": [
      "05/13/2024 01:57:07 PM <1602650> aiida.parser.Cp2kBaseParser: [WARNING] No restart file found in the retrieved folder.\n",
      "05/13/2024 01:57:07 PM <1602650> aiida.orm.nodes.process.calculation.calcjob.CalcJobNode: [WARNING] output parser returned exit code<304>: The output file contains the word \"ABORT\".\n",
      "05/13/2024 01:57:07 PM <1602650> aiida.parser.Cp2kBaseParser: [WARNING] No restart file found in the retrieved folder.\n"
     ]
    },
    {
     "name": "stdout",
     "output_type": "stream",
     "text": [
      "on awaitable finished:  scf_Pt_0\n",
      "update node state:  scf_Pt_0\n"
     ]
    },
    {
     "name": "stderr",
     "output_type": "stream",
     "text": [
      "05/13/2024 01:57:08 PM <1602650> aiida.orm.nodes.process.workflow.workchain.WorkChainNode: [REPORT] [9029|WorkGraph|on_except]: Traceback (most recent call last):\n",
      "  File \"/home/wang_x3/apps/miniconda3/envs/science/lib/python3.10/site-packages/aiida/orm/utils/managers.py\", line 91, in _get_node_by_link_label\n",
      "    node = attribute_dict[label]\n",
      "KeyError: 'output_parameters'\n",
      "\n",
      "The above exception was the direct cause of the following exception:\n",
      "\n",
      "Traceback (most recent call last):\n",
      "  File \"/home/wang_x3/apps/miniconda3/envs/science/lib/python3.10/site-packages/aiida/orm/utils/managers.py\", line 177, in __getitem__\n",
      "    return self._get_node_by_link_label(label=name)\n",
      "  File \"/home/wang_x3/apps/miniconda3/envs/science/lib/python3.10/site-packages/aiida/orm/utils/managers.py\", line 119, in _get_node_by_link_label\n",
      "    raise NotExistent from exception\n",
      "aiida.common.exceptions.NotExistent\n",
      "\n",
      "The above exception was the direct cause of the following exception:\n",
      "\n",
      "Traceback (most recent call last):\n",
      "  File \"/home/wang_x3/apps/miniconda3/envs/science/lib/python3.10/site-packages/plumpy/events.py\", line 97, in run\n",
      "    await self._callback(*self._args, **self._kwargs)\n",
      "  File \"/home/wang_x3/apps/miniconda3/envs/science/lib/python3.10/site-packages/plumpy/processes.py\", line 573, in _run_task\n",
      "    result = await coro(*args, **kwargs)\n",
      "  File \"/home/wang_x3/apps/miniconda3/envs/science/lib/python3.10/site-packages/plumpy/utils.py\", line 204, in wrap\n",
      "    return coro_or_fn(*args, **kwargs)\n",
      "  File \"/home/wang_x3/repos/superstar54/aiida-workgraph/aiida_workgraph/engine/workgraph.py\", line 389, in _on_awaitable_finished\n",
      "    self.update_node_state(awaitable.key)\n",
      "  File \"/home/wang_x3/repos/superstar54/aiida-workgraph/aiida_workgraph/engine/workgraph.py\", line 578, in update_node_state\n",
      "    self.set_node_result(node)\n",
      "  File \"/home/wang_x3/repos/superstar54/aiida-workgraph/aiida_workgraph/engine/workgraph.py\", line 497, in set_node_result\n",
      "    self.node_to_context(name)\n",
      "  File \"/home/wang_x3/repos/superstar54/aiida-workgraph/aiida_workgraph/engine/workgraph.py\", line 962, in node_to_context\n",
      "    self.ctx, item[1], self.ctx.nodes[name][\"results\"][item[0]]\n",
      "  File \"/home/wang_x3/apps/miniconda3/envs/science/lib/python3.10/site-packages/aiida/orm/utils/managers.py\", line 183, in __getitem__\n",
      "    raise NotExistentKeyError(\n",
      "aiida.common.exceptions.NotExistentKeyError: \"Node<9030> does not have an output with link label 'output_parameters'\"\n",
      "\n",
      "05/13/2024 01:57:08 PM <1602650> aiida.orm.nodes.process.workflow.workchain.WorkChainNode: [REPORT] [9029|WorkGraph|set_node_result]: Node: scf_ground finished.\n",
      "05/13/2024 01:57:08 PM <1602650> aiida.orm.nodes.process.workflow.workchain.WorkChainNode: [REPORT] [9019|WorkGraph|set_node_result]: Node: run_scf failed.\n"
     ]
    },
    {
     "name": "stdout",
     "output_type": "stream",
     "text": [
      "on awaitable finished:  scf_ground\n",
      "update node state:  scf_ground\n",
      "Event resume invalid in state ProcessState.EXCEPTED\n",
      "on awaitable finished:  run_scf\n",
      "update node state:  run_scf\n"
     ]
    },
    {
     "name": "stderr",
     "output_type": "stream",
     "text": [
      "05/13/2024 01:57:09 PM <1602650> aiida.orm.nodes.process.workflow.workchain.WorkChainNode: [REPORT] [9019|WorkGraph|continue_workgraph]: Continue workgraph.\n",
      "05/13/2024 01:57:09 PM <1602650> aiida.orm.nodes.process.workflow.workchain.WorkChainNode: [REPORT] [9019|WorkGraph|continue_workgraph]: nodes ready to run: \n"
     ]
    },
    {
     "name": "stdout",
     "output_type": "stream",
     "text": [
      "Continue workgraph.\n"
     ]
    },
    {
     "name": "stderr",
     "output_type": "stream",
     "text": [
      "05/13/2024 01:57:09 PM <1602650> aiida.orm.nodes.process.workflow.workchain.WorkChainNode: [REPORT] [9019|WorkGraph|finalize]: Finalize\n"
     ]
    },
    {
     "name": "stdout",
     "output_type": "stream",
     "text": [
      "node:  binding_energy FAILED\n",
      "node:  get_structures FINISHED\n",
      "node:  run_scf FAILED\n",
      "is workgraph finished:  True\n",
      "group outputs:  []\n",
      "    Node binding_energy failed.\n",
      "Binding energy of Pt (111) surface:  None\n"
     ]
    },
    {
     "name": "stderr",
     "output_type": "stream",
     "text": [
      "05/13/2024 01:57:20 PM <1602650> aiida.parser.Cp2kBaseParser: [WARNING] No restart file found in the retrieved folder.\n",
      "05/13/2024 01:57:20 PM <1602650> aiida.orm.nodes.process.calculation.calcjob.CalcJobNode: [WARNING] output parser returned exit code<304>: The output file contains the word \"ABORT\".\n"
     ]
    },
    {
     "name": "stdout",
     "output_type": "stream",
     "text": [
      "on awaitable finished:  scf_Pt_1\n",
      "update node state:  scf_Pt_1\n"
     ]
    }
   ],
   "source": [
    "from ase.build import fcc111\n",
    "from ase.visualize import view\n",
    "from aiida.orm import Dict, load_code, load_node, StructureData\n",
    "\n",
    "# cp2k_code = load_code(\"cp2k-ssmp-2024.1@localhost\")\n",
    "cp2k_code = load_code(\"cp2k-psmp-2024.1@eiger\")\n",
    "basis_file = load_node(7897)\n",
    "pseudo_file = load_node(7898)\n",
    "basis_pseudo_files = {\n",
    "            \"basis\": basis_file,\n",
    "            \"pseudo\": pseudo_file,\n",
    "        }\n",
    "# Structure.\n",
    "pt_111_333 = fcc111(\"Pt\", size=(3, 3, 3), vacuum=5.0)\n",
    "pt_111_333.set_tags(None)\n",
    "# view(pt_111_333)\n",
    "structure_111_333 = StructureData(ase=pt_111_333)\n",
    "structure_111_333.label = \"Pt (111), 3x3x3, vacuum 5.0 Angstroms\"\n",
    "# Parameters.\n",
    "parameters = {\n",
    "        \"GLOBAL\": {\n",
    "            \"RUN_TYPE\": \"ENERGY_FORCE\",\n",
    "        },\n",
    "        \"FORCE_EVAL\": {\n",
    "            \"METHOD\": \"Quickstep\",\n",
    "            \"DFT\": {\n",
    "                \"BASIS_SET_FILE_NAME\": \"BASIS_MOLOPT\",\n",
    "                \"POTENTIAL_FILE_NAME\": \"POTENTIALS\",\n",
    "                \"UKS\": True,\n",
    "                \"MULTIPLICITY\": 1,\n",
    "                \"SCF\": {\n",
    "                    \"EPS_DIIS\": 0.1,\n",
    "                    \"EPS_SCF\": 1e-06,\n",
    "                    \"ADDED_MOS\": 200,\n",
    "                    \"OUTER_SCF\": {\n",
    "                        \"MAX_SCF\": 20,\n",
    "                        \"EPS_SCF\": 1e-06,\n",
    "                    },\n",
    "                    \"DIAGONALIZATION\": {\n",
    "                        \"ALGORITHM\": \"STANDARD\",\n",
    "                    },\n",
    "                    \"SMEAR\": {\n",
    "                        \"METHOD\": \"FERMI_DIRAC\",\n",
    "                        \"ELECTRONIC_TEMPERATURE\": 500,\n",
    "                    },\n",
    "                    \"MIXING\": {\n",
    "                        \"METHOD\": \"BROYDEN_MIXING\",\n",
    "                        \"ALPHA\": 0.1,\n",
    "                        \"BETA\": 1.5,\n",
    "                        \"NBUFFER\": 8,\n",
    "                    }\n",
    "                },\n",
    "                \"QS\": {\n",
    "                    \"METHOD\": \"GPW\",\n",
    "                    \"EPS_DEFAULT\": 1.0e-12,\n",
    "                    \"EXTRAPOLATION_ORDER\": 3,\n",
    "                },\n",
    "                \"MGRID\": {\n",
    "                    \"NGRIDS\": 5,\n",
    "                    \"CUTOFF\": 1000,\n",
    "                    \"REL_CUTOFF\": 50,\n",
    "                },\n",
    "                \"XC\": {\n",
    "                    \"XC_FUNCTIONAL\": {\n",
    "                        \"PBE\": {\n",
    "                        \"PARAMETRIZATION\": \"PBESOL\",\n",
    "                        }\n",
    "                    },\n",
    "                },\n",
    "            },\n",
    "            \"SUBSYS\": {\n",
    "                \"KIND\": [\n",
    "                    {\n",
    "                        \"_\": \"Pt\",\n",
    "                        \"ELEMENT\": \"Pt\",\n",
    "                        \"BASIS_SET\": \"DZVP-MOLOPT-SR-GTH-q18\",\n",
    "                        \"POTENTIAL\": \"GTH-PBESOL-q18\",\n",
    "                    },\n",
    "                ],\n",
    "            },\n",
    "        },\n",
    "    }\n",
    "metadata = {\"options\": {'custom_scheduler_commands' : 'export OMP_NUM_THREADS=4',\n",
    "                    'resources': {\n",
    "                                'num_machines' : 1,\n",
    "                                'num_mpiprocs_per_machine' : 1,\n",
    "                                }\n",
    "                    }\n",
    "        }\n",
    "metadata_eiger = {\"options\": {\n",
    "                  'custom_scheduler_commands' : '#SBATCH --account=mr32',\n",
    "                  'resources': {\n",
    "                              'num_machines' : 1,\n",
    "                              'num_mpiprocs_per_machine' : 128,\n",
    "                              }\n",
    "                  }\n",
    "                  }\n",
    "#---------------------------------------------------------------\n",
    "core_hole_pseudos = {\n",
    "    \"Pt\": {\n",
    "            \"_\": \"X\",\n",
    "            \"ELEMENT\": \"Pt\",\n",
    "            \"BASIS_SET\": \"DZVP-MOLOPT-SR-GTH-q18\",\n",
    "            \"POTENTIAL\": \"GTH-PBESOL-q19_4f13\",\n",
    "            \"CORE_CORRECTION\": 1,\n",
    "        }\n",
    "}\n",
    "wg = xps_workflow()\n",
    "wg.name = \"binging_energy_Pt_111\"\n",
    "wg.nodes[\"get_structures\"].set({\n",
    "        \"structure\": structure_111_333,\n",
    "        \"atoms_list\": [(0, \"4f\"), (1, \"4f\")],\n",
    "        })\n",
    "wg.nodes[\"run_scf\"].set({\n",
    "      \"parameters\": parameters,\n",
    "      \"code\": cp2k_code,\n",
    "      \"basis_pseudo_files\": basis_pseudo_files,\n",
    "      \"core_hole_pseudos\": core_hole_pseudos,\n",
    "      \"metadata\": metadata_eiger,\n",
    "    })\n",
    "wg.nodes[\"binding_energy\"].set({\n",
    "    \"corrections\": {\n",
    "        \"C\": 397.4,\n",
    "        \"O\": 746.4,\n",
    "        \"Pt\": 460.6,\n",
    "        \"Au\": 296.1,\n",
    "        }})\n",
    "# wg.submit()\n",
    "wg.run()\n",
    "print(\"Binding energy of Pt (111) surface: \", wg.nodes[\"binding_energy\"].outputs[\"result\"].value)\n",
    "\n"
   ]
  },
  {
   "cell_type": "code",
   "execution_count": 4,
   "metadata": {},
   "outputs": [
    {
     "name": "stdout",
     "output_type": "stream",
     "text": [
      "Binding energy of Pt bulk:  None\n"
     ]
    }
   ],
   "source": [
    "print(\"Binding energy of Pt bulk: \", wg.nodes[\"binding_energy\"].outputs[\"result\"].value)\n"
   ]
  },
  {
   "cell_type": "code",
   "execution_count": null,
   "metadata": {},
   "outputs": [],
   "source": []
  }
 ],
 "metadata": {
  "kernelspec": {
   "display_name": "science",
   "language": "python",
   "name": "python3"
  },
  "language_info": {
   "codemirror_mode": {
    "name": "ipython",
    "version": 3
   },
   "file_extension": ".py",
   "mimetype": "text/x-python",
   "name": "python",
   "nbconvert_exporter": "python",
   "pygments_lexer": "ipython3",
   "version": "3.10.0"
  },
  "orig_nbformat": 4
 },
 "nbformat": 4,
 "nbformat_minor": 2
}
