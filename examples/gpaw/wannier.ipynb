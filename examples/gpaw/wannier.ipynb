{
 "cells": [
  {
   "cell_type": "markdown",
   "metadata": {},
   "source": [
    "# Wannier WorkGraph"
   ]
  },
  {
   "cell_type": "code",
   "execution_count": 1,
   "metadata": {},
   "outputs": [
    {
     "data": {
      "application/vnd.jupyter.widget-view+json": {
       "model_id": "7577948f1d5540538f11b8e2b3a34842",
       "version_major": 2,
       "version_minor": 1
      },
      "text/plain": [
       "NodeGraphWidget(settings={'minimap': True}, style={'width': '90%', 'height': '600px'}, value={'name': 'wannier…"
      ]
     },
     "execution_count": 1,
     "metadata": {},
     "output_type": "execute_result"
    }
   ],
   "source": [
    "from workgraph_collections.gpaw.wannier90 import wannier90_workgraph\n",
    "\n",
    "wannier_wg = wannier90_workgraph()\n",
    "wannier_wg"
   ]
  },
  {
   "cell_type": "markdown",
   "metadata": {},
   "source": [
    "## Prepare inputs and submit\n"
   ]
  },
  {
   "cell_type": "code",
   "execution_count": 4,
   "metadata": {},
   "outputs": [
    {
     "name": "stdout",
     "output_type": "stream",
     "text": [
      "WorkGraph node created, PK: 13947\n"
     ]
    },
    {
     "data": {
      "text/plain": [
       "<WorkChainNode: uuid: 1ba89266-fd4f-4e96-870c-1c38b7621c15 (pk: 13947) (aiida_workgraph.engine.workgraph.WorkGraphEngine)>"
      ]
     },
     "execution_count": 4,
     "metadata": {},
     "output_type": "execute_result"
    }
   ],
   "source": [
    "from aiida import load_profile, orm\n",
    "from ase import Atoms\n",
    "from ase.build import bulk\n",
    "from gpaw import GPAW, FermiDirac, PW\n",
    "\n",
    "load_profile()\n",
    "\n",
    "cell = bulk('Ga', 'fcc', a=5.68).cell\n",
    "atoms = Atoms('GaAs', cell=cell, pbc=True,\n",
    "          scaled_positions=((0, 0, 0), (0.25, 0.25, 0.25)))\n",
    "\n",
    "wg = wannier90_workgraph()\n",
    "wg.name = 'GPAW Wannier90: GaAs'\n",
    "wg.nodes[\"scf\"].set({\"atoms\": atoms,\n",
    "                     \"seed\": \"GaAs\",\n",
    "                     \"kpts\": {'size': (2, 2, 2), 'gamma': True},\n",
    "                     \"kwargs\": {\n",
    "                        \"mode\": PW(600),\n",
    "                        \"xc\": 'LDA',\n",
    "                        \"occupations\": FermiDirac(width=0.01),\n",
    "                        \"convergence\": {'density': 1.e-6},\n",
    "                        \"txt\": 'gs_GaAs.txt'\n",
    "                        }\n",
    "                     })\n",
    "wg.nodes[\"wannier90\"].set({\n",
    "    \"seed\": \"GaAs\",\n",
    "    \"binary\": '/home/wang_x3/apps/miniconda3/envs/qe-7.2/bin/wannier90.x',\n",
    "    \"wannier_plot\": True,\n",
    "    \"kwargs\": {\n",
    "        \"bands\": range(4),\n",
    "        \"orbitals_ai\": [[], [0, 1, 2, 3]]\n",
    "    }\n",
    "})\n",
    "wg.submit()\n"
   ]
  }
 ],
 "metadata": {
  "kernelspec": {
   "display_name": "Python 3 (ipykernel)",
   "language": "python",
   "name": "python3"
  },
  "language_info": {
   "codemirror_mode": {
    "name": "ipython",
    "version": 3
   },
   "file_extension": ".py",
   "mimetype": "text/x-python",
   "name": "python",
   "nbconvert_exporter": "python",
   "pygments_lexer": "ipython3",
   "version": "3.10.0"
  }
 },
 "nbformat": 4,
 "nbformat_minor": 4
}
