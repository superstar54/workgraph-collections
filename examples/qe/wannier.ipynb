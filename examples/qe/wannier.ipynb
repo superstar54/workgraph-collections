{
 "cells": [
  {
   "cell_type": "markdown",
   "metadata": {},
   "source": [
    "# Wannier workflow\n"
   ]
  },
  {
   "cell_type": "code",
   "execution_count": 4,
   "metadata": {},
   "outputs": [
    {
     "data": {
      "application/vnd.jupyter.widget-view+json": {
       "model_id": "9a3c4da7a67446f2984e7b2444205767",
       "version_major": 2,
       "version_minor": 1
      },
      "text/plain": [
       "NodeGraphWidget(settings={'minimap': True}, style={'width': '90%', 'height': '600px'}, value={'name': 'WorkGra…"
      ]
     },
     "execution_count": 4,
     "metadata": {},
     "output_type": "execute_result"
    }
   ],
   "source": [
    "from aiida import orm\n",
    "from aiida_workgraph import WorkGraph\n",
    "from aiida_workgraph.decorator import node\n",
    "from aiida_quantumespresso.workflows.pw.base import PwBaseWorkChain\n",
    "from aiida_quantumespresso.calculations.dos import DosCalculation\n",
    "from aiida_quantumespresso.calculations.projwfc import ProjwfcCalculation\n",
    "from aiida_wannier90_workflows.workflows import OpenGridBaseWorkChain\n",
    "\n",
    "\n",
    "wg = WorkGraph()\n",
    "wg.ctx = {'current_structure': None, 'current_number_of_bands': None, 'parent_folder': None}\n",
    "# -------- scf -----------\n",
    "scf_node = wg.nodes.new(PwBaseWorkChain, name='scf')\n",
    "scf_node.to_ctx = [['remote_folder', 'scf_parent_folder']]\n",
    "# -------- nscf -----------\n",
    "nscf_node = wg.nodes.new(PwBaseWorkChain, name='nscf')\n",
    "nscf_node.set({\"pw.parent_folder\": scf_node.outputs['remote_folder']})\n",
    "# -------- opengrid -----------\n",
    "projwfc1 = wg.nodes.new(OpenGridBaseWorkChain, name='opengrid', \n",
    "                          parent_folder=nscf_node.outputs['remote_folder'])\n",
    "# -------- projwfc -----------\n",
    "projwfc1 = wg.nodes.new(ProjwfcCalculation, name='projwfc', \n",
    "                          parent_folder=nscf_node.outputs['remote_folder'])\n",
    "wg"
   ]
  },
  {
   "cell_type": "code",
   "execution_count": null,
   "metadata": {},
   "outputs": [],
   "source": []
  }
 ],
 "metadata": {
  "kernelspec": {
   "display_name": "Python 3 (ipykernel)",
   "language": "python",
   "name": "python3"
  },
  "language_info": {
   "codemirror_mode": {
    "name": "ipython",
    "version": 3
   },
   "file_extension": ".py",
   "mimetype": "text/x-python",
   "name": "python",
   "nbconvert_exporter": "python",
   "pygments_lexer": "ipython3",
   "version": "3.11.0"
  }
 },
 "nbformat": 4,
 "nbformat_minor": 4
}
