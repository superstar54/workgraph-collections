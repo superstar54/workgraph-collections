{
 "cells": [
  {
   "cell_type": "markdown",
   "metadata": {},
   "source": [
    "# Example\n",
    "\n",
    "## Bands WorkGraph"
   ]
  },
  {
   "cell_type": "code",
   "execution_count": 11,
   "metadata": {},
   "outputs": [
    {
     "name": "stdout",
     "output_type": "stream",
     "text": [
      "scf_inputs {'pw.structure': None}\n"
     ]
    },
    {
     "data": {
      "application/vnd.jupyter.widget-view+json": {
       "model_id": "d957624bfc404d5c9847d35a59327f9a",
       "version_major": 2,
       "version_minor": 1
      },
      "text/plain": [
       "NodeGraphWidget(settings={'minimap': True}, style={'width': '90%', 'height': '600px'}, value={'name': 'WorkGra…"
      ]
     },
     "execution_count": 11,
     "metadata": {},
     "output_type": "execute_result"
    }
   ],
   "source": [
    "from workgraph_collections.qe.bands import bands_workgraph\n",
    "from aiida import load_profile\n",
    "load_profile()# -*- coding: utf-8 -*-\n",
    "\"\"\"PdosWorkGraph.\"\"\"\n",
    "\n",
    "from aiida import orm\n",
    "from aiida_workgraph import WorkGraph\n",
    "from aiida_workgraph.decorator import node\n",
    "from aiida_quantumespresso.workflows.pw.base import PwBaseWorkChain\n",
    "from aiida_quantumespresso.calculations.dos import DosCalculation\n",
    "from aiida_quantumespresso.calculations.projwfc import ProjwfcCalculation\n",
    "from aiida_wannier90_workflows.workflows.base.wannier90 import Wannier90BaseWorkChain\n",
    "from aiida_wannier90_workflows.workflows.base.projwfc import ProjwfcBaseWorkChain\n",
    "from aiida_wannier90_workflows.workflows.base.pw2wannier90 import Pw2wannier90BaseWorkChain\n",
    "\n",
    "@node.calcfunction()\n",
    "def prepare_wannier90_pp_inputs(parameters, output_parameters):\n",
    "    \"\"\"Prepare the inputs of wannier90 calculation before submission.\n",
    "    \"\"\"\n",
    "    parameters = parameters.get_dict()\n",
    "    parameters[\"fermi_energy\"] = output_parameters.get_dict().get('fermi_energy')\n",
    "    return orm.Dict(parameters)\n",
    "\n",
    "@node.calcfunction()\n",
    "def prepare_wannier90_inputs(parameters, output_parameters):\n",
    "    \"\"\"Prepare the inputs of wannier90 calculation.\n",
    "    \"\"\"\n",
    "    parameters = parameters.get_dict()\n",
    "    parameters[\"fermi_energy\"] = output_parameters.get_dict().get('fermi_energy')\n",
    "    return orm.Dict(parameters)    \n",
    "\n",
    "@node.graph_builder()\n",
    "def wannier_workgraph(structure=None, inputs=None):\n",
    "    \"\"\"Generate PdosWorkGraph.\"\"\"\n",
    "    inputs = {} if inputs is None else inputs\n",
    "    # create workgraph\n",
    "    wg = WorkGraph()\n",
    "    wg.ctx = {'current_structure': structure, 'current_number_of_bands': None, 'parent_folder': None}\n",
    "    # -------- scf -----------\n",
    "    scf_node = wg.nodes.new(PwBaseWorkChain, name='scf')\n",
    "    scf_inputs = inputs.get('scf', {})\n",
    "    scf_inputs['pw.structure'] = structure\n",
    "    scf_node.set(scf_inputs)\n",
    "    # -------- nscf -----------\n",
    "    nscf_node = wg.nodes.new(PwBaseWorkChain, name='nscf')\n",
    "    nscf_inputs = inputs.get('nscf', {})\n",
    "    nscf_inputs.update({'pw.structure': structure,\n",
    "                        'pw.parent_folder': scf_node.outputs['remote_folder']\n",
    "    })\n",
    "    nscf_node.set(nscf_inputs)\n",
    "    # -------- projwfc -----------\n",
    "    projwfc = wg.nodes.new(ProjwfcBaseWorkChain, name='projwfc',\n",
    "                           )\n",
    "    projwfc_inputs = inputs.get('projwfc', {})\n",
    "    projwfc_inputs.update({\"projwfc.parent_folder\": nscf_node.outputs['remote_folder']})\n",
    "    projwfc.set(projwfc_inputs)\n",
    "    # -------- wannier90_pp -----------\n",
    "    wannier90_pp = wg.nodes.new(Wannier90BaseWorkChain, name='wannier90_pp',\n",
    "                                bands=nscf_node.outputs['output_band'],\n",
    "    )\n",
    "    wannier90_pp_inputs = inputs.get('wannier90_pp', {\"wannier90\": {\"parameters\": {}}})\n",
    "    wannier90_pp_inputs.update({\"wannier90.structure\": structure})\n",
    "    wannier90_pp.set(wannier90_pp_inputs)\n",
    "    wannier90_pp_parameters = wg.nodes.new(\n",
    "        prepare_wannier90_pp_inputs, name='wannier90_pp_parameters',\n",
    "        parameters=wannier90_pp_inputs[\"wannier90\"].get('parameters')\n",
    "    )\n",
    "    wg.links.new(nscf_node.outputs['output_parameters'], wannier90_pp_parameters.inputs['output_parameters'])\n",
    "    wg.links.new(wannier90_pp_parameters.outputs[0], wannier90_pp.inputs['wannier90.parameters'])\n",
    "    # -------- pw2wannier90 -----------\n",
    "    pw2wannier90 = wg.nodes.new(Pw2wannier90BaseWorkChain, name='pw2wannier90',\n",
    "                                bands=projwfc.outputs['bands'],\n",
    "                                bands_projections=projwfc.outputs['projections'],\n",
    "    )\n",
    "    pw2wannier90.set({\"pw2wannier90.nnkp_file\": wannier90_pp.outputs['nnkp_file'],\n",
    "                      \"pw2wannier90.parent_folder\": nscf_node.outputs['remote_folder'],\n",
    "                      })\n",
    "    pw2wannier90_inputs = inputs.get('pw2wannier90', {})\n",
    "    pw2wannier90.set(pw2wannier90_inputs)\n",
    "    # -------- wannier90 -----------\n",
    "    wannier90 = wg.nodes.new(Wannier90BaseWorkChain, name='wannier90')\n",
    "    wannier90_inputs = inputs.get('wannier90', {})\n",
    "    wannier90_inputs.update({\"wannier90.structure\": structure,\n",
    "                             \"wannier90.remote_input_folder\": pw2wannier90.outputs['remote_folder'],\n",
    "                             })\n",
    "    wannier90.set(wannier90_inputs)\n",
    "    # export workgraph\n",
    "    return wg\n",
    "\n",
    "\n",
    "wannier_wg = wannier_workgraph()\n",
    "wannier_wg"
   ]
  },
  {
   "cell_type": "markdown",
   "metadata": {},
   "source": [
    "## Prepare inputs and submit\n"
   ]
  },
  {
   "cell_type": "code",
   "execution_count": 16,
   "metadata": {},
   "outputs": [
    {
     "name": "stdout",
     "output_type": "stream",
     "text": [
      "Structure stored with pk 13041\n",
      "scf_inputs {'pw': {'code': <InstalledCode: Remote code 'qe-7.2-pw' on localhost pk: 687, uuid: 1a272f2f-ea8f-48a7-a1ed-cce982f322f2>, 'pseudos': {'Si': <UpfData: uuid: 945da0ed-9566-4c95-a6a4-36114036ebf8 (pk: 815)>}, 'parameters': <Dict: uuid: 7e55732c-ae69-4914-b9b0-a58c0877952b (unstored)>, 'metadata': {'options': {'resources': {'num_machines': 1, 'num_mpiprocs_per_machine': 1}}}}, 'kpoints': <KpointsData: uuid: 8b009779-f4ae-49b6-877a-ad4e36a80503 (unstored)>, 'pw.structure': <StructureData: uuid: d83d8cdf-ecd8-4ccc-a390-4c41547c9a62 (unstored)>}\n"
     ]
    },
    {
     "name": "stderr",
     "output_type": "stream",
     "text": [
      "05/27/2024 04:59:46 PM <570398> aiida.orm.nodes.process.workflow.workchain.WorkChainNode: [REPORT] [13047|WorkGraphEngine|continue_workgraph]: Continue workgraph.\n"
     ]
    },
    {
     "name": "stdout",
     "output_type": "stream",
     "text": [
      "Continue workgraph.\n"
     ]
    },
    {
     "name": "stderr",
     "output_type": "stream",
     "text": [
      "05/27/2024 04:59:47 PM <570398> aiida.orm.nodes.process.workflow.workchain.WorkChainNode: [REPORT] [13047|WorkGraphEngine|continue_workgraph]: nodes ready to run: scf\n",
      "05/27/2024 04:59:47 PM <570398> aiida.orm.nodes.process.workflow.workchain.WorkChainNode: [REPORT] [13047|WorkGraphEngine|run_nodes]: Run node: scf, type: WORKCHAIN\n"
     ]
    },
    {
     "name": "stdout",
     "output_type": "stream",
     "text": [
      "------------------------------------------------------------\n",
      "executor:  <class 'aiida_quantumespresso.workflows.pw.base.PwBaseWorkChain'>\n",
      "args:  [{'code': <InstalledCode: Remote code 'qe-7.2-pw' on localhost pk: 687, uuid: 1a272f2f-ea8f-48a7-a1ed-cce982f322f2>, 'metadata': {'options': {'resources': {'num_machines': 1, 'num_mpiprocs_per_machine': 1}}}, 'parameters': <Dict: uuid: 7e55732c-ae69-4914-b9b0-a58c0877952b (pk: 13042)>, 'pseudos': {'Si': <UpfData: uuid: 945da0ed-9566-4c95-a6a4-36114036ebf8 (pk: 815)>}, 'structure': <StructureData: uuid: d83d8cdf-ecd8-4ccc-a390-4c41547c9a62 (pk: 13043)>}, None, None, {}]\n",
      "kwargs:  {'kpoints': <KpointsData: uuid: 8b009779-f4ae-49b6-877a-ad4e36a80503 (pk: 13044)>, 'pw': {'code': <InstalledCode: Remote code 'qe-7.2-pw' on localhost pk: 687, uuid: 1a272f2f-ea8f-48a7-a1ed-cce982f322f2>, 'metadata': {'options': {'resources': {'num_machines': 1, 'num_mpiprocs_per_machine': 1}}}, 'parameters': <Dict: uuid: 7e55732c-ae69-4914-b9b0-a58c0877952b (pk: 13042)>, 'pseudos': {'Si': <UpfData: uuid: 945da0ed-9566-4c95-a6a4-36114036ebf8 (pk: 815)>}, 'structure': <StructureData: uuid: d83d8cdf-ecd8-4ccc-a390-4c41547c9a62 (pk: 13043)>}}\n",
      "var_kwargs:  None\n",
      "node  type: calcjob/workchain.\n",
      "node:  nscf CREATED\n",
      "node:  projwfc CREATED\n",
      "node:  pw2wannier90 CREATED\n",
      "node:  scf RUNNING\n",
      "node:  wannier90 CREATED\n",
      "node:  wannier90_pp CREATED\n",
      "node:  wannier90_pp_parameters CREATED\n",
      "is workgraph finished:  False\n"
     ]
    },
    {
     "name": "stderr",
     "output_type": "stream",
     "text": [
      "05/27/2024 04:59:51 PM <570398> aiida.orm.nodes.process.workflow.workchain.WorkChainNode: [REPORT] [13050|PwBaseWorkChain|run_process]: launching PwCalculation<13053> iteration #1\n",
      "05/27/2024 05:00:01 PM <570398> aiida.orm.nodes.process.workflow.workchain.WorkChainNode: [REPORT] [13050|PwBaseWorkChain|results]: work chain completed after 1 iterations\n",
      "05/27/2024 05:00:01 PM <570398> aiida.orm.nodes.process.workflow.workchain.WorkChainNode: [REPORT] [13050|PwBaseWorkChain|on_terminated]: remote folders will not be cleaned\n"
     ]
    },
    {
     "name": "stdout",
     "output_type": "stream",
     "text": [
      "on awaitable finished:  scf\n",
      "update node state:  scf\n"
     ]
    },
    {
     "name": "stderr",
     "output_type": "stream",
     "text": [
      "05/27/2024 05:00:01 PM <570398> aiida.orm.nodes.process.workflow.workchain.WorkChainNode: [REPORT] [13047|WorkGraphEngine|set_node_result]: Node: scf finished.\n",
      "05/27/2024 05:00:04 PM <570398> aiida.orm.nodes.process.workflow.workchain.WorkChainNode: [REPORT] [13047|WorkGraphEngine|continue_workgraph]: Continue workgraph.\n"
     ]
    },
    {
     "name": "stdout",
     "output_type": "stream",
     "text": [
      "Continue workgraph.\n"
     ]
    },
    {
     "name": "stderr",
     "output_type": "stream",
     "text": [
      "05/27/2024 05:00:05 PM <570398> aiida.orm.nodes.process.workflow.workchain.WorkChainNode: [REPORT] [13047|WorkGraphEngine|continue_workgraph]: nodes ready to run: nscf\n",
      "05/27/2024 05:00:05 PM <570398> aiida.orm.nodes.process.workflow.workchain.WorkChainNode: [REPORT] [13047|WorkGraphEngine|run_nodes]: Run node: nscf, type: WORKCHAIN\n"
     ]
    },
    {
     "name": "stdout",
     "output_type": "stream",
     "text": [
      "------------------------------------------------------------\n",
      "executor:  <class 'aiida_quantumespresso.workflows.pw.base.PwBaseWorkChain'>\n",
      "args:  [{'code': <InstalledCode: Remote code 'qe-7.2-pw' on localhost pk: 687, uuid: 1a272f2f-ea8f-48a7-a1ed-cce982f322f2>, 'metadata': {'options': {'resources': {'num_machines': 1, 'num_mpiprocs_per_machine': 1}}}, 'parameters': <Dict: uuid: 8039365d-73c5-415c-bddb-57251e71dded (pk: 13045)>, 'pseudos': {'Si': <UpfData: uuid: 945da0ed-9566-4c95-a6a4-36114036ebf8 (pk: 815)>}, 'structure': <StructureData: uuid: d83d8cdf-ecd8-4ccc-a390-4c41547c9a62 (pk: 13043)>, 'parent_folder': <RemoteData: uuid: f04fee59-dfd3-4a99-8d11-99d0c38d112c (pk: 13054)>}, None, None, {}]\n",
      "kwargs:  {'kpoints': <KpointsData: uuid: 20f467a0-beec-4236-984d-7e77f0754317 (pk: 13046)>, 'pw': {'code': <InstalledCode: Remote code 'qe-7.2-pw' on localhost pk: 687, uuid: 1a272f2f-ea8f-48a7-a1ed-cce982f322f2>, 'metadata': {'options': {'resources': {'num_machines': 1, 'num_mpiprocs_per_machine': 1}}}, 'parameters': <Dict: uuid: 8039365d-73c5-415c-bddb-57251e71dded (pk: 13045)>, 'pseudos': {'Si': <UpfData: uuid: 945da0ed-9566-4c95-a6a4-36114036ebf8 (pk: 815)>}, 'structure': <StructureData: uuid: d83d8cdf-ecd8-4ccc-a390-4c41547c9a62 (pk: 13043)>, 'parent_folder': <RemoteData: uuid: f04fee59-dfd3-4a99-8d11-99d0c38d112c (pk: 13054)>}}\n",
      "var_kwargs:  None\n",
      "node  type: calcjob/workchain.\n",
      "node:  nscf RUNNING\n",
      "node:  projwfc CREATED\n",
      "node:  pw2wannier90 CREATED\n",
      "node:  scf FINISHED\n",
      "node:  wannier90 CREATED\n",
      "node:  wannier90_pp CREATED\n",
      "node:  wannier90_pp_parameters CREATED\n",
      "is workgraph finished:  False\n"
     ]
    },
    {
     "name": "stderr",
     "output_type": "stream",
     "text": [
      "05/27/2024 05:00:09 PM <570398> aiida.orm.nodes.process.workflow.workchain.WorkChainNode: [REPORT] [13061|PwBaseWorkChain|run_process]: launching PwCalculation<13064> iteration #1\n",
      "05/27/2024 05:00:21 PM <570398> aiida.parser.PwParser: [WARNING] c_bands: at least 1 eigenvalues not converged\n",
      "05/27/2024 05:00:22 PM <570398> aiida.orm.nodes.process.workflow.workchain.WorkChainNode: [REPORT] [13061|PwBaseWorkChain|results]: work chain completed after 1 iterations\n",
      "05/27/2024 05:00:22 PM <570398> aiida.orm.nodes.process.workflow.workchain.WorkChainNode: [REPORT] [13061|PwBaseWorkChain|on_terminated]: remote folders will not be cleaned\n"
     ]
    },
    {
     "name": "stdout",
     "output_type": "stream",
     "text": [
      "on awaitable finished:  nscf\n",
      "update node state:  nscf\n"
     ]
    },
    {
     "name": "stderr",
     "output_type": "stream",
     "text": [
      "05/27/2024 05:00:23 PM <570398> aiida.orm.nodes.process.workflow.workchain.WorkChainNode: [REPORT] [13047|WorkGraphEngine|set_node_result]: Node: nscf finished.\n",
      "05/27/2024 05:00:25 PM <570398> aiida.orm.nodes.process.workflow.workchain.WorkChainNode: [REPORT] [13047|WorkGraphEngine|continue_workgraph]: Continue workgraph.\n"
     ]
    },
    {
     "name": "stdout",
     "output_type": "stream",
     "text": [
      "Continue workgraph.\n"
     ]
    },
    {
     "name": "stderr",
     "output_type": "stream",
     "text": [
      "05/27/2024 05:00:26 PM <570398> aiida.orm.nodes.process.workflow.workchain.WorkChainNode: [REPORT] [13047|WorkGraphEngine|continue_workgraph]: nodes ready to run: projwfc,wannier90_pp_parameters\n",
      "05/27/2024 05:00:26 PM <570398> aiida.orm.nodes.process.workflow.workchain.WorkChainNode: [REPORT] [13047|WorkGraphEngine|run_nodes]: Run node: projwfc, type: WORKCHAIN\n"
     ]
    },
    {
     "name": "stdout",
     "output_type": "stream",
     "text": [
      "------------------------------------------------------------\n",
      "executor:  <class 'aiida_wannier90_workflows.workflows.base.projwfc.ProjwfcBaseWorkChain'>\n",
      "args:  [{'code': <InstalledCode: Remote code 'qe-7.2-projwfc' on localhost pk: 689, uuid: c9ad788a-0661-42c8-b9dc-bf2783c94953>, 'metadata': {'options': {'resources': {'num_machines': 1, 'num_mpiprocs_per_machine': 1}}}, 'parent_folder': <RemoteData: uuid: c5e91d41-4a50-4db5-b1ed-a788073eb204 (pk: 13065)>}, <RemoteData: uuid: c5e91d41-4a50-4db5-b1ed-a788073eb204 (pk: 13065)>]\n",
      "kwargs:  {'projwfc': {'code': <InstalledCode: Remote code 'qe-7.2-projwfc' on localhost pk: 689, uuid: c9ad788a-0661-42c8-b9dc-bf2783c94953>, 'metadata': {'options': {'resources': {'num_machines': 1, 'num_mpiprocs_per_machine': 1}}}, 'parent_folder': <RemoteData: uuid: c5e91d41-4a50-4db5-b1ed-a788073eb204 (pk: 13065)>}}\n",
      "var_kwargs:  None\n",
      "node  type: calcjob/workchain.\n"
     ]
    },
    {
     "name": "stderr",
     "output_type": "stream",
     "text": [
      "05/27/2024 05:00:27 PM <570398> aiida.orm.nodes.process.workflow.workchain.WorkChainNode: [REPORT] [13047|WorkGraphEngine|run_nodes]: Run node: wannier90_pp_parameters, type: CALCFUNCTION\n",
      "05/27/2024 05:00:27 PM <570398> aiida.orm.nodes.process.workflow.workchain.WorkChainNode: [REPORT] [13047|WorkGraphEngine|run_nodes]: Error occurred validating port 'inputs.parameters': required value was not provided for 'parameters'\n",
      "05/27/2024 05:00:27 PM <570398> aiida.orm.nodes.process.workflow.workchain.WorkChainNode: [REPORT] [13047|WorkGraphEngine|run_nodes]: Node: wannier90_pp_parameters failed.\n"
     ]
    },
    {
     "name": "stdout",
     "output_type": "stream",
     "text": [
      "------------------------------------------------------------\n",
      "executor:  <function prepare_wannier90_pp_inputs at 0x7f3d579fbc70>\n",
      "args:  [None, <Dict: uuid: 1e499c8f-125e-4bd0-9403-3cd6bfd233ab (pk: 13069)>]\n",
      "kwargs:  {'output_parameters': <Dict: uuid: 1e499c8f-125e-4bd0-9403-3cd6bfd233ab (pk: 13069)>}\n",
      "var_kwargs:  None\n",
      "node type: calcfunction/workfunction.\n",
      "Error occurred validating port 'inputs.parameters': required value was not provided for 'parameters'\n",
      "Node: wannier90_pp_parameters failed.\n",
      "Continue workgraph.\n"
     ]
    },
    {
     "name": "stderr",
     "output_type": "stream",
     "text": [
      "05/27/2024 05:00:27 PM <570398> aiida.orm.nodes.process.workflow.workchain.WorkChainNode: [REPORT] [13047|WorkGraphEngine|continue_workgraph]: Continue workgraph.\n",
      "05/27/2024 05:00:28 PM <570398> aiida.orm.nodes.process.workflow.workchain.WorkChainNode: [REPORT] [13047|WorkGraphEngine|continue_workgraph]: nodes ready to run: \n"
     ]
    },
    {
     "name": "stdout",
     "output_type": "stream",
     "text": [
      "node:  nscf FINISHED\n",
      "node:  projwfc RUNNING\n",
      "node:  pw2wannier90 FAILED\n",
      "node:  scf FINISHED\n",
      "node:  wannier90 FAILED\n",
      "node:  wannier90_pp FAILED\n",
      "node:  wannier90_pp_parameters FAILED\n",
      "is workgraph finished:  False\n"
     ]
    },
    {
     "name": "stderr",
     "output_type": "stream",
     "text": [
      "05/27/2024 05:00:32 PM <570398> aiida.orm.nodes.process.workflow.workchain.WorkChainNode: [REPORT] [13072|ProjwfcBaseWorkChain|run_process]: launching ProjwfcCalculation<13073> iteration #1\n",
      "05/27/2024 05:00:41 PM <570398> aiida.orm.nodes.process.workflow.workchain.WorkChainNode: [REPORT] [13072|ProjwfcBaseWorkChain|results]: work chain completed after 1 iterations\n",
      "05/27/2024 05:00:41 PM <570398> aiida.orm.nodes.process.workflow.workchain.WorkChainNode: [REPORT] [13072|ProjwfcBaseWorkChain|on_terminated]: remote folders will not be cleaned\n"
     ]
    },
    {
     "name": "stdout",
     "output_type": "stream",
     "text": [
      "on awaitable finished:  projwfc\n",
      "update node state:  projwfc\n"
     ]
    },
    {
     "name": "stderr",
     "output_type": "stream",
     "text": [
      "05/27/2024 05:00:41 PM <570398> aiida.orm.nodes.process.workflow.workchain.WorkChainNode: [REPORT] [13047|WorkGraphEngine|set_node_result]: Node: projwfc finished.\n",
      "05/27/2024 05:00:44 PM <570398> aiida.orm.nodes.process.workflow.workchain.WorkChainNode: [REPORT] [13047|WorkGraphEngine|continue_workgraph]: Continue workgraph.\n"
     ]
    },
    {
     "name": "stdout",
     "output_type": "stream",
     "text": [
      "Continue workgraph.\n"
     ]
    },
    {
     "name": "stderr",
     "output_type": "stream",
     "text": [
      "05/27/2024 05:00:45 PM <570398> aiida.orm.nodes.process.workflow.workchain.WorkChainNode: [REPORT] [13047|WorkGraphEngine|continue_workgraph]: nodes ready to run: \n",
      "05/27/2024 05:00:46 PM <570398> aiida.orm.nodes.process.workflow.workchain.WorkChainNode: [REPORT] [13047|WorkGraphEngine|is_workgraph_finished]: WorkGraph finished, but nodes: ['pw2wannier90', 'wannier90', 'wannier90_pp', 'wannier90_pp_parameters'] failed.\n"
     ]
    },
    {
     "name": "stdout",
     "output_type": "stream",
     "text": [
      "node:  nscf FINISHED\n",
      "node:  projwfc FINISHED\n",
      "node:  pw2wannier90 FAILED\n",
      "node:  scf FINISHED\n",
      "node:  wannier90 FAILED\n",
      "node:  wannier90_pp FAILED\n",
      "node:  wannier90_pp_parameters FAILED\n",
      "is workgraph finished:  True\n"
     ]
    },
    {
     "data": {
      "text/plain": [
       "{}"
      ]
     },
     "execution_count": 16,
     "metadata": {},
     "output_type": "execute_result"
    }
   ],
   "source": [
    "from aiida import load_profile, orm\n",
    "from ase.build import bulk\n",
    "from copy import deepcopy\n",
    "from aiida.plugins import DataFactory\n",
    "load_profile()\n",
    "\n",
    "\n",
    "StructureData = DataFactory('core.structure')\n",
    "a = 5.68018817933178\n",
    "structure = StructureData(cell = [[-a/2., 0, a/2.], [0, a/2., a/2.], [-a/2., a/2., 0]])\n",
    "structure.append_atom(symbols=['Ga'], position=(0., 0., 0.))\n",
    "structure.append_atom(symbols=['As'], position=(-a/4., a/4., a/4.))\n",
    "structure.store()\n",
    "print ( 'Structure stored with pk %d' %structure.pk)\n",
    "\n",
    "\n",
    "\n",
    "structure = orm.StructureData(ase=bulk(\"Si\"))\n",
    "pw_code = orm.load_code(\"qe-7.2-pw@localhost\")\n",
    "projwfc_code = orm.load_code('qe-7.2-projwfc@localhost')\n",
    "pw2wannier90_code = orm.load_code('qe-7.2-pw2wannier90@localhost')\n",
    "wannier90_code = orm.load_code('wannier90@localhost')\n",
    "\n",
    "scf_paras = {\n",
    "    \"CONTROL\": {\n",
    "        \"calculation\": \"scf\",\n",
    "    },\n",
    "    \"SYSTEM\": {\n",
    "        \"ecutwfc\": 30,\n",
    "        \"ecutrho\": 240,\n",
    "        \"occupations\": \"smearing\",\n",
    "        \"smearing\": \"cold\",\n",
    "        \"degauss\": 0.01,\n",
    "    },\n",
    "    \"ELECTRONS\": {}\n",
    "}\n",
    "nscf_paras = deepcopy(scf_paras)\n",
    "nscf_paras['CONTROL']['calculation'] = 'nscf'\n",
    "nscf_paras['SYSTEM'].update({'nosym': True, 'noinv': True})\n",
    "nscf_paras['ELECTRONS'].update({'startingpot': 'file',\n",
    "                                'diago_full_acc': True})\n",
    "\n",
    "# Load the pseudopotential family.\n",
    "pseudo_family = orm.load_group(\"SSSP/1.3/PBEsol/efficiency\")\n",
    "pseudos = pseudo_family.get_pseudos(structure=structure)\n",
    "scf_kpoints = orm.KpointsData()\n",
    "scf_kpoints.set_kpoints_mesh([2, 2, 2])\n",
    "nscf_kpoints = orm.KpointsData()\n",
    "nscf_kpoints.set_kpoints_mesh([5, 5, 5])\n",
    "#\n",
    "metadata = {\n",
    "    \"options\": {\n",
    "        \"resources\": {\n",
    "            \"num_machines\": 1,\n",
    "            \"num_mpiprocs_per_machine\": 1,\n",
    "        },\n",
    "    }\n",
    "}\n",
    "\n",
    "# ===============================================================================\n",
    "\n",
    "wannier_inputs = {\n",
    "    'scf': {\n",
    "        'pw': {\n",
    "            'code': pw_code,\n",
    "            'pseudos': pseudos,\n",
    "            'parameters': orm.Dict(scf_paras),\n",
    "            'metadata': metadata,\n",
    "        },\n",
    "        'kpoints': scf_kpoints,\n",
    "    },\n",
    "    'nscf': {\n",
    "        'pw': {\n",
    "            'code': pw_code,\n",
    "            'pseudos': pseudos,\n",
    "            'parameters': orm.Dict(nscf_paras),\n",
    "            'metadata': metadata,\n",
    "        },\n",
    "        'kpoints': nscf_kpoints,\n",
    "    },\n",
    "    'projwfc': {\n",
    "        'projwfc': {\n",
    "            'code': projwfc_code,\n",
    "            'metadata': metadata,\n",
    "        }\n",
    "    },\n",
    "    'wannier90_pp': {\n",
    "        'wannier90': {\n",
    "            'code': wannier90_code,\n",
    "            'parameters': orm.dict({\n",
    "                \"band_plot\": True,\n",
    "                \"num_wann\": 4,\n",
    "            }),\n",
    "            'metadata': metadata,\n",
    "            'settings': {'postproc_setup': True}\n",
    "        },\n",
    "    },\n",
    "    'pw2wannier90': {\n",
    "        'pw2wannier90': {\n",
    "            'code': pw2wannier90_code,\n",
    "            \"parameters\": {\n",
    "                \"scdm_entanglement\": \"erfc\",\n",
    "                \"scdm_proj\": True,\n",
    "                \"write_amn\": True,\n",
    "                \"write_unk\": True,\n",
    "                \"write_mmn\": True,\n",
    "            },\n",
    "            'metadata': metadata,\n",
    "        }\n",
    "    },\n",
    "    'wannier90': {\n",
    "        'wannier90': {\n",
    "            'code': wannier90_code,\n",
    "            'parameters': orm.dict({\n",
    "                \"auto_projections\": True,\n",
    "                \"band_plot\": True,\n",
    "                }),\n",
    "            'metadata': metadata,\n",
    "            'settings': {'postproc_setup': False}\n",
    "        },\n",
    "    },\n",
    "    \n",
    "}\n",
    "wg = wannier_workgraph(structure=structure, inputs=wannier_inputs)\n",
    "wg.name = \"Wannier-Si\"\n",
    "wg.run()\n"
   ]
  },
  {
   "cell_type": "markdown",
   "metadata": {},
   "source": [
    "# Compare with parameters with the workchain"
   ]
  },
  {
   "cell_type": "code",
   "execution_count": 15,
   "metadata": {},
   "outputs": [
    {
     "name": "stdout",
     "output_type": "stream",
     "text": [
      "Structure stored with pk 13040\n",
      "Summary of key input parameters:\n",
      "  Formula: Si2\n",
      "  PseudoFamily: SSSP/1.3/PBEsol/efficiency\n",
      "  ElectronicType: METAL\n",
      "  SpinType: NONE\n",
      "  WannierProjectionType: SCDM\n",
      "  WannierDisentanglementType: NONE\n",
      "  WannierFrozenType: NONE\n",
      "  num_bands: 12\n",
      "  num_wann: 8\n",
      "  mp_grid: [5, 5, 5]\n",
      "\n"
     ]
    },
    {
     "data": {
      "text/plain": [
       "Process class: Wannier90BandsWorkChain\n",
       "Inputs:\n",
       "clean_workdir: false\n",
       "metadata: {}\n",
       "nscf:\n",
       "  kpoints: (Path of 125 kpts)\n",
       "  kpoints_force_parity: false\n",
       "  metadata: {}\n",
       "  pw:\n",
       "    code: Quantum Espresso from Conda\n",
       "    metadata:\n",
       "      options:\n",
       "        max_wallclock_seconds: 43200\n",
       "        resources:\n",
       "          num_machines: 1\n",
       "          num_mpiprocs_per_machine: 1\n",
       "        stash: {}\n",
       "        withmpi: true\n",
       "    monitors: {}\n",
       "    parameters:\n",
       "      CONTROL:\n",
       "        calculation: nscf\n",
       "        etot_conv_thr: 0.0002\n",
       "        forc_conv_thr: 0.001\n",
       "        restart_mode: from_scratch\n",
       "        tprnfor: true\n",
       "        tstress: true\n",
       "      ELECTRONS:\n",
       "        conv_thr: 8.0e-10\n",
       "        diago_full_acc: true\n",
       "        electron_maxstep: 80\n",
       "        mixing_beta: 0.4\n",
       "        startingpot: file\n",
       "      SYSTEM:\n",
       "        degauss: 0.01\n",
       "        ecutrho: 240.0\n",
       "        ecutwfc: 30.0\n",
       "        nbnd: 12\n",
       "        noinv: true\n",
       "        nosym: true\n",
       "        occupations: smearing\n",
       "        smearing: cold\n",
       "    pseudos:\n",
       "      Si: ''\n",
       "projwfc:\n",
       "  metadata: {}\n",
       "  projwfc:\n",
       "    code: Quantum Espresso from Conda\n",
       "    metadata:\n",
       "      options:\n",
       "        max_wallclock_seconds: 43200\n",
       "        resources:\n",
       "          num_machines: 1\n",
       "        stash: {}\n",
       "        withmpi: true\n",
       "    monitors: {}\n",
       "    parameters:\n",
       "      PROJWFC:\n",
       "        DeltaE: 0.2\n",
       "pw2wannier90:\n",
       "  metadata: {}\n",
       "  pw2wannier90:\n",
       "    code: Quantum Espresso from Conda\n",
       "    metadata:\n",
       "      options:\n",
       "        max_wallclock_seconds: 43200\n",
       "        resources:\n",
       "          num_machines: 1\n",
       "        stash: {}\n",
       "        withmpi: true\n",
       "    monitors: {}\n",
       "    parameters:\n",
       "      inputpp:\n",
       "        scdm_entanglement: erfc\n",
       "        scdm_proj: true\n",
       "scf:\n",
       "  kpoints_distance: 0.2\n",
       "  kpoints_force_parity: false\n",
       "  metadata: {}\n",
       "  pw:\n",
       "    code: Quantum Espresso from Conda\n",
       "    metadata:\n",
       "      options:\n",
       "        max_wallclock_seconds: 43200\n",
       "        resources:\n",
       "          num_machines: 1\n",
       "          num_mpiprocs_per_machine: 1\n",
       "        stash: {}\n",
       "        withmpi: true\n",
       "    monitors: {}\n",
       "    parameters:\n",
       "      CONTROL:\n",
       "        calculation: scf\n",
       "        etot_conv_thr: 0.0002\n",
       "        forc_conv_thr: 0.001\n",
       "        tprnfor: true\n",
       "        tstress: true\n",
       "      ELECTRONS:\n",
       "        conv_thr: 8.0e-10\n",
       "        electron_maxstep: 80\n",
       "        mixing_beta: 0.4\n",
       "      SYSTEM:\n",
       "        degauss: 0.01\n",
       "        ecutrho: 240.0\n",
       "        ecutwfc: 30.0\n",
       "        nosym: false\n",
       "        occupations: smearing\n",
       "        smearing: cold\n",
       "    pseudos:\n",
       "      Si: ''\n",
       "structure: Si\n",
       "wannier90:\n",
       "  auto_energy_windows: false\n",
       "  auto_energy_windows_threshold: 0.9\n",
       "  metadata: {}\n",
       "  shift_energy_windows: false\n",
       "  wannier90:\n",
       "    code: Quantum Espresso from Conda\n",
       "    kpoints: (Path of 125 kpts)\n",
       "    metadata:\n",
       "      options:\n",
       "        max_wallclock_seconds: 43200\n",
       "        resources:\n",
       "          num_machines: 1\n",
       "        stash: {}\n",
       "        withmpi: true\n",
       "    monitors: {}\n",
       "    parameters:\n",
       "      auto_projections: true\n",
       "      bands_plot: true\n",
       "      conv_tol: 2.0e-05\n",
       "      conv_window: 1\n",
       "      dis_conv_tol: 2.0e-05\n",
       "      dis_num_iter: 0\n",
       "      mp_grid:\n",
       "      - 5\n",
       "      - 5\n",
       "      - 5\n",
       "      num_bands: 12\n",
       "      num_cg_steps: 200\n",
       "      num_iter: 400\n",
       "      num_wann: 8\n",
       "    settings: {}\n"
      ]
     },
     "execution_count": 15,
     "metadata": {},
     "output_type": "execute_result"
    }
   ],
   "source": [
    "from aiida_wannier90_workflows.workflows import Wannier90BandsWorkChain\n",
    "from aiida import load_profile, orm\n",
    "from ase.build import bulk\n",
    "from copy import deepcopy\n",
    "from aiida.plugins import DataFactory\n",
    "load_profile()\n",
    "\n",
    "\n",
    "StructureData = DataFactory('core.structure')\n",
    "a = 5.68018817933178\n",
    "structure = StructureData(cell = [[-a/2., 0, a/2.], [0, a/2., a/2.], [-a/2., a/2., 0]])\n",
    "structure.append_atom(symbols=['Ga'], position=(0., 0., 0.))\n",
    "structure.append_atom(symbols=['As'], position=(-a/4., a/4., a/4.))\n",
    "structure.store()\n",
    "print ( 'Structure stored with pk %d' %structure.pk)\n",
    "\n",
    "\n",
    "\n",
    "structure = orm.StructureData(ase=bulk(\"Si\"))\n",
    "pw_code = orm.load_code(\"qe-7.2-pw@localhost\")\n",
    "projwfc_code = orm.load_code('qe-7.2-projwfc@localhost')\n",
    "pw2wannier90_code = orm.load_code('qe-7.2-pw2wannier90@localhost')\n",
    "wannier90_code = orm.load_code('wannier90@localhost')\n",
    "codes = {\n",
    "    \"pw\": pw_code,\n",
    "    \"projwfc\": projwfc_code,\n",
    "    \"pw2wannier90\": pw2wannier90_code,\n",
    "    \"wannier90\": wannier90_code,\n",
    "}\n",
    "# Prepare the builder to launch the workchain.\n",
    "# We use fast protocol to converge faster.\n",
    "builder = Wannier90BandsWorkChain.get_builder_from_protocol(\n",
    "    codes,\n",
    "    structure,\n",
    "    protocol=\"fast\",\n",
    "    pseudo_family=\"SSSP/1.3/PBEsol/efficiency\",\n",
    ")\n",
    "builder\n",
    "\n"
   ]
  },
  {
   "cell_type": "code",
   "execution_count": null,
   "metadata": {},
   "outputs": [],
   "source": []
  }
 ],
 "metadata": {
  "kernelspec": {
   "display_name": "Python 3 (ipykernel)",
   "language": "python",
   "name": "python3"
  },
  "language_info": {
   "codemirror_mode": {
    "name": "ipython",
    "version": 3
   },
   "file_extension": ".py",
   "mimetype": "text/x-python",
   "name": "python",
   "nbconvert_exporter": "python",
   "pygments_lexer": "ipython3",
   "version": "3.10.0"
  }
 },
 "nbformat": 4,
 "nbformat_minor": 4
}
