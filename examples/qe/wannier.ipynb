{
 "cells": [
  {
   "cell_type": "markdown",
   "metadata": {},
   "source": [
    "# Wannier WorkGraph\n",
    "\n",
    "## Minimal workflow"
   ]
  },
  {
   "cell_type": "code",
   "execution_count": 6,
   "metadata": {},
   "outputs": [
    {
     "data": {
      "application/vnd.jupyter.widget-view+json": {
       "model_id": "f4111e2d0ea14f1189ac8d818c527093",
       "version_major": 2,
       "version_minor": 1
      },
      "text/plain": [
       "NodeGraphWidget(settings={'minimap': True}, style={'width': '90%', 'height': '600px'}, value={'name': 'WorkGra…"
      ]
     },
     "execution_count": 6,
     "metadata": {},
     "output_type": "execute_result"
    }
   ],
   "source": [
    "from workgraph_collections.qe.wannier_minimal_base import wannier_minimal_base_workgraph\n",
    "\n",
    "wannier_wg = wannier_minimal_base_workgraph()\n",
    "wannier_wg"
   ]
  },
  {
   "cell_type": "markdown",
   "metadata": {},
   "source": [
    "## Prepare inputs and submit\n"
   ]
  },
  {
   "cell_type": "code",
   "execution_count": 5,
   "metadata": {},
   "outputs": [
    {
     "name": "stderr",
     "output_type": "stream",
     "text": [
      "05/28/2024 04:21:56 PM <3373554> aiida.orm.nodes.process.workflow.workchain.WorkChainNode: [REPORT] [15162|WorkGraphEngine|continue_workgraph]: Continue workgraph.\n"
     ]
    },
    {
     "name": "stdout",
     "output_type": "stream",
     "text": [
      "Continue workgraph.\n"
     ]
    },
    {
     "name": "stderr",
     "output_type": "stream",
     "text": [
      "05/28/2024 04:21:57 PM <3373554> aiida.orm.nodes.process.workflow.workchain.WorkChainNode: [REPORT] [15162|WorkGraphEngine|continue_workgraph]: nodes ready to run: scf,wannier90_pp\n",
      "05/28/2024 04:21:57 PM <3373554> aiida.orm.nodes.process.workflow.workchain.WorkChainNode: [REPORT] [15162|WorkGraphEngine|run_nodes]: Run node: scf, type: WORKCHAIN\n"
     ]
    },
    {
     "name": "stdout",
     "output_type": "stream",
     "text": [
      "------------------------------------------------------------\n",
      "executor:  <class 'aiida_quantumespresso.workflows.pw.base.PwBaseWorkChain'>\n",
      "args:  [{'code': <InstalledCode: Remote code 'qe-7.2-pw' on localhost pk: 687, uuid: 1a272f2f-ea8f-48a7-a1ed-cce982f322f2>, 'metadata': {'options': {'resources': {'num_machines': 1, 'num_mpiprocs_per_machine': 1}}}, 'parameters': <Dict: uuid: deba6e36-d91e-4126-8616-c565f5ce5fc5 (pk: 15152)>, 'pseudos': {'As': <UpfData: uuid: eaa62681-0915-4398-b70b-61d91bf1f8b3 (pk: 836)>, 'Ga': <UpfData: uuid: 8838818d-d279-433f-ac82-1e6a926e4384 (pk: 818)>}, 'structure': <StructureData: uuid: c8940de2-5546-4965-a0ee-ffdd8de151d6 (pk: 15148)>}, None, None, {}]\n",
      "kwargs:  {'kpoints': <KpointsData: uuid: 144b2121-4d82-4886-a914-cc06c7077b6c (pk: 15153)>, 'pw': {'code': <InstalledCode: Remote code 'qe-7.2-pw' on localhost pk: 687, uuid: 1a272f2f-ea8f-48a7-a1ed-cce982f322f2>, 'metadata': {'options': {'resources': {'num_machines': 1, 'num_mpiprocs_per_machine': 1}}}, 'parameters': <Dict: uuid: deba6e36-d91e-4126-8616-c565f5ce5fc5 (pk: 15152)>, 'pseudos': {'As': <UpfData: uuid: eaa62681-0915-4398-b70b-61d91bf1f8b3 (pk: 836)>, 'Ga': <UpfData: uuid: 8838818d-d279-433f-ac82-1e6a926e4384 (pk: 818)>}, 'structure': <StructureData: uuid: c8940de2-5546-4965-a0ee-ffdd8de151d6 (pk: 15148)>}}\n",
      "var_kwargs:  None\n",
      "node  type: calcjob/workchain.\n"
     ]
    },
    {
     "name": "stderr",
     "output_type": "stream",
     "text": [
      "05/28/2024 04:21:57 PM <3373554> aiida.orm.nodes.process.workflow.workchain.WorkChainNode: [REPORT] [15162|WorkGraphEngine|run_nodes]: Run node: wannier90_pp, type: WORKCHAIN\n"
     ]
    },
    {
     "name": "stdout",
     "output_type": "stream",
     "text": [
      "------------------------------------------------------------\n",
      "executor:  <class 'aiida_wannier90_workflows.workflows.base.wannier90.Wannier90BaseWorkChain'>\n",
      "args:  [{'code': <InstalledCode: Remote code 'wannier90' on localhost pk: 12995, uuid: a5ff3b94-3193-4d42-81f9-d93819ea2e8a>, 'kpoint_path': <Dict: uuid: 7103e983-de5e-47a1-9238-20f96e62b380 (pk: 15156)>, 'kpoints': <KpointsData: uuid: b6a97aac-9346-4141-89b9-125beca2ff50 (pk: 15151)>, 'metadata': {'options': {'resources': {'num_machines': 1, 'num_mpiprocs_per_machine': 1}}}, 'parameters': <Dict: uuid: e5cba6d4-c6b3-4453-9a22-f0d63874200d (pk: 15155)>, 'projections': <OrbitalData: uuid: fb7f14c0-6519-42e7-9a3e-0074ed0da697 (pk: 15157)>, 'settings': <Dict: uuid: 4b395778-2620-4a57-b717-7d5c8f9cd07f (pk: 15158)>, 'structure': <StructureData: uuid: c8940de2-5546-4965-a0ee-ffdd8de151d6 (pk: 15148)>}, None, None, None]\n",
      "kwargs:  {'wannier90': {'code': <InstalledCode: Remote code 'wannier90' on localhost pk: 12995, uuid: a5ff3b94-3193-4d42-81f9-d93819ea2e8a>, 'kpoint_path': <Dict: uuid: 7103e983-de5e-47a1-9238-20f96e62b380 (pk: 15156)>, 'kpoints': <KpointsData: uuid: b6a97aac-9346-4141-89b9-125beca2ff50 (pk: 15151)>, 'metadata': {'options': {'resources': {'num_machines': 1, 'num_mpiprocs_per_machine': 1}}}, 'parameters': <Dict: uuid: e5cba6d4-c6b3-4453-9a22-f0d63874200d (pk: 15155)>, 'projections': <OrbitalData: uuid: fb7f14c0-6519-42e7-9a3e-0074ed0da697 (pk: 15157)>, 'settings': <Dict: uuid: 4b395778-2620-4a57-b717-7d5c8f9cd07f (pk: 15158)>, 'structure': <StructureData: uuid: c8940de2-5546-4965-a0ee-ffdd8de151d6 (pk: 15148)>}}\n",
      "var_kwargs:  None\n",
      "node  type: calcjob/workchain.\n",
      "node:  nscf CREATED\n",
      "node:  pw2wannier90 CREATED\n",
      "node:  scf RUNNING\n",
      "node:  wannier90 CREATED\n",
      "node:  wannier90_pp RUNNING\n",
      "is workgraph finished:  False\n"
     ]
    },
    {
     "name": "stderr",
     "output_type": "stream",
     "text": [
      "05/28/2024 04:22:01 PM <3373554> aiida.orm.nodes.process.workflow.workchain.WorkChainNode: [REPORT] [15165|PwBaseWorkChain|run_process]: launching PwCalculation<15174> iteration #1\n",
      "05/28/2024 04:22:02 PM <3373554> aiida.orm.nodes.process.workflow.workchain.WorkChainNode: [REPORT] [15171|Wannier90BaseWorkChain|run_process]: launching Wannier90Calculation<15176> iteration #1\n",
      "05/28/2024 04:22:02 PM <3373554> aiida.orm.nodes.process.workflow.workchain.WorkChainNode: [REPORT] [15171|Wannier90BaseWorkChain|results]: work chain completed after 1 iterations\n",
      "05/28/2024 04:22:03 PM <3373554> aiida.orm.nodes.process.workflow.workchain.WorkChainNode: [REPORT] [15171|Wannier90BaseWorkChain|on_terminated]: remote folders will not be cleaned\n",
      "05/28/2024 04:22:03 PM <3373554> aiida.orm.nodes.process.workflow.workchain.WorkChainNode: [REPORT] [15162|WorkGraphEngine|set_node_result]: Node: wannier90_pp finished.\n"
     ]
    },
    {
     "name": "stdout",
     "output_type": "stream",
     "text": [
      "on awaitable finished:  wannier90_pp\n",
      "update node state:  wannier90_pp\n"
     ]
    },
    {
     "name": "stderr",
     "output_type": "stream",
     "text": [
      "05/28/2024 04:22:05 PM <3373554> aiida.orm.nodes.process.workflow.workchain.WorkChainNode: [REPORT] [15162|WorkGraphEngine|continue_workgraph]: Continue workgraph.\n"
     ]
    },
    {
     "name": "stdout",
     "output_type": "stream",
     "text": [
      "Continue workgraph.\n"
     ]
    },
    {
     "name": "stderr",
     "output_type": "stream",
     "text": [
      "05/28/2024 04:22:06 PM <3373554> aiida.orm.nodes.process.workflow.workchain.WorkChainNode: [REPORT] [15162|WorkGraphEngine|continue_workgraph]: nodes ready to run: \n"
     ]
    },
    {
     "name": "stdout",
     "output_type": "stream",
     "text": [
      "node:  nscf CREATED\n",
      "node:  pw2wannier90 CREATED\n",
      "node:  scf RUNNING\n",
      "node:  wannier90 CREATED\n",
      "node:  wannier90_pp FINISHED\n",
      "is workgraph finished:  False\n"
     ]
    },
    {
     "name": "stderr",
     "output_type": "stream",
     "text": [
      "05/28/2024 04:22:19 PM <3373554> aiida.orm.nodes.process.workflow.workchain.WorkChainNode: [REPORT] [15165|PwBaseWorkChain|results]: work chain completed after 1 iterations\n",
      "05/28/2024 04:22:19 PM <3373554> aiida.orm.nodes.process.workflow.workchain.WorkChainNode: [REPORT] [15165|PwBaseWorkChain|on_terminated]: remote folders will not be cleaned\n",
      "05/28/2024 04:22:19 PM <3373554> aiida.orm.nodes.process.workflow.workchain.WorkChainNode: [REPORT] [15162|WorkGraphEngine|set_node_result]: Node: scf finished.\n"
     ]
    },
    {
     "name": "stdout",
     "output_type": "stream",
     "text": [
      "on awaitable finished:  scf\n",
      "update node state:  scf\n"
     ]
    },
    {
     "name": "stderr",
     "output_type": "stream",
     "text": [
      "05/28/2024 04:22:21 PM <3373554> aiida.orm.nodes.process.workflow.workchain.WorkChainNode: [REPORT] [15162|WorkGraphEngine|continue_workgraph]: Continue workgraph.\n"
     ]
    },
    {
     "name": "stdout",
     "output_type": "stream",
     "text": [
      "Continue workgraph.\n"
     ]
    },
    {
     "name": "stderr",
     "output_type": "stream",
     "text": [
      "05/28/2024 04:22:22 PM <3373554> aiida.orm.nodes.process.workflow.workchain.WorkChainNode: [REPORT] [15162|WorkGraphEngine|continue_workgraph]: nodes ready to run: nscf\n",
      "05/28/2024 04:22:23 PM <3373554> aiida.orm.nodes.process.workflow.workchain.WorkChainNode: [REPORT] [15162|WorkGraphEngine|run_nodes]: Run node: nscf, type: WORKCHAIN\n"
     ]
    },
    {
     "name": "stdout",
     "output_type": "stream",
     "text": [
      "------------------------------------------------------------\n",
      "executor:  <class 'aiida_quantumespresso.workflows.pw.base.PwBaseWorkChain'>\n",
      "args:  [{'code': <InstalledCode: Remote code 'qe-7.2-pw' on localhost pk: 687, uuid: 1a272f2f-ea8f-48a7-a1ed-cce982f322f2>, 'metadata': {'options': {'resources': {'num_machines': 1, 'num_mpiprocs_per_machine': 1}}}, 'parameters': <Dict: uuid: dee271e6-fa32-40cf-a93d-f58c6ffa3dc5 (pk: 15154)>, 'pseudos': {'As': <UpfData: uuid: eaa62681-0915-4398-b70b-61d91bf1f8b3 (pk: 836)>, 'Ga': <UpfData: uuid: 8838818d-d279-433f-ac82-1e6a926e4384 (pk: 818)>}, 'structure': <StructureData: uuid: c8940de2-5546-4965-a0ee-ffdd8de151d6 (pk: 15148)>, 'parent_folder': <RemoteData: uuid: b17ca06c-0035-4a12-ae20-a609fadd1273 (pk: 15181)>}, None, None, {}]\n",
      "kwargs:  {'kpoints': <KpointsData: uuid: b6a97aac-9346-4141-89b9-125beca2ff50 (pk: 15151)>, 'pw': {'code': <InstalledCode: Remote code 'qe-7.2-pw' on localhost pk: 687, uuid: 1a272f2f-ea8f-48a7-a1ed-cce982f322f2>, 'metadata': {'options': {'resources': {'num_machines': 1, 'num_mpiprocs_per_machine': 1}}}, 'parameters': <Dict: uuid: dee271e6-fa32-40cf-a93d-f58c6ffa3dc5 (pk: 15154)>, 'pseudos': {'As': <UpfData: uuid: eaa62681-0915-4398-b70b-61d91bf1f8b3 (pk: 836)>, 'Ga': <UpfData: uuid: 8838818d-d279-433f-ac82-1e6a926e4384 (pk: 818)>}, 'structure': <StructureData: uuid: c8940de2-5546-4965-a0ee-ffdd8de151d6 (pk: 15148)>, 'parent_folder': <RemoteData: uuid: b17ca06c-0035-4a12-ae20-a609fadd1273 (pk: 15181)>}}\n",
      "var_kwargs:  None\n",
      "node  type: calcjob/workchain.\n",
      "node:  nscf RUNNING\n",
      "node:  pw2wannier90 CREATED\n",
      "node:  scf FINISHED\n",
      "node:  wannier90 CREATED\n",
      "node:  wannier90_pp FINISHED\n",
      "is workgraph finished:  False\n"
     ]
    },
    {
     "name": "stderr",
     "output_type": "stream",
     "text": [
      "05/28/2024 04:22:26 PM <3373554> aiida.orm.nodes.process.workflow.workchain.WorkChainNode: [REPORT] [15188|PwBaseWorkChain|run_process]: launching PwCalculation<15191> iteration #1\n",
      "05/28/2024 04:23:51 PM <3373554> aiida.orm.nodes.process.workflow.workchain.WorkChainNode: [REPORT] [15188|PwBaseWorkChain|results]: work chain completed after 1 iterations\n",
      "05/28/2024 04:23:51 PM <3373554> aiida.orm.nodes.process.workflow.workchain.WorkChainNode: [REPORT] [15188|PwBaseWorkChain|on_terminated]: remote folders will not be cleaned\n",
      "05/28/2024 04:23:51 PM <3373554> aiida.orm.nodes.process.workflow.workchain.WorkChainNode: [REPORT] [15162|WorkGraphEngine|set_node_result]: Node: nscf finished.\n"
     ]
    },
    {
     "name": "stdout",
     "output_type": "stream",
     "text": [
      "on awaitable finished:  nscf\n",
      "update node state:  nscf\n"
     ]
    },
    {
     "name": "stderr",
     "output_type": "stream",
     "text": [
      "05/28/2024 04:23:54 PM <3373554> aiida.orm.nodes.process.workflow.workchain.WorkChainNode: [REPORT] [15162|WorkGraphEngine|continue_workgraph]: Continue workgraph.\n"
     ]
    },
    {
     "name": "stdout",
     "output_type": "stream",
     "text": [
      "Continue workgraph.\n"
     ]
    },
    {
     "name": "stderr",
     "output_type": "stream",
     "text": [
      "05/28/2024 04:23:55 PM <3373554> aiida.orm.nodes.process.workflow.workchain.WorkChainNode: [REPORT] [15162|WorkGraphEngine|continue_workgraph]: nodes ready to run: pw2wannier90\n",
      "05/28/2024 04:23:55 PM <3373554> aiida.orm.nodes.process.workflow.workchain.WorkChainNode: [REPORT] [15162|WorkGraphEngine|run_nodes]: Run node: pw2wannier90, type: WORKCHAIN\n"
     ]
    },
    {
     "name": "stdout",
     "output_type": "stream",
     "text": [
      "------------------------------------------------------------\n",
      "executor:  <class 'aiida_wannier90_workflows.workflows.base.pw2wannier90.Pw2wannier90BaseWorkChain'>\n",
      "args:  [{'code': <InstalledCode: Remote code 'qe-7.2-pw2wannier90' on localhost pk: 12992, uuid: b0c9b716-55fb-4995-ad43-ddf4bd874f9e>, 'metadata': {'options': {'resources': {'num_machines': 1, 'num_mpiprocs_per_machine': 1}}}, 'parameters': <Dict: uuid: d21e1a1c-5fa5-4294-9634-1aaf0a7d53f1 (pk: 15159)>, 'parent_folder': <RemoteData: uuid: ecc7f489-f691-4bea-bb4a-80e86722be0f (pk: 15192)>, 'nnkp_file': <SinglefileData: uuid: 420f36e9-57ce-4b25-9707-266c12de56e1 (pk: 15179)>}, <RemoteData: uuid: ecc7f489-f691-4bea-bb4a-80e86722be0f (pk: 15192)>, <SinglefileData: uuid: 420f36e9-57ce-4b25-9707-266c12de56e1 (pk: 15179)>]\n",
      "kwargs:  {'pw2wannier90': {'code': <InstalledCode: Remote code 'qe-7.2-pw2wannier90' on localhost pk: 12992, uuid: b0c9b716-55fb-4995-ad43-ddf4bd874f9e>, 'metadata': {'options': {'resources': {'num_machines': 1, 'num_mpiprocs_per_machine': 1}}}, 'parameters': <Dict: uuid: d21e1a1c-5fa5-4294-9634-1aaf0a7d53f1 (pk: 15159)>, 'parent_folder': <RemoteData: uuid: ecc7f489-f691-4bea-bb4a-80e86722be0f (pk: 15192)>, 'nnkp_file': <SinglefileData: uuid: 420f36e9-57ce-4b25-9707-266c12de56e1 (pk: 15179)>}}\n",
      "var_kwargs:  None\n",
      "node  type: calcjob/workchain.\n",
      "node:  nscf FINISHED\n",
      "node:  pw2wannier90 RUNNING\n",
      "node:  scf FINISHED\n",
      "node:  wannier90 CREATED\n",
      "node:  wannier90_pp FINISHED\n",
      "is workgraph finished:  False\n"
     ]
    },
    {
     "name": "stderr",
     "output_type": "stream",
     "text": [
      "05/28/2024 04:23:58 PM <3373554> aiida.orm.nodes.process.workflow.workchain.WorkChainNode: [REPORT] [15200|Pw2wannier90BaseWorkChain|run_process]: launching Pw2wannier90Calculation<15201> iteration #1\n",
      "05/28/2024 04:25:22 PM <3373554> aiida.orm.nodes.process.workflow.workchain.WorkChainNode: [REPORT] [15200|Pw2wannier90BaseWorkChain|results]: work chain completed after 1 iterations\n",
      "05/28/2024 04:25:23 PM <3373554> aiida.orm.nodes.process.workflow.workchain.WorkChainNode: [REPORT] [15200|Pw2wannier90BaseWorkChain|on_terminated]: remote folders will not be cleaned\n",
      "05/28/2024 04:25:23 PM <3373554> aiida.orm.nodes.process.workflow.workchain.WorkChainNode: [REPORT] [15162|WorkGraphEngine|set_node_result]: Node: pw2wannier90 finished.\n"
     ]
    },
    {
     "name": "stdout",
     "output_type": "stream",
     "text": [
      "on awaitable finished:  pw2wannier90\n",
      "update node state:  pw2wannier90\n"
     ]
    },
    {
     "name": "stderr",
     "output_type": "stream",
     "text": [
      "05/28/2024 04:25:25 PM <3373554> aiida.orm.nodes.process.workflow.workchain.WorkChainNode: [REPORT] [15162|WorkGraphEngine|continue_workgraph]: Continue workgraph.\n"
     ]
    },
    {
     "name": "stdout",
     "output_type": "stream",
     "text": [
      "Continue workgraph.\n"
     ]
    },
    {
     "name": "stderr",
     "output_type": "stream",
     "text": [
      "05/28/2024 04:25:26 PM <3373554> aiida.orm.nodes.process.workflow.workchain.WorkChainNode: [REPORT] [15162|WorkGraphEngine|continue_workgraph]: nodes ready to run: wannier90\n",
      "05/28/2024 04:25:26 PM <3373554> aiida.orm.nodes.process.workflow.workchain.WorkChainNode: [REPORT] [15162|WorkGraphEngine|run_nodes]: Run node: wannier90, type: WORKCHAIN\n"
     ]
    },
    {
     "name": "stdout",
     "output_type": "stream",
     "text": [
      "------------------------------------------------------------\n",
      "executor:  <class 'aiida_wannier90_workflows.workflows.base.wannier90.Wannier90BaseWorkChain'>\n",
      "args:  [{'code': <InstalledCode: Remote code 'wannier90' on localhost pk: 12995, uuid: a5ff3b94-3193-4d42-81f9-d93819ea2e8a>, 'kpoint_path': <Dict: uuid: 7103e983-de5e-47a1-9238-20f96e62b380 (pk: 15156)>, 'kpoints': <KpointsData: uuid: b6a97aac-9346-4141-89b9-125beca2ff50 (pk: 15151)>, 'metadata': {'options': {'resources': {'num_machines': 1, 'num_mpiprocs_per_machine': 1}}}, 'parameters': <Dict: uuid: 7d9c833d-51f8-4dc9-8199-b13f6ec1655e (pk: 15160)>, 'projections': <OrbitalData: uuid: fb7f14c0-6519-42e7-9a3e-0074ed0da697 (pk: 15157)>, 'settings': <Dict: uuid: e329d4b5-ea8f-45a4-a7ba-f84a2f7edc28 (pk: 15161)>, 'structure': <StructureData: uuid: c8940de2-5546-4965-a0ee-ffdd8de151d6 (pk: 15148)>, 'remote_input_folder': <RemoteData: uuid: efbd5380-a7fb-44c9-bc3a-62d9ea7207b3 (pk: 15202)>}, None, None, None]\n",
      "kwargs:  {'wannier90': {'code': <InstalledCode: Remote code 'wannier90' on localhost pk: 12995, uuid: a5ff3b94-3193-4d42-81f9-d93819ea2e8a>, 'kpoint_path': <Dict: uuid: 7103e983-de5e-47a1-9238-20f96e62b380 (pk: 15156)>, 'kpoints': <KpointsData: uuid: b6a97aac-9346-4141-89b9-125beca2ff50 (pk: 15151)>, 'metadata': {'options': {'resources': {'num_machines': 1, 'num_mpiprocs_per_machine': 1}}}, 'parameters': <Dict: uuid: 7d9c833d-51f8-4dc9-8199-b13f6ec1655e (pk: 15160)>, 'projections': <OrbitalData: uuid: fb7f14c0-6519-42e7-9a3e-0074ed0da697 (pk: 15157)>, 'settings': <Dict: uuid: e329d4b5-ea8f-45a4-a7ba-f84a2f7edc28 (pk: 15161)>, 'structure': <StructureData: uuid: c8940de2-5546-4965-a0ee-ffdd8de151d6 (pk: 15148)>, 'remote_input_folder': <RemoteData: uuid: efbd5380-a7fb-44c9-bc3a-62d9ea7207b3 (pk: 15202)>}}\n",
      "var_kwargs:  None\n",
      "node  type: calcjob/workchain.\n",
      "node:  nscf FINISHED\n",
      "node:  pw2wannier90 FINISHED\n",
      "node:  scf FINISHED\n",
      "node:  wannier90 RUNNING\n",
      "node:  wannier90_pp FINISHED\n",
      "is workgraph finished:  False\n"
     ]
    },
    {
     "name": "stderr",
     "output_type": "stream",
     "text": [
      "05/28/2024 04:25:29 PM <3373554> aiida.orm.nodes.process.workflow.workchain.WorkChainNode: [REPORT] [15210|Wannier90BaseWorkChain|run_process]: launching Wannier90Calculation<15212> iteration #1\n",
      "05/28/2024 04:25:44 PM <3373554> aiida.orm.nodes.process.workflow.workchain.WorkChainNode: [REPORT] [15210|Wannier90BaseWorkChain|results]: work chain completed after 1 iterations\n",
      "05/28/2024 04:25:44 PM <3373554> aiida.orm.nodes.process.workflow.workchain.WorkChainNode: [REPORT] [15210|Wannier90BaseWorkChain|on_terminated]: remote folders will not be cleaned\n",
      "05/28/2024 04:25:44 PM <3373554> aiida.orm.nodes.process.workflow.workchain.WorkChainNode: [REPORT] [15162|WorkGraphEngine|set_node_result]: Node: wannier90 finished.\n"
     ]
    },
    {
     "name": "stdout",
     "output_type": "stream",
     "text": [
      "on awaitable finished:  wannier90\n",
      "update node state:  wannier90\n"
     ]
    },
    {
     "name": "stderr",
     "output_type": "stream",
     "text": [
      "05/28/2024 04:25:47 PM <3373554> aiida.orm.nodes.process.workflow.workchain.WorkChainNode: [REPORT] [15162|WorkGraphEngine|continue_workgraph]: Continue workgraph.\n"
     ]
    },
    {
     "name": "stdout",
     "output_type": "stream",
     "text": [
      "Continue workgraph.\n"
     ]
    },
    {
     "name": "stderr",
     "output_type": "stream",
     "text": [
      "05/28/2024 04:25:47 PM <3373554> aiida.orm.nodes.process.workflow.workchain.WorkChainNode: [REPORT] [15162|WorkGraphEngine|continue_workgraph]: nodes ready to run: \n",
      "05/28/2024 04:25:47 PM <3373554> aiida.orm.nodes.process.workflow.workchain.WorkChainNode: [REPORT] [15162|WorkGraphEngine|finalize]: Finalize\n"
     ]
    },
    {
     "name": "stdout",
     "output_type": "stream",
     "text": [
      "node:  nscf FINISHED\n",
      "node:  pw2wannier90 FINISHED\n",
      "node:  scf FINISHED\n",
      "node:  wannier90 FINISHED\n",
      "node:  wannier90_pp FINISHED\n",
      "is workgraph finished:  True\n",
      "group outputs:  []\n",
      "Finalize workgraph Wannier-GaAs\n",
      "\n"
     ]
    },
    {
     "data": {
      "text/plain": [
       "{'group_outputs': {},\n",
       " 'new_data': {},\n",
       " 'execution_count': <Int: uuid: 61079bab-5cbe-4cf2-9e5d-d73cf8e9e10b (pk: 15217) value: 0>}"
      ]
     },
     "execution_count": 5,
     "metadata": {},
     "output_type": "execute_result"
    }
   ],
   "source": [
    "\n",
    "from workgraph_collections.qe.wannier_minimal_base import wannier_minimal_base_workgraph\n",
    "from aiida_wannier90.workflows.minimal import get_explicit_kpoints\n",
    "from aiida import load_profile, orm\n",
    "from ase.build import bulk\n",
    "from copy import deepcopy\n",
    "from aiida.plugins import DataFactory\n",
    "from aiida_wannier90.orbitals import generate_projections\n",
    "\n",
    "load_profile()\n",
    "\n",
    "pw_code = orm.load_code(\"qe-7.2-pw@localhost\")\n",
    "pw2wannier90_code = orm.load_code('qe-7.2-pw2wannier90@localhost')\n",
    "wannier90_code = orm.load_code('wannier90@localhost')\n",
    "\n",
    "StructureData = DataFactory('core.structure')\n",
    "a = 5.68018817933178\n",
    "structure = StructureData(cell = [[-a/2., 0, a/2.], [0, a/2., a/2.], [-a/2., a/2., 0]])\n",
    "structure.append_atom(symbols=['Ga'], position=(0., 0., 0.))\n",
    "structure.append_atom(symbols=['As'], position=(-a/4., a/4., a/4.))\n",
    "structure.store()\n",
    "\n",
    "# Load the pseudopotential family.\n",
    "pseudo_family = orm.load_group(\"SSSP/1.3/PBEsol/efficiency\")\n",
    "pseudos = pseudo_family.get_pseudos(structure=structure)\n",
    "\n",
    "scf_paras = {\n",
    "    \"CONTROL\": {\n",
    "        \"calculation\": \"scf\",\n",
    "    },\n",
    "    \"SYSTEM\": {\n",
    "        \"ecutwfc\": 30,\n",
    "        \"ecutrho\": 240,\n",
    "        \"occupations\": \"fixed\",\n",
    "    },\n",
    "    \"ELECTRONS\": {}\n",
    "}\n",
    "nscf_paras = deepcopy(scf_paras)\n",
    "nscf_paras['CONTROL']['calculation'] = 'nscf'\n",
    "nscf_paras['SYSTEM'].update({'nosym': True,\n",
    "                             'noinv': True,\n",
    "                             })\n",
    "nscf_paras['ELECTRONS'].update({'startingpot': 'file',\n",
    "                                'diago_full_acc': True})\n",
    "\n",
    "\n",
    "scf_kpoints = orm.KpointsData()\n",
    "scf_kpoints.set_kpoints_mesh([4, 4, 4])\n",
    "# Use explicit list of kpoints generated by wannier.\n",
    "# Since the QE auto generated kpoints might be different from wannier90, here we explicitly\n",
    "# generate a list of kpoint coordinates to avoid discrepancies.\n",
    "nscf_kpoints = orm.KpointsData()\n",
    "nscf_kpoints.set_kpoints_mesh([10, 10, 10])\n",
    "kpoints_nscf_explicit = get_explicit_kpoints(nscf_kpoints)\n",
    "# If wannier inputs.kpoints is a kmesh, mp_grid will be auto-set by `Wannier90Calculation`,\n",
    "# otherwise we need to set it manually. If use open_grid, kpoints will be set dynamically\n",
    "# after open_grid calculation.\n",
    "mp_grid = nscf_kpoints.get_kpoints_mesh()[0]\n",
    "\n",
    "# k-points path for the band structure\n",
    "kpoint_path = orm.Dict(\n",
    "    {\n",
    "        \"point_coords\": {\n",
    "            \"G\": [0.0, 0.0, 0.0],\n",
    "            \"K\": [0.375, 0.375, 0.75],\n",
    "            \"L\": [0.5, 0.5, 0.5],\n",
    "            \"U\": [0.625, 0.25, 0.625],\n",
    "            \"W\": [0.5, 0.25, 0.75],\n",
    "            \"X\": [0.5, 0.0, 0.5],\n",
    "        },\n",
    "        \"path\": [\n",
    "            (\"G\", \"X\"),\n",
    "            (\"X\", \"U\"),\n",
    "            (\"K\", \"G\"),\n",
    "            (\"G\", \"L\"),\n",
    "            (\"L\", \"W\"),\n",
    "            (\"W\", \"X\"),\n",
    "        ],\n",
    "    }\n",
    ")\n",
    "# sp^3 projections, centered on As\n",
    "projections = generate_projections(\n",
    "    {\n",
    "        \"position_cart\": (-a / 4.0, a / 4.0, a / 4.0),\n",
    "        \"ang_mtm_l_list\": -3,\n",
    "        \"spin\": None,\n",
    "        \"spin_axis\": None,\n",
    "    },\n",
    "    structure=structure,\n",
    ")\n",
    "#\n",
    "metadata = {\n",
    "    \"options\": {\n",
    "        \"resources\": {\n",
    "            \"num_machines\": 1,\n",
    "            \"num_mpiprocs_per_machine\": 1,\n",
    "        },\n",
    "    }\n",
    "}\n",
    "\n",
    "# ===============================================================================\n",
    "\n",
    "wannier_inputs = {\n",
    "    'seekpath': {\"structure\": structure},\n",
    "    'scf': {\n",
    "        \"pw\": {\n",
    "            'code': pw_code,\n",
    "            'pseudos': pseudos,\n",
    "            'parameters': orm.Dict(scf_paras),\n",
    "            'metadata': metadata,\n",
    "            },\n",
    "        'kpoints': scf_kpoints,\n",
    "    },\n",
    "    'nscf': {\n",
    "        \"pw\": {\n",
    "            'code': pw_code,\n",
    "            'pseudos': pseudos,\n",
    "            'parameters': orm.Dict(nscf_paras),\n",
    "            'metadata': metadata,\n",
    "        },\n",
    "        'kpoints': kpoints_nscf_explicit,\n",
    "    },\n",
    "    'wannier90_pp': {\n",
    "        'wannier90': {\n",
    "            'code': wannier90_code,\n",
    "            'parameters': orm.Dict({\n",
    "                \"write_hr\": False,\n",
    "                \"write_xyz\": False,\n",
    "                \"use_ws_distance\": True,\n",
    "                \"bands_plot\": True,\n",
    "                \"num_iter\": 200,\n",
    "                \"guiding_centres\": False,\n",
    "                \"num_wann\": 4,\n",
    "                \"exclude_bands\": [1, 2, 3, 4, 5],\n",
    "                \"mp_grid\": mp_grid,\n",
    "            }),\n",
    "            'kpoints': kpoints_nscf_explicit,\n",
    "            \"kpoint_path\": kpoint_path,\n",
    "            \"projections\": projections,\n",
    "            'metadata': metadata,\n",
    "            'settings': orm.Dict({'postproc_setup': True}),\n",
    "        }\n",
    "    },\n",
    "    'pw2wannier90': {\n",
    "        'pw2wannier90': {\n",
    "            'code': pw2wannier90_code,\n",
    "            \"parameters\": orm.Dict({\n",
    "                \"inputpp\": {\n",
    "                    \"write_mmn\": True,\n",
    "                    \"write_amn\": True,\n",
    "                    \"write_unk\": True,\n",
    "                },\n",
    "            }),\n",
    "            'metadata': metadata,\n",
    "        }\n",
    "    },\n",
    "    'wannier90': {\n",
    "        'wannier90': {\n",
    "            'code': wannier90_code,\n",
    "            'parameters': orm.Dict({\n",
    "                \"mp_grid\": mp_grid,\n",
    "                \"write_hr\": False,\n",
    "                \"write_xyz\": False,\n",
    "                \"use_ws_distance\": True,\n",
    "                \"bands_plot\": True,\n",
    "                \"num_iter\": 200,\n",
    "                \"guiding_centres\": False,\n",
    "                \"num_wann\": 4,\n",
    "                \"exclude_bands\": [1, 2, 3, 4, 5],\n",
    "                }),\n",
    "            'kpoints': kpoints_nscf_explicit,\n",
    "            \"kpoint_path\": kpoint_path,\n",
    "            \"projections\": projections,\n",
    "            'metadata': metadata,\n",
    "            'settings': orm.Dict({'postproc_setup': False}),\n",
    "        }\n",
    "    },\n",
    "    \n",
    "}\n",
    "wg = wannier_minimal_base_workgraph(structure=structure, inputs=wannier_inputs)\n",
    "wg.name = \"Wannier-GaAs\"\n",
    "wg.run()\n"
   ]
  },
  {
   "cell_type": "markdown",
   "metadata": {},
   "source": [
    "## Bands workgraph"
   ]
  },
  {
   "cell_type": "code",
   "execution_count": 7,
   "metadata": {},
   "outputs": [
    {
     "data": {
      "application/vnd.jupyter.widget-view+json": {
       "model_id": "81d66a77717b445c829c5c516a417e69",
       "version_major": 2,
       "version_minor": 1
      },
      "text/plain": [
       "NodeGraphWidget(settings={'minimap': True}, style={'width': '90%', 'height': '600px'}, value={'name': 'WorkGra…"
      ]
     },
     "execution_count": 7,
     "metadata": {},
     "output_type": "execute_result"
    }
   ],
   "source": [
    "from workgraph_collections.qe.wannier90 import wannier_workgraph\n",
    "\n",
    "wannier_wg = wannier_workgraph()\n",
    "wannier_wg"
   ]
  },
  {
   "cell_type": "code",
   "execution_count": 8,
   "metadata": {},
   "outputs": [
    {
     "name": "stdout",
     "output_type": "stream",
     "text": [
      "num_bands 9\n",
      "num_projs 13\n"
     ]
    },
    {
     "name": "stderr",
     "output_type": "stream",
     "text": [
      "05/28/2024 04:30:07 PM <3373554> aiida.orm.nodes.process.workflow.workchain.WorkChainNode: [REPORT] [15228|WorkGraphEngine|continue_workgraph]: Continue workgraph.\n"
     ]
    },
    {
     "name": "stdout",
     "output_type": "stream",
     "text": [
      "Continue workgraph.\n"
     ]
    },
    {
     "name": "stderr",
     "output_type": "stream",
     "text": [
      "05/28/2024 04:30:08 PM <3373554> aiida.orm.nodes.process.workflow.workchain.WorkChainNode: [REPORT] [15228|WorkGraphEngine|continue_workgraph]: nodes ready to run: seekpath\n",
      "05/28/2024 04:30:08 PM <3373554> aiida.orm.nodes.process.workflow.workchain.WorkChainNode: [REPORT] [15228|WorkGraphEngine|run_nodes]: Run node: seekpath, type: CALCFUNCTION\n"
     ]
    },
    {
     "name": "stdout",
     "output_type": "stream",
     "text": [
      "------------------------------------------------------------\n",
      "executor:  <function seekpath_structure_analysis at 0x7f9c21bbf010>\n",
      "args:  [<StructureData: uuid: ea4eb09a-86ad-4b50-ac0e-f76f0e572b06 (pk: 15218)>]\n",
      "kwargs:  {'structure': <StructureData: uuid: ea4eb09a-86ad-4b50-ac0e-f76f0e572b06 (pk: 15218)>}\n",
      "var_kwargs:  {}\n",
      "node type: calcfunction/workfunction.\n"
     ]
    },
    {
     "name": "stderr",
     "output_type": "stream",
     "text": [
      "05/28/2024 04:30:09 PM <3373554> aiida.orm.nodes.process.workflow.workchain.WorkChainNode: [REPORT] [15228|WorkGraphEngine|run_nodes]: Node: seekpath finished.\n",
      "05/28/2024 04:30:09 PM <3373554> aiida.orm.nodes.process.workflow.workchain.WorkChainNode: [REPORT] [15228|WorkGraphEngine|continue_workgraph]: Continue workgraph.\n"
     ]
    },
    {
     "name": "stdout",
     "output_type": "stream",
     "text": [
      "Continue workgraph.\n"
     ]
    },
    {
     "name": "stderr",
     "output_type": "stream",
     "text": [
      "05/28/2024 04:30:10 PM <3373554> aiida.orm.nodes.process.workflow.workchain.WorkChainNode: [REPORT] [15228|WorkGraphEngine|continue_workgraph]: nodes ready to run: inspect_seekpath,scf\n",
      "05/28/2024 04:30:10 PM <3373554> aiida.orm.nodes.process.workflow.workchain.WorkChainNode: [REPORT] [15228|WorkGraphEngine|run_nodes]: Run node: inspect_seekpath, type: CALCFUNCTION\n"
     ]
    },
    {
     "name": "stdout",
     "output_type": "stream",
     "text": [
      "------------------------------------------------------------\n",
      "executor:  <function inspect_seekpath at 0x7f9c192b2b90>\n",
      "args:  [<Dict: uuid: 6a58700b-5927-488b-ab79-56a63edb3204 (pk: 15230)>]\n",
      "kwargs:  {'parameters': <Dict: uuid: 6a58700b-5927-488b-ab79-56a63edb3204 (pk: 15230)>}\n",
      "var_kwargs:  None\n",
      "node type: calcfunction/workfunction.\n"
     ]
    },
    {
     "name": "stderr",
     "output_type": "stream",
     "text": [
      "05/28/2024 04:30:11 PM <3373554> aiida.orm.nodes.process.workflow.workchain.WorkChainNode: [REPORT] [15228|WorkGraphEngine|run_nodes]: Node: inspect_seekpath finished.\n",
      "05/28/2024 04:30:11 PM <3373554> aiida.orm.nodes.process.workflow.workchain.WorkChainNode: [REPORT] [15228|WorkGraphEngine|continue_workgraph]: Continue workgraph.\n"
     ]
    },
    {
     "name": "stdout",
     "output_type": "stream",
     "text": [
      "Continue workgraph.\n"
     ]
    },
    {
     "name": "stderr",
     "output_type": "stream",
     "text": [
      "05/28/2024 04:30:12 PM <3373554> aiida.orm.nodes.process.workflow.workchain.WorkChainNode: [REPORT] [15228|WorkGraphEngine|continue_workgraph]: nodes ready to run: \n",
      "05/28/2024 04:30:12 PM <3373554> aiida.orm.nodes.process.workflow.workchain.WorkChainNode: [REPORT] [15228|WorkGraphEngine|run_nodes]: Run node: scf, type: WORKCHAIN\n"
     ]
    },
    {
     "name": "stdout",
     "output_type": "stream",
     "text": [
      "------------------------------------------------------------\n",
      "executor:  <class 'aiida_quantumespresso.workflows.pw.base.PwBaseWorkChain'>\n",
      "args:  [{'code': <InstalledCode: Remote code 'qe-7.2-pw' on localhost pk: 687, uuid: 1a272f2f-ea8f-48a7-a1ed-cce982f322f2>, 'metadata': {'options': {'resources': {'num_machines': 1, 'num_mpiprocs_per_machine': 1}}}, 'parameters': <Dict: uuid: d228a47e-756b-4f0f-a69b-14873fd0a31c (pk: 15219)>, 'pseudos': {'As': <UpfData: uuid: eaa62681-0915-4398-b70b-61d91bf1f8b3 (pk: 836)>, 'Ga': <UpfData: uuid: 8838818d-d279-433f-ac82-1e6a926e4384 (pk: 818)>}, 'structure': <StructureData: uuid: 6bd9041b-358b-4156-b02f-26d4e7f22b8a (pk: 15232)>}, <StructureData: uuid: 6bd9041b-358b-4156-b02f-26d4e7f22b8a (pk: 15232)>, None, {}]\n",
      "kwargs:  {'kpoints': <KpointsData: uuid: ed0499d3-45fa-4be9-8957-6596bb673dbf (pk: 15220)>, 'pw': {'code': <InstalledCode: Remote code 'qe-7.2-pw' on localhost pk: 687, uuid: 1a272f2f-ea8f-48a7-a1ed-cce982f322f2>, 'metadata': {'options': {'resources': {'num_machines': 1, 'num_mpiprocs_per_machine': 1}}}, 'parameters': <Dict: uuid: d228a47e-756b-4f0f-a69b-14873fd0a31c (pk: 15219)>, 'pseudos': {'As': <UpfData: uuid: eaa62681-0915-4398-b70b-61d91bf1f8b3 (pk: 836)>, 'Ga': <UpfData: uuid: 8838818d-d279-433f-ac82-1e6a926e4384 (pk: 818)>}, 'structure': <StructureData: uuid: 6bd9041b-358b-4156-b02f-26d4e7f22b8a (pk: 15232)>}}\n",
      "var_kwargs:  None\n",
      "node  type: calcjob/workchain.\n",
      "node:  inspect_seekpath FINISHED\n",
      "node:  nscf CREATED\n",
      "node:  projwfc CREATED\n",
      "node:  pw2wannier90 CREATED\n",
      "node:  scf RUNNING\n",
      "node:  seekpath FINISHED\n",
      "node:  wannier90 CREATED\n",
      "node:  wannier90_pp CREATED\n",
      "node:  wannier90_pp_parameters CREATED\n",
      "is workgraph finished:  False\n"
     ]
    },
    {
     "name": "stderr",
     "output_type": "stream",
     "text": [
      "05/28/2024 04:30:17 PM <3373554> aiida.orm.nodes.process.workflow.workchain.WorkChainNode: [REPORT] [15238|PwBaseWorkChain|run_process]: launching PwCalculation<15241> iteration #1\n",
      "05/28/2024 04:30:27 PM <3373554> aiida.orm.nodes.process.workflow.workchain.WorkChainNode: [REPORT] [15238|PwBaseWorkChain|results]: work chain completed after 1 iterations\n",
      "05/28/2024 04:30:27 PM <3373554> aiida.orm.nodes.process.workflow.workchain.WorkChainNode: [REPORT] [15238|PwBaseWorkChain|on_terminated]: remote folders will not be cleaned\n"
     ]
    },
    {
     "name": "stdout",
     "output_type": "stream",
     "text": [
      "on awaitable finished:  scf\n",
      "update node state:  scf\n"
     ]
    },
    {
     "name": "stderr",
     "output_type": "stream",
     "text": [
      "05/28/2024 04:30:28 PM <3373554> aiida.orm.nodes.process.workflow.workchain.WorkChainNode: [REPORT] [15228|WorkGraphEngine|set_node_result]: Node: scf finished.\n",
      "05/28/2024 04:30:31 PM <3373554> aiida.orm.nodes.process.workflow.workchain.WorkChainNode: [REPORT] [15228|WorkGraphEngine|continue_workgraph]: Continue workgraph.\n"
     ]
    },
    {
     "name": "stdout",
     "output_type": "stream",
     "text": [
      "Continue workgraph.\n"
     ]
    },
    {
     "name": "stderr",
     "output_type": "stream",
     "text": [
      "05/28/2024 04:30:32 PM <3373554> aiida.orm.nodes.process.workflow.workchain.WorkChainNode: [REPORT] [15228|WorkGraphEngine|continue_workgraph]: nodes ready to run: nscf\n",
      "05/28/2024 04:30:32 PM <3373554> aiida.orm.nodes.process.workflow.workchain.WorkChainNode: [REPORT] [15228|WorkGraphEngine|run_nodes]: Run node: nscf, type: WORKCHAIN\n"
     ]
    },
    {
     "name": "stdout",
     "output_type": "stream",
     "text": [
      "------------------------------------------------------------\n",
      "executor:  <class 'aiida_quantumespresso.workflows.pw.base.PwBaseWorkChain'>\n",
      "args:  [{'code': <InstalledCode: Remote code 'qe-7.2-pw' on localhost pk: 687, uuid: 1a272f2f-ea8f-48a7-a1ed-cce982f322f2>, 'metadata': {'options': {'resources': {'num_machines': 1, 'num_mpiprocs_per_machine': 1}}}, 'parameters': <Dict: uuid: 539da617-c197-475a-ab98-c4800d37db5e (pk: 15221)>, 'pseudos': {'As': <UpfData: uuid: eaa62681-0915-4398-b70b-61d91bf1f8b3 (pk: 836)>, 'Ga': <UpfData: uuid: 8838818d-d279-433f-ac82-1e6a926e4384 (pk: 818)>}, 'parent_folder': <RemoteData: uuid: 574a09fe-b0ea-47f6-9202-a9d0b0d04d66 (pk: 15242)>, 'structure': <StructureData: uuid: 6bd9041b-358b-4156-b02f-26d4e7f22b8a (pk: 15232)>}, <StructureData: uuid: 6bd9041b-358b-4156-b02f-26d4e7f22b8a (pk: 15232)>, None, {}]\n",
      "kwargs:  {'kpoints': <KpointsData: uuid: 30e0cb5e-5de5-4781-bbe1-a243e9232f52 (pk: 15222)>, 'pw': {'code': <InstalledCode: Remote code 'qe-7.2-pw' on localhost pk: 687, uuid: 1a272f2f-ea8f-48a7-a1ed-cce982f322f2>, 'metadata': {'options': {'resources': {'num_machines': 1, 'num_mpiprocs_per_machine': 1}}}, 'parameters': <Dict: uuid: 539da617-c197-475a-ab98-c4800d37db5e (pk: 15221)>, 'pseudos': {'As': <UpfData: uuid: eaa62681-0915-4398-b70b-61d91bf1f8b3 (pk: 836)>, 'Ga': <UpfData: uuid: 8838818d-d279-433f-ac82-1e6a926e4384 (pk: 818)>}, 'parent_folder': <RemoteData: uuid: 574a09fe-b0ea-47f6-9202-a9d0b0d04d66 (pk: 15242)>, 'structure': <StructureData: uuid: 6bd9041b-358b-4156-b02f-26d4e7f22b8a (pk: 15232)>}}\n",
      "var_kwargs:  None\n",
      "node  type: calcjob/workchain.\n",
      "node:  inspect_seekpath FINISHED\n",
      "node:  nscf RUNNING\n",
      "node:  projwfc CREATED\n",
      "node:  pw2wannier90 CREATED\n",
      "node:  scf FINISHED\n",
      "node:  seekpath FINISHED\n",
      "node:  wannier90 CREATED\n",
      "node:  wannier90_pp CREATED\n",
      "node:  wannier90_pp_parameters CREATED\n",
      "is workgraph finished:  False\n"
     ]
    },
    {
     "name": "stderr",
     "output_type": "stream",
     "text": [
      "05/28/2024 04:30:37 PM <3373554> aiida.orm.nodes.process.workflow.workchain.WorkChainNode: [REPORT] [15249|PwBaseWorkChain|run_process]: launching PwCalculation<15252> iteration #1\n",
      "05/28/2024 04:30:49 PM <3373554> aiida.orm.nodes.process.workflow.workchain.WorkChainNode: [REPORT] [15249|PwBaseWorkChain|results]: work chain completed after 1 iterations\n",
      "05/28/2024 04:30:50 PM <3373554> aiida.orm.nodes.process.workflow.workchain.WorkChainNode: [REPORT] [15249|PwBaseWorkChain|on_terminated]: remote folders will not be cleaned\n"
     ]
    },
    {
     "name": "stdout",
     "output_type": "stream",
     "text": [
      "on awaitable finished:  nscf\n",
      "update node state:  nscf\n"
     ]
    },
    {
     "name": "stderr",
     "output_type": "stream",
     "text": [
      "05/28/2024 04:30:50 PM <3373554> aiida.orm.nodes.process.workflow.workchain.WorkChainNode: [REPORT] [15228|WorkGraphEngine|set_node_result]: Node: nscf finished.\n",
      "05/28/2024 04:30:53 PM <3373554> aiida.orm.nodes.process.workflow.workchain.WorkChainNode: [REPORT] [15228|WorkGraphEngine|continue_workgraph]: Continue workgraph.\n"
     ]
    },
    {
     "name": "stdout",
     "output_type": "stream",
     "text": [
      "Continue workgraph.\n"
     ]
    },
    {
     "name": "stderr",
     "output_type": "stream",
     "text": [
      "05/28/2024 04:30:54 PM <3373554> aiida.orm.nodes.process.workflow.workchain.WorkChainNode: [REPORT] [15228|WorkGraphEngine|continue_workgraph]: nodes ready to run: projwfc,wannier90_pp_parameters\n",
      "05/28/2024 04:30:54 PM <3373554> aiida.orm.nodes.process.workflow.workchain.WorkChainNode: [REPORT] [15228|WorkGraphEngine|run_nodes]: Run node: projwfc, type: WORKCHAIN\n"
     ]
    },
    {
     "name": "stdout",
     "output_type": "stream",
     "text": [
      "------------------------------------------------------------\n",
      "executor:  <class 'aiida_wannier90_workflows.workflows.base.projwfc.ProjwfcBaseWorkChain'>\n",
      "args:  [{'code': <InstalledCode: Remote code 'qe-7.2-projwfc' on localhost pk: 689, uuid: c9ad788a-0661-42c8-b9dc-bf2783c94953>, 'metadata': {'options': {'resources': {'num_machines': 1, 'num_mpiprocs_per_machine': 1}}}, 'parent_folder': <RemoteData: uuid: 0fbf3b88-c7b3-496b-be19-c75814c2ea3b (pk: 15253)>}, <RemoteData: uuid: 0fbf3b88-c7b3-496b-be19-c75814c2ea3b (pk: 15253)>]\n",
      "kwargs:  {'projwfc': {'code': <InstalledCode: Remote code 'qe-7.2-projwfc' on localhost pk: 689, uuid: c9ad788a-0661-42c8-b9dc-bf2783c94953>, 'metadata': {'options': {'resources': {'num_machines': 1, 'num_mpiprocs_per_machine': 1}}}, 'parent_folder': <RemoteData: uuid: 0fbf3b88-c7b3-496b-be19-c75814c2ea3b (pk: 15253)>}}\n",
      "var_kwargs:  None\n",
      "node  type: calcjob/workchain.\n"
     ]
    },
    {
     "name": "stderr",
     "output_type": "stream",
     "text": [
      "05/28/2024 04:30:55 PM <3373554> aiida.orm.nodes.process.workflow.workchain.WorkChainNode: [REPORT] [15228|WorkGraphEngine|run_nodes]: Run node: wannier90_pp_parameters, type: CALCFUNCTION\n"
     ]
    },
    {
     "name": "stdout",
     "output_type": "stream",
     "text": [
      "------------------------------------------------------------\n",
      "executor:  <function prepare_wannier90_pp_inputs at 0x7f9c1298b400>\n",
      "args:  [<Dict: uuid: edbae3d1-2c4e-4063-8639-a15344980b3e (pk: 15223)>, <Dict: uuid: 5f178a8b-f804-475b-8bd4-64dcb6c0d507 (pk: 15257)>]\n",
      "kwargs:  {'parameters': <Dict: uuid: edbae3d1-2c4e-4063-8639-a15344980b3e (pk: 15223)>, 'nscf_output': <Dict: uuid: 5f178a8b-f804-475b-8bd4-64dcb6c0d507 (pk: 15257)>}\n",
      "var_kwargs:  None\n",
      "node type: calcfunction/workfunction.\n"
     ]
    },
    {
     "name": "stderr",
     "output_type": "stream",
     "text": [
      "05/28/2024 04:30:55 PM <3373554> aiida.orm.nodes.process.workflow.workchain.WorkChainNode: [REPORT] [15260|ProjwfcBaseWorkChain|run_process]: launching ProjwfcCalculation<15262> iteration #1\n",
      "05/28/2024 04:30:56 PM <3373554> aiida.orm.nodes.process.workflow.workchain.WorkChainNode: [REPORT] [15228|WorkGraphEngine|run_nodes]: Node: wannier90_pp_parameters finished.\n",
      "05/28/2024 04:30:56 PM <3373554> aiida.orm.nodes.process.workflow.workchain.WorkChainNode: [REPORT] [15228|WorkGraphEngine|continue_workgraph]: Continue workgraph.\n"
     ]
    },
    {
     "name": "stdout",
     "output_type": "stream",
     "text": [
      "Continue workgraph.\n"
     ]
    },
    {
     "name": "stderr",
     "output_type": "stream",
     "text": [
      "05/28/2024 04:30:57 PM <3373554> aiida.orm.nodes.process.workflow.workchain.WorkChainNode: [REPORT] [15228|WorkGraphEngine|continue_workgraph]: nodes ready to run: wannier90_pp\n",
      "05/28/2024 04:30:57 PM <3373554> aiida.orm.nodes.process.workflow.workchain.WorkChainNode: [REPORT] [15228|WorkGraphEngine|run_nodes]: Run node: wannier90_pp, type: WORKCHAIN\n"
     ]
    },
    {
     "name": "stdout",
     "output_type": "stream",
     "text": [
      "------------------------------------------------------------\n",
      "executor:  <class 'aiida_wannier90_workflows.workflows.base.wannier90.Wannier90BaseWorkChain'>\n",
      "args:  [{'code': <InstalledCode: Remote code 'wannier90' on localhost pk: 12995, uuid: a5ff3b94-3193-4d42-81f9-d93819ea2e8a>, 'kpoints': <KpointsData: uuid: 30e0cb5e-5de5-4781-bbe1-a243e9232f52 (pk: 15222)>, 'metadata': {'options': {'resources': {'num_machines': 1, 'num_mpiprocs_per_machine': 1}}}, 'parameters': <Dict: uuid: 0c8afdcc-bad8-45d5-8c22-04f47afa8fe6 (pk: 15263)>, 'settings': <Dict: uuid: ba639622-8ded-49a3-9cc9-0eb4ff47c644 (pk: 15224)>, 'kpoint_path': <Dict: uuid: 8d8b2e67-6031-4876-80a1-7a02c69f1214 (pk: 15235)>, 'structure': <StructureData: uuid: 6bd9041b-358b-4156-b02f-26d4e7f22b8a (pk: 15232)>}, <StructureData: uuid: 6bd9041b-358b-4156-b02f-26d4e7f22b8a (pk: 15232)>, <Dict: uuid: 0c8afdcc-bad8-45d5-8c22-04f47afa8fe6 (pk: 15263)>, None]\n",
      "kwargs:  {'bands': <BandsData: uuid: f6542e8a-4050-425e-b3d4-c65a613b6598 (pk: 15255)>, 'wannier90': {'code': <InstalledCode: Remote code 'wannier90' on localhost pk: 12995, uuid: a5ff3b94-3193-4d42-81f9-d93819ea2e8a>, 'kpoints': <KpointsData: uuid: 30e0cb5e-5de5-4781-bbe1-a243e9232f52 (pk: 15222)>, 'metadata': {'options': {'resources': {'num_machines': 1, 'num_mpiprocs_per_machine': 1}}}, 'parameters': <Dict: uuid: 0c8afdcc-bad8-45d5-8c22-04f47afa8fe6 (pk: 15263)>, 'settings': <Dict: uuid: ba639622-8ded-49a3-9cc9-0eb4ff47c644 (pk: 15224)>, 'kpoint_path': <Dict: uuid: 8d8b2e67-6031-4876-80a1-7a02c69f1214 (pk: 15235)>, 'structure': <StructureData: uuid: 6bd9041b-358b-4156-b02f-26d4e7f22b8a (pk: 15232)>}}\n",
      "var_kwargs:  None\n",
      "node  type: calcjob/workchain.\n",
      "node:  inspect_seekpath FINISHED\n",
      "node:  nscf FINISHED\n",
      "node:  projwfc RUNNING\n",
      "node:  pw2wannier90 CREATED\n",
      "node:  scf FINISHED\n",
      "node:  seekpath FINISHED\n",
      "node:  wannier90 CREATED\n",
      "node:  wannier90_pp RUNNING\n",
      "node:  wannier90_pp_parameters FINISHED\n",
      "is workgraph finished:  False\n"
     ]
    },
    {
     "name": "stderr",
     "output_type": "stream",
     "text": [
      "05/28/2024 04:31:02 PM <3373554> aiida.orm.nodes.process.workflow.workchain.WorkChainNode: [REPORT] [15269|Wannier90BaseWorkChain|run_process]: launching Wannier90Calculation<15271> iteration #1\n",
      "05/28/2024 04:31:08 PM <3373554> aiida.orm.nodes.process.workflow.workchain.WorkChainNode: [REPORT] [15269|Wannier90BaseWorkChain|results]: work chain completed after 1 iterations\n",
      "05/28/2024 04:31:09 PM <3373554> aiida.orm.nodes.process.workflow.workchain.WorkChainNode: [REPORT] [15269|Wannier90BaseWorkChain|on_terminated]: remote folders will not be cleaned\n"
     ]
    },
    {
     "name": "stdout",
     "output_type": "stream",
     "text": [
      "on awaitable finished:  wannier90_pp\n",
      "update node state:  wannier90_pp\n"
     ]
    },
    {
     "name": "stderr",
     "output_type": "stream",
     "text": [
      "05/28/2024 04:31:09 PM <3373554> aiida.orm.nodes.process.workflow.workchain.WorkChainNode: [REPORT] [15228|WorkGraphEngine|set_node_result]: Node: wannier90_pp finished.\n",
      "05/28/2024 04:31:12 PM <3373554> aiida.orm.nodes.process.workflow.workchain.WorkChainNode: [REPORT] [15228|WorkGraphEngine|continue_workgraph]: Continue workgraph.\n"
     ]
    },
    {
     "name": "stdout",
     "output_type": "stream",
     "text": [
      "Continue workgraph.\n"
     ]
    },
    {
     "name": "stderr",
     "output_type": "stream",
     "text": [
      "05/28/2024 04:31:13 PM <3373554> aiida.orm.nodes.process.workflow.workchain.WorkChainNode: [REPORT] [15228|WorkGraphEngine|continue_workgraph]: nodes ready to run: \n"
     ]
    },
    {
     "name": "stdout",
     "output_type": "stream",
     "text": [
      "node:  inspect_seekpath FINISHED\n",
      "node:  nscf FINISHED\n",
      "node:  projwfc RUNNING\n",
      "node:  pw2wannier90 CREATED\n",
      "node:  scf FINISHED\n",
      "node:  seekpath FINISHED\n",
      "node:  wannier90 CREATED\n",
      "node:  wannier90_pp FINISHED\n",
      "node:  wannier90_pp_parameters FINISHED\n",
      "is workgraph finished:  False\n"
     ]
    },
    {
     "name": "stderr",
     "output_type": "stream",
     "text": [
      "05/28/2024 04:31:20 PM <3373554> aiida.orm.nodes.process.workflow.workchain.WorkChainNode: [REPORT] [15260|ProjwfcBaseWorkChain|results]: work chain completed after 1 iterations\n",
      "05/28/2024 04:31:20 PM <3373554> aiida.orm.nodes.process.workflow.workchain.WorkChainNode: [REPORT] [15260|ProjwfcBaseWorkChain|on_terminated]: remote folders will not be cleaned\n"
     ]
    },
    {
     "name": "stdout",
     "output_type": "stream",
     "text": [
      "on awaitable finished:  projwfc\n",
      "update node state:  projwfc\n"
     ]
    },
    {
     "name": "stderr",
     "output_type": "stream",
     "text": [
      "05/28/2024 04:31:21 PM <3373554> aiida.orm.nodes.process.workflow.workchain.WorkChainNode: [REPORT] [15228|WorkGraphEngine|set_node_result]: Node: projwfc finished.\n",
      "05/28/2024 04:31:24 PM <3373554> aiida.orm.nodes.process.workflow.workchain.WorkChainNode: [REPORT] [15228|WorkGraphEngine|continue_workgraph]: Continue workgraph.\n"
     ]
    },
    {
     "name": "stdout",
     "output_type": "stream",
     "text": [
      "Continue workgraph.\n"
     ]
    },
    {
     "name": "stderr",
     "output_type": "stream",
     "text": [
      "05/28/2024 04:31:25 PM <3373554> aiida.orm.nodes.process.workflow.workchain.WorkChainNode: [REPORT] [15228|WorkGraphEngine|continue_workgraph]: nodes ready to run: pw2wannier90\n",
      "05/28/2024 04:31:25 PM <3373554> aiida.orm.nodes.process.workflow.workchain.WorkChainNode: [REPORT] [15228|WorkGraphEngine|run_nodes]: Run node: pw2wannier90, type: WORKCHAIN\n"
     ]
    },
    {
     "name": "stdout",
     "output_type": "stream",
     "text": [
      "------------------------------------------------------------\n",
      "executor:  <class 'aiida_wannier90_workflows.workflows.base.pw2wannier90.Pw2wannier90BaseWorkChain'>\n",
      "args:  [{'code': <InstalledCode: Remote code 'qe-7.2-pw2wannier90' on localhost pk: 12992, uuid: b0c9b716-55fb-4995-ad43-ddf4bd874f9e>, 'metadata': {'options': {'resources': {'num_machines': 1, 'num_mpiprocs_per_machine': 1}}}, 'parameters': <Dict: uuid: 7c91b3f6-e0a2-4a96-8d67-be880a6daf4a (pk: 15225)>, 'parent_folder': <RemoteData: uuid: 0fbf3b88-c7b3-496b-be19-c75814c2ea3b (pk: 15253)>, 'nnkp_file': <SinglefileData: uuid: 3ab29d2c-f3fe-48f9-9b18-de22adbaaf3e (pk: 15275)>}, <RemoteData: uuid: 0fbf3b88-c7b3-496b-be19-c75814c2ea3b (pk: 15253)>, <SinglefileData: uuid: 3ab29d2c-f3fe-48f9-9b18-de22adbaaf3e (pk: 15275)>]\n",
      "kwargs:  {'bands': <BandsData: uuid: 3f28e615-f5ba-4f6c-abe1-3786a928b4fb (pk: 15280)>, 'bands_projections': <ProjectionData: uuid: 6894ac3a-ff8c-4d3f-9bd7-abf4db6aacc1 (pk: 15279)>, 'pw2wannier90': {'code': <InstalledCode: Remote code 'qe-7.2-pw2wannier90' on localhost pk: 12992, uuid: b0c9b716-55fb-4995-ad43-ddf4bd874f9e>, 'metadata': {'options': {'resources': {'num_machines': 1, 'num_mpiprocs_per_machine': 1}}}, 'parameters': <Dict: uuid: 7c91b3f6-e0a2-4a96-8d67-be880a6daf4a (pk: 15225)>, 'parent_folder': <RemoteData: uuid: 0fbf3b88-c7b3-496b-be19-c75814c2ea3b (pk: 15253)>, 'nnkp_file': <SinglefileData: uuid: 3ab29d2c-f3fe-48f9-9b18-de22adbaaf3e (pk: 15275)>}}\n",
      "var_kwargs:  None\n",
      "node  type: calcjob/workchain.\n",
      "node:  inspect_seekpath FINISHED\n",
      "node:  nscf FINISHED\n",
      "node:  projwfc FINISHED\n",
      "node:  pw2wannier90 RUNNING\n",
      "node:  scf FINISHED\n",
      "node:  seekpath FINISHED\n",
      "node:  wannier90 CREATED\n",
      "node:  wannier90_pp FINISHED\n",
      "node:  wannier90_pp_parameters FINISHED\n",
      "is workgraph finished:  False\n"
     ]
    },
    {
     "name": "stderr",
     "output_type": "stream",
     "text": [
      "05/28/2024 04:31:30 PM <3373554> aiida.orm.nodes.process.workflow.workchain.WorkChainNode: [REPORT] [15285|Pw2wannier90BaseWorkChain|run_process]: launching Pw2wannier90Calculation<15287> iteration #1\n",
      "05/28/2024 04:31:38 PM <3373554> aiida.orm.nodes.process.workflow.workchain.WorkChainNode: [REPORT] [15285|Pw2wannier90BaseWorkChain|results]: work chain completed after 1 iterations\n",
      "05/28/2024 04:31:39 PM <3373554> aiida.orm.nodes.process.workflow.workchain.WorkChainNode: [REPORT] [15285|Pw2wannier90BaseWorkChain|on_terminated]: remote folders will not be cleaned\n"
     ]
    },
    {
     "name": "stdout",
     "output_type": "stream",
     "text": [
      "on awaitable finished:  pw2wannier90\n",
      "update node state:  pw2wannier90\n"
     ]
    },
    {
     "name": "stderr",
     "output_type": "stream",
     "text": [
      "05/28/2024 04:31:39 PM <3373554> aiida.orm.nodes.process.workflow.workchain.WorkChainNode: [REPORT] [15228|WorkGraphEngine|set_node_result]: Node: pw2wannier90 finished.\n",
      "05/28/2024 04:31:42 PM <3373554> aiida.orm.nodes.process.workflow.workchain.WorkChainNode: [REPORT] [15228|WorkGraphEngine|continue_workgraph]: Continue workgraph.\n"
     ]
    },
    {
     "name": "stdout",
     "output_type": "stream",
     "text": [
      "Continue workgraph.\n"
     ]
    },
    {
     "name": "stderr",
     "output_type": "stream",
     "text": [
      "05/28/2024 04:31:43 PM <3373554> aiida.orm.nodes.process.workflow.workchain.WorkChainNode: [REPORT] [15228|WorkGraphEngine|continue_workgraph]: nodes ready to run: wannier90\n",
      "05/28/2024 04:31:43 PM <3373554> aiida.orm.nodes.process.workflow.workchain.WorkChainNode: [REPORT] [15228|WorkGraphEngine|run_nodes]: Run node: wannier90, type: WORKCHAIN\n"
     ]
    },
    {
     "name": "stdout",
     "output_type": "stream",
     "text": [
      "------------------------------------------------------------\n",
      "executor:  <class 'aiida_wannier90_workflows.workflows.base.wannier90.Wannier90BaseWorkChain'>\n",
      "args:  [{'code': <InstalledCode: Remote code 'wannier90' on localhost pk: 12995, uuid: a5ff3b94-3193-4d42-81f9-d93819ea2e8a>, 'kpoints': <KpointsData: uuid: 30e0cb5e-5de5-4781-bbe1-a243e9232f52 (pk: 15222)>, 'metadata': {'options': {'resources': {'num_machines': 1, 'num_mpiprocs_per_machine': 1}}}, 'parameters': <Dict: uuid: 6acdeea5-3ab8-4f30-aa69-f1c327159221 (pk: 15226)>, 'settings': <Dict: uuid: 0ac60e15-f444-4b02-b59e-bbd6a3ba6e74 (pk: 15227)>, 'remote_input_folder': <RemoteData: uuid: 705d1393-fa22-4905-afe9-4d8e6d9f7bdb (pk: 15288)>, 'kpoint_path': <Dict: uuid: 8d8b2e67-6031-4876-80a1-7a02c69f1214 (pk: 15235)>, 'structure': <StructureData: uuid: 6bd9041b-358b-4156-b02f-26d4e7f22b8a (pk: 15232)>}, <StructureData: uuid: 6bd9041b-358b-4156-b02f-26d4e7f22b8a (pk: 15232)>, None, None]\n",
      "kwargs:  {'wannier90': {'code': <InstalledCode: Remote code 'wannier90' on localhost pk: 12995, uuid: a5ff3b94-3193-4d42-81f9-d93819ea2e8a>, 'kpoints': <KpointsData: uuid: 30e0cb5e-5de5-4781-bbe1-a243e9232f52 (pk: 15222)>, 'metadata': {'options': {'resources': {'num_machines': 1, 'num_mpiprocs_per_machine': 1}}}, 'parameters': <Dict: uuid: 6acdeea5-3ab8-4f30-aa69-f1c327159221 (pk: 15226)>, 'settings': <Dict: uuid: 0ac60e15-f444-4b02-b59e-bbd6a3ba6e74 (pk: 15227)>, 'remote_input_folder': <RemoteData: uuid: 705d1393-fa22-4905-afe9-4d8e6d9f7bdb (pk: 15288)>, 'kpoint_path': <Dict: uuid: 8d8b2e67-6031-4876-80a1-7a02c69f1214 (pk: 15235)>, 'structure': <StructureData: uuid: 6bd9041b-358b-4156-b02f-26d4e7f22b8a (pk: 15232)>}}\n",
      "var_kwargs:  None\n",
      "node  type: calcjob/workchain.\n",
      "node:  inspect_seekpath FINISHED\n",
      "node:  nscf FINISHED\n",
      "node:  projwfc FINISHED\n",
      "node:  pw2wannier90 FINISHED\n",
      "node:  scf FINISHED\n",
      "node:  seekpath FINISHED\n",
      "node:  wannier90 RUNNING\n",
      "node:  wannier90_pp FINISHED\n",
      "node:  wannier90_pp_parameters FINISHED\n",
      "is workgraph finished:  False\n"
     ]
    },
    {
     "name": "stderr",
     "output_type": "stream",
     "text": [
      "05/28/2024 04:31:48 PM <3373554> aiida.orm.nodes.process.workflow.workchain.WorkChainNode: [REPORT] [15296|Wannier90BaseWorkChain|run_process]: launching Wannier90Calculation<15298> iteration #1\n",
      "05/28/2024 04:31:58 PM <3373554> aiida.orm.nodes.process.workflow.workchain.WorkChainNode: [REPORT] [15296|Wannier90BaseWorkChain|results]: work chain completed after 1 iterations\n",
      "05/28/2024 04:31:58 PM <3373554> aiida.orm.nodes.process.workflow.workchain.WorkChainNode: [REPORT] [15296|Wannier90BaseWorkChain|on_terminated]: remote folders will not be cleaned\n"
     ]
    },
    {
     "name": "stdout",
     "output_type": "stream",
     "text": [
      "on awaitable finished:  wannier90\n",
      "update node state:  wannier90\n"
     ]
    },
    {
     "name": "stderr",
     "output_type": "stream",
     "text": [
      "05/28/2024 04:31:58 PM <3373554> aiida.orm.nodes.process.workflow.workchain.WorkChainNode: [REPORT] [15228|WorkGraphEngine|set_node_result]: Node: wannier90 finished.\n",
      "05/28/2024 04:32:01 PM <3373554> aiida.orm.nodes.process.workflow.workchain.WorkChainNode: [REPORT] [15228|WorkGraphEngine|continue_workgraph]: Continue workgraph.\n"
     ]
    },
    {
     "name": "stdout",
     "output_type": "stream",
     "text": [
      "Continue workgraph.\n"
     ]
    },
    {
     "name": "stderr",
     "output_type": "stream",
     "text": [
      "05/28/2024 04:32:02 PM <3373554> aiida.orm.nodes.process.workflow.workchain.WorkChainNode: [REPORT] [15228|WorkGraphEngine|continue_workgraph]: nodes ready to run: \n",
      "05/28/2024 04:32:03 PM <3373554> aiida.orm.nodes.process.workflow.workchain.WorkChainNode: [REPORT] [15228|WorkGraphEngine|finalize]: Finalize\n"
     ]
    },
    {
     "name": "stdout",
     "output_type": "stream",
     "text": [
      "node:  inspect_seekpath FINISHED\n",
      "node:  nscf FINISHED\n",
      "node:  projwfc FINISHED\n",
      "node:  pw2wannier90 FINISHED\n",
      "node:  scf FINISHED\n",
      "node:  seekpath FINISHED\n",
      "node:  wannier90 FINISHED\n",
      "node:  wannier90_pp FINISHED\n",
      "node:  wannier90_pp_parameters FINISHED\n",
      "is workgraph finished:  True\n",
      "group outputs:  []\n",
      "Finalize workgraph Wannier-GaAs\n",
      "\n"
     ]
    },
    {
     "data": {
      "text/plain": [
       "{'group_outputs': {},\n",
       " 'new_data': {},\n",
       " 'execution_count': <Int: uuid: 2a440dc8-444d-4a7a-99ba-51216b8781d6 (pk: 15303) value: 0>}"
      ]
     },
     "execution_count": 8,
     "metadata": {},
     "output_type": "execute_result"
    }
   ],
   "source": [
    "from workgraph_collections.qe.wannier90 import wannier_workgraph\n",
    "from aiida import load_profile, orm\n",
    "from ase.build import bulk\n",
    "from copy import deepcopy\n",
    "from aiida.plugins import DataFactory\n",
    "from aiida_wannier90_workflows.utils.kpoints import (\n",
    "            create_kpoints_from_distance,\n",
    "            get_explicit_kpoints,\n",
    "        )\n",
    "from aiida_wannier90_workflows.utils.pseudo import (\n",
    "            get_number_of_projections,\n",
    "            get_pseudo_and_cutoff,\n",
    "            get_wannier_number_of_bands,\n",
    "        )\n",
    "load_profile()\n",
    "\n",
    "\n",
    "pw_code = orm.load_code(\"qe-7.2-pw@localhost\")\n",
    "projwfc_code = orm.load_code('qe-7.2-projwfc@localhost')\n",
    "pw2wannier90_code = orm.load_code('qe-7.2-pw2wannier90@localhost')\n",
    "wannier90_code = orm.load_code('wannier90@localhost')\n",
    "\n",
    "StructureData = DataFactory('core.structure')\n",
    "a = 5.68018817933178\n",
    "structure = StructureData(cell = [[-a/2., 0, a/2.], [0, a/2., a/2.], [-a/2., a/2., 0]])\n",
    "structure.append_atom(symbols=['Ga'], position=(0., 0., 0.))\n",
    "structure.append_atom(symbols=['As'], position=(-a/4., a/4., a/4.))\n",
    "structure.store()\n",
    "\n",
    "# Load the pseudopotential family.\n",
    "pseudo_family = orm.load_group(\"SSSP/1.3/PBEsol/efficiency\")\n",
    "pseudos = pseudo_family.get_pseudos(structure=structure)\n",
    "pseudos, _, _ = get_pseudo_and_cutoff(\"SSSP/1.3/PBEsol/efficiency\", structure)\n",
    "# INSULATOR\n",
    "num_bands = get_wannier_number_of_bands(\n",
    "            structure=structure,\n",
    "            pseudos=pseudos,\n",
    "            factor=1.2,\n",
    "            only_valence=True,\n",
    "            spin_polarized=False,\n",
    "            spin_orbit_coupling=False,\n",
    "        )\n",
    "num_projs = get_number_of_projections(\n",
    "    structure=structure,\n",
    "    pseudos=pseudos,\n",
    "    spin_orbit_coupling=False,\n",
    ")\n",
    "print(\"num_bands\", num_bands)\n",
    "print(\"num_projs\", num_projs)\n",
    "num_wann = num_bands # if insulator, num_wann = num_bands else num_wann = num_projs\n",
    "\n",
    "scf_paras = {\n",
    "    \"CONTROL\": {\n",
    "        \"calculation\": \"scf\",\n",
    "    },\n",
    "    \"SYSTEM\": {\n",
    "        \"ecutwfc\": 30,\n",
    "        \"ecutrho\": 240,\n",
    "        \"occupations\": \"fixed\",\n",
    "    },\n",
    "    \"ELECTRONS\": {}\n",
    "}\n",
    "nscf_paras = deepcopy(scf_paras)\n",
    "nscf_paras['CONTROL']['calculation'] = 'nscf'\n",
    "nscf_paras['SYSTEM'].update({'nosym': True,\n",
    "                             'noinv': True,\n",
    "                             'nbnd': num_bands})\n",
    "nscf_paras['ELECTRONS'].update({'startingpot': 'file',\n",
    "                                'diago_full_acc': True})\n",
    "\n",
    "\n",
    "scf_kpoints = orm.KpointsData()\n",
    "scf_kpoints.set_kpoints_mesh([2, 2, 2])\n",
    "# Use explicit list of kpoints generated by wannier.\n",
    "# Since the QE auto generated kpoints might be different from wannier90, here we explicitly\n",
    "# generate a list of kpoint coordinates to avoid discrepancies.\n",
    "kpoints = create_kpoints_from_distance(\n",
    "            structure,\n",
    "            distance=0.5,\n",
    "            force_parity=False,\n",
    "        )\n",
    "wannier90_kpoints = get_explicit_kpoints(kpoints)\n",
    "# If wannier inputs.kpoints is a kmesh, mp_grid will be auto-set by `Wannier90Calculation`,\n",
    "# otherwise we need to set it manually. If use open_grid, kpoints will be set dynamically\n",
    "# after open_grid calculation.\n",
    "mp_grid = kpoints.get_kpoints_mesh()[0]\n",
    "\n",
    "#\n",
    "metadata = {\n",
    "    \"options\": {\n",
    "        \"resources\": {\n",
    "            \"num_machines\": 1,\n",
    "            \"num_mpiprocs_per_machine\": 1,\n",
    "        },\n",
    "    }\n",
    "}\n",
    "\n",
    "# ===============================================================================\n",
    "\n",
    "wannier_inputs = {\n",
    "    'seekpath': {\"structure\": structure},\n",
    "    'scf': {\n",
    "        'pw': {\n",
    "            'code': pw_code,\n",
    "            'pseudos': pseudos,\n",
    "            'parameters': orm.Dict(scf_paras),\n",
    "            'metadata': metadata,\n",
    "        },\n",
    "        'kpoints': scf_kpoints,\n",
    "    },\n",
    "    'nscf': {\n",
    "        'pw': {\n",
    "            'code': pw_code,\n",
    "            'pseudos': pseudos,\n",
    "            'parameters': orm.Dict(nscf_paras),\n",
    "            'metadata': metadata,\n",
    "        },\n",
    "        'kpoints': wannier90_kpoints,\n",
    "    },\n",
    "    'projwfc': {\n",
    "        'projwfc': {\n",
    "            'code': projwfc_code,\n",
    "            'metadata': metadata,\n",
    "        }\n",
    "    },\n",
    "    'wannier90_pp': {\n",
    "        'wannier90': {\n",
    "            'code': wannier90_code,\n",
    "            'parameters': orm.Dict({\n",
    "                \"auto_projections\": True,\n",
    "                \"bands_plot\": True,\n",
    "                \"conv_tol\": 2.0e-05,\n",
    "                \"conv_window\": 1,\n",
    "                \"dis_conv_tol\": 2.0e-05,\n",
    "                \"dis_num_iter\": 0,\n",
    "                \"num_cg_steps\": 200,\n",
    "                \"num_iter\": 400,\n",
    "                \"num_wann\": num_wann,\n",
    "                \"num_bands\": num_bands,\n",
    "                \"mp_grid\": mp_grid,\n",
    "            }),\n",
    "            'kpoints': wannier90_kpoints,\n",
    "            'metadata': metadata,\n",
    "            'settings': orm.Dict({'postproc_setup': True}),\n",
    "        },\n",
    "    },\n",
    "    'pw2wannier90': {\n",
    "        'pw2wannier90': {\n",
    "            'code': pw2wannier90_code,\n",
    "            \"parameters\": orm.Dict({\n",
    "                \"inputpp\": {\n",
    "                    \"scdm_entanglement\": \"erfc\",\n",
    "                    \"write_mmn\": True,\n",
    "                    \"write_amn\": True,\n",
    "                    \"write_unk\": True,\n",
    "                    \"scdm_proj\": True,\n",
    "                },\n",
    "            }),\n",
    "            'metadata': metadata,\n",
    "        }\n",
    "    },\n",
    "    'wannier90': {\n",
    "        'wannier90': {\n",
    "            'code': wannier90_code,\n",
    "            'parameters': orm.Dict({\n",
    "                \"auto_projections\": True,\n",
    "                \"bands_plot\": True,\n",
    "                \"conv_tol\": 2.0e-05,\n",
    "                \"conv_window\": 1,\n",
    "                \"dis_conv_tol\": 2.0e-05,\n",
    "                \"dis_num_iter\": 0,\n",
    "                \"num_cg_steps\": 200,\n",
    "                \"num_iter\": 400,\n",
    "                \"num_wann\": num_wann,\n",
    "                \"num_bands\": num_bands,\n",
    "                \"mp_grid\": mp_grid,\n",
    "                }),\n",
    "            'kpoints': wannier90_kpoints,\n",
    "            'metadata': metadata,\n",
    "            'settings': orm.Dict({'postproc_setup': False}),\n",
    "        },\n",
    "    },\n",
    "    \n",
    "}\n",
    "wg = wannier_workgraph(structure=structure, inputs=wannier_inputs)\n",
    "wg.name = \"Wannier-GaAs\"\n",
    "wg.run()\n"
   ]
  },
  {
   "cell_type": "markdown",
   "metadata": {},
   "source": [
    "# Compare with parameters with the workchain"
   ]
  },
  {
   "cell_type": "code",
   "execution_count": null,
   "metadata": {},
   "outputs": [],
   "source": [
    "from aiida_wannier90_workflows.workflows import Wannier90BandsWorkChain\n",
    "from aiida import load_profile, orm\n",
    "from ase.build import bulk\n",
    "from copy import deepcopy\n",
    "from aiida.plugins import DataFactory\n",
    "from aiida.engine import submit\n",
    "load_profile()\n",
    "\n",
    "\n",
    "StructureData = DataFactory('core.structure')\n",
    "a = 5.68018817933178\n",
    "structure = StructureData(cell = [[-a/2., 0, a/2.], [0, a/2., a/2.], [-a/2., a/2., 0]])\n",
    "structure.append_atom(symbols=['Ga'], position=(0., 0., 0.))\n",
    "structure.append_atom(symbols=['As'], position=(-a/4., a/4., a/4.))\n",
    "structure.store()\n",
    "\n",
    "\n",
    "structure = orm.StructureData(ase=bulk(\"Si\"))\n",
    "pw_code = orm.load_code(\"qe-7.2-pw@localhost\")\n",
    "projwfc_code = orm.load_code('qe-7.2-projwfc@localhost')\n",
    "pw2wannier90_code = orm.load_code('qe-7.2-pw2wannier90@localhost')\n",
    "wannier90_code = orm.load_code('wannier90@localhost')\n",
    "codes = {\n",
    "    \"pw\": pw_code,\n",
    "    \"projwfc\": projwfc_code,\n",
    "    \"pw2wannier90\": pw2wannier90_code,\n",
    "    \"wannier90\": wannier90_code,\n",
    "}\n",
    "# Prepare the builder to launch the workchain.\n",
    "# We use fast protocol to converge faster.\n",
    "builder = Wannier90BandsWorkChain.get_builder_from_protocol(\n",
    "    codes,\n",
    "    structure,\n",
    "    protocol=\"fast\",\n",
    "    pseudo_family=\"SSSP/1.3/PBEsol/efficiency\",\n",
    ")\n",
    "# builder\n",
    "# Submit the workchain.\n",
    "# workchain = submit(builder)\n",
    "# print(f\"Submitted {workchain.process_label}<{workchain.pk}>\")\n",
    "\n",
    "# pk 13512"
   ]
  },
  {
   "cell_type": "code",
   "execution_count": null,
   "metadata": {},
   "outputs": [],
   "source": []
  }
 ],
 "metadata": {
  "kernelspec": {
   "display_name": "Python 3 (ipykernel)",
   "language": "python",
   "name": "python3"
  },
  "language_info": {
   "codemirror_mode": {
    "name": "ipython",
    "version": 3
   },
   "file_extension": ".py",
   "mimetype": "text/x-python",
   "name": "python",
   "nbconvert_exporter": "python",
   "pygments_lexer": "ipython3",
   "version": "3.10.0"
  }
 },
 "nbformat": 4,
 "nbformat_minor": 4
}
