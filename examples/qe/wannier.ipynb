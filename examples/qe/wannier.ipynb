{
 "cells": [
  {
   "cell_type": "markdown",
   "metadata": {},
   "source": [
    "# Example\n",
    "\n",
    "## Bands WorkGraph"
   ]
  },
  {
   "cell_type": "code",
   "execution_count": 5,
   "metadata": {},
   "outputs": [
    {
     "data": {
      "application/vnd.jupyter.widget-view+json": {
       "model_id": "cd94b8094a344222a7d74b07fb8e6b4a",
       "version_major": 2,
       "version_minor": 1
      },
      "text/plain": [
       "NodeGraphWidget(settings={'minimap': True}, style={'width': '90%', 'height': '600px'}, value={'name': 'WorkGra…"
      ]
     },
     "execution_count": 5,
     "metadata": {},
     "output_type": "execute_result"
    }
   ],
   "source": [
    "from workgraph_collections.qe.bands import bands_workgraph\n",
    "from aiida import load_profile\n",
    "load_profile()# -*- coding: utf-8 -*-\n",
    "\"\"\"PdosWorkGraph.\"\"\"\n",
    "\n",
    "from aiida import orm\n",
    "from aiida_workgraph import WorkGraph\n",
    "from aiida_workgraph.decorator import node\n",
    "from aiida_quantumespresso.workflows.pw.base import PwBaseWorkChain\n",
    "from aiida_quantumespresso.calculations.dos import DosCalculation\n",
    "from aiida_quantumespresso.calculations.projwfc import ProjwfcCalculation\n",
    "from aiida_wannier90_workflows.workflows.base.wannier90 import Wannier90BaseWorkChain\n",
    "from aiida_wannier90_workflows.workflows.base.projwfc import ProjwfcBaseWorkChain\n",
    "from aiida_wannier90_workflows.workflows.base.pw2wannier90 import Pw2wannier90BaseWorkChain\n",
    "\n",
    "@node.calcfunction()\n",
    "def prepare_wannier90_pp_inputs(parameters, output_parameters):\n",
    "    \"\"\"Prepare the inputs of wannier90 calculation before submission.\n",
    "    \"\"\"\n",
    "    parameters = parameters.get_dict()\n",
    "    parameters[\"fermi_energy\"] = output_parameters.get_dict().get('fermi_energy')\n",
    "    return orm.Dict(parameters)\n",
    "\n",
    "@node.calcfunction()\n",
    "def prepare_wannier90_inputs(parameters, output_parameters):\n",
    "    \"\"\"Prepare the inputs of wannier90 calculation.\n",
    "    \"\"\"\n",
    "    parameters = parameters.get_dict()\n",
    "    parameters[\"fermi_energy\"] = output_parameters.get_dict().get('fermi_energy')\n",
    "    return orm.Dict(parameters)    \n",
    "\n",
    "@node.graph_builder()\n",
    "def wannier_workgraph(structure=None, inputs=None):\n",
    "    \"\"\"Generate PdosWorkGraph.\"\"\"\n",
    "    inputs = {} if inputs is None else inputs\n",
    "    # create workgraph\n",
    "    wg = WorkGraph()\n",
    "    wg.ctx = {'current_structure': structure, 'current_number_of_bands': None, 'parent_folder': None}\n",
    "    # -------- scf -----------\n",
    "    scf_node = wg.nodes.new(PwBaseWorkChain, name='scf')\n",
    "    scf_inputs = inputs.get('scf', {})\n",
    "    scf_inputs['pw.structure'] = structure\n",
    "    scf_node.set(scf_inputs)\n",
    "    # -------- nscf -----------\n",
    "    nscf_node = wg.nodes.new(PwBaseWorkChain, name='nscf')\n",
    "    nscf_inputs = inputs.get('nscf', {})\n",
    "    nscf_inputs.update({'pw.structure': structure,\n",
    "                        'pw.parent_folder': scf_node.outputs['remote_folder']\n",
    "    })\n",
    "    nscf_node.set(nscf_inputs)\n",
    "    # -------- projwfc -----------\n",
    "    projwfc = wg.nodes.new(ProjwfcBaseWorkChain, name='projwfc',\n",
    "                           )\n",
    "    projwfc_inputs = inputs.get('projwfc', {})\n",
    "    projwfc_inputs.update({\"projwfc.parent_folder\": nscf_node.outputs['remote_folder']})\n",
    "    projwfc.set(projwfc_inputs)\n",
    "    # -------- wannier90_pp -----------\n",
    "    wannier90_pp = wg.nodes.new(Wannier90BaseWorkChain, name='wannier90_pp',\n",
    "                                bands=nscf_node.outputs['output_band'],\n",
    "    )\n",
    "    wannier90_pp_inputs = inputs.get('wannier90_pp', {\"wannier90\": {\"parameters\": {}}})\n",
    "    wannier90_pp_inputs.update({\"wannier90.structure\": structure})\n",
    "    wannier90_pp.set(wannier90_pp_inputs)\n",
    "    wannier90_pp_parameters = wg.nodes.new(\n",
    "        prepare_wannier90_pp_inputs, name='wannier90_pp_parameters',\n",
    "        parameters=wannier90_pp_inputs[\"wannier90\"].get('parameters')\n",
    "    )\n",
    "    wg.links.new(nscf_node.outputs['output_parameters'], wannier90_pp_parameters.inputs['output_parameters'])\n",
    "    wg.links.new(wannier90_pp_parameters.outputs[0], wannier90_pp.inputs['wannier90.parameters'])\n",
    "    # -------- pw2wannier90 -----------\n",
    "    pw2wannier90 = wg.nodes.new(Pw2wannier90BaseWorkChain, name='pw2wannier90',\n",
    "                                bands=projwfc.outputs['bands'],\n",
    "                                bands_projections=projwfc.outputs['projections'],\n",
    "    )\n",
    "    pw2wannier90.set({\"pw2wannier90.nnkp_file\": wannier90_pp.outputs['nnkp_file'],\n",
    "                      \"pw2wannier90.parent_folder\": nscf_node.outputs['remote_folder'],\n",
    "                      })\n",
    "    pw2wannier90_inputs = inputs.get('pw2wannier90', {})\n",
    "    pw2wannier90.set(pw2wannier90_inputs)\n",
    "    # -------- wannier90 -----------\n",
    "    wannier90 = wg.nodes.new(Wannier90BaseWorkChain, name='wannier90')\n",
    "    wannier90_inputs = inputs.get('wannier90', {})\n",
    "    wannier90_inputs.update({\"wannier90.structure\": structure,\n",
    "                             \"wannier90.remote_input_folder\": pw2wannier90.outputs['remote_folder'],\n",
    "                             })\n",
    "    wannier90.set(wannier90_inputs)\n",
    "    # export workgraph\n",
    "    return wg\n",
    "\n",
    "\n",
    "wannier_wg = wannier_workgraph()\n",
    "wannier_wg"
   ]
  },
  {
   "cell_type": "markdown",
   "metadata": {},
   "source": [
    "## Prepare inputs and submit\n"
   ]
  },
  {
   "cell_type": "code",
   "execution_count": 7,
   "metadata": {},
   "outputs": [
    {
     "name": "stdout",
     "output_type": "stream",
     "text": [
      "Structure stored with pk 13634\n"
     ]
    },
    {
     "name": "stderr",
     "output_type": "stream",
     "text": [
      "05/28/2024 10:46:15 AM <2561818> aiida.orm.nodes.process.workflow.workchain.WorkChainNode: [REPORT] [13645|WorkGraphEngine|continue_workgraph]: Continue workgraph.\n"
     ]
    },
    {
     "name": "stdout",
     "output_type": "stream",
     "text": [
      "Continue workgraph.\n"
     ]
    },
    {
     "name": "stderr",
     "output_type": "stream",
     "text": [
      "05/28/2024 10:46:16 AM <2561818> aiida.orm.nodes.process.workflow.workchain.WorkChainNode: [REPORT] [13645|WorkGraphEngine|continue_workgraph]: nodes ready to run: scf\n",
      "05/28/2024 10:46:16 AM <2561818> aiida.orm.nodes.process.workflow.workchain.WorkChainNode: [REPORT] [13645|WorkGraphEngine|run_nodes]: Run node: scf, type: WORKCHAIN\n"
     ]
    },
    {
     "name": "stdout",
     "output_type": "stream",
     "text": [
      "------------------------------------------------------------\n",
      "executor:  <class 'aiida_quantumespresso.workflows.pw.base.PwBaseWorkChain'>\n",
      "args:  [{'code': <InstalledCode: Remote code 'qe-7.2-pw' on localhost pk: 687, uuid: 1a272f2f-ea8f-48a7-a1ed-cce982f322f2>, 'metadata': {'options': {'resources': {'num_machines': 1, 'num_mpiprocs_per_machine': 1}}}, 'parameters': <Dict: uuid: d4522034-ed35-454b-98ab-d50b0e9041ce (pk: 13635)>, 'pseudos': {'Si': <UpfData: uuid: 945da0ed-9566-4c95-a6a4-36114036ebf8 (pk: 815)>}, 'structure': <StructureData: uuid: f68168f9-4430-413c-8405-3cfccbd0a621 (pk: 13636)>}, None, None, {}]\n",
      "kwargs:  {'kpoints': <KpointsData: uuid: 83711679-2513-4744-9164-dc2e642fa932 (pk: 13637)>, 'pw': {'code': <InstalledCode: Remote code 'qe-7.2-pw' on localhost pk: 687, uuid: 1a272f2f-ea8f-48a7-a1ed-cce982f322f2>, 'metadata': {'options': {'resources': {'num_machines': 1, 'num_mpiprocs_per_machine': 1}}}, 'parameters': <Dict: uuid: d4522034-ed35-454b-98ab-d50b0e9041ce (pk: 13635)>, 'pseudos': {'Si': <UpfData: uuid: 945da0ed-9566-4c95-a6a4-36114036ebf8 (pk: 815)>}, 'structure': <StructureData: uuid: f68168f9-4430-413c-8405-3cfccbd0a621 (pk: 13636)>}}\n",
      "var_kwargs:  None\n",
      "node  type: calcjob/workchain.\n",
      "node:  nscf CREATED\n",
      "node:  projwfc CREATED\n",
      "node:  pw2wannier90 CREATED\n",
      "node:  scf RUNNING\n",
      "node:  wannier90 CREATED\n",
      "node:  wannier90_pp CREATED\n",
      "node:  wannier90_pp_parameters CREATED\n",
      "is workgraph finished:  False\n"
     ]
    },
    {
     "name": "stderr",
     "output_type": "stream",
     "text": [
      "05/28/2024 10:46:21 AM <2561818> aiida.orm.nodes.process.workflow.workchain.WorkChainNode: [REPORT] [13648|PwBaseWorkChain|run_process]: launching PwCalculation<13651> iteration #1\n",
      "05/28/2024 10:46:22 AM <2561818> aiida.orm.nodes.process.workflow.workchain.WorkChainNode: [REPORT] [13648|PwBaseWorkChain|results]: work chain completed after 1 iterations\n",
      "05/28/2024 10:46:22 AM <2561818> aiida.orm.nodes.process.workflow.workchain.WorkChainNode: [REPORT] [13648|PwBaseWorkChain|on_terminated]: remote folders will not be cleaned\n"
     ]
    },
    {
     "name": "stdout",
     "output_type": "stream",
     "text": [
      "on awaitable finished:  scf\n",
      "update node state:  scf\n"
     ]
    },
    {
     "name": "stderr",
     "output_type": "stream",
     "text": [
      "05/28/2024 10:46:22 AM <2561818> aiida.orm.nodes.process.workflow.workchain.WorkChainNode: [REPORT] [13645|WorkGraphEngine|set_node_result]: Node: scf finished.\n",
      "05/28/2024 10:46:25 AM <2561818> aiida.orm.nodes.process.workflow.workchain.WorkChainNode: [REPORT] [13645|WorkGraphEngine|continue_workgraph]: Continue workgraph.\n"
     ]
    },
    {
     "name": "stdout",
     "output_type": "stream",
     "text": [
      "Continue workgraph.\n"
     ]
    },
    {
     "name": "stderr",
     "output_type": "stream",
     "text": [
      "05/28/2024 10:46:26 AM <2561818> aiida.orm.nodes.process.workflow.workchain.WorkChainNode: [REPORT] [13645|WorkGraphEngine|continue_workgraph]: nodes ready to run: nscf\n",
      "05/28/2024 10:46:26 AM <2561818> aiida.orm.nodes.process.workflow.workchain.WorkChainNode: [REPORT] [13645|WorkGraphEngine|run_nodes]: Run node: nscf, type: WORKCHAIN\n"
     ]
    },
    {
     "name": "stdout",
     "output_type": "stream",
     "text": [
      "------------------------------------------------------------\n",
      "executor:  <class 'aiida_quantumespresso.workflows.pw.base.PwBaseWorkChain'>\n",
      "args:  [{'code': <InstalledCode: Remote code 'qe-7.2-pw' on localhost pk: 687, uuid: 1a272f2f-ea8f-48a7-a1ed-cce982f322f2>, 'metadata': {'options': {'resources': {'num_machines': 1, 'num_mpiprocs_per_machine': 1}}}, 'parameters': <Dict: uuid: 2312c343-95f4-487b-b51d-9ab666c2533c (pk: 13638)>, 'pseudos': {'Si': <UpfData: uuid: 945da0ed-9566-4c95-a6a4-36114036ebf8 (pk: 815)>}, 'structure': <StructureData: uuid: f68168f9-4430-413c-8405-3cfccbd0a621 (pk: 13636)>, 'parent_folder': <RemoteData: uuid: b2272a17-938a-4739-8b6f-abadd877d064 (pk: 13652)>}, None, None, {}]\n",
      "kwargs:  {'kpoints': <KpointsData: uuid: 4fbddd97-86b1-4df8-a2a5-4513ebff8903 (pk: 13639)>, 'pw': {'code': <InstalledCode: Remote code 'qe-7.2-pw' on localhost pk: 687, uuid: 1a272f2f-ea8f-48a7-a1ed-cce982f322f2>, 'metadata': {'options': {'resources': {'num_machines': 1, 'num_mpiprocs_per_machine': 1}}}, 'parameters': <Dict: uuid: 2312c343-95f4-487b-b51d-9ab666c2533c (pk: 13638)>, 'pseudos': {'Si': <UpfData: uuid: 945da0ed-9566-4c95-a6a4-36114036ebf8 (pk: 815)>}, 'structure': <StructureData: uuid: f68168f9-4430-413c-8405-3cfccbd0a621 (pk: 13636)>, 'parent_folder': <RemoteData: uuid: b2272a17-938a-4739-8b6f-abadd877d064 (pk: 13652)>}}\n",
      "var_kwargs:  None\n",
      "node  type: calcjob/workchain.\n",
      "node:  nscf RUNNING\n",
      "node:  projwfc CREATED\n",
      "node:  pw2wannier90 CREATED\n",
      "node:  scf FINISHED\n",
      "node:  wannier90 CREATED\n",
      "node:  wannier90_pp CREATED\n",
      "node:  wannier90_pp_parameters CREATED\n",
      "is workgraph finished:  False\n"
     ]
    },
    {
     "name": "stderr",
     "output_type": "stream",
     "text": [
      "05/28/2024 10:46:31 AM <2561818> aiida.orm.nodes.process.workflow.workchain.WorkChainNode: [REPORT] [13659|PwBaseWorkChain|run_process]: launching PwCalculation<13662> iteration #1\n",
      "05/28/2024 10:46:32 AM <2561818> aiida.orm.nodes.process.workflow.workchain.WorkChainNode: [REPORT] [13659|PwBaseWorkChain|results]: work chain completed after 1 iterations\n",
      "05/28/2024 10:46:32 AM <2561818> aiida.orm.nodes.process.workflow.workchain.WorkChainNode: [REPORT] [13659|PwBaseWorkChain|on_terminated]: remote folders will not be cleaned\n",
      "05/28/2024 10:46:32 AM <2561818> aiida.orm.nodes.process.workflow.workchain.WorkChainNode: [REPORT] [13645|WorkGraphEngine|set_node_result]: Node: nscf finished.\n"
     ]
    },
    {
     "name": "stdout",
     "output_type": "stream",
     "text": [
      "on awaitable finished:  nscf\n",
      "update node state:  nscf\n"
     ]
    },
    {
     "name": "stderr",
     "output_type": "stream",
     "text": [
      "05/28/2024 10:46:35 AM <2561818> aiida.orm.nodes.process.workflow.workchain.WorkChainNode: [REPORT] [13645|WorkGraphEngine|continue_workgraph]: Continue workgraph.\n"
     ]
    },
    {
     "name": "stdout",
     "output_type": "stream",
     "text": [
      "Continue workgraph.\n"
     ]
    },
    {
     "name": "stderr",
     "output_type": "stream",
     "text": [
      "05/28/2024 10:46:36 AM <2561818> aiida.orm.nodes.process.workflow.workchain.WorkChainNode: [REPORT] [13645|WorkGraphEngine|continue_workgraph]: nodes ready to run: projwfc,wannier90_pp_parameters\n",
      "05/28/2024 10:46:36 AM <2561818> aiida.orm.nodes.process.workflow.workchain.WorkChainNode: [REPORT] [13645|WorkGraphEngine|run_nodes]: Run node: projwfc, type: WORKCHAIN\n"
     ]
    },
    {
     "name": "stdout",
     "output_type": "stream",
     "text": [
      "------------------------------------------------------------\n",
      "executor:  <class 'aiida_wannier90_workflows.workflows.base.projwfc.ProjwfcBaseWorkChain'>\n",
      "args:  [{'code': <InstalledCode: Remote code 'qe-7.2-projwfc' on localhost pk: 689, uuid: c9ad788a-0661-42c8-b9dc-bf2783c94953>, 'metadata': {'options': {'resources': {'num_machines': 1, 'num_mpiprocs_per_machine': 1}}}, 'parent_folder': <RemoteData: uuid: 183be1a7-c02c-4d3f-909b-cfdd0d7f04a0 (pk: 13663)>}, <RemoteData: uuid: 183be1a7-c02c-4d3f-909b-cfdd0d7f04a0 (pk: 13663)>]\n",
      "kwargs:  {'projwfc': {'code': <InstalledCode: Remote code 'qe-7.2-projwfc' on localhost pk: 689, uuid: c9ad788a-0661-42c8-b9dc-bf2783c94953>, 'metadata': {'options': {'resources': {'num_machines': 1, 'num_mpiprocs_per_machine': 1}}}, 'parent_folder': <RemoteData: uuid: 183be1a7-c02c-4d3f-909b-cfdd0d7f04a0 (pk: 13663)>}}\n",
      "var_kwargs:  None\n",
      "node  type: calcjob/workchain.\n"
     ]
    },
    {
     "name": "stderr",
     "output_type": "stream",
     "text": [
      "05/28/2024 10:46:36 AM <2561818> aiida.orm.nodes.process.workflow.workchain.WorkChainNode: [REPORT] [13645|WorkGraphEngine|run_nodes]: Run node: wannier90_pp_parameters, type: CALCFUNCTION\n"
     ]
    },
    {
     "name": "stdout",
     "output_type": "stream",
     "text": [
      "------------------------------------------------------------\n",
      "executor:  <function prepare_wannier90_pp_inputs at 0x7f875f9a2200>\n",
      "args:  [<Dict: uuid: 8a64c19e-e3b1-40fd-9d23-0282d596a3e2 (pk: 13640)>, <Dict: uuid: 9cd9bd2c-25c7-45c7-bab8-4cd547faac6b (pk: 13667)>]\n",
      "kwargs:  {'parameters': <Dict: uuid: 8a64c19e-e3b1-40fd-9d23-0282d596a3e2 (pk: 13640)>, 'output_parameters': <Dict: uuid: 9cd9bd2c-25c7-45c7-bab8-4cd547faac6b (pk: 13667)>}\n",
      "var_kwargs:  None\n",
      "node type: calcfunction/workfunction.\n"
     ]
    },
    {
     "name": "stderr",
     "output_type": "stream",
     "text": [
      "05/28/2024 10:46:39 AM <2561818> aiida.orm.nodes.process.workflow.workchain.WorkChainNode: [REPORT] [13670|ProjwfcBaseWorkChain|run_process]: launching ProjwfcCalculation<13672> iteration #1\n",
      "05/28/2024 10:46:39 AM <2561818> aiida.orm.nodes.process.workflow.workchain.WorkChainNode: [REPORT] [13645|WorkGraphEngine|run_nodes]: Node: wannier90_pp_parameters finished.\n",
      "05/28/2024 10:46:39 AM <2561818> aiida.orm.nodes.process.workflow.workchain.WorkChainNode: [REPORT] [13645|WorkGraphEngine|continue_workgraph]: Continue workgraph.\n"
     ]
    },
    {
     "name": "stdout",
     "output_type": "stream",
     "text": [
      "Continue workgraph.\n"
     ]
    },
    {
     "name": "stderr",
     "output_type": "stream",
     "text": [
      "05/28/2024 10:46:40 AM <2561818> aiida.orm.nodes.process.workflow.workchain.WorkChainNode: [REPORT] [13645|WorkGraphEngine|continue_workgraph]: nodes ready to run: wannier90_pp\n",
      "05/28/2024 10:46:40 AM <2561818> aiida.orm.nodes.process.workflow.workchain.WorkChainNode: [REPORT] [13645|WorkGraphEngine|run_nodes]: Run node: wannier90_pp, type: WORKCHAIN\n"
     ]
    },
    {
     "name": "stdout",
     "output_type": "stream",
     "text": [
      "------------------------------------------------------------\n",
      "executor:  <class 'aiida_wannier90_workflows.workflows.base.wannier90.Wannier90BaseWorkChain'>\n",
      "args:  [{'code': <InstalledCode: Remote code 'wannier90' on localhost pk: 12995, uuid: a5ff3b94-3193-4d42-81f9-d93819ea2e8a>, 'kpoints': <KpointsData: uuid: 4fbddd97-86b1-4df8-a2a5-4513ebff8903 (pk: 13639)>, 'metadata': {'options': {'resources': {'num_machines': 1, 'num_mpiprocs_per_machine': 1}}}, 'parameters': <Dict: uuid: 7ae12aaa-f8ff-46c5-b760-c54ffb458691 (pk: 13679)>, 'settings': <Dict: uuid: 2714324d-9b15-4f88-9674-e73610edfebb (pk: 13641)>, 'structure': <StructureData: uuid: f68168f9-4430-413c-8405-3cfccbd0a621 (pk: 13636)>}, None, <Dict: uuid: 7ae12aaa-f8ff-46c5-b760-c54ffb458691 (pk: 13679)>, None]\n",
      "kwargs:  {'bands': <BandsData: uuid: ff6d09f3-4e9d-43e9-8edf-d82d506fb00d (pk: 13665)>, 'wannier90': {'code': <InstalledCode: Remote code 'wannier90' on localhost pk: 12995, uuid: a5ff3b94-3193-4d42-81f9-d93819ea2e8a>, 'kpoints': <KpointsData: uuid: 4fbddd97-86b1-4df8-a2a5-4513ebff8903 (pk: 13639)>, 'metadata': {'options': {'resources': {'num_machines': 1, 'num_mpiprocs_per_machine': 1}}}, 'parameters': <Dict: uuid: 7ae12aaa-f8ff-46c5-b760-c54ffb458691 (pk: 13679)>, 'settings': <Dict: uuid: 2714324d-9b15-4f88-9674-e73610edfebb (pk: 13641)>, 'structure': <StructureData: uuid: f68168f9-4430-413c-8405-3cfccbd0a621 (pk: 13636)>}}\n",
      "var_kwargs:  None\n",
      "node  type: calcjob/workchain.\n",
      "node:  nscf FINISHED\n",
      "node:  projwfc RUNNING\n",
      "node:  pw2wannier90 CREATED\n",
      "node:  scf FINISHED\n",
      "node:  wannier90 CREATED\n",
      "node:  wannier90_pp RUNNING\n",
      "node:  wannier90_pp_parameters FINISHED\n",
      "is workgraph finished:  False\n"
     ]
    },
    {
     "name": "stderr",
     "output_type": "stream",
     "text": [
      "05/28/2024 10:46:44 AM <2561818> aiida.orm.nodes.process.workflow.workchain.WorkChainNode: [REPORT] [13685|Wannier90BaseWorkChain|run_process]: launching Wannier90Calculation<13687> iteration #1\n",
      "05/28/2024 10:46:45 AM <2561818> aiida.orm.nodes.process.workflow.workchain.WorkChainNode: [REPORT] [13670|ProjwfcBaseWorkChain|results]: work chain completed after 1 iterations\n",
      "05/28/2024 10:46:45 AM <2561818> aiida.orm.nodes.process.workflow.workchain.WorkChainNode: [REPORT] [13670|ProjwfcBaseWorkChain|on_terminated]: remote folders will not be cleaned\n"
     ]
    },
    {
     "name": "stdout",
     "output_type": "stream",
     "text": [
      "on awaitable finished:  projwfc\n",
      "update node state:  projwfc\n"
     ]
    },
    {
     "name": "stderr",
     "output_type": "stream",
     "text": [
      "05/28/2024 10:46:45 AM <2561818> aiida.orm.nodes.process.workflow.workchain.WorkChainNode: [REPORT] [13645|WorkGraphEngine|set_node_result]: Node: projwfc finished.\n",
      "05/28/2024 10:46:48 AM <2561818> aiida.orm.nodes.process.workflow.workchain.WorkChainNode: [REPORT] [13645|WorkGraphEngine|continue_workgraph]: Continue workgraph.\n"
     ]
    },
    {
     "name": "stdout",
     "output_type": "stream",
     "text": [
      "Continue workgraph.\n"
     ]
    },
    {
     "name": "stderr",
     "output_type": "stream",
     "text": [
      "05/28/2024 10:46:49 AM <2561818> aiida.orm.nodes.process.workflow.workchain.WorkChainNode: [REPORT] [13645|WorkGraphEngine|continue_workgraph]: nodes ready to run: \n"
     ]
    },
    {
     "name": "stdout",
     "output_type": "stream",
     "text": [
      "node:  nscf FINISHED\n",
      "node:  projwfc FINISHED\n",
      "node:  pw2wannier90 CREATED\n",
      "node:  scf FINISHED\n",
      "node:  wannier90 CREATED\n",
      "node:  wannier90_pp RUNNING\n",
      "node:  wannier90_pp_parameters FINISHED\n",
      "is workgraph finished:  False\n"
     ]
    },
    {
     "name": "stderr",
     "output_type": "stream",
     "text": [
      "05/28/2024 10:46:57 AM <2561818> aiida.orm.nodes.process.workflow.workchain.WorkChainNode: [REPORT] [13685|Wannier90BaseWorkChain|results]: work chain completed after 1 iterations\n",
      "05/28/2024 10:46:57 AM <2561818> aiida.orm.nodes.process.workflow.workchain.WorkChainNode: [REPORT] [13685|Wannier90BaseWorkChain|on_terminated]: remote folders will not be cleaned\n"
     ]
    },
    {
     "name": "stdout",
     "output_type": "stream",
     "text": [
      "on awaitable finished:  wannier90_pp\n",
      "update node state:  wannier90_pp\n"
     ]
    },
    {
     "name": "stderr",
     "output_type": "stream",
     "text": [
      "05/28/2024 10:46:57 AM <2561818> aiida.orm.nodes.process.workflow.workchain.WorkChainNode: [REPORT] [13645|WorkGraphEngine|set_node_result]: Node: wannier90_pp finished.\n",
      "05/28/2024 10:47:00 AM <2561818> aiida.orm.nodes.process.workflow.workchain.WorkChainNode: [REPORT] [13645|WorkGraphEngine|continue_workgraph]: Continue workgraph.\n"
     ]
    },
    {
     "name": "stdout",
     "output_type": "stream",
     "text": [
      "Continue workgraph.\n"
     ]
    },
    {
     "name": "stderr",
     "output_type": "stream",
     "text": [
      "05/28/2024 10:47:01 AM <2561818> aiida.orm.nodes.process.workflow.workchain.WorkChainNode: [REPORT] [13645|WorkGraphEngine|continue_workgraph]: nodes ready to run: pw2wannier90\n",
      "05/28/2024 10:47:01 AM <2561818> aiida.orm.nodes.process.workflow.workchain.WorkChainNode: [REPORT] [13645|WorkGraphEngine|run_nodes]: Run node: pw2wannier90, type: WORKCHAIN\n"
     ]
    },
    {
     "name": "stdout",
     "output_type": "stream",
     "text": [
      "------------------------------------------------------------\n",
      "executor:  <class 'aiida_wannier90_workflows.workflows.base.pw2wannier90.Pw2wannier90BaseWorkChain'>\n",
      "args:  [{'code': <InstalledCode: Remote code 'qe-7.2-pw2wannier90' on localhost pk: 12992, uuid: b0c9b716-55fb-4995-ad43-ddf4bd874f9e>, 'metadata': {'options': {'resources': {'num_machines': 1, 'num_mpiprocs_per_machine': 1}}}, 'parameters': <Dict: uuid: eeed5f12-5392-4a53-b0c0-93c1aaae9489 (pk: 13642)>, 'parent_folder': <RemoteData: uuid: 183be1a7-c02c-4d3f-909b-cfdd0d7f04a0 (pk: 13663)>, 'nnkp_file': <SinglefileData: uuid: 0fb4090c-e367-45d3-af22-e2df101b191f (pk: 13690)>}, <RemoteData: uuid: 183be1a7-c02c-4d3f-909b-cfdd0d7f04a0 (pk: 13663)>, <SinglefileData: uuid: 0fb4090c-e367-45d3-af22-e2df101b191f (pk: 13690)>]\n",
      "kwargs:  {'bands': <BandsData: uuid: dccaa64d-0926-4c83-8171-971f19b28b30 (pk: 13677)>, 'bands_projections': <ProjectionData: uuid: 7ed8dc75-f467-4daf-af87-aed90bbc26ad (pk: 13676)>, 'pw2wannier90': {'code': <InstalledCode: Remote code 'qe-7.2-pw2wannier90' on localhost pk: 12992, uuid: b0c9b716-55fb-4995-ad43-ddf4bd874f9e>, 'metadata': {'options': {'resources': {'num_machines': 1, 'num_mpiprocs_per_machine': 1}}}, 'parameters': <Dict: uuid: eeed5f12-5392-4a53-b0c0-93c1aaae9489 (pk: 13642)>, 'parent_folder': <RemoteData: uuid: 183be1a7-c02c-4d3f-909b-cfdd0d7f04a0 (pk: 13663)>, 'nnkp_file': <SinglefileData: uuid: 0fb4090c-e367-45d3-af22-e2df101b191f (pk: 13690)>}}\n",
      "var_kwargs:  None\n",
      "node  type: calcjob/workchain.\n",
      "node:  nscf FINISHED\n",
      "node:  projwfc FINISHED\n",
      "node:  pw2wannier90 RUNNING\n",
      "node:  scf FINISHED\n",
      "node:  wannier90 CREATED\n",
      "node:  wannier90_pp FINISHED\n",
      "node:  wannier90_pp_parameters FINISHED\n",
      "is workgraph finished:  False\n"
     ]
    },
    {
     "name": "stderr",
     "output_type": "stream",
     "text": [
      "05/28/2024 10:47:05 AM <2561818> aiida.orm.nodes.process.workflow.workchain.WorkChainNode: [REPORT] [13695|Pw2wannier90BaseWorkChain|run_process]: launching Pw2wannier90Calculation<13697> iteration #1\n",
      "05/28/2024 10:47:13 AM <2561818> aiida.parser.Pw2wannier90Parser: [ERROR] ERROR_OUTPUT_STDOUT_INCOMPLETE\n",
      "05/28/2024 10:47:13 AM <2561818> aiida.parser.Pw2wannier90Parser: [ERROR] Error in routine pw2wannier90 (4):\n",
      "     problems with k-points\n",
      "05/28/2024 10:47:13 AM <2561818> aiida.parser.Pw2wannier90Parser: [ERROR] The stdout output file was incomplete probably because the calculation got interrupted.\n",
      "05/28/2024 10:47:13 AM <2561818> aiida.orm.nodes.process.calculation.calcjob.CalcJobNode: [WARNING] output parser returned exit code<312>: The stdout output file was incomplete probably because the calculation got interrupted.\n",
      "05/28/2024 10:47:13 AM <2561818> aiida.orm.nodes.process.workflow.workchain.WorkChainNode: [REPORT] [13695|Pw2wannier90BaseWorkChain|report_error_handled]: Pw2wannier90Calculation<13697> failed with exit status 312: The stdout output file was incomplete probably because the calculation got interrupted.\n",
      "05/28/2024 10:47:13 AM <2561818> aiida.orm.nodes.process.workflow.workchain.WorkChainNode: [REPORT] [13695|Pw2wannier90BaseWorkChain|report_error_handled]: Action taken: Unrecoverable incomplete stdout error\n",
      "05/28/2024 10:47:13 AM <2561818> aiida.orm.nodes.process.workflow.workchain.WorkChainNode: [REPORT] [13695|Pw2wannier90BaseWorkChain|inspect_process]: Pw2wannier90Calculation<13697> failed but a handler detected an unrecoverable problem, aborting\n",
      "05/28/2024 10:47:13 AM <2561818> aiida.orm.nodes.process.workflow.workchain.WorkChainNode: [REPORT] [13695|Pw2wannier90BaseWorkChain|on_terminated]: remote folders will not be cleaned\n"
     ]
    },
    {
     "name": "stdout",
     "output_type": "stream",
     "text": [
      "on awaitable finished:  pw2wannier90\n",
      "update node state:  pw2wannier90\n"
     ]
    },
    {
     "name": "stderr",
     "output_type": "stream",
     "text": [
      "05/28/2024 10:47:14 AM <2561818> aiida.orm.nodes.process.workflow.workchain.WorkChainNode: [REPORT] [13645|WorkGraphEngine|set_node_result]: Node: pw2wannier90 failed.\n",
      "05/28/2024 10:47:17 AM <2561818> aiida.orm.nodes.process.workflow.workchain.WorkChainNode: [REPORT] [13645|WorkGraphEngine|continue_workgraph]: Continue workgraph.\n"
     ]
    },
    {
     "name": "stdout",
     "output_type": "stream",
     "text": [
      "Continue workgraph.\n"
     ]
    },
    {
     "name": "stderr",
     "output_type": "stream",
     "text": [
      "05/28/2024 10:47:18 AM <2561818> aiida.orm.nodes.process.workflow.workchain.WorkChainNode: [REPORT] [13645|WorkGraphEngine|continue_workgraph]: nodes ready to run: \n",
      "05/28/2024 10:47:18 AM <2561818> aiida.orm.nodes.process.workflow.workchain.WorkChainNode: [REPORT] [13645|WorkGraphEngine|is_workgraph_finished]: WorkGraph finished, but nodes: ['pw2wannier90', 'wannier90'] failed.\n"
     ]
    },
    {
     "name": "stdout",
     "output_type": "stream",
     "text": [
      "node:  nscf FINISHED\n",
      "node:  projwfc FINISHED\n",
      "node:  pw2wannier90 FAILED\n",
      "node:  scf FINISHED\n",
      "node:  wannier90 FAILED\n",
      "node:  wannier90_pp FINISHED\n",
      "node:  wannier90_pp_parameters FINISHED\n",
      "is workgraph finished:  True\n"
     ]
    },
    {
     "data": {
      "text/plain": [
       "{}"
      ]
     },
     "execution_count": 7,
     "metadata": {},
     "output_type": "execute_result"
    }
   ],
   "source": [
    "from aiida import load_profile, orm\n",
    "from ase.build import bulk\n",
    "from copy import deepcopy\n",
    "from aiida.plugins import DataFactory\n",
    "load_profile()\n",
    "\n",
    "\n",
    "StructureData = DataFactory('core.structure')\n",
    "a = 5.68018817933178\n",
    "structure = StructureData(cell = [[-a/2., 0, a/2.], [0, a/2., a/2.], [-a/2., a/2., 0]])\n",
    "structure.append_atom(symbols=['Ga'], position=(0., 0., 0.))\n",
    "structure.append_atom(symbols=['As'], position=(-a/4., a/4., a/4.))\n",
    "structure.store()\n",
    "print ( 'Structure stored with pk %d' %structure.pk)\n",
    "\n",
    "\n",
    "\n",
    "structure = orm.StructureData(ase=bulk(\"Si\"))\n",
    "pw_code = orm.load_code(\"qe-7.2-pw@localhost\")\n",
    "projwfc_code = orm.load_code('qe-7.2-projwfc@localhost')\n",
    "pw2wannier90_code = orm.load_code('qe-7.2-pw2wannier90@localhost')\n",
    "wannier90_code = orm.load_code('wannier90@localhost')\n",
    "\n",
    "scf_paras = {\n",
    "    \"CONTROL\": {\n",
    "        \"calculation\": \"scf\",\n",
    "    },\n",
    "    \"SYSTEM\": {\n",
    "        \"ecutwfc\": 30,\n",
    "        \"ecutrho\": 240,\n",
    "        \"occupations\": \"smearing\",\n",
    "        \"smearing\": \"cold\",\n",
    "        \"degauss\": 0.01,\n",
    "    },\n",
    "    \"ELECTRONS\": {}\n",
    "}\n",
    "nscf_paras = deepcopy(scf_paras)\n",
    "nscf_paras['CONTROL']['calculation'] = 'nscf'\n",
    "nscf_paras['SYSTEM'].update({'nosym': True, 'noinv': True})\n",
    "nscf_paras['ELECTRONS'].update({'startingpot': 'file',\n",
    "                                'diago_full_acc': True})\n",
    "\n",
    "# Load the pseudopotential family.\n",
    "pseudo_family = orm.load_group(\"SSSP/1.3/PBEsol/efficiency\")\n",
    "pseudos = pseudo_family.get_pseudos(structure=structure)\n",
    "scf_kpoints = orm.KpointsData()\n",
    "scf_kpoints.set_kpoints_mesh([2, 2, 2])\n",
    "nscf_kpoints = orm.KpointsData()\n",
    "nscf_kpoints.set_kpoints_mesh([5, 5, 5])\n",
    "#\n",
    "metadata = {\n",
    "    \"options\": {\n",
    "        \"resources\": {\n",
    "            \"num_machines\": 1,\n",
    "            \"num_mpiprocs_per_machine\": 1,\n",
    "        },\n",
    "    }\n",
    "}\n",
    "\n",
    "# ===============================================================================\n",
    "\n",
    "wannier_inputs = {\n",
    "    'scf': {\n",
    "        'pw': {\n",
    "            'code': pw_code,\n",
    "            'pseudos': pseudos,\n",
    "            'parameters': orm.Dict(scf_paras),\n",
    "            'metadata': metadata,\n",
    "        },\n",
    "        'kpoints': scf_kpoints,\n",
    "    },\n",
    "    'nscf': {\n",
    "        'pw': {\n",
    "            'code': pw_code,\n",
    "            'pseudos': pseudos,\n",
    "            'parameters': orm.Dict(nscf_paras),\n",
    "            'metadata': metadata,\n",
    "        },\n",
    "        'kpoints': nscf_kpoints,\n",
    "    },\n",
    "    'projwfc': {\n",
    "        'projwfc': {\n",
    "            'code': projwfc_code,\n",
    "            'metadata': metadata,\n",
    "        }\n",
    "    },\n",
    "    'wannier90_pp': {\n",
    "        'wannier90': {\n",
    "            'code': wannier90_code,\n",
    "            'parameters': orm.Dict({\n",
    "                # \"auto_projections\": True,\n",
    "                # \"bands_plot\": True,\n",
    "                \"conv_tol\": 2.0e-05,\n",
    "                \"conv_window\": 1,\n",
    "                \"dis_conv_tol\": 2.0e-05,\n",
    "                \"dis_num_iter\": 0,\n",
    "                \"num_bands\": 12,\n",
    "                \"num_cg_steps\": 200,\n",
    "                \"num_iter\": 400,\n",
    "                \"num_wann\": 8,\n",
    "            }),\n",
    "            'kpoints': nscf_kpoints,\n",
    "            'metadata': metadata,\n",
    "            'settings': orm.Dict({'postproc_setup': True}),\n",
    "        },\n",
    "    },\n",
    "    'pw2wannier90': {\n",
    "        'pw2wannier90': {\n",
    "            'code': pw2wannier90_code,\n",
    "            \"parameters\": orm.Dict({\n",
    "                \"inputpp\": {\n",
    "                    \"scdm_entanglement\": \"erfc\",\n",
    "                    \"write_mmn\": True,\n",
    "                    \"write_amn\": True,\n",
    "                    \"write_unk\": True,\n",
    "                    \"scdm_proj\": True,\n",
    "                },\n",
    "            }),\n",
    "            'metadata': metadata,\n",
    "        }\n",
    "    },\n",
    "    'wannier90': {\n",
    "        'wannier90': {\n",
    "            'code': wannier90_code,\n",
    "            'parameters': orm.Dict({\n",
    "                \"auto_projections\": True,\n",
    "                \"bands_plot\": True,\n",
    "                \"conv_tol\": 2.0e-05,\n",
    "                \"conv_window\": 1,\n",
    "                \"dis_conv_tol\": 2.0e-05,\n",
    "                \"dis_num_iter\": 0,\n",
    "                \"num_bands\": 12,\n",
    "                \"num_cg_steps\": 200,\n",
    "                \"num_iter\": 400,\n",
    "                \"num_wann\": 8,\n",
    "                }),\n",
    "            'kpoints': nscf_kpoints,\n",
    "            'metadata': metadata,\n",
    "            'settings': orm.Dict({'postproc_setup': False}),\n",
    "        },\n",
    "    },\n",
    "    \n",
    "}\n",
    "wg = wannier_workgraph(structure=structure, inputs=wannier_inputs)\n",
    "wg.name = \"Wannier-Si\"\n",
    "wg.run()\n"
   ]
  },
  {
   "cell_type": "markdown",
   "metadata": {},
   "source": [
    "# Compare with parameters with the workchain"
   ]
  },
  {
   "cell_type": "code",
   "execution_count": 2,
   "metadata": {},
   "outputs": [
    {
     "name": "stdout",
     "output_type": "stream",
     "text": [
      "Structure stored with pk 13579\n",
      "Summary of key input parameters:\n",
      "  Formula: Si2\n",
      "  PseudoFamily: SSSP/1.3/PBEsol/efficiency\n",
      "  ElectronicType: METAL\n",
      "  SpinType: NONE\n",
      "  WannierProjectionType: SCDM\n",
      "  WannierDisentanglementType: NONE\n",
      "  WannierFrozenType: NONE\n",
      "  num_bands: 12\n",
      "  num_wann: 8\n",
      "  mp_grid: [5, 5, 5]\n",
      "\n"
     ]
    },
    {
     "data": {
      "text/plain": [
       "Process class: Wannier90BandsWorkChain\n",
       "Inputs:\n",
       "clean_workdir: false\n",
       "metadata: {}\n",
       "nscf:\n",
       "  kpoints: (Path of 125 kpts)\n",
       "  kpoints_force_parity: false\n",
       "  metadata: {}\n",
       "  pw:\n",
       "    code: Quantum Espresso from Conda\n",
       "    metadata:\n",
       "      options:\n",
       "        max_wallclock_seconds: 43200\n",
       "        resources:\n",
       "          num_machines: 1\n",
       "          num_mpiprocs_per_machine: 1\n",
       "        stash: {}\n",
       "        withmpi: true\n",
       "    monitors: {}\n",
       "    parameters:\n",
       "      CONTROL:\n",
       "        calculation: nscf\n",
       "        etot_conv_thr: 0.0002\n",
       "        forc_conv_thr: 0.001\n",
       "        restart_mode: from_scratch\n",
       "        tprnfor: true\n",
       "        tstress: true\n",
       "      ELECTRONS:\n",
       "        conv_thr: 8.0e-10\n",
       "        diago_full_acc: true\n",
       "        electron_maxstep: 80\n",
       "        mixing_beta: 0.4\n",
       "        startingpot: file\n",
       "      SYSTEM:\n",
       "        degauss: 0.01\n",
       "        ecutrho: 240.0\n",
       "        ecutwfc: 30.0\n",
       "        nbnd: 12\n",
       "        noinv: true\n",
       "        nosym: true\n",
       "        occupations: smearing\n",
       "        smearing: cold\n",
       "    pseudos:\n",
       "      Si: ''\n",
       "projwfc:\n",
       "  metadata: {}\n",
       "  projwfc:\n",
       "    code: Quantum Espresso from Conda\n",
       "    metadata:\n",
       "      options:\n",
       "        max_wallclock_seconds: 43200\n",
       "        resources:\n",
       "          num_machines: 1\n",
       "        stash: {}\n",
       "        withmpi: true\n",
       "    monitors: {}\n",
       "    parameters:\n",
       "      PROJWFC:\n",
       "        DeltaE: 0.2\n",
       "pw2wannier90:\n",
       "  metadata: {}\n",
       "  pw2wannier90:\n",
       "    code: Quantum Espresso from Conda\n",
       "    metadata:\n",
       "      options:\n",
       "        max_wallclock_seconds: 43200\n",
       "        resources:\n",
       "          num_machines: 1\n",
       "        stash: {}\n",
       "        withmpi: true\n",
       "    monitors: {}\n",
       "    parameters:\n",
       "      inputpp:\n",
       "        scdm_entanglement: erfc\n",
       "        scdm_proj: true\n",
       "scf:\n",
       "  kpoints_distance: 0.2\n",
       "  kpoints_force_parity: false\n",
       "  metadata: {}\n",
       "  pw:\n",
       "    code: Quantum Espresso from Conda\n",
       "    metadata:\n",
       "      options:\n",
       "        max_wallclock_seconds: 43200\n",
       "        resources:\n",
       "          num_machines: 1\n",
       "          num_mpiprocs_per_machine: 1\n",
       "        stash: {}\n",
       "        withmpi: true\n",
       "    monitors: {}\n",
       "    parameters:\n",
       "      CONTROL:\n",
       "        calculation: scf\n",
       "        etot_conv_thr: 0.0002\n",
       "        forc_conv_thr: 0.001\n",
       "        tprnfor: true\n",
       "        tstress: true\n",
       "      ELECTRONS:\n",
       "        conv_thr: 8.0e-10\n",
       "        electron_maxstep: 80\n",
       "        mixing_beta: 0.4\n",
       "      SYSTEM:\n",
       "        degauss: 0.01\n",
       "        ecutrho: 240.0\n",
       "        ecutwfc: 30.0\n",
       "        nosym: false\n",
       "        occupations: smearing\n",
       "        smearing: cold\n",
       "    pseudos:\n",
       "      Si: ''\n",
       "structure: Si\n",
       "wannier90:\n",
       "  auto_energy_windows: false\n",
       "  auto_energy_windows_threshold: 0.9\n",
       "  metadata: {}\n",
       "  shift_energy_windows: false\n",
       "  wannier90:\n",
       "    code: Quantum Espresso from Conda\n",
       "    kpoints: (Path of 125 kpts)\n",
       "    metadata:\n",
       "      options:\n",
       "        max_wallclock_seconds: 43200\n",
       "        resources:\n",
       "          num_machines: 1\n",
       "        stash: {}\n",
       "        withmpi: true\n",
       "    monitors: {}\n",
       "    parameters:\n",
       "      auto_projections: true\n",
       "      bands_plot: true\n",
       "      conv_tol: 2.0e-05\n",
       "      conv_window: 1\n",
       "      dis_conv_tol: 2.0e-05\n",
       "      dis_num_iter: 0\n",
       "      mp_grid:\n",
       "      - 5\n",
       "      - 5\n",
       "      - 5\n",
       "      num_bands: 12\n",
       "      num_cg_steps: 200\n",
       "      num_iter: 400\n",
       "      num_wann: 8\n",
       "    settings: {}\n"
      ]
     },
     "execution_count": 2,
     "metadata": {},
     "output_type": "execute_result"
    }
   ],
   "source": [
    "from aiida_wannier90_workflows.workflows import Wannier90BandsWorkChain\n",
    "from aiida import load_profile, orm\n",
    "from ase.build import bulk\n",
    "from copy import deepcopy\n",
    "from aiida.plugins import DataFactory\n",
    "from aiida.engine import submit\n",
    "load_profile()\n",
    "\n",
    "\n",
    "StructureData = DataFactory('core.structure')\n",
    "a = 5.68018817933178\n",
    "structure = StructureData(cell = [[-a/2., 0, a/2.], [0, a/2., a/2.], [-a/2., a/2., 0]])\n",
    "structure.append_atom(symbols=['Ga'], position=(0., 0., 0.))\n",
    "structure.append_atom(symbols=['As'], position=(-a/4., a/4., a/4.))\n",
    "structure.store()\n",
    "print ( 'Structure stored with pk %d' %structure.pk)\n",
    "\n",
    "\n",
    "\n",
    "structure = orm.StructureData(ase=bulk(\"Si\"))\n",
    "pw_code = orm.load_code(\"qe-7.2-pw@localhost\")\n",
    "projwfc_code = orm.load_code('qe-7.2-projwfc@localhost')\n",
    "pw2wannier90_code = orm.load_code('qe-7.2-pw2wannier90@localhost')\n",
    "wannier90_code = orm.load_code('wannier90@localhost')\n",
    "codes = {\n",
    "    \"pw\": pw_code,\n",
    "    \"projwfc\": projwfc_code,\n",
    "    \"pw2wannier90\": pw2wannier90_code,\n",
    "    \"wannier90\": wannier90_code,\n",
    "}\n",
    "# Prepare the builder to launch the workchain.\n",
    "# We use fast protocol to converge faster.\n",
    "builder = Wannier90BandsWorkChain.get_builder_from_protocol(\n",
    "    codes,\n",
    "    structure,\n",
    "    protocol=\"fast\",\n",
    "    pseudo_family=\"SSSP/1.3/PBEsol/efficiency\",\n",
    ")\n",
    "builder\n",
    "# Submit the workchain.\n",
    "# workchain = submit(builder)\n",
    "# print(f\"Submitted {workchain.process_label}<{workchain.pk}>\")\n",
    "\n"
   ]
  },
  {
   "cell_type": "code",
   "execution_count": null,
   "metadata": {},
   "outputs": [],
   "source": []
  }
 ],
 "metadata": {
  "kernelspec": {
   "display_name": "Python 3 (ipykernel)",
   "language": "python",
   "name": "python3"
  },
  "language_info": {
   "codemirror_mode": {
    "name": "ipython",
    "version": 3
   },
   "file_extension": ".py",
   "mimetype": "text/x-python",
   "name": "python",
   "nbconvert_exporter": "python",
   "pygments_lexer": "ipython3",
   "version": "3.10.0"
  }
 },
 "nbformat": 4,
 "nbformat_minor": 4
}
