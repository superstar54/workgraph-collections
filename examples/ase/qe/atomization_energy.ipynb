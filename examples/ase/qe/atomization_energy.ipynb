{
 "cells": [
  {
   "cell_type": "code",
   "execution_count": null,
   "metadata": {},
   "outputs": [],
   "source": [
    "from workgraph_collections.ase.qe.atomization_energy import atomization_energy\n",
    "\n",
    "wg = atomization_energy()\n",
    "wg"
   ]
  },
  {
   "cell_type": "markdown",
   "metadata": {},
   "source": [
    "## Prepare the input files\n"
   ]
  },
  {
   "cell_type": "code",
   "execution_count": null,
   "metadata": {},
   "outputs": [],
   "source": [
    "from ase.build import molecule\n",
    "from ase import Atoms\n",
    "from aiida import load_profile, orm\n",
    "\n",
    "load_profile()\n",
    "\n",
    "# create input structure node\n",
    "n_atom = Atoms(\"N\", pbc=True)\n",
    "n_atom.center(vacuum=5.0)\n",
    "n2_molecule = molecule(\"N2\", pbc=True)\n",
    "n2_molecule.center(vacuum=5.0)\n",
    "\n",
    "metadata = {\n",
    "    \"options\": {\n",
    "        'prepend_text' : \"\"\"\n",
    "module use unstable;\n",
    "module load gcc/11.2.0 openmpi/4.1.3_slurm\n",
    "module load qe/7.0 anaconda\n",
    "conda activate py3.11\n",
    "export OMP_NUM_THREADS=1\n",
    "        \"\"\",\n",
    "        \"resources\": {\n",
    "            \"num_machines\": 1,\n",
    "            \"num_mpiprocs_per_machine\": 1,\n",
    "        },\n",
    "    }\n",
    "}\n",
    "pseudopotentials = {\"N\": \"N.pbe-n-rrkjus_psl.1.0.0.UPF\"}\n",
    "pseudo_dir = \"/psi/home/wang_x3/pseudos\"\n",
    "input_data = {\n",
    "    \"system\": {\"ecutwfc\": 30, \"ecutrho\": 240,\n",
    "               \"occupations\": \"smearing\",\n",
    "                \"degauss\": 0.01,\n",
    "                \"smearing\": \"cold\",},\n",
    "}\n",
    "pw_binary = \"mpirun -n 1 /opt/psi/MPI/qe/7.0/openmpi/4.1.3_slurm/gcc/11.2.0/bin/pw.x\"\n",
    "#------------------------- Set the inputs -------------------------\n",
    "wg = atomization_energy()\n",
    "wg.nodes[\"scf_atom\"].set({\"atoms\": n_atom,\n",
    "                          \"pseudopotentials\": pseudopotentials,\n",
    "                          \"pseudo_dir\": pseudo_dir,\n",
    "                          \"input_data\": input_data,\n",
    "                          \"computer\": \"merlin6\",\n",
    "                          \"metadata\": metadata})\n",
    "wg.nodes[\"scf_mol\"].set({\"atoms\": n2_molecule,\n",
    "                          \"pseudopotentials\": pseudopotentials,\n",
    "                          \"pseudo_dir\": pseudo_dir,\n",
    "                          \"input_data\": input_data,\n",
    "                          \"computer\": \"merlin6\",\n",
    "                          \"metadata\": metadata})\n",
    "wg.nodes[\"calc_atomization_energy\"].set({\"mol\": n2_molecule, \"computer\": \"localhost\",\n",
    "                                         \"metadata\": metadata\n",
    "                                         })\n",
    "#------------------------- Submit the calculation -------------------\n",
    "# wg.run()\n",
    "wg.submit(wait=True, timeout=200)\n",
    "#------------------------- Print the output -------------------------\n",
    "print('Energy of a N atom:                  {:0.3f}'.format(wg.nodes['scf_atom'].outputs[\"result\"].value.value['energy']))\n",
    "print('Energy of an un-relaxed N2 molecule: {:0.3f}'.format(wg.nodes['scf_mol'].outputs[\"result\"].value.value['energy']))\n",
    "print('Atomization energy:                  {:0.3f} eV'.format(wg.nodes['calc_atomization_energy'].outputs[\"result\"].value.value))\n",
    "\n"
   ]
  },
  {
   "cell_type": "code",
   "execution_count": 6,
   "metadata": {},
   "outputs": [
    {
     "name": "stdout",
     "output_type": "stream",
     "text": [
      "WorkGraph node created, PK: 44585\n"
     ]
    },
    {
     "ename": "AttributeError",
     "evalue": "'NoneType' object has no attribute 'value'",
     "output_type": "error",
     "traceback": [
      "\u001b[0;31m---------------------------------------------------------------------------\u001b[0m",
      "\u001b[0;31mAttributeError\u001b[0m                            Traceback (most recent call last)",
      "\u001b[0;32m/tmp/ipykernel_1877492/723980950.py\u001b[0m in \u001b[0;36m<cell line: 0>\u001b[0;34m()\u001b[0m\n\u001b[1;32m     47\u001b[0m \u001b[0mwg\u001b[0m\u001b[0;34m.\u001b[0m\u001b[0msubmit\u001b[0m\u001b[0;34m(\u001b[0m\u001b[0mwait\u001b[0m\u001b[0;34m=\u001b[0m\u001b[0;32mTrue\u001b[0m\u001b[0;34m,\u001b[0m \u001b[0mtimeout\u001b[0m\u001b[0;34m=\u001b[0m\u001b[0;36m200\u001b[0m\u001b[0;34m)\u001b[0m\u001b[0;34m\u001b[0m\u001b[0;34m\u001b[0m\u001b[0m\n\u001b[1;32m     48\u001b[0m \u001b[0;31m#------------------------- Print the output -------------------------\u001b[0m\u001b[0;34m\u001b[0m\u001b[0;34m\u001b[0m\u001b[0m\n\u001b[0;32m---> 49\u001b[0;31m \u001b[0mprint\u001b[0m\u001b[0;34m(\u001b[0m\u001b[0;34m'Energy of a N atom:                  {:0.3f}'\u001b[0m\u001b[0;34m.\u001b[0m\u001b[0mformat\u001b[0m\u001b[0;34m(\u001b[0m\u001b[0mwg\u001b[0m\u001b[0;34m.\u001b[0m\u001b[0mnodes\u001b[0m\u001b[0;34m[\u001b[0m\u001b[0;34m'scf_atom'\u001b[0m\u001b[0;34m]\u001b[0m\u001b[0;34m.\u001b[0m\u001b[0moutputs\u001b[0m\u001b[0;34m[\u001b[0m\u001b[0;34m\"result\"\u001b[0m\u001b[0;34m]\u001b[0m\u001b[0;34m.\u001b[0m\u001b[0mvalue\u001b[0m\u001b[0;34m.\u001b[0m\u001b[0mvalue\u001b[0m\u001b[0;34m[\u001b[0m\u001b[0;34m'energy'\u001b[0m\u001b[0;34m]\u001b[0m\u001b[0;34m)\u001b[0m\u001b[0;34m)\u001b[0m\u001b[0;34m\u001b[0m\u001b[0;34m\u001b[0m\u001b[0m\n\u001b[0m\u001b[1;32m     50\u001b[0m \u001b[0mprint\u001b[0m\u001b[0;34m(\u001b[0m\u001b[0;34m'Energy of an un-relaxed N2 molecule: {:0.3f}'\u001b[0m\u001b[0;34m.\u001b[0m\u001b[0mformat\u001b[0m\u001b[0;34m(\u001b[0m\u001b[0mwg\u001b[0m\u001b[0;34m.\u001b[0m\u001b[0mnodes\u001b[0m\u001b[0;34m[\u001b[0m\u001b[0;34m'scf_mol'\u001b[0m\u001b[0;34m]\u001b[0m\u001b[0;34m.\u001b[0m\u001b[0moutputs\u001b[0m\u001b[0;34m[\u001b[0m\u001b[0;34m\"result\"\u001b[0m\u001b[0;34m]\u001b[0m\u001b[0;34m.\u001b[0m\u001b[0mvalue\u001b[0m\u001b[0;34m.\u001b[0m\u001b[0mvalue\u001b[0m\u001b[0;34m[\u001b[0m\u001b[0;34m'energy'\u001b[0m\u001b[0;34m]\u001b[0m\u001b[0;34m)\u001b[0m\u001b[0;34m)\u001b[0m\u001b[0;34m\u001b[0m\u001b[0;34m\u001b[0m\u001b[0m\n\u001b[1;32m     51\u001b[0m \u001b[0mprint\u001b[0m\u001b[0;34m(\u001b[0m\u001b[0;34m'Atomization energy:                  {:0.3f} eV'\u001b[0m\u001b[0;34m.\u001b[0m\u001b[0mformat\u001b[0m\u001b[0;34m(\u001b[0m\u001b[0mwg\u001b[0m\u001b[0;34m.\u001b[0m\u001b[0mnodes\u001b[0m\u001b[0;34m[\u001b[0m\u001b[0;34m'calc_atomization_energy'\u001b[0m\u001b[0;34m]\u001b[0m\u001b[0;34m.\u001b[0m\u001b[0moutputs\u001b[0m\u001b[0;34m[\u001b[0m\u001b[0;34m\"result\"\u001b[0m\u001b[0;34m]\u001b[0m\u001b[0;34m.\u001b[0m\u001b[0mvalue\u001b[0m\u001b[0;34m.\u001b[0m\u001b[0mvalue\u001b[0m\u001b[0;34m)\u001b[0m\u001b[0;34m)\u001b[0m\u001b[0;34m\u001b[0m\u001b[0;34m\u001b[0m\u001b[0m\n",
      "\u001b[0;31mAttributeError\u001b[0m: 'NoneType' object has no attribute 'value'"
     ]
    }
   ],
   "source": [
    "from ase.build import molecule\n",
    "from ase import Atoms\n",
    "from aiida import load_profile, orm\n",
    "from workgraph_collections.ase.qe.atomization_energy import atomization_energy\n",
    "\n",
    "load_profile()\n",
    "\n",
    "# create input structure node\n",
    "n_atom = Atoms(\"N\", pbc=True)\n",
    "n_atom.center(vacuum=5.0)\n",
    "n2_molecule = molecule(\"N2\", pbc=True)\n",
    "n2_molecule.center(vacuum=5.0)\n",
    "\n",
    "metadata = {\n",
    "    \"options\": {\n",
    "        'prepend_text' : \"\"\"eval \"$(conda shell.posix hook)\"\n",
    "        conda activate aiida\n",
    "        export OMP_NUM_THREADS=1\n",
    "        \"\"\",\n",
    "    }\n",
    "}\n",
    "pseudopotentials = {\"N\": \"N.pbe-n-rrkjus_psl.1.0.0.UPF\"}\n",
    "pseudo_dir = \"/home/xing/data/ase/espresso_pseudo\"\n",
    "input_data = {\n",
    "    \"system\": {\"ecutwfc\": 30, \"ecutrho\": 240,\n",
    "               \"occupations\": \"smearing\",\n",
    "                \"degauss\": 0.01,\n",
    "                \"smearing\": \"cold\",},\n",
    "}\n",
    "#------------------------- Set the inputs -------------------------\n",
    "wg = atomization_energy()\n",
    "wg.nodes[\"scf_atom\"].set({\"atoms\": n_atom,\n",
    "                          \"pseudopotentials\": pseudopotentials,\n",
    "                          \"pseudo_dir\": pseudo_dir,\n",
    "                          \"input_data\": input_data,\n",
    "                          \"computer\": \"localhost\",\n",
    "                          \"metadata\": metadata})\n",
    "wg.nodes[\"scf_mol\"].set({\"atoms\": n2_molecule,\n",
    "                          \"pseudopotentials\": pseudopotentials,\n",
    "                          \"pseudo_dir\": pseudo_dir,\n",
    "                          \"input_data\": input_data,\n",
    "                          \"computer\": \"localhost\",\n",
    "                          \"metadata\": metadata})\n",
    "wg.nodes[\"calc_atomization_energy\"].set({\"mol\": n2_molecule, \"computer\": \"localhost\"})\n",
    "#------------------------- Submit the calculation -------------------\n",
    "# wg.run()\n",
    "wg.submit(wait=True, timeout=200)\n",
    "#------------------------- Print the output -------------------------\n",
    "print('Energy of a N atom:                  {:0.3f}'.format(wg.nodes['scf_atom'].outputs[\"result\"].value.value['energy']))\n",
    "print('Energy of an un-relaxed N2 molecule: {:0.3f}'.format(wg.nodes['scf_mol'].outputs[\"result\"].value.value['energy']))\n",
    "print('Atomization energy:                  {:0.3f} eV'.format(wg.nodes['calc_atomization_energy'].outputs[\"result\"].value.value))\n",
    "\n"
   ]
  },
  {
   "cell_type": "code",
   "execution_count": null,
   "metadata": {},
   "outputs": [],
   "source": []
  }
 ],
 "metadata": {
  "kernelspec": {
   "display_name": "aiida",
   "language": "python",
   "name": "python3"
  },
  "language_info": {
   "codemirror_mode": {
    "name": "ipython",
    "version": 3
   },
   "file_extension": ".py",
   "mimetype": "text/x-python",
   "name": "python",
   "nbconvert_exporter": "python",
   "pygments_lexer": "ipython3",
   "version": "3.11.0"
  }
 },
 "nbformat": 4,
 "nbformat_minor": 2
}
